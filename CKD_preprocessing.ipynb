{
 "cells": [
  {
   "cell_type": "code",
   "execution_count": 1258,
   "metadata": {},
   "outputs": [],
   "source": [
    "import pandas as pd\n",
    "import numpy as np\n",
    "import seaborn as sns\n",
    "import matplotlib.pyplot as plt\n",
    "from scipy.stats import pointbiserialr"
   ]
  },
  {
   "cell_type": "code",
   "execution_count": 1259,
   "metadata": {},
   "outputs": [],
   "source": [
    "ckd = pd.read_csv(r\"C:\\Users\\reenanagrale\\Desktop\\BITS-Pilani\\Courses\\Semister 1\\Data Mining\\Assignments\\1\\ckd\\ckd\\kidneyChronic.csv\")"
   ]
  },
  {
   "cell_type": "code",
   "execution_count": 1260,
   "metadata": {},
   "outputs": [
    {
     "data": {
      "text/plain": [
       "Index(['age', 'bp', 'sg', 'al', 'su', 'rbc', 'pc', 'pcc', 'ba', 'bgr', 'bu',\n",
       "       'sc', 'sod', 'pot', 'hemo', 'pcv', 'wbcc', 'rbcc', 'htn', 'dm', 'cad',\n",
       "       'appet', 'pe', 'ane', 'class'],\n",
       "      dtype='object')"
      ]
     },
     "execution_count": 1260,
     "metadata": {},
     "output_type": "execute_result"
    }
   ],
   "source": [
    "ckd.columns"
   ]
  },
  {
   "cell_type": "code",
   "execution_count": 1261,
   "metadata": {},
   "outputs": [
    {
     "data": {
      "text/plain": [
       "(400, 25)"
      ]
     },
     "execution_count": 1261,
     "metadata": {},
     "output_type": "execute_result"
    }
   ],
   "source": [
    "ckd.shape"
   ]
  },
  {
   "cell_type": "markdown",
   "metadata": {},
   "source": [
    "Size of the dataset is small with only 400 records and number of features are more, so we might run into problem of biased data or overfitting.\n",
    "\n",
    "We need to analyse the data considering this factor."
   ]
  },
  {
   "cell_type": "code",
   "execution_count": 1262,
   "metadata": {},
   "outputs": [],
   "source": [
    "#We include serial number column to keep the count of records and useful while groupby functions\n",
    "ckd['SNo'] = [i for i in range(len(ckd))]"
   ]
  },
  {
   "cell_type": "code",
   "execution_count": 1263,
   "metadata": {},
   "outputs": [
    {
     "data": {
      "text/plain": [
       "age      0\n",
       "bp       0\n",
       "sg       0\n",
       "al       0\n",
       "su       0\n",
       "rbc      0\n",
       "pc       0\n",
       "pcc      0\n",
       "ba       0\n",
       "bgr      0\n",
       "bu       0\n",
       "sc       0\n",
       "sod      0\n",
       "pot      0\n",
       "hemo     0\n",
       "pcv      0\n",
       "wbcc     0\n",
       "rbcc     0\n",
       "htn      0\n",
       "dm       0\n",
       "cad      0\n",
       "appet    0\n",
       "pe       0\n",
       "ane      0\n",
       "class    0\n",
       "SNo      0\n",
       "dtype: int64"
      ]
     },
     "execution_count": 1263,
     "metadata": {},
     "output_type": "execute_result"
    }
   ],
   "source": [
    "#Checking if any null values\n",
    "ckd.isnull().sum()"
   ]
  },
  {
   "cell_type": "code",
   "execution_count": 819,
   "metadata": {},
   "outputs": [
    {
     "data": {
      "text/plain": [
       "age       77\n",
       "bp        11\n",
       "sg         6\n",
       "al         7\n",
       "su         7\n",
       "rbc        3\n",
       "pc         3\n",
       "pcc        3\n",
       "ba         3\n",
       "bgr      147\n",
       "bu       119\n",
       "sc        85\n",
       "sod       35\n",
       "pot       41\n",
       "hemo     116\n",
       "pcv       45\n",
       "wbcc      93\n",
       "rbcc      47\n",
       "htn        3\n",
       "dm         6\n",
       "cad        4\n",
       "appet      3\n",
       "pe         3\n",
       "ane        3\n",
       "class      2\n",
       "SNo      400\n",
       "dtype: int64"
      ]
     },
     "execution_count": 819,
     "metadata": {},
     "output_type": "execute_result"
    }
   ],
   "source": [
    "ckd.nunique()"
   ]
  },
  {
   "cell_type": "code",
   "execution_count": 820,
   "metadata": {},
   "outputs": [],
   "source": [
    "ckd_copy = copy.deepcopy(ckd)"
   ]
  },
  {
   "cell_type": "code",
   "execution_count": 17,
   "metadata": {},
   "outputs": [],
   "source": [
    "#age convert to nominal and check for pattern"
   ]
  },
  {
   "cell_type": "code",
   "execution_count": 18,
   "metadata": {},
   "outputs": [],
   "source": [
    "#check for correlation between features"
   ]
  },
  {
   "cell_type": "code",
   "execution_count": 20,
   "metadata": {},
   "outputs": [],
   "source": [
    "#nominal dp = age, sg, al,su,rbc, pc, pcc, ba, htn, dm, cad, appet, pe, ane\n",
    "#numerical = bp, bgr, bu, sc, sod, pot, hemo, pcv, wc"
   ]
  },
  {
   "cell_type": "code",
   "execution_count": 839,
   "metadata": {},
   "outputs": [
    {
     "name": "stdout",
     "output_type": "stream",
     "text": [
      "Number of null values for age is 9\n",
      "Number of null values for bp is 12\n",
      "Number of null values for sg is 47\n",
      "Number of null values for al is 46\n",
      "Number of null values for su is 49\n",
      "Number of null values for rbc is 152\n",
      "Number of null values for pc is 65\n",
      "Number of null values for pcc is 4\n",
      "Number of null values for ba is 4\n",
      "Number of null values for bgr is 44\n",
      "Number of null values for bu is 19\n",
      "Number of null values for sc is 17\n",
      "Number of null values for sod is 87\n",
      "Number of null values for pot is 88\n",
      "Number of null values for hemo is 52\n",
      "Number of null values for pcv is 70\n",
      "Number of null values for wbcc is 105\n",
      "Number of null values for rbcc is 130\n",
      "Number of null values for htn is 2\n",
      "Number of null values for dm is 2\n",
      "Number of null values for cad is 2\n",
      "Number of null values for appet is 1\n",
      "Number of null values for pe is 1\n",
      "Number of null values for ane is 1\n",
      "Number of null values for class is 0\n",
      "Number of null values for SNo is 0\n"
     ]
    },
    {
     "name": "stderr",
     "output_type": "stream",
     "text": [
      "C:\\Users\\reenanagrale\\Anaconda\\lib\\site-packages\\pandas\\core\\ops\\array_ops.py:253: FutureWarning:\n",
      "\n",
      "elementwise comparison failed; returning scalar instead, but in the future will perform elementwise comparison\n",
      "\n"
     ]
    }
   ],
   "source": [
    "#check for null values (?) for each feature\n",
    "for col in ckd.columns:\n",
    "    nacount = len(ckd[ckd[col]=='?'])\n",
    "    print(\"Number of null values for {} is {}\".format(col,nacount))"
   ]
  },
  {
   "cell_type": "markdown",
   "metadata": {},
   "source": [
    "# working on Age column"
   ]
  },
  {
   "cell_type": "code",
   "execution_count": 28,
   "metadata": {},
   "outputs": [
    {
     "data": {
      "text/plain": [
       "array(['48', '7', '62', '51', '60', '68', '24', '52', '53', '50', '63',\n",
       "       '40', '47', '61', '21', '42', '75', '69', '?', '73', '70', '65',\n",
       "       '76', '72', '82', '46', '45', '35', '54', '11', '59', '67', '15',\n",
       "       '55', '44', '26', '64', '56', '5', '74', '38', '58', '71', '34',\n",
       "       '17', '12', '43', '41', '57', '8', '39', '66', '81', '14', '27',\n",
       "       '83', '30', '4', '3', '6', '32', '80', '49', '90', '78', '19', '2',\n",
       "       '33', '36', '37', '23', '25', '20', '29', '28', '22', '79'],\n",
       "      dtype=object)"
      ]
     },
     "execution_count": 28,
     "metadata": {},
     "output_type": "execute_result"
    }
   ],
   "source": [
    "ckd['age'].unique()"
   ]
  },
  {
   "cell_type": "code",
   "execution_count": 62,
   "metadata": {},
   "outputs": [],
   "source": [
    "age_group=ckd.groupby('class')['age'].count().reset_index().sort_values(by='class',ascending=False)"
   ]
  },
  {
   "cell_type": "code",
   "execution_count": 821,
   "metadata": {},
   "outputs": [],
   "source": [
    "    age_list = [int(x) for x in ckd_copy['age'] if x!='?']"
   ]
  },
  {
   "cell_type": "code",
   "execution_count": 822,
   "metadata": {},
   "outputs": [
    {
     "data": {
      "text/plain": [
       "51.48337595907928"
      ]
     },
     "execution_count": 822,
     "metadata": {},
     "output_type": "execute_result"
    }
   ],
   "source": [
    "np.mean(age_list)"
   ]
  },
  {
   "cell_type": "code",
   "execution_count": 823,
   "metadata": {},
   "outputs": [],
   "source": [
    "#replace age with ? value with mean i.e 51\n",
    "ckd_copy['age'].replace('?','51',inplace=True)"
   ]
  },
  {
   "cell_type": "code",
   "execution_count": 824,
   "metadata": {},
   "outputs": [
    {
     "data": {
      "text/html": [
       "<div>\n",
       "<style scoped>\n",
       "    .dataframe tbody tr th:only-of-type {\n",
       "        vertical-align: middle;\n",
       "    }\n",
       "\n",
       "    .dataframe tbody tr th {\n",
       "        vertical-align: top;\n",
       "    }\n",
       "\n",
       "    .dataframe thead th {\n",
       "        text-align: right;\n",
       "    }\n",
       "</style>\n",
       "<table border=\"1\" class=\"dataframe\">\n",
       "  <thead>\n",
       "    <tr style=\"text-align: right;\">\n",
       "      <th></th>\n",
       "      <th>age</th>\n",
       "      <th>bp</th>\n",
       "      <th>sg</th>\n",
       "      <th>al</th>\n",
       "      <th>su</th>\n",
       "      <th>rbc</th>\n",
       "      <th>pc</th>\n",
       "      <th>pcc</th>\n",
       "      <th>ba</th>\n",
       "      <th>bgr</th>\n",
       "      <th>...</th>\n",
       "      <th>wbcc</th>\n",
       "      <th>rbcc</th>\n",
       "      <th>htn</th>\n",
       "      <th>dm</th>\n",
       "      <th>cad</th>\n",
       "      <th>appet</th>\n",
       "      <th>pe</th>\n",
       "      <th>ane</th>\n",
       "      <th>class</th>\n",
       "      <th>SNo</th>\n",
       "    </tr>\n",
       "  </thead>\n",
       "  <tbody>\n",
       "  </tbody>\n",
       "</table>\n",
       "<p>0 rows × 26 columns</p>\n",
       "</div>"
      ],
      "text/plain": [
       "Empty DataFrame\n",
       "Columns: [age, bp, sg, al, su, rbc, pc, pcc, ba, bgr, bu, sc, sod, pot, hemo, pcv, wbcc, rbcc, htn, dm, cad, appet, pe, ane, class, SNo]\n",
       "Index: []\n",
       "\n",
       "[0 rows x 26 columns]"
      ]
     },
     "execution_count": 824,
     "metadata": {},
     "output_type": "execute_result"
    }
   ],
   "source": [
    "#checking if any ? in age field\n",
    "ckd_copy[ckd_copy['age']=='?']"
   ]
  },
  {
   "cell_type": "code",
   "execution_count": 825,
   "metadata": {},
   "outputs": [],
   "source": [
    "#convert str to int for age, so we convert to age_group\n",
    "ckd_copy['age'] = ckd_copy['age'].astype(int)"
   ]
  },
  {
   "cell_type": "code",
   "execution_count": 89,
   "metadata": {},
   "outputs": [],
   "source": [
    "#convert age into age group by binning"
   ]
  },
  {
   "cell_type": "code",
   "execution_count": 826,
   "metadata": {},
   "outputs": [],
   "source": [
    "#create age group\n",
    "#Children :1 - 12\n",
    "#teen :13 - 19\n",
    "#young:20 - 35\n",
    "#middle age - 36 - 50\n",
    "#old - 50 and above\n",
    "age_bins = [1,12,19,35,50,100]\n",
    "labels_bin = ['Children','Teen','Young','Middle_age','Old']\n",
    "ckd_copy['age_group'] = pd.cut(ckd_copy.age,age_bins,labels=labels_bin,include_lowest=True)"
   ]
  },
  {
   "cell_type": "code",
   "execution_count": 827,
   "metadata": {},
   "outputs": [
    {
     "data": {
      "text/plain": [
       "[Middle_age, Children, Old, Young, Teen]\n",
       "Categories (5, object): [Children < Teen < Young < Middle_age < Old]"
      ]
     },
     "execution_count": 827,
     "metadata": {},
     "output_type": "execute_result"
    }
   ],
   "source": [
    "ckd_copy['age_group'].unique()"
   ]
  },
  {
   "cell_type": "code",
   "execution_count": 836,
   "metadata": {},
   "outputs": [],
   "source": [
    "age_class_grp = ckd_copy.groupby(['class','age_group']).count()['SNo'].reset_index().sort_values(by='SNo',ascending=False).rename({'SNo':'Count'},axis=1)"
   ]
  },
  {
   "cell_type": "code",
   "execution_count": 834,
   "metadata": {},
   "outputs": [
    {
     "data": {
      "text/html": [
       "<div>\n",
       "<style scoped>\n",
       "    .dataframe tbody tr th:only-of-type {\n",
       "        vertical-align: middle;\n",
       "    }\n",
       "\n",
       "    .dataframe tbody tr th {\n",
       "        vertical-align: top;\n",
       "    }\n",
       "\n",
       "    .dataframe thead th {\n",
       "        text-align: right;\n",
       "    }\n",
       "</style>\n",
       "<table border=\"1\" class=\"dataframe\">\n",
       "  <thead>\n",
       "    <tr style=\"text-align: right;\">\n",
       "      <th></th>\n",
       "      <th>class</th>\n",
       "      <th>Count</th>\n",
       "    </tr>\n",
       "    <tr>\n",
       "      <th>age_group</th>\n",
       "      <th></th>\n",
       "      <th></th>\n",
       "    </tr>\n",
       "  </thead>\n",
       "  <tbody>\n",
       "    <tr>\n",
       "      <th>Old</th>\n",
       "      <td>ckd</td>\n",
       "      <td>169</td>\n",
       "    </tr>\n",
       "    <tr>\n",
       "      <th>Old</th>\n",
       "      <td>notckd</td>\n",
       "      <td>61</td>\n",
       "    </tr>\n",
       "    <tr>\n",
       "      <th>Middle_age</th>\n",
       "      <td>ckd</td>\n",
       "      <td>49</td>\n",
       "    </tr>\n",
       "    <tr>\n",
       "      <th>Middle_age</th>\n",
       "      <td>notckd</td>\n",
       "      <td>46</td>\n",
       "    </tr>\n",
       "    <tr>\n",
       "      <th>Young</th>\n",
       "      <td>notckd</td>\n",
       "      <td>39</td>\n",
       "    </tr>\n",
       "    <tr>\n",
       "      <th>Young</th>\n",
       "      <td>ckd</td>\n",
       "      <td>15</td>\n",
       "    </tr>\n",
       "    <tr>\n",
       "      <th>Children</th>\n",
       "      <td>ckd</td>\n",
       "      <td>12</td>\n",
       "    </tr>\n",
       "    <tr>\n",
       "      <th>Teen</th>\n",
       "      <td>ckd</td>\n",
       "      <td>5</td>\n",
       "    </tr>\n",
       "    <tr>\n",
       "      <th>Teen</th>\n",
       "      <td>notckd</td>\n",
       "      <td>3</td>\n",
       "    </tr>\n",
       "    <tr>\n",
       "      <th>Children</th>\n",
       "      <td>notckd</td>\n",
       "      <td>1</td>\n",
       "    </tr>\n",
       "  </tbody>\n",
       "</table>\n",
       "</div>"
      ],
      "text/plain": [
       "             class  Count\n",
       "age_group                \n",
       "Old            ckd    169\n",
       "Old         notckd     61\n",
       "Middle_age     ckd     49\n",
       "Middle_age  notckd     46\n",
       "Young       notckd     39\n",
       "Young          ckd     15\n",
       "Children       ckd     12\n",
       "Teen           ckd      5\n",
       "Teen        notckd      3\n",
       "Children    notckd      1"
      ]
     },
     "execution_count": 834,
     "metadata": {},
     "output_type": "execute_result"
    }
   ],
   "source": [
    "age_class_grp"
   ]
  },
  {
   "cell_type": "code",
   "execution_count": 837,
   "metadata": {},
   "outputs": [
    {
     "data": {
      "text/plain": [
       "<matplotlib.axes._subplots.AxesSubplot at 0x1f5acce5e80>"
      ]
     },
     "execution_count": 837,
     "metadata": {},
     "output_type": "execute_result"
    },
    {
     "data": {
      "image/png": "[encoded data removed]",
      "text/plain": [
       "<Figure size 432x288 with 1 Axes>"
      ]
     },
     "metadata": {
      "needs_background": "light"
     },
     "output_type": "display_data"
    }
   ],
   "source": [
    "sns.barplot(y=age_class_grp['age_group'],x=age_class_grp['Count'],hue=age_class_grp['class'])"
   ]
  },
  {
   "cell_type": "markdown",
   "metadata": {},
   "source": [
    "It is observed that major Chronic Kidney desease is observed for OLD Age people ie 50 and years above. \n",
    "\n",
    "Middle age people have 50% changes of impacting with Chronic Kidney Desease. We focus to understand what causes more impact of Middle age and Old age people with Kidney deseases.\n"
   ]
  },
  {
   "cell_type": "markdown",
   "metadata": {},
   "source": [
    "# Working on sg column"
   ]
  },
  {
   "cell_type": "code",
   "execution_count": 838,
   "metadata": {},
   "outputs": [
    {
     "data": {
      "text/plain": [
       "array(['1.02', '1.01', '1.005', '1.015', '?', '1.025'], dtype=object)"
      ]
     },
     "execution_count": 838,
     "metadata": {},
     "output_type": "execute_result"
    }
   ],
   "source": [
    "#unique values of urine specific gravity for the given dataset\n",
    "\n",
    "#sg is nominal data feature, \n",
    "'''well hydrated < 1.010\n",
    "    Minimal dehydrated 1.010 - 1.020\n",
    "    significant dehydrated 1.021 - 1.030\n",
    "    Seriuos dehydration > 1.030\n",
    "'''\n",
    "ckd_copy['sg'].unique()"
   ]
  },
  {
   "cell_type": "code",
   "execution_count": 840,
   "metadata": {},
   "outputs": [],
   "source": [
    "# handling null ie ''?'' in the data\n",
    "# total 47 records have null sg field, we give new category as no data\n",
    "ckd_copy['sg'].replace('?',ckd_copy['sg'].mode()[0],inplace=True)\n",
    "ckd_copy['sg_group'] = ckd_copy['sg'].astype(float)\n",
    "sg_bins = [0,1.010,1.020,1.030,1.031]\n",
    "#ckd_copy['sg_group'] = [float(i) for i in ckd_copy['sg']]\n",
    "sg_labels = ['Well_hydrated','Minimal_dehydrated','significant_dehydrated','Seriuos_dehydration']\n",
    "ckd_copy['sg_group'] = pd.cut(ckd_copy.sg_group,sg_bins,labels=sg_labels,include_lowest=True)"
   ]
  },
  {
   "cell_type": "code",
   "execution_count": 841,
   "metadata": {},
   "outputs": [
    {
     "data": {
      "text/plain": [
       "[Minimal_dehydrated, Well_hydrated, significant_dehydrated]\n",
       "Categories (3, object): [Well_hydrated < Minimal_dehydrated < significant_dehydrated]"
      ]
     },
     "execution_count": 841,
     "metadata": {},
     "output_type": "execute_result"
    }
   ],
   "source": [
    "ckd_copy['sg_group'].unique()"
   ]
  },
  {
   "cell_type": "code",
   "execution_count": 842,
   "metadata": {},
   "outputs": [],
   "source": [
    "#Understand the distribution of specific gravity with class\n",
    "sg_class_grp = ckd_copy.groupby(['class','sg_group']).count()['sg'].reset_index().sort_values(by='sg',ascending=False).rename({'sg':'Count'},axis=1)"
   ]
  },
  {
   "cell_type": "code",
   "execution_count": 843,
   "metadata": {},
   "outputs": [
    {
     "data": {
      "text/plain": [
       "<matplotlib.axes._subplots.AxesSubplot at 0x1f5ad96a5f8>"
      ]
     },
     "execution_count": 843,
     "metadata": {},
     "output_type": "execute_result"
    },
    {
     "data": {
      "image/png": "[encoded data removed]",
      "text/plain": [
       "<Figure size 432x288 with 1 Axes>"
      ]
     },
     "metadata": {
      "needs_background": "light"
     },
     "output_type": "display_data"
    }
   ],
   "source": [
    "sns.barplot(y=sg_class_grp['sg_group'],x=sg_class_grp['Count'],hue=sg_class_grp['class'])"
   ]
  },
  {
   "cell_type": "markdown",
   "metadata": {},
   "source": [
    "Observations:\n",
    "Based on the given dataset, its not convincing that dehydration is the cause of Chronic Kidney desease. We observe that Well hydrated people have also suffered with Chronic Kidney desease. And significantly dehydrated person are not diagonised with CKD."
   ]
  },
  {
   "cell_type": "markdown",
   "metadata": {},
   "source": [
    "# Working on bp column"
   ]
  },
  {
   "cell_type": "code",
   "execution_count": 1002,
   "metadata": {},
   "outputs": [
    {
     "data": {
      "text/plain": [
       "array(['80', '50', '70', '90', '100', '60', '110', '140', '180', '120'],\n",
       "      dtype=object)"
      ]
     },
     "execution_count": 1002,
     "metadata": {},
     "output_type": "execute_result"
    }
   ],
   "source": [
    "ckd_copy['bp'].unique()"
   ]
  },
  {
   "cell_type": "code",
   "execution_count": 1005,
   "metadata": {},
   "outputs": [],
   "source": [
    "ckd_copy['bp'].replace('?',ckd_copy['bp'].mode()[0],inplace=True)\n",
    "ckd_copy['bp'] = ckd_copy['bp'].astype(int)\n",
    "ckd_copy['bp_group'] = ckd_copy['bp'].astype(int)\n",
    "#Considering diastolic info in the dataset\n",
    "#Normal <80\n",
    "\n",
    "#HBP_1 = 80 - 89\n",
    "#HBP_2 = 90 - 120\n",
    "#HBP_3 = 120 and above\n",
    "bp_bins = [50,79,89,119,200]\n",
    "bp_labels = ['Normal','HBP_1','HBP_2','HBP_3']\n",
    "ckd_copy['bp_group'] = pd.cut(ckd_copy.bp_group,bp_bins,labels=bp_labels,include_lowest=True)"
   ]
  },
  {
   "cell_type": "code",
   "execution_count": 1004,
   "metadata": {},
   "outputs": [
    {
     "data": {
      "text/plain": [
       "[HBP_1, Normal, HBP_2, HBP_3]\n",
       "Categories (4, object): [Normal < HBP_1 < HBP_2 < HBP_3]"
      ]
     },
     "execution_count": 1004,
     "metadata": {},
     "output_type": "execute_result"
    }
   ],
   "source": [
    "ckd_copy['bp_group'].unique()"
   ]
  },
  {
   "cell_type": "code",
   "execution_count": 847,
   "metadata": {},
   "outputs": [],
   "source": [
    "bp_class_grp = ckd_copy.groupby(['class','bp_group']).count()['SNo'].reset_index().sort_values(by='SNo',ascending=False).rename({'SNo':'Count'},axis=1)"
   ]
  },
  {
   "cell_type": "code",
   "execution_count": 848,
   "metadata": {},
   "outputs": [
    {
     "data": {
      "text/plain": [
       "<matplotlib.axes._subplots.AxesSubplot at 0x1f5acceb400>"
      ]
     },
     "execution_count": 848,
     "metadata": {},
     "output_type": "execute_result"
    },
    {
     "data": {
      "image/png": "[encoded data removed]",
      "text/plain": [
       "<Figure size 432x288 with 1 Axes>"
      ]
     },
     "metadata": {
      "needs_background": "light"
     },
     "output_type": "display_data"
    }
   ],
   "source": [
    "sns.barplot(y=bp_class_grp['bp_group'],x=bp_class_grp['Count'],hue=bp_class_grp['class'])"
   ]
  },
  {
   "cell_type": "markdown",
   "metadata": {},
   "source": [
    "Observations: \n",
    "\n",
    "It is observed that person having BP level from 90 and above surely suffer from CKD. \n",
    "\n",
    "Whereas, 45% of people with Normal BP have changes of suffering with CKD. We need to find what other factors of health condition trigger CKD in people with Normal BP.   "
   ]
  },
  {
   "cell_type": "markdown",
   "metadata": {},
   "source": [
    "# Working on al column"
   ]
  },
  {
   "cell_type": "markdown",
   "metadata": {},
   "source": [
    "Albuminuria is a sign of kidney disease and means that you have too much albumin in your urine. \n",
    "A healthy kidney doesn’t let albumin pass into the urine. A damaged kidney lets some albumin pass into the urine.\n",
    " 0 - Normal, 1-Mild, 2-High,3-Very High, 4-Servere 5-Extreme"
   ]
  },
  {
   "cell_type": "code",
   "execution_count": 862,
   "metadata": {},
   "outputs": [
    {
     "data": {
      "text/plain": [
       "0    245\n",
       "1     44\n",
       "3     43\n",
       "2     43\n",
       "4     24\n",
       "5      1\n",
       "Name: al, dtype: int64"
      ]
     },
     "execution_count": 862,
     "metadata": {},
     "output_type": "execute_result"
    }
   ],
   "source": [
    "ckd_copy['al'].value_counts()"
   ]
  },
  {
   "cell_type": "code",
   "execution_count": 854,
   "metadata": {},
   "outputs": [],
   "source": [
    "ckd_copy['al'].replace('?',ckd_copy['al'].mode()[0],inplace=True)"
   ]
  },
  {
   "cell_type": "code",
   "execution_count": 860,
   "metadata": {},
   "outputs": [],
   "source": [
    "al_class_grp = ckd_copy.groupby(['class','al']).count()['SNo'].reset_index().sort_values(by='SNo',ascending=False).rename({'SNo':'Count'},axis=1)"
   ]
  },
  {
   "cell_type": "code",
   "execution_count": 868,
   "metadata": {},
   "outputs": [
    {
     "data": {
      "text/plain": [
       "<matplotlib.axes._subplots.AxesSubplot at 0x1f5ad098ef0>"
      ]
     },
     "execution_count": 868,
     "metadata": {},
     "output_type": "execute_result"
    },
    {
     "data": {
      "image/png": "[encoded data removed]",
      "text/plain": [
       "<Figure size 432x288 with 1 Axes>"
      ]
     },
     "metadata": {
      "needs_background": "light"
     },
     "output_type": "display_data"
    }
   ],
   "source": [
    "sns.barplot(y=al_class_grp['Count'],x=al_class_grp['al'],hue=al_class_grp['class'])"
   ]
  },
  {
   "cell_type": "markdown",
   "metadata": {},
   "source": [
    "# Working on su column - sugar level"
   ]
  },
  {
   "cell_type": "code",
   "execution_count": 869,
   "metadata": {},
   "outputs": [
    {
     "data": {
      "text/plain": [
       "0    290\n",
       "?     49\n",
       "2     18\n",
       "3     14\n",
       "4     13\n",
       "1     13\n",
       "5      3\n",
       "Name: su, dtype: int64"
      ]
     },
     "execution_count": 869,
     "metadata": {},
     "output_type": "execute_result"
    }
   ],
   "source": [
    "ckd_copy['su'].value_counts()"
   ]
  },
  {
   "cell_type": "code",
   "execution_count": 870,
   "metadata": {},
   "outputs": [],
   "source": [
    "ckd_copy['su'].replace('?',ckd_copy['su'].mode()[0],inplace=True)"
   ]
  },
  {
   "cell_type": "code",
   "execution_count": 871,
   "metadata": {},
   "outputs": [],
   "source": [
    "su_class_grp = ckd_copy.groupby(['class','su']).count()['SNo'].reset_index().sort_values(by='SNo',ascending=False).rename({'SNo':'Count'},axis=1)"
   ]
  },
  {
   "cell_type": "code",
   "execution_count": 873,
   "metadata": {},
   "outputs": [
    {
     "data": {
      "text/plain": [
       "<matplotlib.axes._subplots.AxesSubplot at 0x1f5aed58160>"
      ]
     },
     "execution_count": 873,
     "metadata": {},
     "output_type": "execute_result"
    },
    {
     "data": {
      "image/png": "[encoded data removed]",
      "text/plain": [
       "<Figure size 432x288 with 1 Axes>"
      ]
     },
     "metadata": {
      "needs_background": "light"
     },
     "output_type": "display_data"
    }
   ],
   "source": [
    "sns.barplot(y=su_class_grp['Count'],x=su_class_grp['su'],hue=su_class_grp['class'])"
   ]
  },
  {
   "cell_type": "markdown",
   "metadata": {},
   "source": [
    "Observation:\n",
    "    \n",
    "    Its observed that people reporting CKD have positive Sugar level and it suggests poeple with Moderate to high sugar level have tendency to be affected with CKD.\n",
    "    We see an equal distribution for people (with CKD and without CKD) with no sugar level."
   ]
  },
  {
   "cell_type": "markdown",
   "metadata": {},
   "source": [
    "# Working with rbc column "
   ]
  },
  {
   "cell_type": "code",
   "execution_count": 289,
   "metadata": {},
   "outputs": [
    {
     "data": {
      "text/plain": [
       "array(['?', 'normal', 'abnormal'], dtype=object)"
      ]
     },
     "execution_count": 289,
     "metadata": {},
     "output_type": "execute_result"
    }
   ],
   "source": [
    "ckd_copy['rbc'].unique()"
   ]
  },
  {
   "cell_type": "code",
   "execution_count": 874,
   "metadata": {},
   "outputs": [
    {
     "data": {
      "text/plain": [
       "normal      201\n",
       "?           152\n",
       "abnormal     47\n",
       "Name: rbc, dtype: int64"
      ]
     },
     "execution_count": 874,
     "metadata": {},
     "output_type": "execute_result"
    }
   ],
   "source": [
    "ckd_copy['rbc'].value_counts()"
   ]
  },
  {
   "cell_type": "code",
   "execution_count": 877,
   "metadata": {},
   "outputs": [],
   "source": [
    "#If we replace ? with the mode, the data will be highly skewed so we introduce new Category as No_Data \n",
    "ckd_copy['rbc'].replace('?','No_data', inplace=True)"
   ]
  },
  {
   "cell_type": "code",
   "execution_count": 878,
   "metadata": {},
   "outputs": [],
   "source": [
    "rbc_class_grp = ckd_copy.groupby(['class','rbc']).count()['SNo'].reset_index().sort_values(by='SNo',ascending=False).rename({'SNo':'Count'},axis=1)"
   ]
  },
  {
   "cell_type": "code",
   "execution_count": 879,
   "metadata": {},
   "outputs": [
    {
     "data": {
      "text/plain": [
       "<matplotlib.axes._subplots.AxesSubplot at 0x1f5aba06908>"
      ]
     },
     "execution_count": 879,
     "metadata": {},
     "output_type": "execute_result"
    },
    {
     "data": {
      "image/png": "[encoded data removed]",
      "text/plain": [
       "<Figure size 432x288 with 1 Axes>"
      ]
     },
     "metadata": {
      "needs_background": "light"
     },
     "output_type": "display_data"
    }
   ],
   "source": [
    "sns.barplot(y=rbc_class_grp['rbc'],x=rbc_class_grp['Count'],hue=rbc_class_grp['class'])"
   ]
  },
  {
   "cell_type": "markdown",
   "metadata": {},
   "source": [
    "Observations:\n",
    "\n",
    "    We have 152 records where the RBC values are not given, out of these 142 records show impacted with CKD. We need to analyse No_Data records to understand the appropriate values of these records.\n",
    "    \n",
    "    Its observed that 30% of people with normal RBC value have also reported positive for CKD and with all people reprtoing Abnormal RBC range have diagnosed with RBC. "
   ]
  },
  {
   "cell_type": "markdown",
   "metadata": {},
   "source": [
    "# Working with rbcc column"
   ]
  },
  {
   "cell_type": "code",
   "execution_count": 297,
   "metadata": {},
   "outputs": [],
   "source": [
    "# RBC column can be obtained from RBCC values, so lets understand RBCC column"
   ]
  },
  {
   "cell_type": "code",
   "execution_count": 327,
   "metadata": {},
   "outputs": [
    {
     "data": {
      "text/plain": [
       "array([ 5.2, -1. ,  3.9,  4.6,  4.4,  5. ,  4. ,  3.7,  3.8,  3.4,  2.6,\n",
       "        2.8,  4.3,  3.2,  3.6,  4.1,  4.9,  2.5,  4.2,  4.5,  3.1,  4.7,\n",
       "        3.5,  6. ,  2.1,  5.6,  2.3,  2.9,  2.7,  8. ,  3.3,  3. ,  2.4,\n",
       "        4.8,  5.4,  6.1,  6.2,  6.3,  5.1,  5.8,  5.5,  5.3,  6.4,  5.7,\n",
       "        5.9,  6.5])"
      ]
     },
     "execution_count": 327,
     "metadata": {},
     "output_type": "execute_result"
    }
   ],
   "source": [
    "ckd_copy['rbcc'].unique()"
   ]
  },
  {
   "cell_type": "code",
   "execution_count": 299,
   "metadata": {},
   "outputs": [],
   "source": [
    "#Normal - 4 to 6.1\n",
    "#We can replace null values with mean of RBCC"
   ]
  },
  {
   "cell_type": "code",
   "execution_count": 895,
   "metadata": {},
   "outputs": [],
   "source": [
    "ckd_copy['rbcc']=ckd_copy['rbcc'].str.replace('\\t',\"\")"
   ]
  },
  {
   "cell_type": "code",
   "execution_count": 893,
   "metadata": {},
   "outputs": [],
   "source": [
    "mean_value=ckd_copy[ckd_copy['rbcc']!='?'][['rbcc']].astype(float).mean()[0]"
   ]
  },
  {
   "cell_type": "code",
   "execution_count": 897,
   "metadata": {},
   "outputs": [],
   "source": [
    "ckd_copy['rbcc'].replace('?',mean_value,inplace=True) "
   ]
  },
  {
   "cell_type": "code",
   "execution_count": 898,
   "metadata": {},
   "outputs": [],
   "source": [
    "ckd_copy['rbcc'] = ckd_copy['rbcc'].astype(float)"
   ]
  },
  {
   "cell_type": "code",
   "execution_count": 899,
   "metadata": {},
   "outputs": [],
   "source": [
    "#Forming new rbc_class based on rbcc values.\n",
    "#If rbcc value between 4 - 6.1 then RBC is Normal, else abnormal\n",
    "\n",
    "ckd_copy['rbc_class'] = 'Null'\n",
    "ckd_copy['rbc_class'] = np.where(((ckd_copy['rbcc']>=4)&(ckd_copy['rbcc']<=6.1)),'normal','abnormal')\n",
    "        "
   ]
  },
  {
   "cell_type": "code",
   "execution_count": 900,
   "metadata": {},
   "outputs": [
    {
     "data": {
      "text/plain": [
       "array(['normal', 'abnormal'], dtype=object)"
      ]
     },
     "execution_count": 900,
     "metadata": {},
     "output_type": "execute_result"
    }
   ],
   "source": [
    "ckd_copy['rbc_class'].unique()"
   ]
  },
  {
   "cell_type": "code",
   "execution_count": 901,
   "metadata": {},
   "outputs": [],
   "source": [
    "rbc_class_grp = ckd_copy.groupby(['class','rbc_class']).count()['SNo'].reset_index().sort_values(by='SNo',ascending=False).rename({'SNo':'Count'},axis=1)"
   ]
  },
  {
   "cell_type": "code",
   "execution_count": 902,
   "metadata": {},
   "outputs": [
    {
     "data": {
      "text/plain": [
       "<matplotlib.axes._subplots.AxesSubplot at 0x1f5acbc9630>"
      ]
     },
     "execution_count": 902,
     "metadata": {},
     "output_type": "execute_result"
    },
    {
     "data": {
      "image/png": "[encoded data removed]",
      "text/plain": [
       "<Figure size 432x288 with 1 Axes>"
      ]
     },
     "metadata": {
      "needs_background": "light"
     },
     "output_type": "display_data"
    }
   ],
   "source": [
    "sns.barplot(y=rbc_class_grp['rbc_class'],x=rbc_class_grp['Count'],hue=rbc_class_grp['class'])"
   ]
  },
  {
   "cell_type": "markdown",
   "metadata": {},
   "source": [
    "Observations:\n",
    "    \n",
    "    We get the view that people with rbcc count in the range 4 to 6.1 have reported less with ckd. Its also observed that people reported with CKD have rbcc count out of the mentioned Normal range. "
   ]
  },
  {
   "cell_type": "markdown",
   "metadata": {},
   "source": [
    "# Working with pc, pcc and ba column\n",
    "Pyuria is the condition of urine containing white blood cells or pus."
   ]
  },
  {
   "cell_type": "code",
   "execution_count": 903,
   "metadata": {},
   "outputs": [
    {
     "data": {
      "text/plain": [
       "pc\n",
       "?            65\n",
       "abnormal     76\n",
       "normal      259\n",
       "Name: SNo, dtype: int64"
      ]
     },
     "execution_count": 903,
     "metadata": {},
     "output_type": "execute_result"
    }
   ],
   "source": [
    "ckd_copy.groupby('pc')['SNo'].count()"
   ]
  },
  {
   "cell_type": "code",
   "execution_count": 904,
   "metadata": {},
   "outputs": [
    {
     "data": {
      "text/plain": [
       "pcc\n",
       "?               4\n",
       "notpresent    354\n",
       "present        42\n",
       "Name: SNo, dtype: int64"
      ]
     },
     "execution_count": 904,
     "metadata": {},
     "output_type": "execute_result"
    }
   ],
   "source": [
    "ckd_copy.groupby('pcc')['SNo'].count()"
   ]
  },
  {
   "cell_type": "code",
   "execution_count": 905,
   "metadata": {},
   "outputs": [
    {
     "data": {
      "text/plain": [
       "ba\n",
       "?               4\n",
       "notpresent    374\n",
       "present        22\n",
       "Name: SNo, dtype: int64"
      ]
     },
     "execution_count": 905,
     "metadata": {},
     "output_type": "execute_result"
    }
   ],
   "source": [
    "ckd_copy.groupby('ba')['SNo'].count()"
   ]
  },
  {
   "cell_type": "code",
   "execution_count": 906,
   "metadata": {},
   "outputs": [],
   "source": [
    "# As no reference of pus cells range, pcc and ba is not provided. Replacing Null values with No_data\n",
    "ckd_copy['pc'].replace('?',\"No_data\",inplace=True)\n",
    "ckd_copy['pcc'].replace('?',ckd_copy['pcc'].mode()[0],inplace=True)\n",
    "ckd_copy['ba'].replace('?',ckd_copy['ba'].mode()[0],inplace=True)"
   ]
  },
  {
   "cell_type": "markdown",
   "metadata": {},
   "source": [
    "# Working on wbc column"
   ]
  },
  {
   "cell_type": "code",
   "execution_count": 915,
   "metadata": {},
   "outputs": [],
   "source": [
    "ckd_copy['wbcc']=copy.deepcopy(ckd['wbcc'])"
   ]
  },
  {
   "cell_type": "code",
   "execution_count": 918,
   "metadata": {},
   "outputs": [
    {
     "data": {
      "text/plain": [
       "array(['7800', '6000', '7500', '6700', '7300', '?', '6900', '9600',\n",
       "       '12100', '4500', '12200', '11000', '3800', '11400', '5300', '9200',\n",
       "       '6200', '8300', '8400', '10300', '9800', '9100', '7900', '6400',\n",
       "       '8600', '18900', '21600', '4300', '8500', '11300', '7200', '7700',\n",
       "       '14600', '6300', '7100', '11800', '9400', '5500', '5800', '13200',\n",
       "       '12500', '5600', '7000', '11900', '10400', '10700', '12700',\n",
       "       '6800', '6500', '13600', '10200', '9000', '14900', '8200', '15200',\n",
       "       '5000', '16300', '12400', '10500', '4200', '4700', '10900', '8100',\n",
       "       '9500', '2200', '12800', '11200', '19100', '12300', '16700',\n",
       "       '2600', '26400', '8800', '7400', '4900', '8000', '12000', '15700',\n",
       "       '4100', '5700', '11500', '5400', '10800', '9900', '5200', '5900',\n",
       "       '9300', '9700', '5100', '6600'], dtype=object)"
      ]
     },
     "execution_count": 918,
     "metadata": {},
     "output_type": "execute_result"
    }
   ],
   "source": [
    "ckd_copy['wbcc'].unique()"
   ]
  },
  {
   "cell_type": "code",
   "execution_count": 917,
   "metadata": {},
   "outputs": [],
   "source": [
    "ckd_copy['wbcc']=ckd_copy['wbcc'].str.replace('\\t','')\n"
   ]
  },
  {
   "cell_type": "code",
   "execution_count": 921,
   "metadata": {},
   "outputs": [
    {
     "data": {
      "text/plain": [
       "8406"
      ]
     },
     "execution_count": 921,
     "metadata": {},
     "output_type": "execute_result"
    }
   ],
   "source": [
    "mean_value = int(ckd_copy[ckd_copy['wbcc']!='?'][['wbcc']].astype(int).mean()[0])\n",
    "mean_value"
   ]
  },
  {
   "cell_type": "code",
   "execution_count": 922,
   "metadata": {},
   "outputs": [],
   "source": [
    "#wbcc column have 106 records with no wbcc values, so fill this with mean\n",
    "\n",
    "ckd_copy['wbcc'].replace('?',mean_value, inplace=True)\n",
    "ckd_copy['wbcc']=ckd_copy['wbcc'].astype('int')"
   ]
  },
  {
   "cell_type": "code",
   "execution_count": 923,
   "metadata": {},
   "outputs": [],
   "source": [
    "#Normal range for wbc count is 5400 to 11000 so creating new categorical column for wbc\n",
    "ckd_copy['wbc_class'] = np.where(((ckd_copy['wbcc']>=5400)&(ckd_copy['wbcc']<=11000)),'normal','abnormal')"
   ]
  },
  {
   "cell_type": "code",
   "execution_count": 924,
   "metadata": {},
   "outputs": [],
   "source": [
    "wbc_class_grp = ckd_copy.groupby(['class','wbc_class']).count()['SNo'].reset_index().sort_values(by='SNo',ascending=False).rename({'SNo':'Count'},axis=1)"
   ]
  },
  {
   "cell_type": "code",
   "execution_count": 925,
   "metadata": {},
   "outputs": [
    {
     "data": {
      "text/plain": [
       "<matplotlib.axes._subplots.AxesSubplot at 0x1f5aed0cfd0>"
      ]
     },
     "execution_count": 925,
     "metadata": {},
     "output_type": "execute_result"
    },
    {
     "data": {
      "image/png": "[encoded data removed]",
      "text/plain": [
       "<Figure size 432x288 with 1 Axes>"
      ]
     },
     "metadata": {
      "needs_background": "light"
     },
     "output_type": "display_data"
    }
   ],
   "source": [
    "sns.barplot(y=wbc_class_grp['wbc_class'],x=wbc_class_grp['Count'],hue=wbc_class_grp['class'])"
   ]
  },
  {
   "cell_type": "code",
   "execution_count": 926,
   "metadata": {},
   "outputs": [
    {
     "data": {
      "text/plain": [
       "<matplotlib.axes._subplots.AxesSubplot at 0x1f5aee75a20>"
      ]
     },
     "execution_count": 926,
     "metadata": {},
     "output_type": "execute_result"
    },
    {
     "data": {
      "image/png": "[encoded data removed]",
      "text/plain": [
       "<Figure size 432x288 with 1 Axes>"
      ]
     },
     "metadata": {
      "needs_background": "light"
     },
     "output_type": "display_data"
    }
   ],
   "source": [
    "sns.barplot(data=wbc_class_grp, x='wbc_class', y=\"Count\", hue='class')\n"
   ]
  },
  {
   "cell_type": "markdown",
   "metadata": {},
   "source": [
    "Observations:\n",
    "    WBC count individually does not evidently give any references for ckd. "
   ]
  },
  {
   "cell_type": "markdown",
   "metadata": {},
   "source": [
    "# Working on bgr - blood glucose random column"
   ]
  },
  {
   "cell_type": "code",
   "execution_count": 560,
   "metadata": {},
   "outputs": [
    {
     "data": {
      "text/plain": [
       "array(['121', '?', '423', '117', '106', '74', '100', '410', '138', '70',\n",
       "       '490', '380', '208', '98', '157', '76', '99', '114', '263', '173',\n",
       "       '95', '108', '156', '264', '123', '93', '107', '159', '140', '171',\n",
       "       '270', '92', '137', '204', '79', '207', '124', '144', '91', '162',\n",
       "       '246', '253', '141', '182', '86', '150', '146', '425', '112',\n",
       "       '250', '360', '163', '129', '133', '102', '158', '165', '132',\n",
       "       '104', '127', '415', '169', '251', '109', '280', '210', '219',\n",
       "       '295', '94', '172', '101', '298', '153', '88', '226', '143', '115',\n",
       "       '89', '297', '233', '294', '323', '125', '90', '308', '118', '224',\n",
       "       '128', '122', '214', '213', '268', '256', '84', '105', '288',\n",
       "       '139', '78', '273', '242', '424', '303', '148', '160', '192',\n",
       "       '307', '220', '447', '309', '22', '111', '261', '215', '234',\n",
       "       '131', '352', '80', '239', '110', '130', '184', '252', '113',\n",
       "       '230', '341', '255', '103', '238', '248', '120', '241', '269',\n",
       "       '201', '203', '463', '176', '82', '119', '97', '96', '81', '116',\n",
       "       '134', '85', '83', '87', '75'], dtype=object)"
      ]
     },
     "execution_count": 560,
     "metadata": {},
     "output_type": "execute_result"
    }
   ],
   "source": [
    "ckd_copy['bgr'].unique()"
   ]
  },
  {
   "cell_type": "code",
   "execution_count": 927,
   "metadata": {},
   "outputs": [
    {
     "data": {
      "text/plain": [
       "148"
      ]
     },
     "execution_count": 927,
     "metadata": {},
     "output_type": "execute_result"
    }
   ],
   "source": [
    "mean_value = int(ckd_copy[ckd_copy['bgr']!='?'][['bgr']].astype(int).mean()[0])\n",
    "mean_value"
   ]
  },
  {
   "cell_type": "code",
   "execution_count": 929,
   "metadata": {},
   "outputs": [],
   "source": [
    "ckd_copy['bgr'].replace('?',mean_value,inplace=True)\n",
    "ckd_copy['bgr']=ckd_copy['bgr'].astype(int)"
   ]
  },
  {
   "cell_type": "code",
   "execution_count": 930,
   "metadata": {},
   "outputs": [
    {
     "data": {
      "application/vnd.plotly.v1+json": {
       "config": {
        "plotlyServerURL": "https://plot.ly"
       },
       "data": [
        {
         "alignmentgroup": "True",
         "box": {
          "visible": true
         },
         "hoverlabel": {
          "namelength": 0
         },
         "hovertemplate": "class=%{x}<br>bgr=%{y}",
         "legendgroup": "ckd",
         "marker": {
          "color": "#636efa"
         },
         "name": "ckd",
         "offsetgroup": "ckd",
         "orientation": "v",
         "scalegroup": "True",
         "showlegend": true,
         "type": "violin",
         "x": [
          "ckd",
          "ckd",
          "ckd",
          "ckd",
          "ckd",
          "ckd",
          "ckd",
          "ckd",
          "ckd",
          "ckd",
          "ckd",
          "ckd",
          "ckd",
          "ckd",
          "ckd",
          "ckd",
          "ckd",
          "ckd",
          "ckd",
          "ckd",
          "ckd",
          "ckd",
          "ckd",
          "ckd",
          "ckd",
          "ckd",
          "ckd",
          "ckd",
          "ckd",
          "ckd",
          "ckd",
          "ckd",
          "ckd",
          "ckd",
          "ckd",
          "ckd",
          "ckd",
          "ckd",
          "ckd",
          "ckd",
          "ckd",
          "ckd",
          "ckd",
          "ckd",
          "ckd",
          "ckd",
          "ckd",
          "ckd",
          "ckd",
          "ckd",
          "ckd",
          "ckd",
          "ckd",
          "ckd",
          "ckd",
          "ckd",
          "ckd",
          "ckd",
          "ckd",
          "ckd",
          "ckd",
          "ckd",
          "ckd",
          "ckd",
          "ckd",
          "ckd",
          "ckd",
          "ckd",
          "ckd",
          "ckd",
          "ckd",
          "ckd",
          "ckd",
          "ckd",
          "ckd",
          "ckd",
          "ckd",
          "ckd",
          "ckd",
          "ckd",
          "ckd",
          "ckd",
          "ckd",
          "ckd",
          "ckd",
          "ckd",
          "ckd",
          "ckd",
          "ckd",
          "ckd",
          "ckd",
          "ckd",
          "ckd",
          "ckd",
          "ckd",
          "ckd",
          "ckd",
          "ckd",
          "ckd",
          "ckd",
          "ckd",
          "ckd",
          "ckd",
          "ckd",
          "ckd",
          "ckd",
          "ckd",
          "ckd",
          "ckd",
          "ckd",
          "ckd",
          "ckd",
          "ckd",
          "ckd",
          "ckd",
          "ckd",
          "ckd",
          "ckd",
          "ckd",
          "ckd",
          "ckd",
          "ckd",
          "ckd",
          "ckd",
          "ckd",
          "ckd",
          "ckd",
          "ckd",
          "ckd",
          "ckd",
          "ckd",
          "ckd",
          "ckd",
          "ckd",
          "ckd",
          "ckd",
          "ckd",
          "ckd",
          "ckd",
          "ckd",
          "ckd",
          "ckd",
          "ckd",
          "ckd",
          "ckd",
          "ckd",
          "ckd",
          "ckd",
          "ckd",
          "ckd",
          "ckd",
          "ckd",
          "ckd",
          "ckd",
          "ckd",
          "ckd",
          "ckd",
          "ckd",
          "ckd",
          "ckd",
          "ckd",
          "ckd",
          "ckd",
          "ckd",
          "ckd",
          "ckd",
          "ckd",
          "ckd",
          "ckd",
          "ckd",
          "ckd",
          "ckd",
          "ckd",
          "ckd",
          "ckd",
          "ckd",
          "ckd",
          "ckd",
          "ckd",
          "ckd",
          "ckd",
          "ckd",
          "ckd",
          "ckd",
          "ckd",
          "ckd",
          "ckd",
          "ckd",
          "ckd",
          "ckd",
          "ckd",
          "ckd",
          "ckd",
          "ckd",
          "ckd",
          "ckd",
          "ckd",
          "ckd",
          "ckd",
          "ckd",
          "ckd",
          "ckd",
          "ckd",
          "ckd",
          "ckd",
          "ckd",
          "ckd",
          "ckd",
          "ckd",
          "ckd",
          "ckd",
          "ckd",
          "ckd",
          "ckd",
          "ckd",
          "ckd",
          "ckd",
          "ckd",
          "ckd",
          "ckd",
          "ckd",
          "ckd",
          "ckd",
          "ckd",
          "ckd",
          "ckd",
          "ckd",
          "ckd",
          "ckd",
          "ckd",
          "ckd",
          "ckd",
          "ckd",
          "ckd",
          "ckd",
          "ckd",
          "ckd",
          "ckd",
          "ckd",
          "ckd",
          "ckd",
          "ckd",
          "ckd",
          "ckd",
          "ckd",
          "ckd",
          "ckd",
          "ckd",
          "ckd",
          "ckd"
         ],
         "x0": " ",
         "xaxis": "x",
         "y": [
          121,
          148,
          423,
          117,
          106,
          74,
          100,
          410,
          138,
          70,
          490,
          380,
          208,
          98,
          157,
          76,
          99,
          114,
          263,
          100,
          173,
          148,
          95,
          148,
          148,
          108,
          156,
          264,
          123,
          148,
          93,
          107,
          159,
          140,
          171,
          270,
          92,
          137,
          148,
          140,
          99,
          148,
          204,
          79,
          207,
          208,
          124,
          148,
          70,
          144,
          91,
          162,
          148,
          246,
          148,
          148,
          148,
          93,
          253,
          148,
          141,
          182,
          86,
          150,
          146,
          148,
          150,
          425,
          112,
          250,
          360,
          163,
          148,
          129,
          129,
          148,
          133,
          102,
          158,
          165,
          132,
          360,
          104,
          127,
          76,
          148,
          415,
          169,
          251,
          109,
          280,
          210,
          219,
          295,
          93,
          94,
          172,
          91,
          101,
          298,
          153,
          88,
          92,
          226,
          143,
          115,
          89,
          297,
          107,
          233,
          123,
          294,
          148,
          148,
          148,
          148,
          104,
          219,
          99,
          140,
          323,
          125,
          148,
          148,
          90,
          308,
          144,
          118,
          224,
          158,
          128,
          148,
          219,
          118,
          122,
          214,
          213,
          268,
          95,
          148,
          256,
          148,
          84,
          210,
          105,
          148,
          213,
          288,
          171,
          139,
          78,
          172,
          121,
          273,
          242,
          123,
          153,
          122,
          424,
          303,
          148,
          148,
          204,
          160,
          192,
          148,
          76,
          139,
          307,
          220,
          447,
          102,
          309,
          22,
          111,
          261,
          107,
          215,
          93,
          124,
          234,
          117,
          131,
          101,
          352,
          99,
          148,
          148,
          80,
          239,
          94,
          110,
          130,
          148,
          148,
          184,
          129,
          148,
          252,
          92,
          139,
          113,
          114,
          207,
          172,
          100,
          109,
          230,
          341,
          148,
          255,
          103,
          253,
          214,
          171,
          148,
          107,
          78,
          92,
          238,
          103,
          248,
          108,
          303,
          117,
          490,
          163,
          120,
          124,
          241,
          192,
          269,
          148,
          93,
          148,
          113,
          74,
          141,
          201,
          104,
          203,
          165,
          214,
          169,
          463,
          103,
          106,
          150,
          424,
          176
         ],
         "y0": " ",
         "yaxis": "y"
        },
        {
         "alignmentgroup": "True",
         "box": {
          "visible": true
         },
         "hoverlabel": {
          "namelength": 0
         },
         "hovertemplate": "class=%{x}<br>bgr=%{y}",
         "legendgroup": "notckd",
         "marker": {
          "color": "#EF553B"
         },
         "name": "notckd",
         "offsetgroup": "notckd",
         "orientation": "v",
         "scalegroup": "True",
         "showlegend": true,
         "type": "violin",
         "x": [
          "notckd",
          "notckd",
          "notckd",
          "notckd",
          "notckd",
          "notckd",
          "notckd",
          "notckd",
          "notckd",
          "notckd",
          "notckd",
          "notckd",
          "notckd",
          "notckd",
          "notckd",
          "notckd",
          "notckd",
          "notckd",
          "notckd",
          "notckd",
          "notckd",
          "notckd",
          "notckd",
          "notckd",
          "notckd",
          "notckd",
          "notckd",
          "notckd",
          "notckd",
          "notckd",
          "notckd",
          "notckd",
          "notckd",
          "notckd",
          "notckd",
          "notckd",
          "notckd",
          "notckd",
          "notckd",
          "notckd",
          "notckd",
          "notckd",
          "notckd",
          "notckd",
          "notckd",
          "notckd",
          "notckd",
          "notckd",
          "notckd",
          "notckd",
          "notckd",
          "notckd",
          "notckd",
          "notckd",
          "notckd",
          "notckd",
          "notckd",
          "notckd",
          "notckd",
          "notckd",
          "notckd",
          "notckd",
          "notckd",
          "notckd",
          "notckd",
          "notckd",
          "notckd",
          "notckd",
          "notckd",
          "notckd",
          "notckd",
          "notckd",
          "notckd",
          "notckd",
          "notckd",
          "notckd",
          "notckd",
          "notckd",
          "notckd",
          "notckd",
          "notckd",
          "notckd",
          "notckd",
          "notckd",
          "notckd",
          "notckd",
          "notckd",
          "notckd",
          "notckd",
          "notckd",
          "notckd",
          "notckd",
          "notckd",
          "notckd",
          "notckd",
          "notckd",
          "notckd",
          "notckd",
          "notckd",
          "notckd",
          "notckd",
          "notckd",
          "notckd",
          "notckd",
          "notckd",
          "notckd",
          "notckd",
          "notckd",
          "notckd",
          "notckd",
          "notckd",
          "notckd",
          "notckd",
          "notckd",
          "notckd",
          "notckd",
          "notckd",
          "notckd",
          "notckd",
          "notckd",
          "notckd",
          "notckd",
          "notckd",
          "notckd",
          "notckd",
          "notckd",
          "notckd",
          "notckd",
          "notckd",
          "notckd",
          "notckd",
          "notckd",
          "notckd",
          "notckd",
          "notckd",
          "notckd",
          "notckd",
          "notckd",
          "notckd",
          "notckd",
          "notckd",
          "notckd",
          "notckd",
          "notckd",
          "notckd",
          "notckd",
          "notckd",
          "notckd",
          "notckd",
          "notckd"
         ],
         "x0": " ",
         "xaxis": "x",
         "y": [
          140,
          70,
          82,
          119,
          99,
          121,
          131,
          91,
          98,
          104,
          131,
          122,
          118,
          117,
          132,
          97,
          133,
          122,
          100,
          121,
          111,
          96,
          139,
          95,
          107,
          125,
          148,
          123,
          112,
          140,
          93,
          130,
          123,
          148,
          100,
          94,
          81,
          124,
          70,
          93,
          76,
          124,
          89,
          92,
          110,
          106,
          125,
          116,
          91,
          127,
          114,
          96,
          127,
          107,
          128,
          122,
          128,
          137,
          81,
          129,
          102,
          132,
          148,
          104,
          131,
          148,
          99,
          102,
          120,
          138,
          105,
          109,
          120,
          130,
          119,
          100,
          109,
          120,
          131,
          80,
          114,
          130,
          148,
          99,
          125,
          134,
          119,
          92,
          132,
          88,
          100,
          130,
          95,
          111,
          106,
          97,
          130,
          108,
          99,
          82,
          85,
          83,
          109,
          86,
          102,
          95,
          87,
          107,
          117,
          88,
          105,
          70,
          89,
          99,
          118,
          93,
          81,
          125,
          82,
          107,
          83,
          79,
          109,
          133,
          111,
          74,
          88,
          97,
          148,
          78,
          113,
          79,
          75,
          119,
          132,
          113,
          100,
          93,
          94,
          112,
          99,
          85,
          133,
          117,
          137,
          140,
          75,
          100,
          114,
          131
         ],
         "y0": " ",
         "yaxis": "y"
        }
       ],
       "layout": {
        "legend": {
         "title": {
          "text": "class"
         },
         "tracegroupgap": 0
        },
        "margin": {
         "t": 60
        },
        "template": {
         "data": {
          "bar": [
           {
            "error_x": {
             "color": "#f2f5fa"
            },
            "error_y": {
             "color": "#f2f5fa"
            },
            "marker": {
             "line": {
              "color": "rgb(17,17,17)",
              "width": 0.5
             }
            },
            "type": "bar"
           }
          ],
          "barpolar": [
           {
            "marker": {
             "line": {
              "color": "rgb(17,17,17)",
              "width": 0.5
             }
            },
            "type": "barpolar"
           }
          ],
          "carpet": [
           {
            "aaxis": {
             "endlinecolor": "#A2B1C6",
             "gridcolor": "#506784",
             "linecolor": "#506784",
             "minorgridcolor": "#506784",
             "startlinecolor": "#A2B1C6"
            },
            "baxis": {
             "endlinecolor": "#A2B1C6",
             "gridcolor": "#506784",
             "linecolor": "#506784",
             "minorgridcolor": "#506784",
             "startlinecolor": "#A2B1C6"
            },
            "type": "carpet"
           }
          ],
          "choropleth": [
           {
            "colorbar": {
             "outlinewidth": 0,
             "ticks": ""
            },
            "type": "choropleth"
           }
          ],
          "contour": [
           {
            "colorbar": {
             "outlinewidth": 0,
             "ticks": ""
            },
            "colorscale": [
             [
              0,
              "#0d0887"
             ],
             [
              0.1111111111111111,
              "#46039f"
             ],
             [
              0.2222222222222222,
              "#7201a8"
             ],
             [
              0.3333333333333333,
              "#9c179e"
             ],
             [
              0.4444444444444444,
              "#bd3786"
             ],
             [
              0.5555555555555556,
              "#d8576b"
             ],
             [
              0.6666666666666666,
              "#ed7953"
             ],
             [
              0.7777777777777778,
              "#fb9f3a"
             ],
             [
              0.8888888888888888,
              "#fdca26"
             ],
             [
              1,
              "#f0f921"
             ]
            ],
            "type": "contour"
           }
          ],
          "contourcarpet": [
           {
            "colorbar": {
             "outlinewidth": 0,
             "ticks": ""
            },
            "type": "contourcarpet"
           }
          ],
          "heatmap": [
           {
            "colorbar": {
             "outlinewidth": 0,
             "ticks": ""
            },
            "colorscale": [
             [
              0,
              "#0d0887"
             ],
             [
              0.1111111111111111,
              "#46039f"
             ],
             [
              0.2222222222222222,
              "#7201a8"
             ],
             [
              0.3333333333333333,
              "#9c179e"
             ],
             [
              0.4444444444444444,
              "#bd3786"
             ],
             [
              0.5555555555555556,
              "#d8576b"
             ],
             [
              0.6666666666666666,
              "#ed7953"
             ],
             [
              0.7777777777777778,
              "#fb9f3a"
             ],
             [
              0.8888888888888888,
              "#fdca26"
             ],
             [
              1,
              "#f0f921"
             ]
            ],
            "type": "heatmap"
           }
          ],
          "heatmapgl": [
           {
            "colorbar": {
             "outlinewidth": 0,
             "ticks": ""
            },
            "colorscale": [
             [
              0,
              "#0d0887"
             ],
             [
              0.1111111111111111,
              "#46039f"
             ],
             [
              0.2222222222222222,
              "#7201a8"
             ],
             [
              0.3333333333333333,
              "#9c179e"
             ],
             [
              0.4444444444444444,
              "#bd3786"
             ],
             [
              0.5555555555555556,
              "#d8576b"
             ],
             [
              0.6666666666666666,
              "#ed7953"
             ],
             [
              0.7777777777777778,
              "#fb9f3a"
             ],
             [
              0.8888888888888888,
              "#fdca26"
             ],
             [
              1,
              "#f0f921"
             ]
            ],
            "type": "heatmapgl"
           }
          ],
          "histogram": [
           {
            "marker": {
             "colorbar": {
              "outlinewidth": 0,
              "ticks": ""
             }
            },
            "type": "histogram"
           }
          ],
          "histogram2d": [
           {
            "colorbar": {
             "outlinewidth": 0,
             "ticks": ""
            },
            "colorscale": [
             [
              0,
              "#0d0887"
             ],
             [
              0.1111111111111111,
              "#46039f"
             ],
             [
              0.2222222222222222,
              "#7201a8"
             ],
             [
              0.3333333333333333,
              "#9c179e"
             ],
             [
              0.4444444444444444,
              "#bd3786"
             ],
             [
              0.5555555555555556,
              "#d8576b"
             ],
             [
              0.6666666666666666,
              "#ed7953"
             ],
             [
              0.7777777777777778,
              "#fb9f3a"
             ],
             [
              0.8888888888888888,
              "#fdca26"
             ],
             [
              1,
              "#f0f921"
             ]
            ],
            "type": "histogram2d"
           }
          ],
          "histogram2dcontour": [
           {
            "colorbar": {
             "outlinewidth": 0,
             "ticks": ""
            },
            "colorscale": [
             [
              0,
              "#0d0887"
             ],
             [
              0.1111111111111111,
              "#46039f"
             ],
             [
              0.2222222222222222,
              "#7201a8"
             ],
             [
              0.3333333333333333,
              "#9c179e"
             ],
             [
              0.4444444444444444,
              "#bd3786"
             ],
             [
              0.5555555555555556,
              "#d8576b"
             ],
             [
              0.6666666666666666,
              "#ed7953"
             ],
             [
              0.7777777777777778,
              "#fb9f3a"
             ],
             [
              0.8888888888888888,
              "#fdca26"
             ],
             [
              1,
              "#f0f921"
             ]
            ],
            "type": "histogram2dcontour"
           }
          ],
          "mesh3d": [
           {
            "colorbar": {
             "outlinewidth": 0,
             "ticks": ""
            },
            "type": "mesh3d"
           }
          ],
          "parcoords": [
           {
            "line": {
             "colorbar": {
              "outlinewidth": 0,
              "ticks": ""
             }
            },
            "type": "parcoords"
           }
          ],
          "pie": [
           {
            "automargin": true,
            "type": "pie"
           }
          ],
          "scatter": [
           {
            "marker": {
             "line": {
              "color": "#283442"
             }
            },
            "type": "scatter"
           }
          ],
          "scatter3d": [
           {
            "line": {
             "colorbar": {
              "outlinewidth": 0,
              "ticks": ""
             }
            },
            "marker": {
             "colorbar": {
              "outlinewidth": 0,
              "ticks": ""
             }
            },
            "type": "scatter3d"
           }
          ],
          "scattercarpet": [
           {
            "marker": {
             "colorbar": {
              "outlinewidth": 0,
              "ticks": ""
             }
            },
            "type": "scattercarpet"
           }
          ],
          "scattergeo": [
           {
            "marker": {
             "colorbar": {
              "outlinewidth": 0,
              "ticks": ""
             }
            },
            "type": "scattergeo"
           }
          ],
          "scattergl": [
           {
            "marker": {
             "line": {
              "color": "#283442"
             }
            },
            "type": "scattergl"
           }
          ],
          "scattermapbox": [
           {
            "marker": {
             "colorbar": {
              "outlinewidth": 0,
              "ticks": ""
             }
            },
            "type": "scattermapbox"
           }
          ],
          "scatterpolar": [
           {
            "marker": {
             "colorbar": {
              "outlinewidth": 0,
              "ticks": ""
             }
            },
            "type": "scatterpolar"
           }
          ],
          "scatterpolargl": [
           {
            "marker": {
             "colorbar": {
              "outlinewidth": 0,
              "ticks": ""
             }
            },
            "type": "scatterpolargl"
           }
          ],
          "scatterternary": [
           {
            "marker": {
             "colorbar": {
              "outlinewidth": 0,
              "ticks": ""
             }
            },
            "type": "scatterternary"
           }
          ],
          "surface": [
           {
            "colorbar": {
             "outlinewidth": 0,
             "ticks": ""
            },
            "colorscale": [
             [
              0,
              "#0d0887"
             ],
             [
              0.1111111111111111,
              "#46039f"
             ],
             [
              0.2222222222222222,
              "#7201a8"
             ],
             [
              0.3333333333333333,
              "#9c179e"
             ],
             [
              0.4444444444444444,
              "#bd3786"
             ],
             [
              0.5555555555555556,
              "#d8576b"
             ],
             [
              0.6666666666666666,
              "#ed7953"
             ],
             [
              0.7777777777777778,
              "#fb9f3a"
             ],
             [
              0.8888888888888888,
              "#fdca26"
             ],
             [
              1,
              "#f0f921"
             ]
            ],
            "type": "surface"
           }
          ],
          "table": [
           {
            "cells": {
             "fill": {
              "color": "#506784"
             },
             "line": {
              "color": "rgb(17,17,17)"
             }
            },
            "header": {
             "fill": {
              "color": "#2a3f5f"
             },
             "line": {
              "color": "rgb(17,17,17)"
             }
            },
            "type": "table"
           }
          ]
         },
         "layout": {
          "annotationdefaults": {
           "arrowcolor": "#f2f5fa",
           "arrowhead": 0,
           "arrowwidth": 1
          },
          "coloraxis": {
           "colorbar": {
            "outlinewidth": 0,
            "ticks": ""
           }
          },
          "colorscale": {
           "diverging": [
            [
             0,
             "#8e0152"
            ],
            [
             0.1,
             "#c51b7d"
            ],
            [
             0.2,
             "#de77ae"
            ],
            [
             0.3,
             "#f1b6da"
            ],
            [
             0.4,
             "#fde0ef"
            ],
            [
             0.5,
             "#f7f7f7"
            ],
            [
             0.6,
             "#e6f5d0"
            ],
            [
             0.7,
             "#b8e186"
            ],
            [
             0.8,
             "#7fbc41"
            ],
            [
             0.9,
             "#4d9221"
            ],
            [
             1,
             "#276419"
            ]
           ],
           "sequential": [
            [
             0,
             "#0d0887"
            ],
            [
             0.1111111111111111,
             "#46039f"
            ],
            [
             0.2222222222222222,
             "#7201a8"
            ],
            [
             0.3333333333333333,
             "#9c179e"
            ],
            [
             0.4444444444444444,
             "#bd3786"
            ],
            [
             0.5555555555555556,
             "#d8576b"
            ],
            [
             0.6666666666666666,
             "#ed7953"
            ],
            [
             0.7777777777777778,
             "#fb9f3a"
            ],
            [
             0.8888888888888888,
             "#fdca26"
            ],
            [
             1,
             "#f0f921"
            ]
           ],
           "sequentialminus": [
            [
             0,
             "#0d0887"
            ],
            [
             0.1111111111111111,
             "#46039f"
            ],
            [
             0.2222222222222222,
             "#7201a8"
            ],
            [
             0.3333333333333333,
             "#9c179e"
            ],
            [
             0.4444444444444444,
             "#bd3786"
            ],
            [
             0.5555555555555556,
             "#d8576b"
            ],
            [
             0.6666666666666666,
             "#ed7953"
            ],
            [
             0.7777777777777778,
             "#fb9f3a"
            ],
            [
             0.8888888888888888,
             "#fdca26"
            ],
            [
             1,
             "#f0f921"
            ]
           ]
          },
          "colorway": [
           "#636efa",
           "#EF553B",
           "#00cc96",
           "#ab63fa",
           "#FFA15A",
           "#19d3f3",
           "#FF6692",
           "#B6E880",
           "#FF97FF",
           "#FECB52"
          ],
          "font": {
           "color": "#f2f5fa"
          },
          "geo": {
           "bgcolor": "rgb(17,17,17)",
           "lakecolor": "rgb(17,17,17)",
           "landcolor": "rgb(17,17,17)",
           "showlakes": true,
           "showland": true,
           "subunitcolor": "#506784"
          },
          "hoverlabel": {
           "align": "left"
          },
          "hovermode": "closest",
          "mapbox": {
           "style": "dark"
          },
          "paper_bgcolor": "rgb(17,17,17)",
          "plot_bgcolor": "rgb(17,17,17)",
          "polar": {
           "angularaxis": {
            "gridcolor": "#506784",
            "linecolor": "#506784",
            "ticks": ""
           },
           "bgcolor": "rgb(17,17,17)",
           "radialaxis": {
            "gridcolor": "#506784",
            "linecolor": "#506784",
            "ticks": ""
           }
          },
          "scene": {
           "xaxis": {
            "backgroundcolor": "rgb(17,17,17)",
            "gridcolor": "#506784",
            "gridwidth": 2,
            "linecolor": "#506784",
            "showbackground": true,
            "ticks": "",
            "zerolinecolor": "#C8D4E3"
           },
           "yaxis": {
            "backgroundcolor": "rgb(17,17,17)",
            "gridcolor": "#506784",
            "gridwidth": 2,
            "linecolor": "#506784",
            "showbackground": true,
            "ticks": "",
            "zerolinecolor": "#C8D4E3"
           },
           "zaxis": {
            "backgroundcolor": "rgb(17,17,17)",
            "gridcolor": "#506784",
            "gridwidth": 2,
            "linecolor": "#506784",
            "showbackground": true,
            "ticks": "",
            "zerolinecolor": "#C8D4E3"
           }
          },
          "shapedefaults": {
           "line": {
            "color": "#f2f5fa"
           }
          },
          "sliderdefaults": {
           "bgcolor": "#C8D4E3",
           "bordercolor": "rgb(17,17,17)",
           "borderwidth": 1,
           "tickwidth": 0
          },
          "ternary": {
           "aaxis": {
            "gridcolor": "#506784",
            "linecolor": "#506784",
            "ticks": ""
           },
           "baxis": {
            "gridcolor": "#506784",
            "linecolor": "#506784",
            "ticks": ""
           },
           "bgcolor": "rgb(17,17,17)",
           "caxis": {
            "gridcolor": "#506784",
            "linecolor": "#506784",
            "ticks": ""
           }
          },
          "title": {
           "x": 0.05
          },
          "updatemenudefaults": {
           "bgcolor": "#506784",
           "borderwidth": 0
          },
          "xaxis": {
           "automargin": true,
           "gridcolor": "#283442",
           "linecolor": "#506784",
           "ticks": "",
           "title": {
            "standoff": 15
           },
           "zerolinecolor": "#283442",
           "zerolinewidth": 2
          },
          "yaxis": {
           "automargin": true,
           "gridcolor": "#283442",
           "linecolor": "#506784",
           "ticks": "",
           "title": {
            "standoff": 15
           },
           "zerolinecolor": "#283442",
           "zerolinewidth": 2
          }
         }
        },
        "violinmode": "group",
        "xaxis": {
         "anchor": "y",
         "categoryarray": [
          "ckd",
          "notckd"
         ],
         "categoryorder": "array",
         "domain": [
          0,
          1
         ],
         "title": {
          "text": "class"
         }
        },
        "yaxis": {
         "anchor": "x",
         "domain": [
          0,
          1
         ],
         "title": {
          "text": "bgr"
         }
        }
       }
      },
      "text/html": [
       "<div>\n",
       "        \n",
       "        \n",
       "            <div id=\"fd8e5ce6-42e7-43cf-84bb-8213e356c482\" class=\"plotly-graph-div\" style=\"height:525px; width:100%;\"></div>\n",
       "            <script type=\"text/javascript\">\n",
       "                require([\"plotly\"], function(Plotly) {\n",
       "                    window.PLOTLYENV=window.PLOTLYENV || {};\n",
       "                    \n",
       "                if (document.getElementById(\"fd8e5ce6-42e7-43cf-84bb-8213e356c482\")) {\n",
       "                    Plotly.newPlot(\n",
       "                        'fd8e5ce6-42e7-43cf-84bb-8213e356c482',\n",
       "                        [{\"alignmentgroup\": \"True\", \"box\": {\"visible\": true}, \"hoverlabel\": {\"namelength\": 0}, \"hovertemplate\": \"class=%{x}<br>bgr=%{y}\", \"legendgroup\": \"ckd\", \"marker\": {\"color\": \"#636efa\"}, \"name\": \"ckd\", \"offsetgroup\": \"ckd\", \"orientation\": \"v\", \"scalegroup\": \"True\", \"showlegend\": true, \"type\": \"violin\", \"x\": [\"ckd\", \"ckd\", \"ckd\", \"ckd\", \"ckd\", \"ckd\", \"ckd\", \"ckd\", \"ckd\", \"ckd\", \"ckd\", \"ckd\", \"ckd\", \"ckd\", \"ckd\", \"ckd\", \"ckd\", \"ckd\", \"ckd\", \"ckd\", \"ckd\", \"ckd\", \"ckd\", \"ckd\", \"ckd\", \"ckd\", \"ckd\", \"ckd\", \"ckd\", \"ckd\", \"ckd\", \"ckd\", \"ckd\", \"ckd\", \"ckd\", \"ckd\", \"ckd\", \"ckd\", \"ckd\", \"ckd\", \"ckd\", \"ckd\", \"ckd\", \"ckd\", \"ckd\", \"ckd\", \"ckd\", \"ckd\", \"ckd\", \"ckd\", \"ckd\", \"ckd\", \"ckd\", \"ckd\", \"ckd\", \"ckd\", \"ckd\", \"ckd\", \"ckd\", \"ckd\", \"ckd\", \"ckd\", \"ckd\", \"ckd\", \"ckd\", \"ckd\", \"ckd\", \"ckd\", \"ckd\", \"ckd\", \"ckd\", \"ckd\", \"ckd\", \"ckd\", \"ckd\", \"ckd\", \"ckd\", \"ckd\", \"ckd\", \"ckd\", \"ckd\", \"ckd\", \"ckd\", \"ckd\", \"ckd\", \"ckd\", \"ckd\", \"ckd\", \"ckd\", \"ckd\", \"ckd\", \"ckd\", \"ckd\", \"ckd\", \"ckd\", \"ckd\", \"ckd\", \"ckd\", \"ckd\", \"ckd\", \"ckd\", \"ckd\", \"ckd\", \"ckd\", \"ckd\", \"ckd\", \"ckd\", \"ckd\", \"ckd\", \"ckd\", \"ckd\", \"ckd\", \"ckd\", \"ckd\", \"ckd\", \"ckd\", \"ckd\", \"ckd\", \"ckd\", \"ckd\", \"ckd\", \"ckd\", \"ckd\", \"ckd\", \"ckd\", \"ckd\", \"ckd\", \"ckd\", \"ckd\", \"ckd\", \"ckd\", \"ckd\", \"ckd\", \"ckd\", \"ckd\", \"ckd\", \"ckd\", \"ckd\", \"ckd\", \"ckd\", \"ckd\", \"ckd\", \"ckd\", \"ckd\", \"ckd\", \"ckd\", \"ckd\", \"ckd\", \"ckd\", \"ckd\", \"ckd\", \"ckd\", \"ckd\", \"ckd\", \"ckd\", \"ckd\", \"ckd\", \"ckd\", \"ckd\", \"ckd\", \"ckd\", \"ckd\", \"ckd\", \"ckd\", \"ckd\", \"ckd\", \"ckd\", \"ckd\", \"ckd\", \"ckd\", \"ckd\", \"ckd\", \"ckd\", \"ckd\", \"ckd\", \"ckd\", \"ckd\", \"ckd\", \"ckd\", \"ckd\", \"ckd\", \"ckd\", \"ckd\", \"ckd\", \"ckd\", \"ckd\", \"ckd\", \"ckd\", \"ckd\", \"ckd\", \"ckd\", \"ckd\", \"ckd\", \"ckd\", \"ckd\", \"ckd\", \"ckd\", \"ckd\", \"ckd\", \"ckd\", \"ckd\", \"ckd\", \"ckd\", \"ckd\", \"ckd\", \"ckd\", \"ckd\", \"ckd\", \"ckd\", \"ckd\", \"ckd\", \"ckd\", \"ckd\", \"ckd\", \"ckd\", \"ckd\", \"ckd\", \"ckd\", \"ckd\", \"ckd\", \"ckd\", \"ckd\", \"ckd\", \"ckd\", \"ckd\", \"ckd\", \"ckd\", \"ckd\", \"ckd\", \"ckd\", \"ckd\", \"ckd\", \"ckd\", \"ckd\", \"ckd\", \"ckd\", \"ckd\", \"ckd\", \"ckd\", \"ckd\", \"ckd\", \"ckd\", \"ckd\", \"ckd\", \"ckd\", \"ckd\", \"ckd\", \"ckd\", \"ckd\", \"ckd\"], \"x0\": \" \", \"xaxis\": \"x\", \"y\": [121, 148, 423, 117, 106, 74, 100, 410, 138, 70, 490, 380, 208, 98, 157, 76, 99, 114, 263, 100, 173, 148, 95, 148, 148, 108, 156, 264, 123, 148, 93, 107, 159, 140, 171, 270, 92, 137, 148, 140, 99, 148, 204, 79, 207, 208, 124, 148, 70, 144, 91, 162, 148, 246, 148, 148, 148, 93, 253, 148, 141, 182, 86, 150, 146, 148, 150, 425, 112, 250, 360, 163, 148, 129, 129, 148, 133, 102, 158, 165, 132, 360, 104, 127, 76, 148, 415, 169, 251, 109, 280, 210, 219, 295, 93, 94, 172, 91, 101, 298, 153, 88, 92, 226, 143, 115, 89, 297, 107, 233, 123, 294, 148, 148, 148, 148, 104, 219, 99, 140, 323, 125, 148, 148, 90, 308, 144, 118, 224, 158, 128, 148, 219, 118, 122, 214, 213, 268, 95, 148, 256, 148, 84, 210, 105, 148, 213, 288, 171, 139, 78, 172, 121, 273, 242, 123, 153, 122, 424, 303, 148, 148, 204, 160, 192, 148, 76, 139, 307, 220, 447, 102, 309, 22, 111, 261, 107, 215, 93, 124, 234, 117, 131, 101, 352, 99, 148, 148, 80, 239, 94, 110, 130, 148, 148, 184, 129, 148, 252, 92, 139, 113, 114, 207, 172, 100, 109, 230, 341, 148, 255, 103, 253, 214, 171, 148, 107, 78, 92, 238, 103, 248, 108, 303, 117, 490, 163, 120, 124, 241, 192, 269, 148, 93, 148, 113, 74, 141, 201, 104, 203, 165, 214, 169, 463, 103, 106, 150, 424, 176], \"y0\": \" \", \"yaxis\": \"y\"}, {\"alignmentgroup\": \"True\", \"box\": {\"visible\": true}, \"hoverlabel\": {\"namelength\": 0}, \"hovertemplate\": \"class=%{x}<br>bgr=%{y}\", \"legendgroup\": \"notckd\", \"marker\": {\"color\": \"#EF553B\"}, \"name\": \"notckd\", \"offsetgroup\": \"notckd\", \"orientation\": \"v\", \"scalegroup\": \"True\", \"showlegend\": true, \"type\": \"violin\", \"x\": [\"notckd\", \"notckd\", \"notckd\", \"notckd\", \"notckd\", \"notckd\", \"notckd\", \"notckd\", \"notckd\", \"notckd\", \"notckd\", \"notckd\", \"notckd\", \"notckd\", \"notckd\", \"notckd\", \"notckd\", \"notckd\", \"notckd\", \"notckd\", \"notckd\", \"notckd\", \"notckd\", \"notckd\", \"notckd\", \"notckd\", \"notckd\", \"notckd\", \"notckd\", \"notckd\", \"notckd\", \"notckd\", \"notckd\", \"notckd\", \"notckd\", \"notckd\", \"notckd\", \"notckd\", \"notckd\", \"notckd\", \"notckd\", \"notckd\", \"notckd\", \"notckd\", \"notckd\", \"notckd\", \"notckd\", \"notckd\", \"notckd\", \"notckd\", \"notckd\", \"notckd\", \"notckd\", \"notckd\", \"notckd\", \"notckd\", \"notckd\", \"notckd\", \"notckd\", \"notckd\", \"notckd\", \"notckd\", \"notckd\", \"notckd\", \"notckd\", \"notckd\", \"notckd\", \"notckd\", \"notckd\", \"notckd\", \"notckd\", \"notckd\", \"notckd\", \"notckd\", \"notckd\", \"notckd\", \"notckd\", \"notckd\", \"notckd\", \"notckd\", \"notckd\", \"notckd\", \"notckd\", \"notckd\", \"notckd\", \"notckd\", \"notckd\", \"notckd\", \"notckd\", \"notckd\", \"notckd\", \"notckd\", \"notckd\", \"notckd\", \"notckd\", \"notckd\", \"notckd\", \"notckd\", \"notckd\", \"notckd\", \"notckd\", \"notckd\", \"notckd\", \"notckd\", \"notckd\", \"notckd\", \"notckd\", \"notckd\", \"notckd\", \"notckd\", \"notckd\", \"notckd\", \"notckd\", \"notckd\", \"notckd\", \"notckd\", \"notckd\", \"notckd\", \"notckd\", \"notckd\", \"notckd\", \"notckd\", \"notckd\", \"notckd\", \"notckd\", \"notckd\", \"notckd\", \"notckd\", \"notckd\", \"notckd\", \"notckd\", \"notckd\", \"notckd\", \"notckd\", \"notckd\", \"notckd\", \"notckd\", \"notckd\", \"notckd\", \"notckd\", \"notckd\", \"notckd\", \"notckd\", \"notckd\", \"notckd\", \"notckd\", \"notckd\", \"notckd\", \"notckd\", \"notckd\"], \"x0\": \" \", \"xaxis\": \"x\", \"y\": [140, 70, 82, 119, 99, 121, 131, 91, 98, 104, 131, 122, 118, 117, 132, 97, 133, 122, 100, 121, 111, 96, 139, 95, 107, 125, 148, 123, 112, 140, 93, 130, 123, 148, 100, 94, 81, 124, 70, 93, 76, 124, 89, 92, 110, 106, 125, 116, 91, 127, 114, 96, 127, 107, 128, 122, 128, 137, 81, 129, 102, 132, 148, 104, 131, 148, 99, 102, 120, 138, 105, 109, 120, 130, 119, 100, 109, 120, 131, 80, 114, 130, 148, 99, 125, 134, 119, 92, 132, 88, 100, 130, 95, 111, 106, 97, 130, 108, 99, 82, 85, 83, 109, 86, 102, 95, 87, 107, 117, 88, 105, 70, 89, 99, 118, 93, 81, 125, 82, 107, 83, 79, 109, 133, 111, 74, 88, 97, 148, 78, 113, 79, 75, 119, 132, 113, 100, 93, 94, 112, 99, 85, 133, 117, 137, 140, 75, 100, 114, 131], \"y0\": \" \", \"yaxis\": \"y\"}],\n",
       "                        {\"legend\": {\"title\": {\"text\": \"class\"}, \"tracegroupgap\": 0}, \"margin\": {\"t\": 60}, \"template\": {\"data\": {\"bar\": [{\"error_x\": {\"color\": \"#f2f5fa\"}, \"error_y\": {\"color\": \"#f2f5fa\"}, \"marker\": {\"line\": {\"color\": \"rgb(17,17,17)\", \"width\": 0.5}}, \"type\": \"bar\"}], \"barpolar\": [{\"marker\": {\"line\": {\"color\": \"rgb(17,17,17)\", \"width\": 0.5}}, \"type\": \"barpolar\"}], \"carpet\": [{\"aaxis\": {\"endlinecolor\": \"#A2B1C6\", \"gridcolor\": \"#506784\", \"linecolor\": \"#506784\", \"minorgridcolor\": \"#506784\", \"startlinecolor\": \"#A2B1C6\"}, \"baxis\": {\"endlinecolor\": \"#A2B1C6\", \"gridcolor\": \"#506784\", \"linecolor\": \"#506784\", \"minorgridcolor\": \"#506784\", \"startlinecolor\": \"#A2B1C6\"}, \"type\": \"carpet\"}], \"choropleth\": [{\"colorbar\": {\"outlinewidth\": 0, \"ticks\": \"\"}, \"type\": \"choropleth\"}], \"contour\": [{\"colorbar\": {\"outlinewidth\": 0, \"ticks\": \"\"}, \"colorscale\": [[0.0, \"#0d0887\"], [0.1111111111111111, \"#46039f\"], [0.2222222222222222, \"#7201a8\"], [0.3333333333333333, \"#9c179e\"], [0.4444444444444444, \"#bd3786\"], [0.5555555555555556, \"#d8576b\"], [0.6666666666666666, \"#ed7953\"], [0.7777777777777778, \"#fb9f3a\"], [0.8888888888888888, \"#fdca26\"], [1.0, \"#f0f921\"]], \"type\": \"contour\"}], \"contourcarpet\": [{\"colorbar\": {\"outlinewidth\": 0, \"ticks\": \"\"}, \"type\": \"contourcarpet\"}], \"heatmap\": [{\"colorbar\": {\"outlinewidth\": 0, \"ticks\": \"\"}, \"colorscale\": [[0.0, \"#0d0887\"], [0.1111111111111111, \"#46039f\"], [0.2222222222222222, \"#7201a8\"], [0.3333333333333333, \"#9c179e\"], [0.4444444444444444, \"#bd3786\"], [0.5555555555555556, \"#d8576b\"], [0.6666666666666666, \"#ed7953\"], [0.7777777777777778, \"#fb9f3a\"], [0.8888888888888888, \"#fdca26\"], [1.0, \"#f0f921\"]], \"type\": \"heatmap\"}], \"heatmapgl\": [{\"colorbar\": {\"outlinewidth\": 0, \"ticks\": \"\"}, \"colorscale\": [[0.0, \"#0d0887\"], [0.1111111111111111, \"#46039f\"], [0.2222222222222222, \"#7201a8\"], [0.3333333333333333, \"#9c179e\"], [0.4444444444444444, \"#bd3786\"], [0.5555555555555556, \"#d8576b\"], [0.6666666666666666, \"#ed7953\"], [0.7777777777777778, \"#fb9f3a\"], [0.8888888888888888, \"#fdca26\"], [1.0, \"#f0f921\"]], \"type\": \"heatmapgl\"}], \"histogram\": [{\"marker\": {\"colorbar\": {\"outlinewidth\": 0, \"ticks\": \"\"}}, \"type\": \"histogram\"}], \"histogram2d\": [{\"colorbar\": {\"outlinewidth\": 0, \"ticks\": \"\"}, \"colorscale\": [[0.0, \"#0d0887\"], [0.1111111111111111, \"#46039f\"], [0.2222222222222222, \"#7201a8\"], [0.3333333333333333, \"#9c179e\"], [0.4444444444444444, \"#bd3786\"], [0.5555555555555556, \"#d8576b\"], [0.6666666666666666, \"#ed7953\"], [0.7777777777777778, \"#fb9f3a\"], [0.8888888888888888, \"#fdca26\"], [1.0, \"#f0f921\"]], \"type\": \"histogram2d\"}], \"histogram2dcontour\": [{\"colorbar\": {\"outlinewidth\": 0, \"ticks\": \"\"}, \"colorscale\": [[0.0, \"#0d0887\"], [0.1111111111111111, \"#46039f\"], [0.2222222222222222, \"#7201a8\"], [0.3333333333333333, \"#9c179e\"], [0.4444444444444444, \"#bd3786\"], [0.5555555555555556, \"#d8576b\"], [0.6666666666666666, \"#ed7953\"], [0.7777777777777778, \"#fb9f3a\"], [0.8888888888888888, \"#fdca26\"], [1.0, \"#f0f921\"]], \"type\": \"histogram2dcontour\"}], \"mesh3d\": [{\"colorbar\": {\"outlinewidth\": 0, \"ticks\": \"\"}, \"type\": \"mesh3d\"}], \"parcoords\": [{\"line\": {\"colorbar\": {\"outlinewidth\": 0, \"ticks\": \"\"}}, \"type\": \"parcoords\"}], \"pie\": [{\"automargin\": true, \"type\": \"pie\"}], \"scatter\": [{\"marker\": {\"line\": {\"color\": \"#283442\"}}, \"type\": \"scatter\"}], \"scatter3d\": [{\"line\": {\"colorbar\": {\"outlinewidth\": 0, \"ticks\": \"\"}}, \"marker\": {\"colorbar\": {\"outlinewidth\": 0, \"ticks\": \"\"}}, \"type\": \"scatter3d\"}], \"scattercarpet\": [{\"marker\": {\"colorbar\": {\"outlinewidth\": 0, \"ticks\": \"\"}}, \"type\": \"scattercarpet\"}], \"scattergeo\": [{\"marker\": {\"colorbar\": {\"outlinewidth\": 0, \"ticks\": \"\"}}, \"type\": \"scattergeo\"}], \"scattergl\": [{\"marker\": {\"line\": {\"color\": \"#283442\"}}, \"type\": \"scattergl\"}], \"scattermapbox\": [{\"marker\": {\"colorbar\": {\"outlinewidth\": 0, \"ticks\": \"\"}}, \"type\": \"scattermapbox\"}], \"scatterpolar\": [{\"marker\": {\"colorbar\": {\"outlinewidth\": 0, \"ticks\": \"\"}}, \"type\": \"scatterpolar\"}], \"scatterpolargl\": [{\"marker\": {\"colorbar\": {\"outlinewidth\": 0, \"ticks\": \"\"}}, \"type\": \"scatterpolargl\"}], \"scatterternary\": [{\"marker\": {\"colorbar\": {\"outlinewidth\": 0, \"ticks\": \"\"}}, \"type\": \"scatterternary\"}], \"surface\": [{\"colorbar\": {\"outlinewidth\": 0, \"ticks\": \"\"}, \"colorscale\": [[0.0, \"#0d0887\"], [0.1111111111111111, \"#46039f\"], [0.2222222222222222, \"#7201a8\"], [0.3333333333333333, \"#9c179e\"], [0.4444444444444444, \"#bd3786\"], [0.5555555555555556, \"#d8576b\"], [0.6666666666666666, \"#ed7953\"], [0.7777777777777778, \"#fb9f3a\"], [0.8888888888888888, \"#fdca26\"], [1.0, \"#f0f921\"]], \"type\": \"surface\"}], \"table\": [{\"cells\": {\"fill\": {\"color\": \"#506784\"}, \"line\": {\"color\": \"rgb(17,17,17)\"}}, \"header\": {\"fill\": {\"color\": \"#2a3f5f\"}, \"line\": {\"color\": \"rgb(17,17,17)\"}}, \"type\": \"table\"}]}, \"layout\": {\"annotationdefaults\": {\"arrowcolor\": \"#f2f5fa\", \"arrowhead\": 0, \"arrowwidth\": 1}, \"coloraxis\": {\"colorbar\": {\"outlinewidth\": 0, \"ticks\": \"\"}}, \"colorscale\": {\"diverging\": [[0, \"#8e0152\"], [0.1, \"#c51b7d\"], [0.2, \"#de77ae\"], [0.3, \"#f1b6da\"], [0.4, \"#fde0ef\"], [0.5, \"#f7f7f7\"], [0.6, \"#e6f5d0\"], [0.7, \"#b8e186\"], [0.8, \"#7fbc41\"], [0.9, \"#4d9221\"], [1, \"#276419\"]], \"sequential\": [[0.0, \"#0d0887\"], [0.1111111111111111, \"#46039f\"], [0.2222222222222222, \"#7201a8\"], [0.3333333333333333, \"#9c179e\"], [0.4444444444444444, \"#bd3786\"], [0.5555555555555556, \"#d8576b\"], [0.6666666666666666, \"#ed7953\"], [0.7777777777777778, \"#fb9f3a\"], [0.8888888888888888, \"#fdca26\"], [1.0, \"#f0f921\"]], \"sequentialminus\": [[0.0, \"#0d0887\"], [0.1111111111111111, \"#46039f\"], [0.2222222222222222, \"#7201a8\"], [0.3333333333333333, \"#9c179e\"], [0.4444444444444444, \"#bd3786\"], [0.5555555555555556, \"#d8576b\"], [0.6666666666666666, \"#ed7953\"], [0.7777777777777778, \"#fb9f3a\"], [0.8888888888888888, \"#fdca26\"], [1.0, \"#f0f921\"]]}, \"colorway\": [\"#636efa\", \"#EF553B\", \"#00cc96\", \"#ab63fa\", \"#FFA15A\", \"#19d3f3\", \"#FF6692\", \"#B6E880\", \"#FF97FF\", \"#FECB52\"], \"font\": {\"color\": \"#f2f5fa\"}, \"geo\": {\"bgcolor\": \"rgb(17,17,17)\", \"lakecolor\": \"rgb(17,17,17)\", \"landcolor\": \"rgb(17,17,17)\", \"showlakes\": true, \"showland\": true, \"subunitcolor\": \"#506784\"}, \"hoverlabel\": {\"align\": \"left\"}, \"hovermode\": \"closest\", \"mapbox\": {\"style\": \"dark\"}, \"paper_bgcolor\": \"rgb(17,17,17)\", \"plot_bgcolor\": \"rgb(17,17,17)\", \"polar\": {\"angularaxis\": {\"gridcolor\": \"#506784\", \"linecolor\": \"#506784\", \"ticks\": \"\"}, \"bgcolor\": \"rgb(17,17,17)\", \"radialaxis\": {\"gridcolor\": \"#506784\", \"linecolor\": \"#506784\", \"ticks\": \"\"}}, \"scene\": {\"xaxis\": {\"backgroundcolor\": \"rgb(17,17,17)\", \"gridcolor\": \"#506784\", \"gridwidth\": 2, \"linecolor\": \"#506784\", \"showbackground\": true, \"ticks\": \"\", \"zerolinecolor\": \"#C8D4E3\"}, \"yaxis\": {\"backgroundcolor\": \"rgb(17,17,17)\", \"gridcolor\": \"#506784\", \"gridwidth\": 2, \"linecolor\": \"#506784\", \"showbackground\": true, \"ticks\": \"\", \"zerolinecolor\": \"#C8D4E3\"}, \"zaxis\": {\"backgroundcolor\": \"rgb(17,17,17)\", \"gridcolor\": \"#506784\", \"gridwidth\": 2, \"linecolor\": \"#506784\", \"showbackground\": true, \"ticks\": \"\", \"zerolinecolor\": \"#C8D4E3\"}}, \"shapedefaults\": {\"line\": {\"color\": \"#f2f5fa\"}}, \"sliderdefaults\": {\"bgcolor\": \"#C8D4E3\", \"bordercolor\": \"rgb(17,17,17)\", \"borderwidth\": 1, \"tickwidth\": 0}, \"ternary\": {\"aaxis\": {\"gridcolor\": \"#506784\", \"linecolor\": \"#506784\", \"ticks\": \"\"}, \"baxis\": {\"gridcolor\": \"#506784\", \"linecolor\": \"#506784\", \"ticks\": \"\"}, \"bgcolor\": \"rgb(17,17,17)\", \"caxis\": {\"gridcolor\": \"#506784\", \"linecolor\": \"#506784\", \"ticks\": \"\"}}, \"title\": {\"x\": 0.05}, \"updatemenudefaults\": {\"bgcolor\": \"#506784\", \"borderwidth\": 0}, \"xaxis\": {\"automargin\": true, \"gridcolor\": \"#283442\", \"linecolor\": \"#506784\", \"ticks\": \"\", \"title\": {\"standoff\": 15}, \"zerolinecolor\": \"#283442\", \"zerolinewidth\": 2}, \"yaxis\": {\"automargin\": true, \"gridcolor\": \"#283442\", \"linecolor\": \"#506784\", \"ticks\": \"\", \"title\": {\"standoff\": 15}, \"zerolinecolor\": \"#283442\", \"zerolinewidth\": 2}}}, \"violinmode\": \"group\", \"xaxis\": {\"anchor\": \"y\", \"categoryarray\": [\"ckd\", \"notckd\"], \"categoryorder\": \"array\", \"domain\": [0.0, 1.0], \"title\": {\"text\": \"class\"}}, \"yaxis\": {\"anchor\": \"x\", \"domain\": [0.0, 1.0], \"title\": {\"text\": \"bgr\"}}},\n",
       "                        {\"responsive\": true}\n",
       "                    ).then(function(){\n",
       "                            \n",
       "var gd = document.getElementById('fd8e5ce6-42e7-43cf-84bb-8213e356c482');\n",
       "var x = new MutationObserver(function (mutations, observer) {{\n",
       "        var display = window.getComputedStyle(gd).display;\n",
       "        if (!display || display === 'none') {{\n",
       "            console.log([gd, 'removed!']);\n",
       "            Plotly.purge(gd);\n",
       "            observer.disconnect();\n",
       "        }}\n",
       "}});\n",
       "\n",
       "// Listen for the removal of the full notebook cells\n",
       "var notebookContainer = gd.closest('#notebook-container');\n",
       "if (notebookContainer) {{\n",
       "    x.observe(notebookContainer, {childList: true});\n",
       "}}\n",
       "\n",
       "// Listen for the clearing of the current output cell\n",
       "var outputEl = gd.closest('.output');\n",
       "if (outputEl) {{\n",
       "    x.observe(outputEl, {childList: true});\n",
       "}}\n",
       "\n",
       "                        })\n",
       "                };\n",
       "                });\n",
       "            </script>\n",
       "        </div>"
      ]
     },
     "metadata": {},
     "output_type": "display_data"
    }
   ],
   "source": [
    "fig = px.violin(ckd_copy, y='bgr', x=\"class\", color=\"class\", box=True, template = 'plotly_dark')\n",
    "fig.show()"
   ]
  },
  {
   "cell_type": "markdown",
   "metadata": {},
   "source": [
    "# Working on bu column"
   ]
  },
  {
   "cell_type": "code",
   "execution_count": 931,
   "metadata": {},
   "outputs": [
    {
     "data": {
      "text/plain": [
       "array(['36', '18', '53', '56', '26', '25', '54', '31', '60', '107', '55',\n",
       "       '72', '86', '90', '162', '46', '87', '27', '148', '180', '163',\n",
       "       '?', '50', '75', '45', '28', '155', '33', '39', '153', '29', '65',\n",
       "       '103', '70', '80', '20', '202', '77', '89', '24', '17', '32',\n",
       "       '114', '66', '38', '164', '142', '96', '391', '15', '111', '73',\n",
       "       '19', '92', '35', '16', '139', '48', '85', '98', '186', '37', '47',\n",
       "       '52', '82', '51', '106', '22', '217', '88', '118', '50.1', '71',\n",
       "       '34', '40', '21', '219', '30', '125', '166', '49', '208', '176',\n",
       "       '68', '145', '165', '322', '23', '235', '132', '76', '42', '44',\n",
       "       '41', '113', '1.5', '146', '58', '133', '137', '67', '115', '223',\n",
       "       '98.6', '158', '94', '74', '150', '61', '57', '95', '191', '93',\n",
       "       '241', '64', '79', '215', '309', '10'], dtype=object)"
      ]
     },
     "execution_count": 931,
     "metadata": {},
     "output_type": "execute_result"
    }
   ],
   "source": [
    "ckd_copy['bu'].unique()"
   ]
  },
  {
   "cell_type": "code",
   "execution_count": 934,
   "metadata": {},
   "outputs": [],
   "source": [
    "mean_value = round(ckd_copy[ckd_copy['bu']!='?'][['bu']].astype(float).mean()[0],1)\n",
    "\n",
    "ckd_copy['bu'].replace('?',mean_value,inplace=True)\n",
    "ckd_copy['bu'] = ckd_copy['bu'].astype(float)\n"
   ]
  },
  {
   "cell_type": "code",
   "execution_count": 935,
   "metadata": {},
   "outputs": [
    {
     "data": {
      "text/plain": [
       "count    400.000000\n",
       "mean      57.424500\n",
       "std       49.285887\n",
       "min        1.500000\n",
       "25%       27.000000\n",
       "50%       44.000000\n",
       "75%       61.750000\n",
       "max      391.000000\n",
       "Name: bu, dtype: float64"
      ]
     },
     "execution_count": 935,
     "metadata": {},
     "output_type": "execute_result"
    }
   ],
   "source": [
    "ckd_copy['bu'].describe()"
   ]
  },
  {
   "cell_type": "code",
   "execution_count": 936,
   "metadata": {},
   "outputs": [
    {
     "data": {
      "application/vnd.plotly.v1+json": {
       "config": {
        "plotlyServerURL": "https://plot.ly"
       },
       "data": [
        {
         "alignmentgroup": "True",
         "box": {
          "visible": true
         },
         "hoverlabel": {
          "namelength": 0
         },
         "hovertemplate": "class=%{x}<br>bu=%{y}",
         "legendgroup": "ckd",
         "marker": {
          "color": "#636efa"
         },
         "name": "ckd",
         "offsetgroup": "ckd",
         "orientation": "v",
         "scalegroup": "True",
         "showlegend": true,
         "type": "violin",
         "x": [
          "ckd",
          "ckd",
          "ckd",
          "ckd",
          "ckd",
          "ckd",
          "ckd",
          "ckd",
          "ckd",
          "ckd",
          "ckd",
          "ckd",
          "ckd",
          "ckd",
          "ckd",
          "ckd",
          "ckd",
          "ckd",
          "ckd",
          "ckd",
          "ckd",
          "ckd",
          "ckd",
          "ckd",
          "ckd",
          "ckd",
          "ckd",
          "ckd",
          "ckd",
          "ckd",
          "ckd",
          "ckd",
          "ckd",
          "ckd",
          "ckd",
          "ckd",
          "ckd",
          "ckd",
          "ckd",
          "ckd",
          "ckd",
          "ckd",
          "ckd",
          "ckd",
          "ckd",
          "ckd",
          "ckd",
          "ckd",
          "ckd",
          "ckd",
          "ckd",
          "ckd",
          "ckd",
          "ckd",
          "ckd",
          "ckd",
          "ckd",
          "ckd",
          "ckd",
          "ckd",
          "ckd",
          "ckd",
          "ckd",
          "ckd",
          "ckd",
          "ckd",
          "ckd",
          "ckd",
          "ckd",
          "ckd",
          "ckd",
          "ckd",
          "ckd",
          "ckd",
          "ckd",
          "ckd",
          "ckd",
          "ckd",
          "ckd",
          "ckd",
          "ckd",
          "ckd",
          "ckd",
          "ckd",
          "ckd",
          "ckd",
          "ckd",
          "ckd",
          "ckd",
          "ckd",
          "ckd",
          "ckd",
          "ckd",
          "ckd",
          "ckd",
          "ckd",
          "ckd",
          "ckd",
          "ckd",
          "ckd",
          "ckd",
          "ckd",
          "ckd",
          "ckd",
          "ckd",
          "ckd",
          "ckd",
          "ckd",
          "ckd",
          "ckd",
          "ckd",
          "ckd",
          "ckd",
          "ckd",
          "ckd",
          "ckd",
          "ckd",
          "ckd",
          "ckd",
          "ckd",
          "ckd",
          "ckd",
          "ckd",
          "ckd",
          "ckd",
          "ckd",
          "ckd",
          "ckd",
          "ckd",
          "ckd",
          "ckd",
          "ckd",
          "ckd",
          "ckd",
          "ckd",
          "ckd",
          "ckd",
          "ckd",
          "ckd",
          "ckd",
          "ckd",
          "ckd",
          "ckd",
          "ckd",
          "ckd",
          "ckd",
          "ckd",
          "ckd",
          "ckd",
          "ckd",
          "ckd",
          "ckd",
          "ckd",
          "ckd",
          "ckd",
          "ckd",
          "ckd",
          "ckd",
          "ckd",
          "ckd",
          "ckd",
          "ckd",
          "ckd",
          "ckd",
          "ckd",
          "ckd",
          "ckd",
          "ckd",
          "ckd",
          "ckd",
          "ckd",
          "ckd",
          "ckd",
          "ckd",
          "ckd",
          "ckd",
          "ckd",
          "ckd",
          "ckd",
          "ckd",
          "ckd",
          "ckd",
          "ckd",
          "ckd",
          "ckd",
          "ckd",
          "ckd",
          "ckd",
          "ckd",
          "ckd",
          "ckd",
          "ckd",
          "ckd",
          "ckd",
          "ckd",
          "ckd",
          "ckd",
          "ckd",
          "ckd",
          "ckd",
          "ckd",
          "ckd",
          "ckd",
          "ckd",
          "ckd",
          "ckd",
          "ckd",
          "ckd",
          "ckd",
          "ckd",
          "ckd",
          "ckd",
          "ckd",
          "ckd",
          "ckd",
          "ckd",
          "ckd",
          "ckd",
          "ckd",
          "ckd",
          "ckd",
          "ckd",
          "ckd",
          "ckd",
          "ckd",
          "ckd",
          "ckd",
          "ckd",
          "ckd",
          "ckd",
          "ckd",
          "ckd",
          "ckd",
          "ckd",
          "ckd",
          "ckd",
          "ckd",
          "ckd",
          "ckd",
          "ckd",
          "ckd",
          "ckd",
          "ckd",
          "ckd",
          "ckd",
          "ckd",
          "ckd",
          "ckd",
          "ckd",
          "ckd"
         ],
         "x0": " ",
         "xaxis": "x",
         "y": [
          36,
          18,
          53,
          56,
          26,
          25,
          54,
          31,
          60,
          107,
          55,
          60,
          72,
          86,
          90,
          162,
          46,
          87,
          27,
          31,
          148,
          180,
          163,
          57.4,
          50,
          75,
          45,
          87,
          31,
          28,
          155,
          33,
          39,
          55,
          153,
          39,
          29,
          65,
          103,
          70,
          80,
          20,
          29,
          202,
          77,
          89,
          24,
          17,
          32,
          72,
          114,
          66,
          38,
          24,
          57.4,
          57.4,
          164,
          155,
          142,
          96,
          66,
          391,
          15,
          111,
          57.4,
          20,
          55,
          57.4,
          73,
          20,
          19,
          92,
          35,
          107,
          107,
          16,
          139,
          48,
          85,
          55,
          98,
          45,
          77,
          19,
          186,
          46,
          37,
          47,
          52,
          32,
          35,
          26,
          82,
          90,
          66,
          25,
          32,
          51,
          106,
          24,
          22,
          80,
          32,
          217,
          88,
          32,
          118,
          53,
          15,
          50.1,
          19,
          71,
          34,
          57.4,
          51,
          28,
          16,
          36,
          25,
          27,
          40,
          21,
          219,
          30,
          98,
          36,
          125,
          125,
          166,
          49,
          208,
          25,
          176,
          125,
          57.4,
          24,
          68,
          86,
          51,
          68,
          40,
          106,
          145,
          165,
          53,
          322,
          23,
          36,
          26,
          29,
          27,
          46,
          20,
          235,
          132,
          40,
          76,
          42,
          48,
          35,
          39,
          57.4,
          34,
          40,
          15,
          57.4,
          44,
          19,
          28,
          68,
          41,
          60,
          113,
          1.5,
          146,
          58,
          40,
          133,
          153,
          53,
          56,
          52,
          23,
          106,
          137,
          23,
          46,
          22,
          66,
          58,
          67,
          115,
          16,
          223,
          49,
          98.6,
          158,
          111,
          40,
          37,
          89,
          94,
          74,
          80,
          82,
          28,
          96,
          50,
          37,
          57.4,
          132,
          18,
          150,
          73,
          30,
          57.4,
          15,
          61,
          19,
          57,
          57.4,
          30,
          68,
          30,
          28,
          95,
          54,
          48,
          52,
          191,
          17,
          51,
          57.4,
          20,
          19,
          93,
          66,
          53,
          241,
          50,
          46,
          45,
          96,
          48,
          64,
          79,
          215,
          18,
          55,
          309
         ],
         "y0": " ",
         "yaxis": "y"
        },
        {
         "alignmentgroup": "True",
         "box": {
          "visible": true
         },
         "hoverlabel": {
          "namelength": 0
         },
         "hovertemplate": "class=%{x}<br>bu=%{y}",
         "legendgroup": "notckd",
         "marker": {
          "color": "#EF553B"
         },
         "name": "notckd",
         "offsetgroup": "notckd",
         "orientation": "v",
         "scalegroup": "True",
         "showlegend": true,
         "type": "violin",
         "x": [
          "notckd",
          "notckd",
          "notckd",
          "notckd",
          "notckd",
          "notckd",
          "notckd",
          "notckd",
          "notckd",
          "notckd",
          "notckd",
          "notckd",
          "notckd",
          "notckd",
          "notckd",
          "notckd",
          "notckd",
          "notckd",
          "notckd",
          "notckd",
          "notckd",
          "notckd",
          "notckd",
          "notckd",
          "notckd",
          "notckd",
          "notckd",
          "notckd",
          "notckd",
          "notckd",
          "notckd",
          "notckd",
          "notckd",
          "notckd",
          "notckd",
          "notckd",
          "notckd",
          "notckd",
          "notckd",
          "notckd",
          "notckd",
          "notckd",
          "notckd",
          "notckd",
          "notckd",
          "notckd",
          "notckd",
          "notckd",
          "notckd",
          "notckd",
          "notckd",
          "notckd",
          "notckd",
          "notckd",
          "notckd",
          "notckd",
          "notckd",
          "notckd",
          "notckd",
          "notckd",
          "notckd",
          "notckd",
          "notckd",
          "notckd",
          "notckd",
          "notckd",
          "notckd",
          "notckd",
          "notckd",
          "notckd",
          "notckd",
          "notckd",
          "notckd",
          "notckd",
          "notckd",
          "notckd",
          "notckd",
          "notckd",
          "notckd",
          "notckd",
          "notckd",
          "notckd",
          "notckd",
          "notckd",
          "notckd",
          "notckd",
          "notckd",
          "notckd",
          "notckd",
          "notckd",
          "notckd",
          "notckd",
          "notckd",
          "notckd",
          "notckd",
          "notckd",
          "notckd",
          "notckd",
          "notckd",
          "notckd",
          "notckd",
          "notckd",
          "notckd",
          "notckd",
          "notckd",
          "notckd",
          "notckd",
          "notckd",
          "notckd",
          "notckd",
          "notckd",
          "notckd",
          "notckd",
          "notckd",
          "notckd",
          "notckd",
          "notckd",
          "notckd",
          "notckd",
          "notckd",
          "notckd",
          "notckd",
          "notckd",
          "notckd",
          "notckd",
          "notckd",
          "notckd",
          "notckd",
          "notckd",
          "notckd",
          "notckd",
          "notckd",
          "notckd",
          "notckd",
          "notckd",
          "notckd",
          "notckd",
          "notckd",
          "notckd",
          "notckd",
          "notckd",
          "notckd",
          "notckd",
          "notckd",
          "notckd",
          "notckd",
          "notckd",
          "notckd",
          "notckd",
          "notckd"
         ],
         "x0": " ",
         "xaxis": "x",
         "y": [
          10,
          36,
          49,
          17,
          38,
          27,
          10,
          36,
          20,
          31,
          38,
          32,
          18,
          46,
          24,
          40,
          17,
          33,
          49,
          19,
          34,
          25,
          15,
          35,
          23,
          22,
          57.4,
          46,
          44,
          23,
          33,
          50,
          44,
          57.4,
          37,
          19,
          18,
          22,
          46,
          32,
          28,
          44,
          42,
          19,
          50,
          25,
          38,
          26,
          49,
          48,
          26,
          33,
          44,
          26,
          38,
          25,
          30,
          17,
          46,
          25,
          27,
          18,
          57.4,
          28,
          46,
          57.4,
          30,
          48,
          29,
          15,
          49,
          39,
          40,
          30,
          15,
          50,
          25,
          31,
          29,
          25,
          32,
          39,
          33,
          46,
          57.4,
          45,
          27,
          40,
          34,
          42,
          29,
          37,
          46,
          35,
          27,
          18,
          41,
          25,
          19,
          36,
          20,
          49,
          47,
          37,
          17,
          24,
          38,
          16,
          22,
          50,
          39,
          16,
          19,
          40,
          44,
          46,
          15,
          41,
          42,
          48,
          42,
          50,
          26,
          38,
          44,
          41,
          16,
          27,
          57.4,
          45,
          23,
          47,
          22,
          46,
          18,
          25,
          47,
          17,
          15,
          48,
          25,
          16,
          48,
          45,
          46,
          49,
          31,
          26,
          50,
          18
         ],
         "y0": " ",
         "yaxis": "y"
        }
       ],
       "layout": {
        "legend": {
         "title": {
          "text": "class"
         },
         "tracegroupgap": 0
        },
        "margin": {
         "t": 60
        },
        "template": {
         "data": {
          "bar": [
           {
            "error_x": {
             "color": "#2a3f5f"
            },
            "error_y": {
             "color": "#2a3f5f"
            },
            "marker": {
             "line": {
              "color": "#E5ECF6",
              "width": 0.5
             }
            },
            "type": "bar"
           }
          ],
          "barpolar": [
           {
            "marker": {
             "line": {
              "color": "#E5ECF6",
              "width": 0.5
             }
            },
            "type": "barpolar"
           }
          ],
          "carpet": [
           {
            "aaxis": {
             "endlinecolor": "#2a3f5f",
             "gridcolor": "white",
             "linecolor": "white",
             "minorgridcolor": "white",
             "startlinecolor": "#2a3f5f"
            },
            "baxis": {
             "endlinecolor": "#2a3f5f",
             "gridcolor": "white",
             "linecolor": "white",
             "minorgridcolor": "white",
             "startlinecolor": "#2a3f5f"
            },
            "type": "carpet"
           }
          ],
          "choropleth": [
           {
            "colorbar": {
             "outlinewidth": 0,
             "ticks": ""
            },
            "type": "choropleth"
           }
          ],
          "contour": [
           {
            "colorbar": {
             "outlinewidth": 0,
             "ticks": ""
            },
            "colorscale": [
             [
              0,
              "#0d0887"
             ],
             [
              0.1111111111111111,
              "#46039f"
             ],
             [
              0.2222222222222222,
              "#7201a8"
             ],
             [
              0.3333333333333333,
              "#9c179e"
             ],
             [
              0.4444444444444444,
              "#bd3786"
             ],
             [
              0.5555555555555556,
              "#d8576b"
             ],
             [
              0.6666666666666666,
              "#ed7953"
             ],
             [
              0.7777777777777778,
              "#fb9f3a"
             ],
             [
              0.8888888888888888,
              "#fdca26"
             ],
             [
              1,
              "#f0f921"
             ]
            ],
            "type": "contour"
           }
          ],
          "contourcarpet": [
           {
            "colorbar": {
             "outlinewidth": 0,
             "ticks": ""
            },
            "type": "contourcarpet"
           }
          ],
          "heatmap": [
           {
            "colorbar": {
             "outlinewidth": 0,
             "ticks": ""
            },
            "colorscale": [
             [
              0,
              "#0d0887"
             ],
             [
              0.1111111111111111,
              "#46039f"
             ],
             [
              0.2222222222222222,
              "#7201a8"
             ],
             [
              0.3333333333333333,
              "#9c179e"
             ],
             [
              0.4444444444444444,
              "#bd3786"
             ],
             [
              0.5555555555555556,
              "#d8576b"
             ],
             [
              0.6666666666666666,
              "#ed7953"
             ],
             [
              0.7777777777777778,
              "#fb9f3a"
             ],
             [
              0.8888888888888888,
              "#fdca26"
             ],
             [
              1,
              "#f0f921"
             ]
            ],
            "type": "heatmap"
           }
          ],
          "heatmapgl": [
           {
            "colorbar": {
             "outlinewidth": 0,
             "ticks": ""
            },
            "colorscale": [
             [
              0,
              "#0d0887"
             ],
             [
              0.1111111111111111,
              "#46039f"
             ],
             [
              0.2222222222222222,
              "#7201a8"
             ],
             [
              0.3333333333333333,
              "#9c179e"
             ],
             [
              0.4444444444444444,
              "#bd3786"
             ],
             [
              0.5555555555555556,
              "#d8576b"
             ],
             [
              0.6666666666666666,
              "#ed7953"
             ],
             [
              0.7777777777777778,
              "#fb9f3a"
             ],
             [
              0.8888888888888888,
              "#fdca26"
             ],
             [
              1,
              "#f0f921"
             ]
            ],
            "type": "heatmapgl"
           }
          ],
          "histogram": [
           {
            "marker": {
             "colorbar": {
              "outlinewidth": 0,
              "ticks": ""
             }
            },
            "type": "histogram"
           }
          ],
          "histogram2d": [
           {
            "colorbar": {
             "outlinewidth": 0,
             "ticks": ""
            },
            "colorscale": [
             [
              0,
              "#0d0887"
             ],
             [
              0.1111111111111111,
              "#46039f"
             ],
             [
              0.2222222222222222,
              "#7201a8"
             ],
             [
              0.3333333333333333,
              "#9c179e"
             ],
             [
              0.4444444444444444,
              "#bd3786"
             ],
             [
              0.5555555555555556,
              "#d8576b"
             ],
             [
              0.6666666666666666,
              "#ed7953"
             ],
             [
              0.7777777777777778,
              "#fb9f3a"
             ],
             [
              0.8888888888888888,
              "#fdca26"
             ],
             [
              1,
              "#f0f921"
             ]
            ],
            "type": "histogram2d"
           }
          ],
          "histogram2dcontour": [
           {
            "colorbar": {
             "outlinewidth": 0,
             "ticks": ""
            },
            "colorscale": [
             [
              0,
              "#0d0887"
             ],
             [
              0.1111111111111111,
              "#46039f"
             ],
             [
              0.2222222222222222,
              "#7201a8"
             ],
             [
              0.3333333333333333,
              "#9c179e"
             ],
             [
              0.4444444444444444,
              "#bd3786"
             ],
             [
              0.5555555555555556,
              "#d8576b"
             ],
             [
              0.6666666666666666,
              "#ed7953"
             ],
             [
              0.7777777777777778,
              "#fb9f3a"
             ],
             [
              0.8888888888888888,
              "#fdca26"
             ],
             [
              1,
              "#f0f921"
             ]
            ],
            "type": "histogram2dcontour"
           }
          ],
          "mesh3d": [
           {
            "colorbar": {
             "outlinewidth": 0,
             "ticks": ""
            },
            "type": "mesh3d"
           }
          ],
          "parcoords": [
           {
            "line": {
             "colorbar": {
              "outlinewidth": 0,
              "ticks": ""
             }
            },
            "type": "parcoords"
           }
          ],
          "pie": [
           {
            "automargin": true,
            "type": "pie"
           }
          ],
          "scatter": [
           {
            "marker": {
             "colorbar": {
              "outlinewidth": 0,
              "ticks": ""
             }
            },
            "type": "scatter"
           }
          ],
          "scatter3d": [
           {
            "line": {
             "colorbar": {
              "outlinewidth": 0,
              "ticks": ""
             }
            },
            "marker": {
             "colorbar": {
              "outlinewidth": 0,
              "ticks": ""
             }
            },
            "type": "scatter3d"
           }
          ],
          "scattercarpet": [
           {
            "marker": {
             "colorbar": {
              "outlinewidth": 0,
              "ticks": ""
             }
            },
            "type": "scattercarpet"
           }
          ],
          "scattergeo": [
           {
            "marker": {
             "colorbar": {
              "outlinewidth": 0,
              "ticks": ""
             }
            },
            "type": "scattergeo"
           }
          ],
          "scattergl": [
           {
            "marker": {
             "colorbar": {
              "outlinewidth": 0,
              "ticks": ""
             }
            },
            "type": "scattergl"
           }
          ],
          "scattermapbox": [
           {
            "marker": {
             "colorbar": {
              "outlinewidth": 0,
              "ticks": ""
             }
            },
            "type": "scattermapbox"
           }
          ],
          "scatterpolar": [
           {
            "marker": {
             "colorbar": {
              "outlinewidth": 0,
              "ticks": ""
             }
            },
            "type": "scatterpolar"
           }
          ],
          "scatterpolargl": [
           {
            "marker": {
             "colorbar": {
              "outlinewidth": 0,
              "ticks": ""
             }
            },
            "type": "scatterpolargl"
           }
          ],
          "scatterternary": [
           {
            "marker": {
             "colorbar": {
              "outlinewidth": 0,
              "ticks": ""
             }
            },
            "type": "scatterternary"
           }
          ],
          "surface": [
           {
            "colorbar": {
             "outlinewidth": 0,
             "ticks": ""
            },
            "colorscale": [
             [
              0,
              "#0d0887"
             ],
             [
              0.1111111111111111,
              "#46039f"
             ],
             [
              0.2222222222222222,
              "#7201a8"
             ],
             [
              0.3333333333333333,
              "#9c179e"
             ],
             [
              0.4444444444444444,
              "#bd3786"
             ],
             [
              0.5555555555555556,
              "#d8576b"
             ],
             [
              0.6666666666666666,
              "#ed7953"
             ],
             [
              0.7777777777777778,
              "#fb9f3a"
             ],
             [
              0.8888888888888888,
              "#fdca26"
             ],
             [
              1,
              "#f0f921"
             ]
            ],
            "type": "surface"
           }
          ],
          "table": [
           {
            "cells": {
             "fill": {
              "color": "#EBF0F8"
             },
             "line": {
              "color": "white"
             }
            },
            "header": {
             "fill": {
              "color": "#C8D4E3"
             },
             "line": {
              "color": "white"
             }
            },
            "type": "table"
           }
          ]
         },
         "layout": {
          "annotationdefaults": {
           "arrowcolor": "#2a3f5f",
           "arrowhead": 0,
           "arrowwidth": 1
          },
          "coloraxis": {
           "colorbar": {
            "outlinewidth": 0,
            "ticks": ""
           }
          },
          "colorscale": {
           "diverging": [
            [
             0,
             "#8e0152"
            ],
            [
             0.1,
             "#c51b7d"
            ],
            [
             0.2,
             "#de77ae"
            ],
            [
             0.3,
             "#f1b6da"
            ],
            [
             0.4,
             "#fde0ef"
            ],
            [
             0.5,
             "#f7f7f7"
            ],
            [
             0.6,
             "#e6f5d0"
            ],
            [
             0.7,
             "#b8e186"
            ],
            [
             0.8,
             "#7fbc41"
            ],
            [
             0.9,
             "#4d9221"
            ],
            [
             1,
             "#276419"
            ]
           ],
           "sequential": [
            [
             0,
             "#0d0887"
            ],
            [
             0.1111111111111111,
             "#46039f"
            ],
            [
             0.2222222222222222,
             "#7201a8"
            ],
            [
             0.3333333333333333,
             "#9c179e"
            ],
            [
             0.4444444444444444,
             "#bd3786"
            ],
            [
             0.5555555555555556,
             "#d8576b"
            ],
            [
             0.6666666666666666,
             "#ed7953"
            ],
            [
             0.7777777777777778,
             "#fb9f3a"
            ],
            [
             0.8888888888888888,
             "#fdca26"
            ],
            [
             1,
             "#f0f921"
            ]
           ],
           "sequentialminus": [
            [
             0,
             "#0d0887"
            ],
            [
             0.1111111111111111,
             "#46039f"
            ],
            [
             0.2222222222222222,
             "#7201a8"
            ],
            [
             0.3333333333333333,
             "#9c179e"
            ],
            [
             0.4444444444444444,
             "#bd3786"
            ],
            [
             0.5555555555555556,
             "#d8576b"
            ],
            [
             0.6666666666666666,
             "#ed7953"
            ],
            [
             0.7777777777777778,
             "#fb9f3a"
            ],
            [
             0.8888888888888888,
             "#fdca26"
            ],
            [
             1,
             "#f0f921"
            ]
           ]
          },
          "colorway": [
           "#636efa",
           "#EF553B",
           "#00cc96",
           "#ab63fa",
           "#FFA15A",
           "#19d3f3",
           "#FF6692",
           "#B6E880",
           "#FF97FF",
           "#FECB52"
          ],
          "font": {
           "color": "#2a3f5f"
          },
          "geo": {
           "bgcolor": "white",
           "lakecolor": "white",
           "landcolor": "#E5ECF6",
           "showlakes": true,
           "showland": true,
           "subunitcolor": "white"
          },
          "hoverlabel": {
           "align": "left"
          },
          "hovermode": "closest",
          "mapbox": {
           "style": "light"
          },
          "paper_bgcolor": "white",
          "plot_bgcolor": "#E5ECF6",
          "polar": {
           "angularaxis": {
            "gridcolor": "white",
            "linecolor": "white",
            "ticks": ""
           },
           "bgcolor": "#E5ECF6",
           "radialaxis": {
            "gridcolor": "white",
            "linecolor": "white",
            "ticks": ""
           }
          },
          "scene": {
           "xaxis": {
            "backgroundcolor": "#E5ECF6",
            "gridcolor": "white",
            "gridwidth": 2,
            "linecolor": "white",
            "showbackground": true,
            "ticks": "",
            "zerolinecolor": "white"
           },
           "yaxis": {
            "backgroundcolor": "#E5ECF6",
            "gridcolor": "white",
            "gridwidth": 2,
            "linecolor": "white",
            "showbackground": true,
            "ticks": "",
            "zerolinecolor": "white"
           },
           "zaxis": {
            "backgroundcolor": "#E5ECF6",
            "gridcolor": "white",
            "gridwidth": 2,
            "linecolor": "white",
            "showbackground": true,
            "ticks": "",
            "zerolinecolor": "white"
           }
          },
          "shapedefaults": {
           "line": {
            "color": "#2a3f5f"
           }
          },
          "ternary": {
           "aaxis": {
            "gridcolor": "white",
            "linecolor": "white",
            "ticks": ""
           },
           "baxis": {
            "gridcolor": "white",
            "linecolor": "white",
            "ticks": ""
           },
           "bgcolor": "#E5ECF6",
           "caxis": {
            "gridcolor": "white",
            "linecolor": "white",
            "ticks": ""
           }
          },
          "title": {
           "x": 0.05
          },
          "xaxis": {
           "automargin": true,
           "gridcolor": "white",
           "linecolor": "white",
           "ticks": "",
           "title": {
            "standoff": 15
           },
           "zerolinecolor": "white",
           "zerolinewidth": 2
          },
          "yaxis": {
           "automargin": true,
           "gridcolor": "white",
           "linecolor": "white",
           "ticks": "",
           "title": {
            "standoff": 15
           },
           "zerolinecolor": "white",
           "zerolinewidth": 2
          }
         }
        },
        "violinmode": "group",
        "xaxis": {
         "anchor": "y",
         "categoryarray": [
          "ckd",
          "notckd"
         ],
         "categoryorder": "array",
         "domain": [
          0,
          1
         ],
         "title": {
          "text": "class"
         }
        },
        "yaxis": {
         "anchor": "x",
         "domain": [
          0,
          1
         ],
         "title": {
          "text": "bu"
         }
        }
       }
      },
      "text/html": [
       "<div>\n",
       "        \n",
       "        \n",
       "            <div id=\"b5323ff0-6541-47a5-832b-597758fb1af0\" class=\"plotly-graph-div\" style=\"height:525px; width:100%;\"></div>\n",
       "            <script type=\"text/javascript\">\n",
       "                require([\"plotly\"], function(Plotly) {\n",
       "                    window.PLOTLYENV=window.PLOTLYENV || {};\n",
       "                    \n",
       "                if (document.getElementById(\"b5323ff0-6541-47a5-832b-597758fb1af0\")) {\n",
       "                    Plotly.newPlot(\n",
       "                        'b5323ff0-6541-47a5-832b-597758fb1af0',\n",
       "                        [{\"alignmentgroup\": \"True\", \"box\": {\"visible\": true}, \"hoverlabel\": {\"namelength\": 0}, \"hovertemplate\": \"class=%{x}<br>bu=%{y}\", \"legendgroup\": \"ckd\", \"marker\": {\"color\": \"#636efa\"}, \"name\": \"ckd\", \"offsetgroup\": \"ckd\", \"orientation\": \"v\", \"scalegroup\": \"True\", \"showlegend\": true, \"type\": \"violin\", \"x\": [\"ckd\", \"ckd\", \"ckd\", \"ckd\", \"ckd\", \"ckd\", \"ckd\", \"ckd\", \"ckd\", \"ckd\", \"ckd\", \"ckd\", \"ckd\", \"ckd\", \"ckd\", \"ckd\", \"ckd\", \"ckd\", \"ckd\", \"ckd\", \"ckd\", \"ckd\", \"ckd\", \"ckd\", \"ckd\", \"ckd\", \"ckd\", \"ckd\", \"ckd\", \"ckd\", \"ckd\", \"ckd\", \"ckd\", \"ckd\", \"ckd\", \"ckd\", \"ckd\", \"ckd\", \"ckd\", \"ckd\", \"ckd\", \"ckd\", \"ckd\", \"ckd\", \"ckd\", \"ckd\", \"ckd\", \"ckd\", \"ckd\", \"ckd\", \"ckd\", \"ckd\", \"ckd\", \"ckd\", \"ckd\", \"ckd\", \"ckd\", \"ckd\", \"ckd\", \"ckd\", \"ckd\", \"ckd\", \"ckd\", \"ckd\", \"ckd\", \"ckd\", \"ckd\", \"ckd\", \"ckd\", \"ckd\", \"ckd\", \"ckd\", \"ckd\", \"ckd\", \"ckd\", \"ckd\", \"ckd\", \"ckd\", \"ckd\", \"ckd\", \"ckd\", \"ckd\", \"ckd\", \"ckd\", \"ckd\", \"ckd\", \"ckd\", \"ckd\", \"ckd\", \"ckd\", \"ckd\", \"ckd\", \"ckd\", \"ckd\", \"ckd\", \"ckd\", \"ckd\", \"ckd\", \"ckd\", \"ckd\", \"ckd\", \"ckd\", \"ckd\", \"ckd\", \"ckd\", \"ckd\", \"ckd\", \"ckd\", \"ckd\", \"ckd\", \"ckd\", \"ckd\", \"ckd\", \"ckd\", \"ckd\", \"ckd\", \"ckd\", \"ckd\", \"ckd\", \"ckd\", \"ckd\", \"ckd\", \"ckd\", \"ckd\", \"ckd\", \"ckd\", \"ckd\", \"ckd\", \"ckd\", \"ckd\", \"ckd\", \"ckd\", \"ckd\", \"ckd\", \"ckd\", \"ckd\", \"ckd\", \"ckd\", \"ckd\", \"ckd\", \"ckd\", \"ckd\", \"ckd\", \"ckd\", \"ckd\", \"ckd\", \"ckd\", \"ckd\", \"ckd\", \"ckd\", \"ckd\", \"ckd\", \"ckd\", \"ckd\", \"ckd\", \"ckd\", \"ckd\", \"ckd\", \"ckd\", \"ckd\", \"ckd\", \"ckd\", \"ckd\", \"ckd\", \"ckd\", \"ckd\", \"ckd\", \"ckd\", \"ckd\", \"ckd\", \"ckd\", \"ckd\", \"ckd\", \"ckd\", \"ckd\", \"ckd\", \"ckd\", \"ckd\", \"ckd\", \"ckd\", \"ckd\", \"ckd\", \"ckd\", \"ckd\", \"ckd\", \"ckd\", \"ckd\", \"ckd\", \"ckd\", \"ckd\", \"ckd\", \"ckd\", \"ckd\", \"ckd\", \"ckd\", \"ckd\", \"ckd\", \"ckd\", \"ckd\", \"ckd\", \"ckd\", \"ckd\", \"ckd\", \"ckd\", \"ckd\", \"ckd\", \"ckd\", \"ckd\", \"ckd\", \"ckd\", \"ckd\", \"ckd\", \"ckd\", \"ckd\", \"ckd\", \"ckd\", \"ckd\", \"ckd\", \"ckd\", \"ckd\", \"ckd\", \"ckd\", \"ckd\", \"ckd\", \"ckd\", \"ckd\", \"ckd\", \"ckd\", \"ckd\", \"ckd\", \"ckd\", \"ckd\", \"ckd\", \"ckd\", \"ckd\", \"ckd\", \"ckd\", \"ckd\", \"ckd\", \"ckd\", \"ckd\", \"ckd\", \"ckd\", \"ckd\", \"ckd\", \"ckd\", \"ckd\", \"ckd\", \"ckd\", \"ckd\"], \"x0\": \" \", \"xaxis\": \"x\", \"y\": [36.0, 18.0, 53.0, 56.0, 26.0, 25.0, 54.0, 31.0, 60.0, 107.0, 55.0, 60.0, 72.0, 86.0, 90.0, 162.0, 46.0, 87.0, 27.0, 31.0, 148.0, 180.0, 163.0, 57.4, 50.0, 75.0, 45.0, 87.0, 31.0, 28.0, 155.0, 33.0, 39.0, 55.0, 153.0, 39.0, 29.0, 65.0, 103.0, 70.0, 80.0, 20.0, 29.0, 202.0, 77.0, 89.0, 24.0, 17.0, 32.0, 72.0, 114.0, 66.0, 38.0, 24.0, 57.4, 57.4, 164.0, 155.0, 142.0, 96.0, 66.0, 391.0, 15.0, 111.0, 57.4, 20.0, 55.0, 57.4, 73.0, 20.0, 19.0, 92.0, 35.0, 107.0, 107.0, 16.0, 139.0, 48.0, 85.0, 55.0, 98.0, 45.0, 77.0, 19.0, 186.0, 46.0, 37.0, 47.0, 52.0, 32.0, 35.0, 26.0, 82.0, 90.0, 66.0, 25.0, 32.0, 51.0, 106.0, 24.0, 22.0, 80.0, 32.0, 217.0, 88.0, 32.0, 118.0, 53.0, 15.0, 50.1, 19.0, 71.0, 34.0, 57.4, 51.0, 28.0, 16.0, 36.0, 25.0, 27.0, 40.0, 21.0, 219.0, 30.0, 98.0, 36.0, 125.0, 125.0, 166.0, 49.0, 208.0, 25.0, 176.0, 125.0, 57.4, 24.0, 68.0, 86.0, 51.0, 68.0, 40.0, 106.0, 145.0, 165.0, 53.0, 322.0, 23.0, 36.0, 26.0, 29.0, 27.0, 46.0, 20.0, 235.0, 132.0, 40.0, 76.0, 42.0, 48.0, 35.0, 39.0, 57.4, 34.0, 40.0, 15.0, 57.4, 44.0, 19.0, 28.0, 68.0, 41.0, 60.0, 113.0, 1.5, 146.0, 58.0, 40.0, 133.0, 153.0, 53.0, 56.0, 52.0, 23.0, 106.0, 137.0, 23.0, 46.0, 22.0, 66.0, 58.0, 67.0, 115.0, 16.0, 223.0, 49.0, 98.6, 158.0, 111.0, 40.0, 37.0, 89.0, 94.0, 74.0, 80.0, 82.0, 28.0, 96.0, 50.0, 37.0, 57.4, 132.0, 18.0, 150.0, 73.0, 30.0, 57.4, 15.0, 61.0, 19.0, 57.0, 57.4, 30.0, 68.0, 30.0, 28.0, 95.0, 54.0, 48.0, 52.0, 191.0, 17.0, 51.0, 57.4, 20.0, 19.0, 93.0, 66.0, 53.0, 241.0, 50.0, 46.0, 45.0, 96.0, 48.0, 64.0, 79.0, 215.0, 18.0, 55.0, 309.0], \"y0\": \" \", \"yaxis\": \"y\"}, {\"alignmentgroup\": \"True\", \"box\": {\"visible\": true}, \"hoverlabel\": {\"namelength\": 0}, \"hovertemplate\": \"class=%{x}<br>bu=%{y}\", \"legendgroup\": \"notckd\", \"marker\": {\"color\": \"#EF553B\"}, \"name\": \"notckd\", \"offsetgroup\": \"notckd\", \"orientation\": \"v\", \"scalegroup\": \"True\", \"showlegend\": true, \"type\": \"violin\", \"x\": [\"notckd\", \"notckd\", \"notckd\", \"notckd\", \"notckd\", \"notckd\", \"notckd\", \"notckd\", \"notckd\", \"notckd\", \"notckd\", \"notckd\", \"notckd\", \"notckd\", \"notckd\", \"notckd\", \"notckd\", \"notckd\", \"notckd\", \"notckd\", \"notckd\", \"notckd\", \"notckd\", \"notckd\", \"notckd\", \"notckd\", \"notckd\", \"notckd\", \"notckd\", \"notckd\", \"notckd\", \"notckd\", \"notckd\", \"notckd\", \"notckd\", \"notckd\", \"notckd\", \"notckd\", \"notckd\", \"notckd\", \"notckd\", \"notckd\", \"notckd\", \"notckd\", \"notckd\", \"notckd\", \"notckd\", \"notckd\", \"notckd\", \"notckd\", \"notckd\", \"notckd\", \"notckd\", \"notckd\", \"notckd\", \"notckd\", \"notckd\", \"notckd\", \"notckd\", \"notckd\", \"notckd\", \"notckd\", \"notckd\", \"notckd\", \"notckd\", \"notckd\", \"notckd\", \"notckd\", \"notckd\", \"notckd\", \"notckd\", \"notckd\", \"notckd\", \"notckd\", \"notckd\", \"notckd\", \"notckd\", \"notckd\", \"notckd\", \"notckd\", \"notckd\", \"notckd\", \"notckd\", \"notckd\", \"notckd\", \"notckd\", \"notckd\", \"notckd\", \"notckd\", \"notckd\", \"notckd\", \"notckd\", \"notckd\", \"notckd\", \"notckd\", \"notckd\", \"notckd\", \"notckd\", \"notckd\", \"notckd\", \"notckd\", \"notckd\", \"notckd\", \"notckd\", \"notckd\", \"notckd\", \"notckd\", \"notckd\", \"notckd\", \"notckd\", \"notckd\", \"notckd\", \"notckd\", \"notckd\", \"notckd\", \"notckd\", \"notckd\", \"notckd\", \"notckd\", \"notckd\", \"notckd\", \"notckd\", \"notckd\", \"notckd\", \"notckd\", \"notckd\", \"notckd\", \"notckd\", \"notckd\", \"notckd\", \"notckd\", \"notckd\", \"notckd\", \"notckd\", \"notckd\", \"notckd\", \"notckd\", \"notckd\", \"notckd\", \"notckd\", \"notckd\", \"notckd\", \"notckd\", \"notckd\", \"notckd\", \"notckd\", \"notckd\", \"notckd\", \"notckd\", \"notckd\"], \"x0\": \" \", \"xaxis\": \"x\", \"y\": [10.0, 36.0, 49.0, 17.0, 38.0, 27.0, 10.0, 36.0, 20.0, 31.0, 38.0, 32.0, 18.0, 46.0, 24.0, 40.0, 17.0, 33.0, 49.0, 19.0, 34.0, 25.0, 15.0, 35.0, 23.0, 22.0, 57.4, 46.0, 44.0, 23.0, 33.0, 50.0, 44.0, 57.4, 37.0, 19.0, 18.0, 22.0, 46.0, 32.0, 28.0, 44.0, 42.0, 19.0, 50.0, 25.0, 38.0, 26.0, 49.0, 48.0, 26.0, 33.0, 44.0, 26.0, 38.0, 25.0, 30.0, 17.0, 46.0, 25.0, 27.0, 18.0, 57.4, 28.0, 46.0, 57.4, 30.0, 48.0, 29.0, 15.0, 49.0, 39.0, 40.0, 30.0, 15.0, 50.0, 25.0, 31.0, 29.0, 25.0, 32.0, 39.0, 33.0, 46.0, 57.4, 45.0, 27.0, 40.0, 34.0, 42.0, 29.0, 37.0, 46.0, 35.0, 27.0, 18.0, 41.0, 25.0, 19.0, 36.0, 20.0, 49.0, 47.0, 37.0, 17.0, 24.0, 38.0, 16.0, 22.0, 50.0, 39.0, 16.0, 19.0, 40.0, 44.0, 46.0, 15.0, 41.0, 42.0, 48.0, 42.0, 50.0, 26.0, 38.0, 44.0, 41.0, 16.0, 27.0, 57.4, 45.0, 23.0, 47.0, 22.0, 46.0, 18.0, 25.0, 47.0, 17.0, 15.0, 48.0, 25.0, 16.0, 48.0, 45.0, 46.0, 49.0, 31.0, 26.0, 50.0, 18.0], \"y0\": \" \", \"yaxis\": \"y\"}],\n",
       "                        {\"legend\": {\"title\": {\"text\": \"class\"}, \"tracegroupgap\": 0}, \"margin\": {\"t\": 60}, \"template\": {\"data\": {\"bar\": [{\"error_x\": {\"color\": \"#2a3f5f\"}, \"error_y\": {\"color\": \"#2a3f5f\"}, \"marker\": {\"line\": {\"color\": \"#E5ECF6\", \"width\": 0.5}}, \"type\": \"bar\"}], \"barpolar\": [{\"marker\": {\"line\": {\"color\": \"#E5ECF6\", \"width\": 0.5}}, \"type\": \"barpolar\"}], \"carpet\": [{\"aaxis\": {\"endlinecolor\": \"#2a3f5f\", \"gridcolor\": \"white\", \"linecolor\": \"white\", \"minorgridcolor\": \"white\", \"startlinecolor\": \"#2a3f5f\"}, \"baxis\": {\"endlinecolor\": \"#2a3f5f\", \"gridcolor\": \"white\", \"linecolor\": \"white\", \"minorgridcolor\": \"white\", \"startlinecolor\": \"#2a3f5f\"}, \"type\": \"carpet\"}], \"choropleth\": [{\"colorbar\": {\"outlinewidth\": 0, \"ticks\": \"\"}, \"type\": \"choropleth\"}], \"contour\": [{\"colorbar\": {\"outlinewidth\": 0, \"ticks\": \"\"}, \"colorscale\": [[0.0, \"#0d0887\"], [0.1111111111111111, \"#46039f\"], [0.2222222222222222, \"#7201a8\"], [0.3333333333333333, \"#9c179e\"], [0.4444444444444444, \"#bd3786\"], [0.5555555555555556, \"#d8576b\"], [0.6666666666666666, \"#ed7953\"], [0.7777777777777778, \"#fb9f3a\"], [0.8888888888888888, \"#fdca26\"], [1.0, \"#f0f921\"]], \"type\": \"contour\"}], \"contourcarpet\": [{\"colorbar\": {\"outlinewidth\": 0, \"ticks\": \"\"}, \"type\": \"contourcarpet\"}], \"heatmap\": [{\"colorbar\": {\"outlinewidth\": 0, \"ticks\": \"\"}, \"colorscale\": [[0.0, \"#0d0887\"], [0.1111111111111111, \"#46039f\"], [0.2222222222222222, \"#7201a8\"], [0.3333333333333333, \"#9c179e\"], [0.4444444444444444, \"#bd3786\"], [0.5555555555555556, \"#d8576b\"], [0.6666666666666666, \"#ed7953\"], [0.7777777777777778, \"#fb9f3a\"], [0.8888888888888888, \"#fdca26\"], [1.0, \"#f0f921\"]], \"type\": \"heatmap\"}], \"heatmapgl\": [{\"colorbar\": {\"outlinewidth\": 0, \"ticks\": \"\"}, \"colorscale\": [[0.0, \"#0d0887\"], [0.1111111111111111, \"#46039f\"], [0.2222222222222222, \"#7201a8\"], [0.3333333333333333, \"#9c179e\"], [0.4444444444444444, \"#bd3786\"], [0.5555555555555556, \"#d8576b\"], [0.6666666666666666, \"#ed7953\"], [0.7777777777777778, \"#fb9f3a\"], [0.8888888888888888, \"#fdca26\"], [1.0, \"#f0f921\"]], \"type\": \"heatmapgl\"}], \"histogram\": [{\"marker\": {\"colorbar\": {\"outlinewidth\": 0, \"ticks\": \"\"}}, \"type\": \"histogram\"}], \"histogram2d\": [{\"colorbar\": {\"outlinewidth\": 0, \"ticks\": \"\"}, \"colorscale\": [[0.0, \"#0d0887\"], [0.1111111111111111, \"#46039f\"], [0.2222222222222222, \"#7201a8\"], [0.3333333333333333, \"#9c179e\"], [0.4444444444444444, \"#bd3786\"], [0.5555555555555556, \"#d8576b\"], [0.6666666666666666, \"#ed7953\"], [0.7777777777777778, \"#fb9f3a\"], [0.8888888888888888, \"#fdca26\"], [1.0, \"#f0f921\"]], \"type\": \"histogram2d\"}], \"histogram2dcontour\": [{\"colorbar\": {\"outlinewidth\": 0, \"ticks\": \"\"}, \"colorscale\": [[0.0, \"#0d0887\"], [0.1111111111111111, \"#46039f\"], [0.2222222222222222, \"#7201a8\"], [0.3333333333333333, \"#9c179e\"], [0.4444444444444444, \"#bd3786\"], [0.5555555555555556, \"#d8576b\"], [0.6666666666666666, \"#ed7953\"], [0.7777777777777778, \"#fb9f3a\"], [0.8888888888888888, \"#fdca26\"], [1.0, \"#f0f921\"]], \"type\": \"histogram2dcontour\"}], \"mesh3d\": [{\"colorbar\": {\"outlinewidth\": 0, \"ticks\": \"\"}, \"type\": \"mesh3d\"}], \"parcoords\": [{\"line\": {\"colorbar\": {\"outlinewidth\": 0, \"ticks\": \"\"}}, \"type\": \"parcoords\"}], \"pie\": [{\"automargin\": true, \"type\": \"pie\"}], \"scatter\": [{\"marker\": {\"colorbar\": {\"outlinewidth\": 0, \"ticks\": \"\"}}, \"type\": \"scatter\"}], \"scatter3d\": [{\"line\": {\"colorbar\": {\"outlinewidth\": 0, \"ticks\": \"\"}}, \"marker\": {\"colorbar\": {\"outlinewidth\": 0, \"ticks\": \"\"}}, \"type\": \"scatter3d\"}], \"scattercarpet\": [{\"marker\": {\"colorbar\": {\"outlinewidth\": 0, \"ticks\": \"\"}}, \"type\": \"scattercarpet\"}], \"scattergeo\": [{\"marker\": {\"colorbar\": {\"outlinewidth\": 0, \"ticks\": \"\"}}, \"type\": \"scattergeo\"}], \"scattergl\": [{\"marker\": {\"colorbar\": {\"outlinewidth\": 0, \"ticks\": \"\"}}, \"type\": \"scattergl\"}], \"scattermapbox\": [{\"marker\": {\"colorbar\": {\"outlinewidth\": 0, \"ticks\": \"\"}}, \"type\": \"scattermapbox\"}], \"scatterpolar\": [{\"marker\": {\"colorbar\": {\"outlinewidth\": 0, \"ticks\": \"\"}}, \"type\": \"scatterpolar\"}], \"scatterpolargl\": [{\"marker\": {\"colorbar\": {\"outlinewidth\": 0, \"ticks\": \"\"}}, \"type\": \"scatterpolargl\"}], \"scatterternary\": [{\"marker\": {\"colorbar\": {\"outlinewidth\": 0, \"ticks\": \"\"}}, \"type\": \"scatterternary\"}], \"surface\": [{\"colorbar\": {\"outlinewidth\": 0, \"ticks\": \"\"}, \"colorscale\": [[0.0, \"#0d0887\"], [0.1111111111111111, \"#46039f\"], [0.2222222222222222, \"#7201a8\"], [0.3333333333333333, \"#9c179e\"], [0.4444444444444444, \"#bd3786\"], [0.5555555555555556, \"#d8576b\"], [0.6666666666666666, \"#ed7953\"], [0.7777777777777778, \"#fb9f3a\"], [0.8888888888888888, \"#fdca26\"], [1.0, \"#f0f921\"]], \"type\": \"surface\"}], \"table\": [{\"cells\": {\"fill\": {\"color\": \"#EBF0F8\"}, \"line\": {\"color\": \"white\"}}, \"header\": {\"fill\": {\"color\": \"#C8D4E3\"}, \"line\": {\"color\": \"white\"}}, \"type\": \"table\"}]}, \"layout\": {\"annotationdefaults\": {\"arrowcolor\": \"#2a3f5f\", \"arrowhead\": 0, \"arrowwidth\": 1}, \"coloraxis\": {\"colorbar\": {\"outlinewidth\": 0, \"ticks\": \"\"}}, \"colorscale\": {\"diverging\": [[0, \"#8e0152\"], [0.1, \"#c51b7d\"], [0.2, \"#de77ae\"], [0.3, \"#f1b6da\"], [0.4, \"#fde0ef\"], [0.5, \"#f7f7f7\"], [0.6, \"#e6f5d0\"], [0.7, \"#b8e186\"], [0.8, \"#7fbc41\"], [0.9, \"#4d9221\"], [1, \"#276419\"]], \"sequential\": [[0.0, \"#0d0887\"], [0.1111111111111111, \"#46039f\"], [0.2222222222222222, \"#7201a8\"], [0.3333333333333333, \"#9c179e\"], [0.4444444444444444, \"#bd3786\"], [0.5555555555555556, \"#d8576b\"], [0.6666666666666666, \"#ed7953\"], [0.7777777777777778, \"#fb9f3a\"], [0.8888888888888888, \"#fdca26\"], [1.0, \"#f0f921\"]], \"sequentialminus\": [[0.0, \"#0d0887\"], [0.1111111111111111, \"#46039f\"], [0.2222222222222222, \"#7201a8\"], [0.3333333333333333, \"#9c179e\"], [0.4444444444444444, \"#bd3786\"], [0.5555555555555556, \"#d8576b\"], [0.6666666666666666, \"#ed7953\"], [0.7777777777777778, \"#fb9f3a\"], [0.8888888888888888, \"#fdca26\"], [1.0, \"#f0f921\"]]}, \"colorway\": [\"#636efa\", \"#EF553B\", \"#00cc96\", \"#ab63fa\", \"#FFA15A\", \"#19d3f3\", \"#FF6692\", \"#B6E880\", \"#FF97FF\", \"#FECB52\"], \"font\": {\"color\": \"#2a3f5f\"}, \"geo\": {\"bgcolor\": \"white\", \"lakecolor\": \"white\", \"landcolor\": \"#E5ECF6\", \"showlakes\": true, \"showland\": true, \"subunitcolor\": \"white\"}, \"hoverlabel\": {\"align\": \"left\"}, \"hovermode\": \"closest\", \"mapbox\": {\"style\": \"light\"}, \"paper_bgcolor\": \"white\", \"plot_bgcolor\": \"#E5ECF6\", \"polar\": {\"angularaxis\": {\"gridcolor\": \"white\", \"linecolor\": \"white\", \"ticks\": \"\"}, \"bgcolor\": \"#E5ECF6\", \"radialaxis\": {\"gridcolor\": \"white\", \"linecolor\": \"white\", \"ticks\": \"\"}}, \"scene\": {\"xaxis\": {\"backgroundcolor\": \"#E5ECF6\", \"gridcolor\": \"white\", \"gridwidth\": 2, \"linecolor\": \"white\", \"showbackground\": true, \"ticks\": \"\", \"zerolinecolor\": \"white\"}, \"yaxis\": {\"backgroundcolor\": \"#E5ECF6\", \"gridcolor\": \"white\", \"gridwidth\": 2, \"linecolor\": \"white\", \"showbackground\": true, \"ticks\": \"\", \"zerolinecolor\": \"white\"}, \"zaxis\": {\"backgroundcolor\": \"#E5ECF6\", \"gridcolor\": \"white\", \"gridwidth\": 2, \"linecolor\": \"white\", \"showbackground\": true, \"ticks\": \"\", \"zerolinecolor\": \"white\"}}, \"shapedefaults\": {\"line\": {\"color\": \"#2a3f5f\"}}, \"ternary\": {\"aaxis\": {\"gridcolor\": \"white\", \"linecolor\": \"white\", \"ticks\": \"\"}, \"baxis\": {\"gridcolor\": \"white\", \"linecolor\": \"white\", \"ticks\": \"\"}, \"bgcolor\": \"#E5ECF6\", \"caxis\": {\"gridcolor\": \"white\", \"linecolor\": \"white\", \"ticks\": \"\"}}, \"title\": {\"x\": 0.05}, \"xaxis\": {\"automargin\": true, \"gridcolor\": \"white\", \"linecolor\": \"white\", \"ticks\": \"\", \"title\": {\"standoff\": 15}, \"zerolinecolor\": \"white\", \"zerolinewidth\": 2}, \"yaxis\": {\"automargin\": true, \"gridcolor\": \"white\", \"linecolor\": \"white\", \"ticks\": \"\", \"title\": {\"standoff\": 15}, \"zerolinecolor\": \"white\", \"zerolinewidth\": 2}}}, \"violinmode\": \"group\", \"xaxis\": {\"anchor\": \"y\", \"categoryarray\": [\"ckd\", \"notckd\"], \"categoryorder\": \"array\", \"domain\": [0.0, 1.0], \"title\": {\"text\": \"class\"}}, \"yaxis\": {\"anchor\": \"x\", \"domain\": [0.0, 1.0], \"title\": {\"text\": \"bu\"}}},\n",
       "                        {\"responsive\": true}\n",
       "                    ).then(function(){\n",
       "                            \n",
       "var gd = document.getElementById('b5323ff0-6541-47a5-832b-597758fb1af0');\n",
       "var x = new MutationObserver(function (mutations, observer) {{\n",
       "        var display = window.getComputedStyle(gd).display;\n",
       "        if (!display || display === 'none') {{\n",
       "            console.log([gd, 'removed!']);\n",
       "            Plotly.purge(gd);\n",
       "            observer.disconnect();\n",
       "        }}\n",
       "}});\n",
       "\n",
       "// Listen for the removal of the full notebook cells\n",
       "var notebookContainer = gd.closest('#notebook-container');\n",
       "if (notebookContainer) {{\n",
       "    x.observe(notebookContainer, {childList: true});\n",
       "}}\n",
       "\n",
       "// Listen for the clearing of the current output cell\n",
       "var outputEl = gd.closest('.output');\n",
       "if (outputEl) {{\n",
       "    x.observe(outputEl, {childList: true});\n",
       "}}\n",
       "\n",
       "                        })\n",
       "                };\n",
       "                });\n",
       "            </script>\n",
       "        </div>"
      ]
     },
     "metadata": {},
     "output_type": "display_data"
    }
   ],
   "source": [
    "import plotly.express as px\n",
    "fig = px.violin(ckd_copy, y='bu', x=\"class\", color=\"class\", box=True, template = None)\n",
    "fig.show()"
   ]
  },
  {
   "cell_type": "markdown",
   "metadata": {},
   "source": [
    "# Working on sc - serum creatinine "
   ]
  },
  {
   "cell_type": "code",
   "execution_count": 599,
   "metadata": {
    "scrolled": true
   },
   "outputs": [
    {
     "data": {
      "text/plain": [
       "array(['1.2', '0.8', '1.8', '3.8', '1.4', '1.1', '24', '1.9', '7.2', '4',\n",
       "       '2.7', '2.1', '4.6', '4.1', '9.6', '2.2', '5.2', '1.3', '1.6',\n",
       "       '3.9', '76', '7.7', '?', '2.4', '7.3', '1.5', '2.5', '2', '3.4',\n",
       "       '0.7', '1', '10.8', '6.3', '5.9', '0.9', '3', '3.25', '9.7', '6.4',\n",
       "       '3.2', '32', '0.6', '6.1', '3.3', '6.7', '8.5', '2.8', '15', '2.9',\n",
       "       '1.7', '3.6', '5.6', '6.5', '4.4', '10.2', '11.5', '0.5', '12.2',\n",
       "       '5.3', '9.2', '13.8', '16.9', '6', '7.1', '18', '2.3', '13',\n",
       "       '48.1', '14.2', '16.4', '2.6', '7.5', '4.3', '18.1', '11.8', '9.3',\n",
       "       '6.8', '13.5', '12.8', '11.9', '12', '13.4', '15.2', '13.3', '0.4'],\n",
       "      dtype=object)"
      ]
     },
     "execution_count": 599,
     "metadata": {},
     "output_type": "execute_result"
    }
   ],
   "source": [
    "ckd_copy['sc'].unique()"
   ]
  },
  {
   "cell_type": "markdown",
   "metadata": {},
   "source": [
    "#Normal range for sc is 0.59 to 1.35 mg/dl \n",
    "#We observe that some values are above 10 and max is 76. \n",
    "#These seems to be outliers and incorrect values or captured in mm/L so we perform convert of these values"
   ]
  },
  {
   "cell_type": "code",
   "execution_count": 604,
   "metadata": {},
   "outputs": [
    {
     "data": {
      "application/vnd.plotly.v1+json": {
       "config": {
        "plotlyServerURL": "https://plot.ly"
       },
       "data": [
        {
         "alignmentgroup": "True",
         "box": {
          "visible": true
         },
         "hoverlabel": {
          "namelength": 0
         },
         "hovertemplate": "class=%{x}<br>sc=%{y}",
         "legendgroup": "ckd",
         "marker": {
          "color": "#636efa"
         },
         "name": "ckd",
         "offsetgroup": "ckd",
         "orientation": "v",
         "scalegroup": "True",
         "showlegend": true,
         "type": "violin",
         "x": [
          "ckd",
          "ckd",
          "ckd",
          "ckd",
          "ckd",
          "ckd",
          "ckd",
          "ckd",
          "ckd",
          "ckd",
          "ckd",
          "ckd",
          "ckd",
          "ckd",
          "ckd",
          "ckd",
          "ckd",
          "ckd",
          "ckd",
          "ckd",
          "ckd",
          "ckd",
          "ckd",
          "ckd",
          "ckd",
          "ckd",
          "ckd",
          "ckd",
          "ckd",
          "ckd",
          "ckd",
          "ckd",
          "ckd",
          "ckd",
          "ckd",
          "ckd",
          "ckd",
          "ckd",
          "ckd",
          "ckd",
          "ckd",
          "ckd",
          "ckd",
          "ckd",
          "ckd",
          "ckd",
          "ckd",
          "ckd",
          "ckd",
          "ckd",
          "ckd",
          "ckd",
          "ckd",
          "ckd",
          "ckd",
          "ckd",
          "ckd",
          "ckd",
          "ckd",
          "ckd",
          "ckd",
          "ckd",
          "ckd",
          "ckd",
          "ckd",
          "ckd",
          "ckd",
          "ckd",
          "ckd",
          "ckd",
          "ckd",
          "ckd",
          "ckd",
          "ckd",
          "ckd",
          "ckd",
          "ckd",
          "ckd",
          "ckd",
          "ckd",
          "ckd",
          "ckd",
          "ckd",
          "ckd",
          "ckd",
          "ckd",
          "ckd",
          "ckd",
          "ckd",
          "ckd",
          "ckd",
          "ckd",
          "ckd",
          "ckd",
          "ckd",
          "ckd",
          "ckd",
          "ckd",
          "ckd",
          "ckd",
          "ckd",
          "ckd",
          "ckd",
          "ckd",
          "ckd",
          "ckd",
          "ckd",
          "ckd",
          "ckd",
          "ckd",
          "ckd",
          "ckd",
          "ckd",
          "ckd",
          "ckd",
          "ckd",
          "ckd",
          "ckd",
          "ckd",
          "ckd",
          "ckd",
          "ckd",
          "ckd",
          "ckd",
          "ckd",
          "ckd",
          "ckd",
          "ckd",
          "ckd",
          "ckd",
          "ckd",
          "ckd",
          "ckd",
          "ckd",
          "ckd",
          "ckd",
          "ckd",
          "ckd",
          "ckd",
          "ckd",
          "ckd",
          "ckd",
          "ckd",
          "ckd",
          "ckd",
          "ckd",
          "ckd",
          "ckd",
          "ckd",
          "ckd",
          "ckd",
          "ckd",
          "ckd",
          "ckd",
          "ckd",
          "ckd",
          "ckd",
          "ckd",
          "ckd",
          "ckd",
          "ckd",
          "ckd",
          "ckd",
          "ckd",
          "ckd",
          "ckd",
          "ckd",
          "ckd",
          "ckd",
          "ckd",
          "ckd",
          "ckd",
          "ckd",
          "ckd",
          "ckd",
          "ckd",
          "ckd",
          "ckd",
          "ckd",
          "ckd",
          "ckd",
          "ckd",
          "ckd",
          "ckd",
          "ckd",
          "ckd",
          "ckd",
          "ckd",
          "ckd",
          "ckd",
          "ckd",
          "ckd",
          "ckd",
          "ckd",
          "ckd",
          "ckd",
          "ckd",
          "ckd",
          "ckd",
          "ckd",
          "ckd",
          "ckd",
          "ckd",
          "ckd",
          "ckd",
          "ckd",
          "ckd",
          "ckd",
          "ckd",
          "ckd",
          "ckd",
          "ckd",
          "ckd",
          "ckd",
          "ckd",
          "ckd",
          "ckd",
          "ckd",
          "ckd",
          "ckd",
          "ckd",
          "ckd",
          "ckd",
          "ckd",
          "ckd",
          "ckd",
          "ckd",
          "ckd",
          "ckd",
          "ckd",
          "ckd",
          "ckd",
          "ckd",
          "ckd",
          "ckd",
          "ckd",
          "ckd",
          "ckd",
          "ckd",
          "ckd",
          "ckd",
          "ckd",
          "ckd",
          "ckd",
          "ckd",
          "ckd",
          "ckd",
          "ckd",
          "ckd",
          "ckd"
         ],
         "x0": " ",
         "xaxis": "x",
         "y": [
          "1.2",
          "0.8",
          "1.8",
          "3.8",
          "1.4",
          "1.1",
          "24",
          "1.1",
          "1.9",
          "7.2",
          "4",
          "2.7",
          "2.1",
          "4.6",
          "4.1",
          "9.6",
          "2.2",
          "5.2",
          "1.3",
          "1.6",
          "3.9",
          "76",
          "7.7",
          "?",
          "1.4",
          "1.9",
          "2.4",
          "2.7",
          "1.4",
          "1.4",
          "7.3",
          "1.5",
          "1.5",
          "2.5",
          "5.2",
          "2",
          "1.8",
          "3.4",
          "4.1",
          "3.4",
          "2.1",
          "0.7",
          "1",
          "10.8",
          "6.3",
          "5.9",
          "1.2",
          "0.8",
          "0.9",
          "3",
          "3.25",
          "1.6",
          "2.2",
          "1",
          "3.4",
          "?",
          "9.7",
          "7.3",
          "4.6",
          "6.4",
          "3.2",
          "32",
          "0.6",
          "6.1",
          "?",
          "1.1",
          "1.6",
          "?",
          "3.3",
          "1.1",
          "0.7",
          "3.3",
          "1.3",
          "6.7",
          "6.7",
          "0.7",
          "8.5",
          "3.2",
          "3.2",
          "1.8",
          "2.8",
          "2.4",
          "1.9",
          "1",
          "15",
          "1.5",
          "1.9",
          "2.9",
          "2.2",
          "1.4",
          "3.2",
          "1.7",
          "3.6",
          "5.6",
          "1.6",
          "1.1",
          "2.7",
          "2.2",
          "6.5",
          "1.2",
          "0.9",
          "4.4",
          "2.1",
          "10.2",
          "2",
          "11.5",
          "6.1",
          "2.8",
          "1",
          "1.9",
          "2",
          "4.4",
          "1.2",
          "?",
          "1.8",
          "0.9",
          "0.5",
          "1.3",
          "1.2",
          "1.2",
          "2.2",
          "1.3",
          "12.2",
          "1.1",
          "2.5",
          "2.5",
          "4",
          "5.3",
          "5.6",
          "1.4",
          "9.2",
          "0.6",
          "13.8",
          "5.3",
          "16.9",
          "1.3",
          "2.8",
          "4",
          "1.6",
          "2.8",
          "1.2",
          "6",
          "7.1",
          "18",
          "2.3",
          "13",
          "1",
          "1.7",
          "48.1",
          "1",
          "0.9",
          "1.7",
          "0.8",
          "14.2",
          "16.4",
          "1.8",
          "3.3",
          "1.7",
          "1.5",
          "1.3",
          "2.1",
          "?",
          "1.5",
          "2",
          "0.8",
          "?",
          "3.9",
          "0.9",
          "1.5",
          "2.8",
          "1.7",
          "2.6",
          "2.9",
          "7.3",
          "7.5",
          "2.2",
          "1.7",
          "2.5",
          "2.7",
          "2.3",
          "1.9",
          "2.2",
          "0.8",
          "6.5",
          "3.3",
          "0.6",
          "1",
          "0.7",
          "2.5",
          "4.3",
          "1",
          "6",
          "0.9",
          "18.1",
          "1.2",
          "3.3",
          "11.8",
          "9.3",
          "3.2",
          "1.5",
          "3",
          "7.3",
          "2.9",
          "6.8",
          "13.5",
          "2.1",
          "3.9",
          "2.2",
          "1.5",
          "?",
          "12.8",
          "1.2",
          "11.9",
          "3.9",
          "1",
          "?",
          "?",
          "1.8",
          "0.8",
          "2.5",
          "?",
          "1.7",
          "1.8",
          "1.3",
          "2.2",
          "2.7",
          "7.2",
          "1.6",
          "2.5",
          "12",
          "1.7",
          "2.8",
          "?",
          "1.6",
          "1.3",
          "2.3",
          "2",
          "2.2",
          "13.4",
          "1.6",
          "1.4",
          "1.5",
          "6.3",
          "2.4",
          "2.8",
          "5.3",
          "15.2",
          "1.2",
          "1.7",
          "13.3"
         ],
         "y0": " ",
         "yaxis": "y"
        },
        {
         "alignmentgroup": "True",
         "box": {
          "visible": true
         },
         "hoverlabel": {
          "namelength": 0
         },
         "hovertemplate": "class=%{x}<br>sc=%{y}",
         "legendgroup": "notckd",
         "marker": {
          "color": "#EF553B"
         },
         "name": "notckd",
         "offsetgroup": "notckd",
         "orientation": "v",
         "scalegroup": "True",
         "showlegend": true,
         "type": "violin",
         "x": [
          "notckd",
          "notckd",
          "notckd",
          "notckd",
          "notckd",
          "notckd",
          "notckd",
          "notckd",
          "notckd",
          "notckd",
          "notckd",
          "notckd",
          "notckd",
          "notckd",
          "notckd",
          "notckd",
          "notckd",
          "notckd",
          "notckd",
          "notckd",
          "notckd",
          "notckd",
          "notckd",
          "notckd",
          "notckd",
          "notckd",
          "notckd",
          "notckd",
          "notckd",
          "notckd",
          "notckd",
          "notckd",
          "notckd",
          "notckd",
          "notckd",
          "notckd",
          "notckd",
          "notckd",
          "notckd",
          "notckd",
          "notckd",
          "notckd",
          "notckd",
          "notckd",
          "notckd",
          "notckd",
          "notckd",
          "notckd",
          "notckd",
          "notckd",
          "notckd",
          "notckd",
          "notckd",
          "notckd",
          "notckd",
          "notckd",
          "notckd",
          "notckd",
          "notckd",
          "notckd",
          "notckd",
          "notckd",
          "notckd",
          "notckd",
          "notckd",
          "notckd",
          "notckd",
          "notckd",
          "notckd",
          "notckd",
          "notckd",
          "notckd",
          "notckd",
          "notckd",
          "notckd",
          "notckd",
          "notckd",
          "notckd",
          "notckd",
          "notckd",
          "notckd",
          "notckd",
          "notckd",
          "notckd",
          "notckd",
          "notckd",
          "notckd",
          "notckd",
          "notckd",
          "notckd",
          "notckd",
          "notckd",
          "notckd",
          "notckd",
          "notckd",
          "notckd",
          "notckd",
          "notckd",
          "notckd",
          "notckd",
          "notckd",
          "notckd",
          "notckd",
          "notckd",
          "notckd",
          "notckd",
          "notckd",
          "notckd",
          "notckd",
          "notckd",
          "notckd",
          "notckd",
          "notckd",
          "notckd",
          "notckd",
          "notckd",
          "notckd",
          "notckd",
          "notckd",
          "notckd",
          "notckd",
          "notckd",
          "notckd",
          "notckd",
          "notckd",
          "notckd",
          "notckd",
          "notckd",
          "notckd",
          "notckd",
          "notckd",
          "notckd",
          "notckd",
          "notckd",
          "notckd",
          "notckd",
          "notckd",
          "notckd",
          "notckd",
          "notckd",
          "notckd",
          "notckd",
          "notckd",
          "notckd",
          "notckd",
          "notckd",
          "notckd",
          "notckd",
          "notckd",
          "notckd"
         ],
         "x0": " ",
         "xaxis": "x",
         "y": [
          "1.2",
          "1",
          "0.6",
          "1.2",
          "0.8",
          "1.2",
          "0.5",
          "0.7",
          "0.5",
          "1.2",
          "1",
          "1.2",
          "0.9",
          "1.2",
          "0.7",
          "0.6",
          "1.2",
          "0.9",
          "1",
          "1.2",
          "1.1",
          "0.5",
          "1.2",
          "0.9",
          "0.7",
          "1.2",
          "?",
          "1",
          "1.2",
          "0.6",
          "0.9",
          "1.2",
          "1",
          "?",
          "1.2",
          "0.7",
          "0.8",
          "0.6",
          "1.2",
          "0.9",
          "0.6",
          "1",
          "0.5",
          "1.2",
          "0.7",
          "0.9",
          "0.6",
          "1",
          "1.2",
          "0.5",
          "0.7",
          "0.9",
          "1.2",
          "1.1",
          "0.6",
          "0.8",
          "1.2",
          "0.5",
          "0.6",
          "1.2",
          "0.7",
          "1.1",
          "?",
          "0.9",
          "0.6",
          "?",
          "0.5",
          "1.2",
          "0.7",
          "1.1",
          "1.2",
          "1",
          "0.5",
          "1.1",
          "0.7",
          "1.2",
          "1.1",
          "0.8",
          "0.6",
          "0.9",
          "1.1",
          "0.7",
          "1",
          "1.2",
          "?",
          "0.5",
          "0.5",
          "0.9",
          "0.8",
          "0.5",
          "1.1",
          "0.9",
          "0.5",
          "0.8",
          "0.7",
          "1.2",
          "0.9",
          "1",
          "0.5",
          "1.1",
          "1",
          "0.9",
          "1.1",
          "0.6",
          "0.4",
          "0.8",
          "0.5",
          "1.1",
          "1.2",
          "0.6",
          "0.5",
          "0.7",
          "1.1",
          "0.5",
          "0.7",
          "1",
          "0.5",
          "1.1",
          "0.7",
          "0.8",
          "1.2",
          "0.5",
          "0.9",
          "1",
          "1.2",
          "0.5",
          "1.1",
          "0.7",
          "0.9",
          "0.6",
          "1.1",
          "0.5",
          "0.8",
          "0.7",
          "1.1",
          "0.6",
          "0.5",
          "0.9",
          "1.2",
          "0.7",
          "0.8",
          "1.1",
          "1.2",
          "0.7",
          "0.8",
          "0.5",
          "1.2",
          "0.6",
          "1",
          "1.1"
         ],
         "y0": " ",
         "yaxis": "y"
        }
       ],
       "layout": {
        "legend": {
         "title": {
          "text": "class"
         },
         "tracegroupgap": 0
        },
        "margin": {
         "t": 60
        },
        "template": {
         "data": {
          "bar": [
           {
            "error_x": {
             "color": "#2a3f5f"
            },
            "error_y": {
             "color": "#2a3f5f"
            },
            "marker": {
             "line": {
              "color": "#E5ECF6",
              "width": 0.5
             }
            },
            "type": "bar"
           }
          ],
          "barpolar": [
           {
            "marker": {
             "line": {
              "color": "#E5ECF6",
              "width": 0.5
             }
            },
            "type": "barpolar"
           }
          ],
          "carpet": [
           {
            "aaxis": {
             "endlinecolor": "#2a3f5f",
             "gridcolor": "white",
             "linecolor": "white",
             "minorgridcolor": "white",
             "startlinecolor": "#2a3f5f"
            },
            "baxis": {
             "endlinecolor": "#2a3f5f",
             "gridcolor": "white",
             "linecolor": "white",
             "minorgridcolor": "white",
             "startlinecolor": "#2a3f5f"
            },
            "type": "carpet"
           }
          ],
          "choropleth": [
           {
            "colorbar": {
             "outlinewidth": 0,
             "ticks": ""
            },
            "type": "choropleth"
           }
          ],
          "contour": [
           {
            "colorbar": {
             "outlinewidth": 0,
             "ticks": ""
            },
            "colorscale": [
             [
              0,
              "#0d0887"
             ],
             [
              0.1111111111111111,
              "#46039f"
             ],
             [
              0.2222222222222222,
              "#7201a8"
             ],
             [
              0.3333333333333333,
              "#9c179e"
             ],
             [
              0.4444444444444444,
              "#bd3786"
             ],
             [
              0.5555555555555556,
              "#d8576b"
             ],
             [
              0.6666666666666666,
              "#ed7953"
             ],
             [
              0.7777777777777778,
              "#fb9f3a"
             ],
             [
              0.8888888888888888,
              "#fdca26"
             ],
             [
              1,
              "#f0f921"
             ]
            ],
            "type": "contour"
           }
          ],
          "contourcarpet": [
           {
            "colorbar": {
             "outlinewidth": 0,
             "ticks": ""
            },
            "type": "contourcarpet"
           }
          ],
          "heatmap": [
           {
            "colorbar": {
             "outlinewidth": 0,
             "ticks": ""
            },
            "colorscale": [
             [
              0,
              "#0d0887"
             ],
             [
              0.1111111111111111,
              "#46039f"
             ],
             [
              0.2222222222222222,
              "#7201a8"
             ],
             [
              0.3333333333333333,
              "#9c179e"
             ],
             [
              0.4444444444444444,
              "#bd3786"
             ],
             [
              0.5555555555555556,
              "#d8576b"
             ],
             [
              0.6666666666666666,
              "#ed7953"
             ],
             [
              0.7777777777777778,
              "#fb9f3a"
             ],
             [
              0.8888888888888888,
              "#fdca26"
             ],
             [
              1,
              "#f0f921"
             ]
            ],
            "type": "heatmap"
           }
          ],
          "heatmapgl": [
           {
            "colorbar": {
             "outlinewidth": 0,
             "ticks": ""
            },
            "colorscale": [
             [
              0,
              "#0d0887"
             ],
             [
              0.1111111111111111,
              "#46039f"
             ],
             [
              0.2222222222222222,
              "#7201a8"
             ],
             [
              0.3333333333333333,
              "#9c179e"
             ],
             [
              0.4444444444444444,
              "#bd3786"
             ],
             [
              0.5555555555555556,
              "#d8576b"
             ],
             [
              0.6666666666666666,
              "#ed7953"
             ],
             [
              0.7777777777777778,
              "#fb9f3a"
             ],
             [
              0.8888888888888888,
              "#fdca26"
             ],
             [
              1,
              "#f0f921"
             ]
            ],
            "type": "heatmapgl"
           }
          ],
          "histogram": [
           {
            "marker": {
             "colorbar": {
              "outlinewidth": 0,
              "ticks": ""
             }
            },
            "type": "histogram"
           }
          ],
          "histogram2d": [
           {
            "colorbar": {
             "outlinewidth": 0,
             "ticks": ""
            },
            "colorscale": [
             [
              0,
              "#0d0887"
             ],
             [
              0.1111111111111111,
              "#46039f"
             ],
             [
              0.2222222222222222,
              "#7201a8"
             ],
             [
              0.3333333333333333,
              "#9c179e"
             ],
             [
              0.4444444444444444,
              "#bd3786"
             ],
             [
              0.5555555555555556,
              "#d8576b"
             ],
             [
              0.6666666666666666,
              "#ed7953"
             ],
             [
              0.7777777777777778,
              "#fb9f3a"
             ],
             [
              0.8888888888888888,
              "#fdca26"
             ],
             [
              1,
              "#f0f921"
             ]
            ],
            "type": "histogram2d"
           }
          ],
          "histogram2dcontour": [
           {
            "colorbar": {
             "outlinewidth": 0,
             "ticks": ""
            },
            "colorscale": [
             [
              0,
              "#0d0887"
             ],
             [
              0.1111111111111111,
              "#46039f"
             ],
             [
              0.2222222222222222,
              "#7201a8"
             ],
             [
              0.3333333333333333,
              "#9c179e"
             ],
             [
              0.4444444444444444,
              "#bd3786"
             ],
             [
              0.5555555555555556,
              "#d8576b"
             ],
             [
              0.6666666666666666,
              "#ed7953"
             ],
             [
              0.7777777777777778,
              "#fb9f3a"
             ],
             [
              0.8888888888888888,
              "#fdca26"
             ],
             [
              1,
              "#f0f921"
             ]
            ],
            "type": "histogram2dcontour"
           }
          ],
          "mesh3d": [
           {
            "colorbar": {
             "outlinewidth": 0,
             "ticks": ""
            },
            "type": "mesh3d"
           }
          ],
          "parcoords": [
           {
            "line": {
             "colorbar": {
              "outlinewidth": 0,
              "ticks": ""
             }
            },
            "type": "parcoords"
           }
          ],
          "pie": [
           {
            "automargin": true,
            "type": "pie"
           }
          ],
          "scatter": [
           {
            "marker": {
             "colorbar": {
              "outlinewidth": 0,
              "ticks": ""
             }
            },
            "type": "scatter"
           }
          ],
          "scatter3d": [
           {
            "line": {
             "colorbar": {
              "outlinewidth": 0,
              "ticks": ""
             }
            },
            "marker": {
             "colorbar": {
              "outlinewidth": 0,
              "ticks": ""
             }
            },
            "type": "scatter3d"
           }
          ],
          "scattercarpet": [
           {
            "marker": {
             "colorbar": {
              "outlinewidth": 0,
              "ticks": ""
             }
            },
            "type": "scattercarpet"
           }
          ],
          "scattergeo": [
           {
            "marker": {
             "colorbar": {
              "outlinewidth": 0,
              "ticks": ""
             }
            },
            "type": "scattergeo"
           }
          ],
          "scattergl": [
           {
            "marker": {
             "colorbar": {
              "outlinewidth": 0,
              "ticks": ""
             }
            },
            "type": "scattergl"
           }
          ],
          "scattermapbox": [
           {
            "marker": {
             "colorbar": {
              "outlinewidth": 0,
              "ticks": ""
             }
            },
            "type": "scattermapbox"
           }
          ],
          "scatterpolar": [
           {
            "marker": {
             "colorbar": {
              "outlinewidth": 0,
              "ticks": ""
             }
            },
            "type": "scatterpolar"
           }
          ],
          "scatterpolargl": [
           {
            "marker": {
             "colorbar": {
              "outlinewidth": 0,
              "ticks": ""
             }
            },
            "type": "scatterpolargl"
           }
          ],
          "scatterternary": [
           {
            "marker": {
             "colorbar": {
              "outlinewidth": 0,
              "ticks": ""
             }
            },
            "type": "scatterternary"
           }
          ],
          "surface": [
           {
            "colorbar": {
             "outlinewidth": 0,
             "ticks": ""
            },
            "colorscale": [
             [
              0,
              "#0d0887"
             ],
             [
              0.1111111111111111,
              "#46039f"
             ],
             [
              0.2222222222222222,
              "#7201a8"
             ],
             [
              0.3333333333333333,
              "#9c179e"
             ],
             [
              0.4444444444444444,
              "#bd3786"
             ],
             [
              0.5555555555555556,
              "#d8576b"
             ],
             [
              0.6666666666666666,
              "#ed7953"
             ],
             [
              0.7777777777777778,
              "#fb9f3a"
             ],
             [
              0.8888888888888888,
              "#fdca26"
             ],
             [
              1,
              "#f0f921"
             ]
            ],
            "type": "surface"
           }
          ],
          "table": [
           {
            "cells": {
             "fill": {
              "color": "#EBF0F8"
             },
             "line": {
              "color": "white"
             }
            },
            "header": {
             "fill": {
              "color": "#C8D4E3"
             },
             "line": {
              "color": "white"
             }
            },
            "type": "table"
           }
          ]
         },
         "layout": {
          "annotationdefaults": {
           "arrowcolor": "#2a3f5f",
           "arrowhead": 0,
           "arrowwidth": 1
          },
          "coloraxis": {
           "colorbar": {
            "outlinewidth": 0,
            "ticks": ""
           }
          },
          "colorscale": {
           "diverging": [
            [
             0,
             "#8e0152"
            ],
            [
             0.1,
             "#c51b7d"
            ],
            [
             0.2,
             "#de77ae"
            ],
            [
             0.3,
             "#f1b6da"
            ],
            [
             0.4,
             "#fde0ef"
            ],
            [
             0.5,
             "#f7f7f7"
            ],
            [
             0.6,
             "#e6f5d0"
            ],
            [
             0.7,
             "#b8e186"
            ],
            [
             0.8,
             "#7fbc41"
            ],
            [
             0.9,
             "#4d9221"
            ],
            [
             1,
             "#276419"
            ]
           ],
           "sequential": [
            [
             0,
             "#0d0887"
            ],
            [
             0.1111111111111111,
             "#46039f"
            ],
            [
             0.2222222222222222,
             "#7201a8"
            ],
            [
             0.3333333333333333,
             "#9c179e"
            ],
            [
             0.4444444444444444,
             "#bd3786"
            ],
            [
             0.5555555555555556,
             "#d8576b"
            ],
            [
             0.6666666666666666,
             "#ed7953"
            ],
            [
             0.7777777777777778,
             "#fb9f3a"
            ],
            [
             0.8888888888888888,
             "#fdca26"
            ],
            [
             1,
             "#f0f921"
            ]
           ],
           "sequentialminus": [
            [
             0,
             "#0d0887"
            ],
            [
             0.1111111111111111,
             "#46039f"
            ],
            [
             0.2222222222222222,
             "#7201a8"
            ],
            [
             0.3333333333333333,
             "#9c179e"
            ],
            [
             0.4444444444444444,
             "#bd3786"
            ],
            [
             0.5555555555555556,
             "#d8576b"
            ],
            [
             0.6666666666666666,
             "#ed7953"
            ],
            [
             0.7777777777777778,
             "#fb9f3a"
            ],
            [
             0.8888888888888888,
             "#fdca26"
            ],
            [
             1,
             "#f0f921"
            ]
           ]
          },
          "colorway": [
           "#636efa",
           "#EF553B",
           "#00cc96",
           "#ab63fa",
           "#FFA15A",
           "#19d3f3",
           "#FF6692",
           "#B6E880",
           "#FF97FF",
           "#FECB52"
          ],
          "font": {
           "color": "#2a3f5f"
          },
          "geo": {
           "bgcolor": "white",
           "lakecolor": "white",
           "landcolor": "#E5ECF6",
           "showlakes": true,
           "showland": true,
           "subunitcolor": "white"
          },
          "hoverlabel": {
           "align": "left"
          },
          "hovermode": "closest",
          "mapbox": {
           "style": "light"
          },
          "paper_bgcolor": "white",
          "plot_bgcolor": "#E5ECF6",
          "polar": {
           "angularaxis": {
            "gridcolor": "white",
            "linecolor": "white",
            "ticks": ""
           },
           "bgcolor": "#E5ECF6",
           "radialaxis": {
            "gridcolor": "white",
            "linecolor": "white",
            "ticks": ""
           }
          },
          "scene": {
           "xaxis": {
            "backgroundcolor": "#E5ECF6",
            "gridcolor": "white",
            "gridwidth": 2,
            "linecolor": "white",
            "showbackground": true,
            "ticks": "",
            "zerolinecolor": "white"
           },
           "yaxis": {
            "backgroundcolor": "#E5ECF6",
            "gridcolor": "white",
            "gridwidth": 2,
            "linecolor": "white",
            "showbackground": true,
            "ticks": "",
            "zerolinecolor": "white"
           },
           "zaxis": {
            "backgroundcolor": "#E5ECF6",
            "gridcolor": "white",
            "gridwidth": 2,
            "linecolor": "white",
            "showbackground": true,
            "ticks": "",
            "zerolinecolor": "white"
           }
          },
          "shapedefaults": {
           "line": {
            "color": "#2a3f5f"
           }
          },
          "ternary": {
           "aaxis": {
            "gridcolor": "white",
            "linecolor": "white",
            "ticks": ""
           },
           "baxis": {
            "gridcolor": "white",
            "linecolor": "white",
            "ticks": ""
           },
           "bgcolor": "#E5ECF6",
           "caxis": {
            "gridcolor": "white",
            "linecolor": "white",
            "ticks": ""
           }
          },
          "title": {
           "x": 0.05
          },
          "xaxis": {
           "automargin": true,
           "gridcolor": "white",
           "linecolor": "white",
           "ticks": "",
           "title": {
            "standoff": 15
           },
           "zerolinecolor": "white",
           "zerolinewidth": 2
          },
          "yaxis": {
           "automargin": true,
           "gridcolor": "white",
           "linecolor": "white",
           "ticks": "",
           "title": {
            "standoff": 15
           },
           "zerolinecolor": "white",
           "zerolinewidth": 2
          }
         }
        },
        "violinmode": "group",
        "xaxis": {
         "anchor": "y",
         "categoryarray": [
          "ckd",
          "notckd"
         ],
         "categoryorder": "array",
         "domain": [
          0,
          1
         ],
         "title": {
          "text": "class"
         }
        },
        "yaxis": {
         "anchor": "x",
         "domain": [
          0,
          1
         ],
         "title": {
          "text": "sc"
         }
        }
       }
      },
      "text/html": [
       "<div>\n",
       "        \n",
       "        \n",
       "            <div id=\"55267c14-0c06-4d87-895c-c3f06fdc1b2a\" class=\"plotly-graph-div\" style=\"height:525px; width:100%;\"></div>\n",
       "            <script type=\"text/javascript\">\n",
       "                require([\"plotly\"], function(Plotly) {\n",
       "                    window.PLOTLYENV=window.PLOTLYENV || {};\n",
       "                    \n",
       "                if (document.getElementById(\"55267c14-0c06-4d87-895c-c3f06fdc1b2a\")) {\n",
       "                    Plotly.newPlot(\n",
       "                        '55267c14-0c06-4d87-895c-c3f06fdc1b2a',\n",
       "                        [{\"alignmentgroup\": \"True\", \"box\": {\"visible\": true}, \"hoverlabel\": {\"namelength\": 0}, \"hovertemplate\": \"class=%{x}<br>sc=%{y}\", \"legendgroup\": \"ckd\", \"marker\": {\"color\": \"#636efa\"}, \"name\": \"ckd\", \"offsetgroup\": \"ckd\", \"orientation\": \"v\", \"scalegroup\": \"True\", \"showlegend\": true, \"type\": \"violin\", \"x\": [\"ckd\", \"ckd\", \"ckd\", \"ckd\", \"ckd\", \"ckd\", \"ckd\", \"ckd\", \"ckd\", \"ckd\", \"ckd\", \"ckd\", \"ckd\", \"ckd\", \"ckd\", \"ckd\", \"ckd\", \"ckd\", \"ckd\", \"ckd\", \"ckd\", \"ckd\", \"ckd\", \"ckd\", \"ckd\", \"ckd\", \"ckd\", \"ckd\", \"ckd\", \"ckd\", \"ckd\", \"ckd\", \"ckd\", \"ckd\", \"ckd\", \"ckd\", \"ckd\", \"ckd\", \"ckd\", \"ckd\", \"ckd\", \"ckd\", \"ckd\", \"ckd\", \"ckd\", \"ckd\", \"ckd\", \"ckd\", \"ckd\", \"ckd\", \"ckd\", \"ckd\", \"ckd\", \"ckd\", \"ckd\", \"ckd\", \"ckd\", \"ckd\", \"ckd\", \"ckd\", \"ckd\", \"ckd\", \"ckd\", \"ckd\", \"ckd\", \"ckd\", \"ckd\", \"ckd\", \"ckd\", \"ckd\", \"ckd\", \"ckd\", \"ckd\", \"ckd\", \"ckd\", \"ckd\", \"ckd\", \"ckd\", \"ckd\", \"ckd\", \"ckd\", \"ckd\", \"ckd\", \"ckd\", \"ckd\", \"ckd\", \"ckd\", \"ckd\", \"ckd\", \"ckd\", \"ckd\", \"ckd\", \"ckd\", \"ckd\", \"ckd\", \"ckd\", \"ckd\", \"ckd\", \"ckd\", \"ckd\", \"ckd\", \"ckd\", \"ckd\", \"ckd\", \"ckd\", \"ckd\", \"ckd\", \"ckd\", \"ckd\", \"ckd\", \"ckd\", \"ckd\", \"ckd\", \"ckd\", \"ckd\", \"ckd\", \"ckd\", \"ckd\", \"ckd\", \"ckd\", \"ckd\", \"ckd\", \"ckd\", \"ckd\", \"ckd\", \"ckd\", \"ckd\", \"ckd\", \"ckd\", \"ckd\", \"ckd\", \"ckd\", \"ckd\", \"ckd\", \"ckd\", \"ckd\", \"ckd\", \"ckd\", \"ckd\", \"ckd\", \"ckd\", \"ckd\", \"ckd\", \"ckd\", \"ckd\", \"ckd\", \"ckd\", \"ckd\", \"ckd\", \"ckd\", \"ckd\", \"ckd\", \"ckd\", \"ckd\", \"ckd\", \"ckd\", \"ckd\", \"ckd\", \"ckd\", \"ckd\", \"ckd\", \"ckd\", \"ckd\", \"ckd\", \"ckd\", \"ckd\", \"ckd\", \"ckd\", \"ckd\", \"ckd\", \"ckd\", \"ckd\", \"ckd\", \"ckd\", \"ckd\", \"ckd\", \"ckd\", \"ckd\", \"ckd\", \"ckd\", \"ckd\", \"ckd\", \"ckd\", \"ckd\", \"ckd\", \"ckd\", \"ckd\", \"ckd\", \"ckd\", \"ckd\", \"ckd\", \"ckd\", \"ckd\", \"ckd\", \"ckd\", \"ckd\", \"ckd\", \"ckd\", \"ckd\", \"ckd\", \"ckd\", \"ckd\", \"ckd\", \"ckd\", \"ckd\", \"ckd\", \"ckd\", \"ckd\", \"ckd\", \"ckd\", \"ckd\", \"ckd\", \"ckd\", \"ckd\", \"ckd\", \"ckd\", \"ckd\", \"ckd\", \"ckd\", \"ckd\", \"ckd\", \"ckd\", \"ckd\", \"ckd\", \"ckd\", \"ckd\", \"ckd\", \"ckd\", \"ckd\", \"ckd\", \"ckd\", \"ckd\", \"ckd\", \"ckd\", \"ckd\", \"ckd\", \"ckd\", \"ckd\", \"ckd\", \"ckd\", \"ckd\", \"ckd\", \"ckd\", \"ckd\", \"ckd\", \"ckd\", \"ckd\", \"ckd\", \"ckd\", \"ckd\"], \"x0\": \" \", \"xaxis\": \"x\", \"y\": [\"1.2\", \"0.8\", \"1.8\", \"3.8\", \"1.4\", \"1.1\", \"24\", \"1.1\", \"1.9\", \"7.2\", \"4\", \"2.7\", \"2.1\", \"4.6\", \"4.1\", \"9.6\", \"2.2\", \"5.2\", \"1.3\", \"1.6\", \"3.9\", \"76\", \"7.7\", \"?\", \"1.4\", \"1.9\", \"2.4\", \"2.7\", \"1.4\", \"1.4\", \"7.3\", \"1.5\", \"1.5\", \"2.5\", \"5.2\", \"2\", \"1.8\", \"3.4\", \"4.1\", \"3.4\", \"2.1\", \"0.7\", \"1\", \"10.8\", \"6.3\", \"5.9\", \"1.2\", \"0.8\", \"0.9\", \"3\", \"3.25\", \"1.6\", \"2.2\", \"1\", \"3.4\", \"?\", \"9.7\", \"7.3\", \"4.6\", \"6.4\", \"3.2\", \"32\", \"0.6\", \"6.1\", \"?\", \"1.1\", \"1.6\", \"?\", \"3.3\", \"1.1\", \"0.7\", \"3.3\", \"1.3\", \"6.7\", \"6.7\", \"0.7\", \"8.5\", \"3.2\", \"3.2\", \"1.8\", \"2.8\", \"2.4\", \"1.9\", \"1\", \"15\", \"1.5\", \"1.9\", \"2.9\", \"2.2\", \"1.4\", \"3.2\", \"1.7\", \"3.6\", \"5.6\", \"1.6\", \"1.1\", \"2.7\", \"2.2\", \"6.5\", \"1.2\", \"0.9\", \"4.4\", \"2.1\", \"10.2\", \"2\", \"11.5\", \"6.1\", \"2.8\", \"1\", \"1.9\", \"2\", \"4.4\", \"1.2\", \"?\", \"1.8\", \"0.9\", \"0.5\", \"1.3\", \"1.2\", \"1.2\", \"2.2\", \"1.3\", \"12.2\", \"1.1\", \"2.5\", \"2.5\", \"4\", \"5.3\", \"5.6\", \"1.4\", \"9.2\", \"0.6\", \"13.8\", \"5.3\", \"16.9\", \"1.3\", \"2.8\", \"4\", \"1.6\", \"2.8\", \"1.2\", \"6\", \"7.1\", \"18\", \"2.3\", \"13\", \"1\", \"1.7\", \"48.1\", \"1\", \"0.9\", \"1.7\", \"0.8\", \"14.2\", \"16.4\", \"1.8\", \"3.3\", \"1.7\", \"1.5\", \"1.3\", \"2.1\", \"?\", \"1.5\", \"2\", \"0.8\", \"?\", \"3.9\", \"0.9\", \"1.5\", \"2.8\", \"1.7\", \"2.6\", \"2.9\", \"7.3\", \"7.5\", \"2.2\", \"1.7\", \"2.5\", \"2.7\", \"2.3\", \"1.9\", \"2.2\", \"0.8\", \"6.5\", \"3.3\", \"0.6\", \"1\", \"0.7\", \"2.5\", \"4.3\", \"1\", \"6\", \"0.9\", \"18.1\", \"1.2\", \"3.3\", \"11.8\", \"9.3\", \"3.2\", \"1.5\", \"3\", \"7.3\", \"2.9\", \"6.8\", \"13.5\", \"2.1\", \"3.9\", \"2.2\", \"1.5\", \"?\", \"12.8\", \"1.2\", \"11.9\", \"3.9\", \"1\", \"?\", \"?\", \"1.8\", \"0.8\", \"2.5\", \"?\", \"1.7\", \"1.8\", \"1.3\", \"2.2\", \"2.7\", \"7.2\", \"1.6\", \"2.5\", \"12\", \"1.7\", \"2.8\", \"?\", \"1.6\", \"1.3\", \"2.3\", \"2\", \"2.2\", \"13.4\", \"1.6\", \"1.4\", \"1.5\", \"6.3\", \"2.4\", \"2.8\", \"5.3\", \"15.2\", \"1.2\", \"1.7\", \"13.3\"], \"y0\": \" \", \"yaxis\": \"y\"}, {\"alignmentgroup\": \"True\", \"box\": {\"visible\": true}, \"hoverlabel\": {\"namelength\": 0}, \"hovertemplate\": \"class=%{x}<br>sc=%{y}\", \"legendgroup\": \"notckd\", \"marker\": {\"color\": \"#EF553B\"}, \"name\": \"notckd\", \"offsetgroup\": \"notckd\", \"orientation\": \"v\", \"scalegroup\": \"True\", \"showlegend\": true, \"type\": \"violin\", \"x\": [\"notckd\", \"notckd\", \"notckd\", \"notckd\", \"notckd\", \"notckd\", \"notckd\", \"notckd\", \"notckd\", \"notckd\", \"notckd\", \"notckd\", \"notckd\", \"notckd\", \"notckd\", \"notckd\", \"notckd\", \"notckd\", \"notckd\", \"notckd\", \"notckd\", \"notckd\", \"notckd\", \"notckd\", \"notckd\", \"notckd\", \"notckd\", \"notckd\", \"notckd\", \"notckd\", \"notckd\", \"notckd\", \"notckd\", \"notckd\", \"notckd\", \"notckd\", \"notckd\", \"notckd\", \"notckd\", \"notckd\", \"notckd\", \"notckd\", \"notckd\", \"notckd\", \"notckd\", \"notckd\", \"notckd\", \"notckd\", \"notckd\", \"notckd\", \"notckd\", \"notckd\", \"notckd\", \"notckd\", \"notckd\", \"notckd\", \"notckd\", \"notckd\", \"notckd\", \"notckd\", \"notckd\", \"notckd\", \"notckd\", \"notckd\", \"notckd\", \"notckd\", \"notckd\", \"notckd\", \"notckd\", \"notckd\", \"notckd\", \"notckd\", \"notckd\", \"notckd\", \"notckd\", \"notckd\", \"notckd\", \"notckd\", \"notckd\", \"notckd\", \"notckd\", \"notckd\", \"notckd\", \"notckd\", \"notckd\", \"notckd\", \"notckd\", \"notckd\", \"notckd\", \"notckd\", \"notckd\", \"notckd\", \"notckd\", \"notckd\", \"notckd\", \"notckd\", \"notckd\", \"notckd\", \"notckd\", \"notckd\", \"notckd\", \"notckd\", \"notckd\", \"notckd\", \"notckd\", \"notckd\", \"notckd\", \"notckd\", \"notckd\", \"notckd\", \"notckd\", \"notckd\", \"notckd\", \"notckd\", \"notckd\", \"notckd\", \"notckd\", \"notckd\", \"notckd\", \"notckd\", \"notckd\", \"notckd\", \"notckd\", \"notckd\", \"notckd\", \"notckd\", \"notckd\", \"notckd\", \"notckd\", \"notckd\", \"notckd\", \"notckd\", \"notckd\", \"notckd\", \"notckd\", \"notckd\", \"notckd\", \"notckd\", \"notckd\", \"notckd\", \"notckd\", \"notckd\", \"notckd\", \"notckd\", \"notckd\", \"notckd\", \"notckd\", \"notckd\", \"notckd\", \"notckd\"], \"x0\": \" \", \"xaxis\": \"x\", \"y\": [\"1.2\", \"1\", \"0.6\", \"1.2\", \"0.8\", \"1.2\", \"0.5\", \"0.7\", \"0.5\", \"1.2\", \"1\", \"1.2\", \"0.9\", \"1.2\", \"0.7\", \"0.6\", \"1.2\", \"0.9\", \"1\", \"1.2\", \"1.1\", \"0.5\", \"1.2\", \"0.9\", \"0.7\", \"1.2\", \"?\", \"1\", \"1.2\", \"0.6\", \"0.9\", \"1.2\", \"1\", \"?\", \"1.2\", \"0.7\", \"0.8\", \"0.6\", \"1.2\", \"0.9\", \"0.6\", \"1\", \"0.5\", \"1.2\", \"0.7\", \"0.9\", \"0.6\", \"1\", \"1.2\", \"0.5\", \"0.7\", \"0.9\", \"1.2\", \"1.1\", \"0.6\", \"0.8\", \"1.2\", \"0.5\", \"0.6\", \"1.2\", \"0.7\", \"1.1\", \"?\", \"0.9\", \"0.6\", \"?\", \"0.5\", \"1.2\", \"0.7\", \"1.1\", \"1.2\", \"1\", \"0.5\", \"1.1\", \"0.7\", \"1.2\", \"1.1\", \"0.8\", \"0.6\", \"0.9\", \"1.1\", \"0.7\", \"1\", \"1.2\", \"?\", \"0.5\", \"0.5\", \"0.9\", \"0.8\", \"0.5\", \"1.1\", \"0.9\", \"0.5\", \"0.8\", \"0.7\", \"1.2\", \"0.9\", \"1\", \"0.5\", \"1.1\", \"1\", \"0.9\", \"1.1\", \"0.6\", \"0.4\", \"0.8\", \"0.5\", \"1.1\", \"1.2\", \"0.6\", \"0.5\", \"0.7\", \"1.1\", \"0.5\", \"0.7\", \"1\", \"0.5\", \"1.1\", \"0.7\", \"0.8\", \"1.2\", \"0.5\", \"0.9\", \"1\", \"1.2\", \"0.5\", \"1.1\", \"0.7\", \"0.9\", \"0.6\", \"1.1\", \"0.5\", \"0.8\", \"0.7\", \"1.1\", \"0.6\", \"0.5\", \"0.9\", \"1.2\", \"0.7\", \"0.8\", \"1.1\", \"1.2\", \"0.7\", \"0.8\", \"0.5\", \"1.2\", \"0.6\", \"1\", \"1.1\"], \"y0\": \" \", \"yaxis\": \"y\"}],\n",
       "                        {\"legend\": {\"title\": {\"text\": \"class\"}, \"tracegroupgap\": 0}, \"margin\": {\"t\": 60}, \"template\": {\"data\": {\"bar\": [{\"error_x\": {\"color\": \"#2a3f5f\"}, \"error_y\": {\"color\": \"#2a3f5f\"}, \"marker\": {\"line\": {\"color\": \"#E5ECF6\", \"width\": 0.5}}, \"type\": \"bar\"}], \"barpolar\": [{\"marker\": {\"line\": {\"color\": \"#E5ECF6\", \"width\": 0.5}}, \"type\": \"barpolar\"}], \"carpet\": [{\"aaxis\": {\"endlinecolor\": \"#2a3f5f\", \"gridcolor\": \"white\", \"linecolor\": \"white\", \"minorgridcolor\": \"white\", \"startlinecolor\": \"#2a3f5f\"}, \"baxis\": {\"endlinecolor\": \"#2a3f5f\", \"gridcolor\": \"white\", \"linecolor\": \"white\", \"minorgridcolor\": \"white\", \"startlinecolor\": \"#2a3f5f\"}, \"type\": \"carpet\"}], \"choropleth\": [{\"colorbar\": {\"outlinewidth\": 0, \"ticks\": \"\"}, \"type\": \"choropleth\"}], \"contour\": [{\"colorbar\": {\"outlinewidth\": 0, \"ticks\": \"\"}, \"colorscale\": [[0.0, \"#0d0887\"], [0.1111111111111111, \"#46039f\"], [0.2222222222222222, \"#7201a8\"], [0.3333333333333333, \"#9c179e\"], [0.4444444444444444, \"#bd3786\"], [0.5555555555555556, \"#d8576b\"], [0.6666666666666666, \"#ed7953\"], [0.7777777777777778, \"#fb9f3a\"], [0.8888888888888888, \"#fdca26\"], [1.0, \"#f0f921\"]], \"type\": \"contour\"}], \"contourcarpet\": [{\"colorbar\": {\"outlinewidth\": 0, \"ticks\": \"\"}, \"type\": \"contourcarpet\"}], \"heatmap\": [{\"colorbar\": {\"outlinewidth\": 0, \"ticks\": \"\"}, \"colorscale\": [[0.0, \"#0d0887\"], [0.1111111111111111, \"#46039f\"], [0.2222222222222222, \"#7201a8\"], [0.3333333333333333, \"#9c179e\"], [0.4444444444444444, \"#bd3786\"], [0.5555555555555556, \"#d8576b\"], [0.6666666666666666, \"#ed7953\"], [0.7777777777777778, \"#fb9f3a\"], [0.8888888888888888, \"#fdca26\"], [1.0, \"#f0f921\"]], \"type\": \"heatmap\"}], \"heatmapgl\": [{\"colorbar\": {\"outlinewidth\": 0, \"ticks\": \"\"}, \"colorscale\": [[0.0, \"#0d0887\"], [0.1111111111111111, \"#46039f\"], [0.2222222222222222, \"#7201a8\"], [0.3333333333333333, \"#9c179e\"], [0.4444444444444444, \"#bd3786\"], [0.5555555555555556, \"#d8576b\"], [0.6666666666666666, \"#ed7953\"], [0.7777777777777778, \"#fb9f3a\"], [0.8888888888888888, \"#fdca26\"], [1.0, \"#f0f921\"]], \"type\": \"heatmapgl\"}], \"histogram\": [{\"marker\": {\"colorbar\": {\"outlinewidth\": 0, \"ticks\": \"\"}}, \"type\": \"histogram\"}], \"histogram2d\": [{\"colorbar\": {\"outlinewidth\": 0, \"ticks\": \"\"}, \"colorscale\": [[0.0, \"#0d0887\"], [0.1111111111111111, \"#46039f\"], [0.2222222222222222, \"#7201a8\"], [0.3333333333333333, \"#9c179e\"], [0.4444444444444444, \"#bd3786\"], [0.5555555555555556, \"#d8576b\"], [0.6666666666666666, \"#ed7953\"], [0.7777777777777778, \"#fb9f3a\"], [0.8888888888888888, \"#fdca26\"], [1.0, \"#f0f921\"]], \"type\": \"histogram2d\"}], \"histogram2dcontour\": [{\"colorbar\": {\"outlinewidth\": 0, \"ticks\": \"\"}, \"colorscale\": [[0.0, \"#0d0887\"], [0.1111111111111111, \"#46039f\"], [0.2222222222222222, \"#7201a8\"], [0.3333333333333333, \"#9c179e\"], [0.4444444444444444, \"#bd3786\"], [0.5555555555555556, \"#d8576b\"], [0.6666666666666666, \"#ed7953\"], [0.7777777777777778, \"#fb9f3a\"], [0.8888888888888888, \"#fdca26\"], [1.0, \"#f0f921\"]], \"type\": \"histogram2dcontour\"}], \"mesh3d\": [{\"colorbar\": {\"outlinewidth\": 0, \"ticks\": \"\"}, \"type\": \"mesh3d\"}], \"parcoords\": [{\"line\": {\"colorbar\": {\"outlinewidth\": 0, \"ticks\": \"\"}}, \"type\": \"parcoords\"}], \"pie\": [{\"automargin\": true, \"type\": \"pie\"}], \"scatter\": [{\"marker\": {\"colorbar\": {\"outlinewidth\": 0, \"ticks\": \"\"}}, \"type\": \"scatter\"}], \"scatter3d\": [{\"line\": {\"colorbar\": {\"outlinewidth\": 0, \"ticks\": \"\"}}, \"marker\": {\"colorbar\": {\"outlinewidth\": 0, \"ticks\": \"\"}}, \"type\": \"scatter3d\"}], \"scattercarpet\": [{\"marker\": {\"colorbar\": {\"outlinewidth\": 0, \"ticks\": \"\"}}, \"type\": \"scattercarpet\"}], \"scattergeo\": [{\"marker\": {\"colorbar\": {\"outlinewidth\": 0, \"ticks\": \"\"}}, \"type\": \"scattergeo\"}], \"scattergl\": [{\"marker\": {\"colorbar\": {\"outlinewidth\": 0, \"ticks\": \"\"}}, \"type\": \"scattergl\"}], \"scattermapbox\": [{\"marker\": {\"colorbar\": {\"outlinewidth\": 0, \"ticks\": \"\"}}, \"type\": \"scattermapbox\"}], \"scatterpolar\": [{\"marker\": {\"colorbar\": {\"outlinewidth\": 0, \"ticks\": \"\"}}, \"type\": \"scatterpolar\"}], \"scatterpolargl\": [{\"marker\": {\"colorbar\": {\"outlinewidth\": 0, \"ticks\": \"\"}}, \"type\": \"scatterpolargl\"}], \"scatterternary\": [{\"marker\": {\"colorbar\": {\"outlinewidth\": 0, \"ticks\": \"\"}}, \"type\": \"scatterternary\"}], \"surface\": [{\"colorbar\": {\"outlinewidth\": 0, \"ticks\": \"\"}, \"colorscale\": [[0.0, \"#0d0887\"], [0.1111111111111111, \"#46039f\"], [0.2222222222222222, \"#7201a8\"], [0.3333333333333333, \"#9c179e\"], [0.4444444444444444, \"#bd3786\"], [0.5555555555555556, \"#d8576b\"], [0.6666666666666666, \"#ed7953\"], [0.7777777777777778, \"#fb9f3a\"], [0.8888888888888888, \"#fdca26\"], [1.0, \"#f0f921\"]], \"type\": \"surface\"}], \"table\": [{\"cells\": {\"fill\": {\"color\": \"#EBF0F8\"}, \"line\": {\"color\": \"white\"}}, \"header\": {\"fill\": {\"color\": \"#C8D4E3\"}, \"line\": {\"color\": \"white\"}}, \"type\": \"table\"}]}, \"layout\": {\"annotationdefaults\": {\"arrowcolor\": \"#2a3f5f\", \"arrowhead\": 0, \"arrowwidth\": 1}, \"coloraxis\": {\"colorbar\": {\"outlinewidth\": 0, \"ticks\": \"\"}}, \"colorscale\": {\"diverging\": [[0, \"#8e0152\"], [0.1, \"#c51b7d\"], [0.2, \"#de77ae\"], [0.3, \"#f1b6da\"], [0.4, \"#fde0ef\"], [0.5, \"#f7f7f7\"], [0.6, \"#e6f5d0\"], [0.7, \"#b8e186\"], [0.8, \"#7fbc41\"], [0.9, \"#4d9221\"], [1, \"#276419\"]], \"sequential\": [[0.0, \"#0d0887\"], [0.1111111111111111, \"#46039f\"], [0.2222222222222222, \"#7201a8\"], [0.3333333333333333, \"#9c179e\"], [0.4444444444444444, \"#bd3786\"], [0.5555555555555556, \"#d8576b\"], [0.6666666666666666, \"#ed7953\"], [0.7777777777777778, \"#fb9f3a\"], [0.8888888888888888, \"#fdca26\"], [1.0, \"#f0f921\"]], \"sequentialminus\": [[0.0, \"#0d0887\"], [0.1111111111111111, \"#46039f\"], [0.2222222222222222, \"#7201a8\"], [0.3333333333333333, \"#9c179e\"], [0.4444444444444444, \"#bd3786\"], [0.5555555555555556, \"#d8576b\"], [0.6666666666666666, \"#ed7953\"], [0.7777777777777778, \"#fb9f3a\"], [0.8888888888888888, \"#fdca26\"], [1.0, \"#f0f921\"]]}, \"colorway\": [\"#636efa\", \"#EF553B\", \"#00cc96\", \"#ab63fa\", \"#FFA15A\", \"#19d3f3\", \"#FF6692\", \"#B6E880\", \"#FF97FF\", \"#FECB52\"], \"font\": {\"color\": \"#2a3f5f\"}, \"geo\": {\"bgcolor\": \"white\", \"lakecolor\": \"white\", \"landcolor\": \"#E5ECF6\", \"showlakes\": true, \"showland\": true, \"subunitcolor\": \"white\"}, \"hoverlabel\": {\"align\": \"left\"}, \"hovermode\": \"closest\", \"mapbox\": {\"style\": \"light\"}, \"paper_bgcolor\": \"white\", \"plot_bgcolor\": \"#E5ECF6\", \"polar\": {\"angularaxis\": {\"gridcolor\": \"white\", \"linecolor\": \"white\", \"ticks\": \"\"}, \"bgcolor\": \"#E5ECF6\", \"radialaxis\": {\"gridcolor\": \"white\", \"linecolor\": \"white\", \"ticks\": \"\"}}, \"scene\": {\"xaxis\": {\"backgroundcolor\": \"#E5ECF6\", \"gridcolor\": \"white\", \"gridwidth\": 2, \"linecolor\": \"white\", \"showbackground\": true, \"ticks\": \"\", \"zerolinecolor\": \"white\"}, \"yaxis\": {\"backgroundcolor\": \"#E5ECF6\", \"gridcolor\": \"white\", \"gridwidth\": 2, \"linecolor\": \"white\", \"showbackground\": true, \"ticks\": \"\", \"zerolinecolor\": \"white\"}, \"zaxis\": {\"backgroundcolor\": \"#E5ECF6\", \"gridcolor\": \"white\", \"gridwidth\": 2, \"linecolor\": \"white\", \"showbackground\": true, \"ticks\": \"\", \"zerolinecolor\": \"white\"}}, \"shapedefaults\": {\"line\": {\"color\": \"#2a3f5f\"}}, \"ternary\": {\"aaxis\": {\"gridcolor\": \"white\", \"linecolor\": \"white\", \"ticks\": \"\"}, \"baxis\": {\"gridcolor\": \"white\", \"linecolor\": \"white\", \"ticks\": \"\"}, \"bgcolor\": \"#E5ECF6\", \"caxis\": {\"gridcolor\": \"white\", \"linecolor\": \"white\", \"ticks\": \"\"}}, \"title\": {\"x\": 0.05}, \"xaxis\": {\"automargin\": true, \"gridcolor\": \"white\", \"linecolor\": \"white\", \"ticks\": \"\", \"title\": {\"standoff\": 15}, \"zerolinecolor\": \"white\", \"zerolinewidth\": 2}, \"yaxis\": {\"automargin\": true, \"gridcolor\": \"white\", \"linecolor\": \"white\", \"ticks\": \"\", \"title\": {\"standoff\": 15}, \"zerolinecolor\": \"white\", \"zerolinewidth\": 2}}}, \"violinmode\": \"group\", \"xaxis\": {\"anchor\": \"y\", \"categoryarray\": [\"ckd\", \"notckd\"], \"categoryorder\": \"array\", \"domain\": [0.0, 1.0], \"title\": {\"text\": \"class\"}}, \"yaxis\": {\"anchor\": \"x\", \"domain\": [0.0, 1.0], \"title\": {\"text\": \"sc\"}}},\n",
       "                        {\"responsive\": true}\n",
       "                    ).then(function(){\n",
       "                            \n",
       "var gd = document.getElementById('55267c14-0c06-4d87-895c-c3f06fdc1b2a');\n",
       "var x = new MutationObserver(function (mutations, observer) {{\n",
       "        var display = window.getComputedStyle(gd).display;\n",
       "        if (!display || display === 'none') {{\n",
       "            console.log([gd, 'removed!']);\n",
       "            Plotly.purge(gd);\n",
       "            observer.disconnect();\n",
       "        }}\n",
       "}});\n",
       "\n",
       "// Listen for the removal of the full notebook cells\n",
       "var notebookContainer = gd.closest('#notebook-container');\n",
       "if (notebookContainer) {{\n",
       "    x.observe(notebookContainer, {childList: true});\n",
       "}}\n",
       "\n",
       "// Listen for the clearing of the current output cell\n",
       "var outputEl = gd.closest('.output');\n",
       "if (outputEl) {{\n",
       "    x.observe(outputEl, {childList: true});\n",
       "}}\n",
       "\n",
       "                        })\n",
       "                };\n",
       "                });\n",
       "            </script>\n",
       "        </div>"
      ]
     },
     "metadata": {},
     "output_type": "display_data"
    }
   ],
   "source": [
    "import plotly.express as px\n",
    "fig = px.violin(ckd_copy, y='sc', x=\"class\", color=\"class\", box=True, template = None)\n",
    "fig.show()"
   ]
  },
  {
   "cell_type": "code",
   "execution_count": 646,
   "metadata": {},
   "outputs": [],
   "source": [
    "import copy"
   ]
  },
  {
   "cell_type": "code",
   "execution_count": null,
   "metadata": {},
   "outputs": [],
   "source": []
  },
  {
   "cell_type": "code",
   "execution_count": 938,
   "metadata": {},
   "outputs": [],
   "source": [
    "ckd_copy['sc'].replace('?',0, inplace=True)"
   ]
  },
  {
   "cell_type": "code",
   "execution_count": 939,
   "metadata": {},
   "outputs": [],
   "source": [
    "ckd_copy['sc']=ckd_copy['sc'].astype(float)"
   ]
  },
  {
   "cell_type": "code",
   "execution_count": 940,
   "metadata": {},
   "outputs": [],
   "source": [
    "#Normalization for sc column\n",
    "#Two digit values are converted from mm/L to mg/dL*0.0113\n",
    "\n",
    "ckd_copy['sc']=[round(i*0.0113,1) if i > 10 else i for i in ckd_copy['sc']]"
   ]
  },
  {
   "cell_type": "code",
   "execution_count": 944,
   "metadata": {},
   "outputs": [],
   "source": [
    "mean_value = round(ckd_copy['sc'].mean(),1)\n",
    "ckd_copy['sc'].replace(0,mean_value, inplace=True)"
   ]
  },
  {
   "cell_type": "code",
   "execution_count": 945,
   "metadata": {},
   "outputs": [
    {
     "data": {
      "application/vnd.plotly.v1+json": {
       "config": {
        "plotlyServerURL": "https://plot.ly"
       },
       "data": [
        {
         "alignmentgroup": "True",
         "box": {
          "visible": true
         },
         "hoverlabel": {
          "namelength": 0
         },
         "hovertemplate": "class=%{x}<br>sc=%{y}",
         "legendgroup": "ckd",
         "marker": {
          "color": "#636efa"
         },
         "name": "ckd",
         "offsetgroup": "ckd",
         "orientation": "v",
         "scalegroup": "True",
         "showlegend": true,
         "type": "violin",
         "x": [
          "ckd",
          "ckd",
          "ckd",
          "ckd",
          "ckd",
          "ckd",
          "ckd",
          "ckd",
          "ckd",
          "ckd",
          "ckd",
          "ckd",
          "ckd",
          "ckd",
          "ckd",
          "ckd",
          "ckd",
          "ckd",
          "ckd",
          "ckd",
          "ckd",
          "ckd",
          "ckd",
          "ckd",
          "ckd",
          "ckd",
          "ckd",
          "ckd",
          "ckd",
          "ckd",
          "ckd",
          "ckd",
          "ckd",
          "ckd",
          "ckd",
          "ckd",
          "ckd",
          "ckd",
          "ckd",
          "ckd",
          "ckd",
          "ckd",
          "ckd",
          "ckd",
          "ckd",
          "ckd",
          "ckd",
          "ckd",
          "ckd",
          "ckd",
          "ckd",
          "ckd",
          "ckd",
          "ckd",
          "ckd",
          "ckd",
          "ckd",
          "ckd",
          "ckd",
          "ckd",
          "ckd",
          "ckd",
          "ckd",
          "ckd",
          "ckd",
          "ckd",
          "ckd",
          "ckd",
          "ckd",
          "ckd",
          "ckd",
          "ckd",
          "ckd",
          "ckd",
          "ckd",
          "ckd",
          "ckd",
          "ckd",
          "ckd",
          "ckd",
          "ckd",
          "ckd",
          "ckd",
          "ckd",
          "ckd",
          "ckd",
          "ckd",
          "ckd",
          "ckd",
          "ckd",
          "ckd",
          "ckd",
          "ckd",
          "ckd",
          "ckd",
          "ckd",
          "ckd",
          "ckd",
          "ckd",
          "ckd",
          "ckd",
          "ckd",
          "ckd",
          "ckd",
          "ckd",
          "ckd",
          "ckd",
          "ckd",
          "ckd",
          "ckd",
          "ckd",
          "ckd",
          "ckd",
          "ckd",
          "ckd",
          "ckd",
          "ckd",
          "ckd",
          "ckd",
          "ckd",
          "ckd",
          "ckd",
          "ckd",
          "ckd",
          "ckd",
          "ckd",
          "ckd",
          "ckd",
          "ckd",
          "ckd",
          "ckd",
          "ckd",
          "ckd",
          "ckd",
          "ckd",
          "ckd",
          "ckd",
          "ckd",
          "ckd",
          "ckd",
          "ckd",
          "ckd",
          "ckd",
          "ckd",
          "ckd",
          "ckd",
          "ckd",
          "ckd",
          "ckd",
          "ckd",
          "ckd",
          "ckd",
          "ckd",
          "ckd",
          "ckd",
          "ckd",
          "ckd",
          "ckd",
          "ckd",
          "ckd",
          "ckd",
          "ckd",
          "ckd",
          "ckd",
          "ckd",
          "ckd",
          "ckd",
          "ckd",
          "ckd",
          "ckd",
          "ckd",
          "ckd",
          "ckd",
          "ckd",
          "ckd",
          "ckd",
          "ckd",
          "ckd",
          "ckd",
          "ckd",
          "ckd",
          "ckd",
          "ckd",
          "ckd",
          "ckd",
          "ckd",
          "ckd",
          "ckd",
          "ckd",
          "ckd",
          "ckd",
          "ckd",
          "ckd",
          "ckd",
          "ckd",
          "ckd",
          "ckd",
          "ckd",
          "ckd",
          "ckd",
          "ckd",
          "ckd",
          "ckd",
          "ckd",
          "ckd",
          "ckd",
          "ckd",
          "ckd",
          "ckd",
          "ckd",
          "ckd",
          "ckd",
          "ckd",
          "ckd",
          "ckd",
          "ckd",
          "ckd",
          "ckd",
          "ckd",
          "ckd",
          "ckd",
          "ckd",
          "ckd",
          "ckd",
          "ckd",
          "ckd",
          "ckd",
          "ckd",
          "ckd",
          "ckd",
          "ckd",
          "ckd",
          "ckd",
          "ckd",
          "ckd",
          "ckd",
          "ckd",
          "ckd",
          "ckd",
          "ckd",
          "ckd",
          "ckd",
          "ckd",
          "ckd",
          "ckd",
          "ckd",
          "ckd",
          "ckd",
          "ckd",
          "ckd"
         ],
         "x0": " ",
         "xaxis": "x",
         "y": [
          1.2,
          0.8,
          1.8,
          3.8,
          1.4,
          1.1,
          0.3,
          1.1,
          1.9,
          7.2,
          4,
          2.7,
          2.1,
          4.6,
          4.1,
          9.6,
          2.2,
          5.2,
          1.3,
          1.6,
          3.9,
          0.9,
          7.7,
          1.8,
          1.4,
          1.9,
          2.4,
          2.7,
          1.4,
          1.4,
          7.3,
          1.5,
          1.5,
          2.5,
          5.2,
          2,
          1.8,
          3.4,
          4.1,
          3.4,
          2.1,
          0.7,
          1,
          0.1,
          6.3,
          5.9,
          1.2,
          0.8,
          0.9,
          3,
          3.25,
          1.6,
          2.2,
          1,
          3.4,
          1.8,
          9.7,
          7.3,
          4.6,
          6.4,
          3.2,
          0.4,
          0.6,
          6.1,
          1.8,
          1.1,
          1.6,
          1.8,
          3.3,
          1.1,
          0.7,
          3.3,
          1.3,
          6.7,
          6.7,
          0.7,
          8.5,
          3.2,
          3.2,
          1.8,
          2.8,
          2.4,
          1.9,
          1,
          0.2,
          1.5,
          1.9,
          2.9,
          2.2,
          1.4,
          3.2,
          1.7,
          3.6,
          5.6,
          1.6,
          1.1,
          2.7,
          2.2,
          6.5,
          1.2,
          0.9,
          4.4,
          2.1,
          0.1,
          2,
          0.1,
          6.1,
          2.8,
          1,
          1.9,
          2,
          4.4,
          1.2,
          1.8,
          1.8,
          0.9,
          0.5,
          1.3,
          1.2,
          1.2,
          2.2,
          1.3,
          0.1,
          1.1,
          2.5,
          2.5,
          4,
          5.3,
          5.6,
          1.4,
          9.2,
          0.6,
          0.2,
          5.3,
          0.2,
          1.3,
          2.8,
          4,
          1.6,
          2.8,
          1.2,
          6,
          7.1,
          0.2,
          2.3,
          0.1,
          1,
          1.7,
          0.5,
          1,
          0.9,
          1.7,
          0.8,
          0.2,
          0.2,
          1.8,
          3.3,
          1.7,
          1.5,
          1.3,
          2.1,
          1.8,
          1.5,
          2,
          0.8,
          1.8,
          3.9,
          0.9,
          1.5,
          2.8,
          1.7,
          2.6,
          2.9,
          7.3,
          7.5,
          2.2,
          1.7,
          2.5,
          2.7,
          2.3,
          1.9,
          2.2,
          0.8,
          6.5,
          3.3,
          0.6,
          1,
          0.7,
          2.5,
          4.3,
          1,
          6,
          0.9,
          0.2,
          1.2,
          3.3,
          0.1,
          9.3,
          3.2,
          1.5,
          3,
          7.3,
          2.9,
          6.8,
          0.2,
          2.1,
          3.9,
          2.2,
          1.5,
          1.8,
          0.1,
          1.2,
          0.1,
          3.9,
          1,
          1.8,
          1.8,
          1.8,
          0.8,
          2.5,
          1.8,
          1.7,
          1.8,
          1.3,
          2.2,
          2.7,
          7.2,
          1.6,
          2.5,
          0.1,
          1.7,
          2.8,
          1.8,
          1.6,
          1.3,
          2.3,
          2,
          2.2,
          0.2,
          1.6,
          1.4,
          1.5,
          6.3,
          2.4,
          2.8,
          5.3,
          0.2,
          1.2,
          1.7,
          0.2
         ],
         "y0": " ",
         "yaxis": "y"
        },
        {
         "alignmentgroup": "True",
         "box": {
          "visible": true
         },
         "hoverlabel": {
          "namelength": 0
         },
         "hovertemplate": "class=%{x}<br>sc=%{y}",
         "legendgroup": "notckd",
         "marker": {
          "color": "#EF553B"
         },
         "name": "notckd",
         "offsetgroup": "notckd",
         "orientation": "v",
         "scalegroup": "True",
         "showlegend": true,
         "type": "violin",
         "x": [
          "notckd",
          "notckd",
          "notckd",
          "notckd",
          "notckd",
          "notckd",
          "notckd",
          "notckd",
          "notckd",
          "notckd",
          "notckd",
          "notckd",
          "notckd",
          "notckd",
          "notckd",
          "notckd",
          "notckd",
          "notckd",
          "notckd",
          "notckd",
          "notckd",
          "notckd",
          "notckd",
          "notckd",
          "notckd",
          "notckd",
          "notckd",
          "notckd",
          "notckd",
          "notckd",
          "notckd",
          "notckd",
          "notckd",
          "notckd",
          "notckd",
          "notckd",
          "notckd",
          "notckd",
          "notckd",
          "notckd",
          "notckd",
          "notckd",
          "notckd",
          "notckd",
          "notckd",
          "notckd",
          "notckd",
          "notckd",
          "notckd",
          "notckd",
          "notckd",
          "notckd",
          "notckd",
          "notckd",
          "notckd",
          "notckd",
          "notckd",
          "notckd",
          "notckd",
          "notckd",
          "notckd",
          "notckd",
          "notckd",
          "notckd",
          "notckd",
          "notckd",
          "notckd",
          "notckd",
          "notckd",
          "notckd",
          "notckd",
          "notckd",
          "notckd",
          "notckd",
          "notckd",
          "notckd",
          "notckd",
          "notckd",
          "notckd",
          "notckd",
          "notckd",
          "notckd",
          "notckd",
          "notckd",
          "notckd",
          "notckd",
          "notckd",
          "notckd",
          "notckd",
          "notckd",
          "notckd",
          "notckd",
          "notckd",
          "notckd",
          "notckd",
          "notckd",
          "notckd",
          "notckd",
          "notckd",
          "notckd",
          "notckd",
          "notckd",
          "notckd",
          "notckd",
          "notckd",
          "notckd",
          "notckd",
          "notckd",
          "notckd",
          "notckd",
          "notckd",
          "notckd",
          "notckd",
          "notckd",
          "notckd",
          "notckd",
          "notckd",
          "notckd",
          "notckd",
          "notckd",
          "notckd",
          "notckd",
          "notckd",
          "notckd",
          "notckd",
          "notckd",
          "notckd",
          "notckd",
          "notckd",
          "notckd",
          "notckd",
          "notckd",
          "notckd",
          "notckd",
          "notckd",
          "notckd",
          "notckd",
          "notckd",
          "notckd",
          "notckd",
          "notckd",
          "notckd",
          "notckd",
          "notckd",
          "notckd",
          "notckd",
          "notckd",
          "notckd",
          "notckd",
          "notckd"
         ],
         "x0": " ",
         "xaxis": "x",
         "y": [
          1.2,
          1,
          0.6,
          1.2,
          0.8,
          1.2,
          0.5,
          0.7,
          0.5,
          1.2,
          1,
          1.2,
          0.9,
          1.2,
          0.7,
          0.6,
          1.2,
          0.9,
          1,
          1.2,
          1.1,
          0.5,
          1.2,
          0.9,
          0.7,
          1.2,
          1.8,
          1,
          1.2,
          0.6,
          0.9,
          1.2,
          1,
          1.8,
          1.2,
          0.7,
          0.8,
          0.6,
          1.2,
          0.9,
          0.6,
          1,
          0.5,
          1.2,
          0.7,
          0.9,
          0.6,
          1,
          1.2,
          0.5,
          0.7,
          0.9,
          1.2,
          1.1,
          0.6,
          0.8,
          1.2,
          0.5,
          0.6,
          1.2,
          0.7,
          1.1,
          1.8,
          0.9,
          0.6,
          1.8,
          0.5,
          1.2,
          0.7,
          1.1,
          1.2,
          1,
          0.5,
          1.1,
          0.7,
          1.2,
          1.1,
          0.8,
          0.6,
          0.9,
          1.1,
          0.7,
          1,
          1.2,
          1.8,
          0.5,
          0.5,
          0.9,
          0.8,
          0.5,
          1.1,
          0.9,
          0.5,
          0.8,
          0.7,
          1.2,
          0.9,
          1,
          0.5,
          1.1,
          1,
          0.9,
          1.1,
          0.6,
          0.4,
          0.8,
          0.5,
          1.1,
          1.2,
          0.6,
          0.5,
          0.7,
          1.1,
          0.5,
          0.7,
          1,
          0.5,
          1.1,
          0.7,
          0.8,
          1.2,
          0.5,
          0.9,
          1,
          1.2,
          0.5,
          1.1,
          0.7,
          0.9,
          0.6,
          1.1,
          0.5,
          0.8,
          0.7,
          1.1,
          0.6,
          0.5,
          0.9,
          1.2,
          0.7,
          0.8,
          1.1,
          1.2,
          0.7,
          0.8,
          0.5,
          1.2,
          0.6,
          1,
          1.1
         ],
         "y0": " ",
         "yaxis": "y"
        }
       ],
       "layout": {
        "legend": {
         "title": {
          "text": "class"
         },
         "tracegroupgap": 0
        },
        "margin": {
         "t": 60
        },
        "template": {
         "data": {
          "bar": [
           {
            "error_x": {
             "color": "#2a3f5f"
            },
            "error_y": {
             "color": "#2a3f5f"
            },
            "marker": {
             "line": {
              "color": "#E5ECF6",
              "width": 0.5
             }
            },
            "type": "bar"
           }
          ],
          "barpolar": [
           {
            "marker": {
             "line": {
              "color": "#E5ECF6",
              "width": 0.5
             }
            },
            "type": "barpolar"
           }
          ],
          "carpet": [
           {
            "aaxis": {
             "endlinecolor": "#2a3f5f",
             "gridcolor": "white",
             "linecolor": "white",
             "minorgridcolor": "white",
             "startlinecolor": "#2a3f5f"
            },
            "baxis": {
             "endlinecolor": "#2a3f5f",
             "gridcolor": "white",
             "linecolor": "white",
             "minorgridcolor": "white",
             "startlinecolor": "#2a3f5f"
            },
            "type": "carpet"
           }
          ],
          "choropleth": [
           {
            "colorbar": {
             "outlinewidth": 0,
             "ticks": ""
            },
            "type": "choropleth"
           }
          ],
          "contour": [
           {
            "colorbar": {
             "outlinewidth": 0,
             "ticks": ""
            },
            "colorscale": [
             [
              0,
              "#0d0887"
             ],
             [
              0.1111111111111111,
              "#46039f"
             ],
             [
              0.2222222222222222,
              "#7201a8"
             ],
             [
              0.3333333333333333,
              "#9c179e"
             ],
             [
              0.4444444444444444,
              "#bd3786"
             ],
             [
              0.5555555555555556,
              "#d8576b"
             ],
             [
              0.6666666666666666,
              "#ed7953"
             ],
             [
              0.7777777777777778,
              "#fb9f3a"
             ],
             [
              0.8888888888888888,
              "#fdca26"
             ],
             [
              1,
              "#f0f921"
             ]
            ],
            "type": "contour"
           }
          ],
          "contourcarpet": [
           {
            "colorbar": {
             "outlinewidth": 0,
             "ticks": ""
            },
            "type": "contourcarpet"
           }
          ],
          "heatmap": [
           {
            "colorbar": {
             "outlinewidth": 0,
             "ticks": ""
            },
            "colorscale": [
             [
              0,
              "#0d0887"
             ],
             [
              0.1111111111111111,
              "#46039f"
             ],
             [
              0.2222222222222222,
              "#7201a8"
             ],
             [
              0.3333333333333333,
              "#9c179e"
             ],
             [
              0.4444444444444444,
              "#bd3786"
             ],
             [
              0.5555555555555556,
              "#d8576b"
             ],
             [
              0.6666666666666666,
              "#ed7953"
             ],
             [
              0.7777777777777778,
              "#fb9f3a"
             ],
             [
              0.8888888888888888,
              "#fdca26"
             ],
             [
              1,
              "#f0f921"
             ]
            ],
            "type": "heatmap"
           }
          ],
          "heatmapgl": [
           {
            "colorbar": {
             "outlinewidth": 0,
             "ticks": ""
            },
            "colorscale": [
             [
              0,
              "#0d0887"
             ],
             [
              0.1111111111111111,
              "#46039f"
             ],
             [
              0.2222222222222222,
              "#7201a8"
             ],
             [
              0.3333333333333333,
              "#9c179e"
             ],
             [
              0.4444444444444444,
              "#bd3786"
             ],
             [
              0.5555555555555556,
              "#d8576b"
             ],
             [
              0.6666666666666666,
              "#ed7953"
             ],
             [
              0.7777777777777778,
              "#fb9f3a"
             ],
             [
              0.8888888888888888,
              "#fdca26"
             ],
             [
              1,
              "#f0f921"
             ]
            ],
            "type": "heatmapgl"
           }
          ],
          "histogram": [
           {
            "marker": {
             "colorbar": {
              "outlinewidth": 0,
              "ticks": ""
             }
            },
            "type": "histogram"
           }
          ],
          "histogram2d": [
           {
            "colorbar": {
             "outlinewidth": 0,
             "ticks": ""
            },
            "colorscale": [
             [
              0,
              "#0d0887"
             ],
             [
              0.1111111111111111,
              "#46039f"
             ],
             [
              0.2222222222222222,
              "#7201a8"
             ],
             [
              0.3333333333333333,
              "#9c179e"
             ],
             [
              0.4444444444444444,
              "#bd3786"
             ],
             [
              0.5555555555555556,
              "#d8576b"
             ],
             [
              0.6666666666666666,
              "#ed7953"
             ],
             [
              0.7777777777777778,
              "#fb9f3a"
             ],
             [
              0.8888888888888888,
              "#fdca26"
             ],
             [
              1,
              "#f0f921"
             ]
            ],
            "type": "histogram2d"
           }
          ],
          "histogram2dcontour": [
           {
            "colorbar": {
             "outlinewidth": 0,
             "ticks": ""
            },
            "colorscale": [
             [
              0,
              "#0d0887"
             ],
             [
              0.1111111111111111,
              "#46039f"
             ],
             [
              0.2222222222222222,
              "#7201a8"
             ],
             [
              0.3333333333333333,
              "#9c179e"
             ],
             [
              0.4444444444444444,
              "#bd3786"
             ],
             [
              0.5555555555555556,
              "#d8576b"
             ],
             [
              0.6666666666666666,
              "#ed7953"
             ],
             [
              0.7777777777777778,
              "#fb9f3a"
             ],
             [
              0.8888888888888888,
              "#fdca26"
             ],
             [
              1,
              "#f0f921"
             ]
            ],
            "type": "histogram2dcontour"
           }
          ],
          "mesh3d": [
           {
            "colorbar": {
             "outlinewidth": 0,
             "ticks": ""
            },
            "type": "mesh3d"
           }
          ],
          "parcoords": [
           {
            "line": {
             "colorbar": {
              "outlinewidth": 0,
              "ticks": ""
             }
            },
            "type": "parcoords"
           }
          ],
          "pie": [
           {
            "automargin": true,
            "type": "pie"
           }
          ],
          "scatter": [
           {
            "marker": {
             "colorbar": {
              "outlinewidth": 0,
              "ticks": ""
             }
            },
            "type": "scatter"
           }
          ],
          "scatter3d": [
           {
            "line": {
             "colorbar": {
              "outlinewidth": 0,
              "ticks": ""
             }
            },
            "marker": {
             "colorbar": {
              "outlinewidth": 0,
              "ticks": ""
             }
            },
            "type": "scatter3d"
           }
          ],
          "scattercarpet": [
           {
            "marker": {
             "colorbar": {
              "outlinewidth": 0,
              "ticks": ""
             }
            },
            "type": "scattercarpet"
           }
          ],
          "scattergeo": [
           {
            "marker": {
             "colorbar": {
              "outlinewidth": 0,
              "ticks": ""
             }
            },
            "type": "scattergeo"
           }
          ],
          "scattergl": [
           {
            "marker": {
             "colorbar": {
              "outlinewidth": 0,
              "ticks": ""
             }
            },
            "type": "scattergl"
           }
          ],
          "scattermapbox": [
           {
            "marker": {
             "colorbar": {
              "outlinewidth": 0,
              "ticks": ""
             }
            },
            "type": "scattermapbox"
           }
          ],
          "scatterpolar": [
           {
            "marker": {
             "colorbar": {
              "outlinewidth": 0,
              "ticks": ""
             }
            },
            "type": "scatterpolar"
           }
          ],
          "scatterpolargl": [
           {
            "marker": {
             "colorbar": {
              "outlinewidth": 0,
              "ticks": ""
             }
            },
            "type": "scatterpolargl"
           }
          ],
          "scatterternary": [
           {
            "marker": {
             "colorbar": {
              "outlinewidth": 0,
              "ticks": ""
             }
            },
            "type": "scatterternary"
           }
          ],
          "surface": [
           {
            "colorbar": {
             "outlinewidth": 0,
             "ticks": ""
            },
            "colorscale": [
             [
              0,
              "#0d0887"
             ],
             [
              0.1111111111111111,
              "#46039f"
             ],
             [
              0.2222222222222222,
              "#7201a8"
             ],
             [
              0.3333333333333333,
              "#9c179e"
             ],
             [
              0.4444444444444444,
              "#bd3786"
             ],
             [
              0.5555555555555556,
              "#d8576b"
             ],
             [
              0.6666666666666666,
              "#ed7953"
             ],
             [
              0.7777777777777778,
              "#fb9f3a"
             ],
             [
              0.8888888888888888,
              "#fdca26"
             ],
             [
              1,
              "#f0f921"
             ]
            ],
            "type": "surface"
           }
          ],
          "table": [
           {
            "cells": {
             "fill": {
              "color": "#EBF0F8"
             },
             "line": {
              "color": "white"
             }
            },
            "header": {
             "fill": {
              "color": "#C8D4E3"
             },
             "line": {
              "color": "white"
             }
            },
            "type": "table"
           }
          ]
         },
         "layout": {
          "annotationdefaults": {
           "arrowcolor": "#2a3f5f",
           "arrowhead": 0,
           "arrowwidth": 1
          },
          "coloraxis": {
           "colorbar": {
            "outlinewidth": 0,
            "ticks": ""
           }
          },
          "colorscale": {
           "diverging": [
            [
             0,
             "#8e0152"
            ],
            [
             0.1,
             "#c51b7d"
            ],
            [
             0.2,
             "#de77ae"
            ],
            [
             0.3,
             "#f1b6da"
            ],
            [
             0.4,
             "#fde0ef"
            ],
            [
             0.5,
             "#f7f7f7"
            ],
            [
             0.6,
             "#e6f5d0"
            ],
            [
             0.7,
             "#b8e186"
            ],
            [
             0.8,
             "#7fbc41"
            ],
            [
             0.9,
             "#4d9221"
            ],
            [
             1,
             "#276419"
            ]
           ],
           "sequential": [
            [
             0,
             "#0d0887"
            ],
            [
             0.1111111111111111,
             "#46039f"
            ],
            [
             0.2222222222222222,
             "#7201a8"
            ],
            [
             0.3333333333333333,
             "#9c179e"
            ],
            [
             0.4444444444444444,
             "#bd3786"
            ],
            [
             0.5555555555555556,
             "#d8576b"
            ],
            [
             0.6666666666666666,
             "#ed7953"
            ],
            [
             0.7777777777777778,
             "#fb9f3a"
            ],
            [
             0.8888888888888888,
             "#fdca26"
            ],
            [
             1,
             "#f0f921"
            ]
           ],
           "sequentialminus": [
            [
             0,
             "#0d0887"
            ],
            [
             0.1111111111111111,
             "#46039f"
            ],
            [
             0.2222222222222222,
             "#7201a8"
            ],
            [
             0.3333333333333333,
             "#9c179e"
            ],
            [
             0.4444444444444444,
             "#bd3786"
            ],
            [
             0.5555555555555556,
             "#d8576b"
            ],
            [
             0.6666666666666666,
             "#ed7953"
            ],
            [
             0.7777777777777778,
             "#fb9f3a"
            ],
            [
             0.8888888888888888,
             "#fdca26"
            ],
            [
             1,
             "#f0f921"
            ]
           ]
          },
          "colorway": [
           "#636efa",
           "#EF553B",
           "#00cc96",
           "#ab63fa",
           "#FFA15A",
           "#19d3f3",
           "#FF6692",
           "#B6E880",
           "#FF97FF",
           "#FECB52"
          ],
          "font": {
           "color": "#2a3f5f"
          },
          "geo": {
           "bgcolor": "white",
           "lakecolor": "white",
           "landcolor": "#E5ECF6",
           "showlakes": true,
           "showland": true,
           "subunitcolor": "white"
          },
          "hoverlabel": {
           "align": "left"
          },
          "hovermode": "closest",
          "mapbox": {
           "style": "light"
          },
          "paper_bgcolor": "white",
          "plot_bgcolor": "#E5ECF6",
          "polar": {
           "angularaxis": {
            "gridcolor": "white",
            "linecolor": "white",
            "ticks": ""
           },
           "bgcolor": "#E5ECF6",
           "radialaxis": {
            "gridcolor": "white",
            "linecolor": "white",
            "ticks": ""
           }
          },
          "scene": {
           "xaxis": {
            "backgroundcolor": "#E5ECF6",
            "gridcolor": "white",
            "gridwidth": 2,
            "linecolor": "white",
            "showbackground": true,
            "ticks": "",
            "zerolinecolor": "white"
           },
           "yaxis": {
            "backgroundcolor": "#E5ECF6",
            "gridcolor": "white",
            "gridwidth": 2,
            "linecolor": "white",
            "showbackground": true,
            "ticks": "",
            "zerolinecolor": "white"
           },
           "zaxis": {
            "backgroundcolor": "#E5ECF6",
            "gridcolor": "white",
            "gridwidth": 2,
            "linecolor": "white",
            "showbackground": true,
            "ticks": "",
            "zerolinecolor": "white"
           }
          },
          "shapedefaults": {
           "line": {
            "color": "#2a3f5f"
           }
          },
          "ternary": {
           "aaxis": {
            "gridcolor": "white",
            "linecolor": "white",
            "ticks": ""
           },
           "baxis": {
            "gridcolor": "white",
            "linecolor": "white",
            "ticks": ""
           },
           "bgcolor": "#E5ECF6",
           "caxis": {
            "gridcolor": "white",
            "linecolor": "white",
            "ticks": ""
           }
          },
          "title": {
           "x": 0.05
          },
          "xaxis": {
           "automargin": true,
           "gridcolor": "white",
           "linecolor": "white",
           "ticks": "",
           "title": {
            "standoff": 15
           },
           "zerolinecolor": "white",
           "zerolinewidth": 2
          },
          "yaxis": {
           "automargin": true,
           "gridcolor": "white",
           "linecolor": "white",
           "ticks": "",
           "title": {
            "standoff": 15
           },
           "zerolinecolor": "white",
           "zerolinewidth": 2
          }
         }
        },
        "violinmode": "group",
        "xaxis": {
         "anchor": "y",
         "categoryarray": [
          "ckd",
          "notckd"
         ],
         "categoryorder": "array",
         "domain": [
          0,
          1
         ],
         "title": {
          "text": "class"
         }
        },
        "yaxis": {
         "anchor": "x",
         "domain": [
          0,
          1
         ],
         "title": {
          "text": "sc"
         }
        }
       }
      },
      "text/html": [
       "<div>\n",
       "        \n",
       "        \n",
       "            <div id=\"48cafd54-9abf-4deb-b662-51293b2481de\" class=\"plotly-graph-div\" style=\"height:525px; width:100%;\"></div>\n",
       "            <script type=\"text/javascript\">\n",
       "                require([\"plotly\"], function(Plotly) {\n",
       "                    window.PLOTLYENV=window.PLOTLYENV || {};\n",
       "                    \n",
       "                if (document.getElementById(\"48cafd54-9abf-4deb-b662-51293b2481de\")) {\n",
       "                    Plotly.newPlot(\n",
       "                        '48cafd54-9abf-4deb-b662-51293b2481de',\n",
       "                        [{\"alignmentgroup\": \"True\", \"box\": {\"visible\": true}, \"hoverlabel\": {\"namelength\": 0}, \"hovertemplate\": \"class=%{x}<br>sc=%{y}\", \"legendgroup\": \"ckd\", \"marker\": {\"color\": \"#636efa\"}, \"name\": \"ckd\", \"offsetgroup\": \"ckd\", \"orientation\": \"v\", \"scalegroup\": \"True\", \"showlegend\": true, \"type\": \"violin\", \"x\": [\"ckd\", \"ckd\", \"ckd\", \"ckd\", \"ckd\", \"ckd\", \"ckd\", \"ckd\", \"ckd\", \"ckd\", \"ckd\", \"ckd\", \"ckd\", \"ckd\", \"ckd\", \"ckd\", \"ckd\", \"ckd\", \"ckd\", \"ckd\", \"ckd\", \"ckd\", \"ckd\", \"ckd\", \"ckd\", \"ckd\", \"ckd\", \"ckd\", \"ckd\", \"ckd\", \"ckd\", \"ckd\", \"ckd\", \"ckd\", \"ckd\", \"ckd\", \"ckd\", \"ckd\", \"ckd\", \"ckd\", \"ckd\", \"ckd\", \"ckd\", \"ckd\", \"ckd\", \"ckd\", \"ckd\", \"ckd\", \"ckd\", \"ckd\", \"ckd\", \"ckd\", \"ckd\", \"ckd\", \"ckd\", \"ckd\", \"ckd\", \"ckd\", \"ckd\", \"ckd\", \"ckd\", \"ckd\", \"ckd\", \"ckd\", \"ckd\", \"ckd\", \"ckd\", \"ckd\", \"ckd\", \"ckd\", \"ckd\", \"ckd\", \"ckd\", \"ckd\", \"ckd\", \"ckd\", \"ckd\", \"ckd\", \"ckd\", \"ckd\", \"ckd\", \"ckd\", \"ckd\", \"ckd\", \"ckd\", \"ckd\", \"ckd\", \"ckd\", \"ckd\", \"ckd\", \"ckd\", \"ckd\", \"ckd\", \"ckd\", \"ckd\", \"ckd\", \"ckd\", \"ckd\", \"ckd\", \"ckd\", \"ckd\", \"ckd\", \"ckd\", \"ckd\", \"ckd\", \"ckd\", \"ckd\", \"ckd\", \"ckd\", \"ckd\", \"ckd\", \"ckd\", \"ckd\", \"ckd\", \"ckd\", \"ckd\", \"ckd\", \"ckd\", \"ckd\", \"ckd\", \"ckd\", \"ckd\", \"ckd\", \"ckd\", \"ckd\", \"ckd\", \"ckd\", \"ckd\", \"ckd\", \"ckd\", \"ckd\", \"ckd\", \"ckd\", \"ckd\", \"ckd\", \"ckd\", \"ckd\", \"ckd\", \"ckd\", \"ckd\", \"ckd\", \"ckd\", \"ckd\", \"ckd\", \"ckd\", \"ckd\", \"ckd\", \"ckd\", \"ckd\", \"ckd\", \"ckd\", \"ckd\", \"ckd\", \"ckd\", \"ckd\", \"ckd\", \"ckd\", \"ckd\", \"ckd\", \"ckd\", \"ckd\", \"ckd\", \"ckd\", \"ckd\", \"ckd\", \"ckd\", \"ckd\", \"ckd\", \"ckd\", \"ckd\", \"ckd\", \"ckd\", \"ckd\", \"ckd\", \"ckd\", \"ckd\", \"ckd\", \"ckd\", \"ckd\", \"ckd\", \"ckd\", \"ckd\", \"ckd\", \"ckd\", \"ckd\", \"ckd\", \"ckd\", \"ckd\", \"ckd\", \"ckd\", \"ckd\", \"ckd\", \"ckd\", \"ckd\", \"ckd\", \"ckd\", \"ckd\", \"ckd\", \"ckd\", \"ckd\", \"ckd\", \"ckd\", \"ckd\", \"ckd\", \"ckd\", \"ckd\", \"ckd\", \"ckd\", \"ckd\", \"ckd\", \"ckd\", \"ckd\", \"ckd\", \"ckd\", \"ckd\", \"ckd\", \"ckd\", \"ckd\", \"ckd\", \"ckd\", \"ckd\", \"ckd\", \"ckd\", \"ckd\", \"ckd\", \"ckd\", \"ckd\", \"ckd\", \"ckd\", \"ckd\", \"ckd\", \"ckd\", \"ckd\", \"ckd\", \"ckd\", \"ckd\", \"ckd\", \"ckd\", \"ckd\", \"ckd\", \"ckd\", \"ckd\", \"ckd\", \"ckd\", \"ckd\", \"ckd\", \"ckd\", \"ckd\", \"ckd\", \"ckd\"], \"x0\": \" \", \"xaxis\": \"x\", \"y\": [1.2, 0.8, 1.8, 3.8, 1.4, 1.1, 0.3, 1.1, 1.9, 7.2, 4.0, 2.7, 2.1, 4.6, 4.1, 9.6, 2.2, 5.2, 1.3, 1.6, 3.9, 0.9, 7.7, 1.8, 1.4, 1.9, 2.4, 2.7, 1.4, 1.4, 7.3, 1.5, 1.5, 2.5, 5.2, 2.0, 1.8, 3.4, 4.1, 3.4, 2.1, 0.7, 1.0, 0.1, 6.3, 5.9, 1.2, 0.8, 0.9, 3.0, 3.25, 1.6, 2.2, 1.0, 3.4, 1.8, 9.7, 7.3, 4.6, 6.4, 3.2, 0.4, 0.6, 6.1, 1.8, 1.1, 1.6, 1.8, 3.3, 1.1, 0.7, 3.3, 1.3, 6.7, 6.7, 0.7, 8.5, 3.2, 3.2, 1.8, 2.8, 2.4, 1.9, 1.0, 0.2, 1.5, 1.9, 2.9, 2.2, 1.4, 3.2, 1.7, 3.6, 5.6, 1.6, 1.1, 2.7, 2.2, 6.5, 1.2, 0.9, 4.4, 2.1, 0.1, 2.0, 0.1, 6.1, 2.8, 1.0, 1.9, 2.0, 4.4, 1.2, 1.8, 1.8, 0.9, 0.5, 1.3, 1.2, 1.2, 2.2, 1.3, 0.1, 1.1, 2.5, 2.5, 4.0, 5.3, 5.6, 1.4, 9.2, 0.6, 0.2, 5.3, 0.2, 1.3, 2.8, 4.0, 1.6, 2.8, 1.2, 6.0, 7.1, 0.2, 2.3, 0.1, 1.0, 1.7, 0.5, 1.0, 0.9, 1.7, 0.8, 0.2, 0.2, 1.8, 3.3, 1.7, 1.5, 1.3, 2.1, 1.8, 1.5, 2.0, 0.8, 1.8, 3.9, 0.9, 1.5, 2.8, 1.7, 2.6, 2.9, 7.3, 7.5, 2.2, 1.7, 2.5, 2.7, 2.3, 1.9, 2.2, 0.8, 6.5, 3.3, 0.6, 1.0, 0.7, 2.5, 4.3, 1.0, 6.0, 0.9, 0.2, 1.2, 3.3, 0.1, 9.3, 3.2, 1.5, 3.0, 7.3, 2.9, 6.8, 0.2, 2.1, 3.9, 2.2, 1.5, 1.8, 0.1, 1.2, 0.1, 3.9, 1.0, 1.8, 1.8, 1.8, 0.8, 2.5, 1.8, 1.7, 1.8, 1.3, 2.2, 2.7, 7.2, 1.6, 2.5, 0.1, 1.7, 2.8, 1.8, 1.6, 1.3, 2.3, 2.0, 2.2, 0.2, 1.6, 1.4, 1.5, 6.3, 2.4, 2.8, 5.3, 0.2, 1.2, 1.7, 0.2], \"y0\": \" \", \"yaxis\": \"y\"}, {\"alignmentgroup\": \"True\", \"box\": {\"visible\": true}, \"hoverlabel\": {\"namelength\": 0}, \"hovertemplate\": \"class=%{x}<br>sc=%{y}\", \"legendgroup\": \"notckd\", \"marker\": {\"color\": \"#EF553B\"}, \"name\": \"notckd\", \"offsetgroup\": \"notckd\", \"orientation\": \"v\", \"scalegroup\": \"True\", \"showlegend\": true, \"type\": \"violin\", \"x\": [\"notckd\", \"notckd\", \"notckd\", \"notckd\", \"notckd\", \"notckd\", \"notckd\", \"notckd\", \"notckd\", \"notckd\", \"notckd\", \"notckd\", \"notckd\", \"notckd\", \"notckd\", \"notckd\", \"notckd\", \"notckd\", \"notckd\", \"notckd\", \"notckd\", \"notckd\", \"notckd\", \"notckd\", \"notckd\", \"notckd\", \"notckd\", \"notckd\", \"notckd\", \"notckd\", \"notckd\", \"notckd\", \"notckd\", \"notckd\", \"notckd\", \"notckd\", \"notckd\", \"notckd\", \"notckd\", \"notckd\", \"notckd\", \"notckd\", \"notckd\", \"notckd\", \"notckd\", \"notckd\", \"notckd\", \"notckd\", \"notckd\", \"notckd\", \"notckd\", \"notckd\", \"notckd\", \"notckd\", \"notckd\", \"notckd\", \"notckd\", \"notckd\", \"notckd\", \"notckd\", \"notckd\", \"notckd\", \"notckd\", \"notckd\", \"notckd\", \"notckd\", \"notckd\", \"notckd\", \"notckd\", \"notckd\", \"notckd\", \"notckd\", \"notckd\", \"notckd\", \"notckd\", \"notckd\", \"notckd\", \"notckd\", \"notckd\", \"notckd\", \"notckd\", \"notckd\", \"notckd\", \"notckd\", \"notckd\", \"notckd\", \"notckd\", \"notckd\", \"notckd\", \"notckd\", \"notckd\", \"notckd\", \"notckd\", \"notckd\", \"notckd\", \"notckd\", \"notckd\", \"notckd\", \"notckd\", \"notckd\", \"notckd\", \"notckd\", \"notckd\", \"notckd\", \"notckd\", \"notckd\", \"notckd\", \"notckd\", \"notckd\", \"notckd\", \"notckd\", \"notckd\", \"notckd\", \"notckd\", \"notckd\", \"notckd\", \"notckd\", \"notckd\", \"notckd\", \"notckd\", \"notckd\", \"notckd\", \"notckd\", \"notckd\", \"notckd\", \"notckd\", \"notckd\", \"notckd\", \"notckd\", \"notckd\", \"notckd\", \"notckd\", \"notckd\", \"notckd\", \"notckd\", \"notckd\", \"notckd\", \"notckd\", \"notckd\", \"notckd\", \"notckd\", \"notckd\", \"notckd\", \"notckd\", \"notckd\", \"notckd\", \"notckd\", \"notckd\", \"notckd\", \"notckd\"], \"x0\": \" \", \"xaxis\": \"x\", \"y\": [1.2, 1.0, 0.6, 1.2, 0.8, 1.2, 0.5, 0.7, 0.5, 1.2, 1.0, 1.2, 0.9, 1.2, 0.7, 0.6, 1.2, 0.9, 1.0, 1.2, 1.1, 0.5, 1.2, 0.9, 0.7, 1.2, 1.8, 1.0, 1.2, 0.6, 0.9, 1.2, 1.0, 1.8, 1.2, 0.7, 0.8, 0.6, 1.2, 0.9, 0.6, 1.0, 0.5, 1.2, 0.7, 0.9, 0.6, 1.0, 1.2, 0.5, 0.7, 0.9, 1.2, 1.1, 0.6, 0.8, 1.2, 0.5, 0.6, 1.2, 0.7, 1.1, 1.8, 0.9, 0.6, 1.8, 0.5, 1.2, 0.7, 1.1, 1.2, 1.0, 0.5, 1.1, 0.7, 1.2, 1.1, 0.8, 0.6, 0.9, 1.1, 0.7, 1.0, 1.2, 1.8, 0.5, 0.5, 0.9, 0.8, 0.5, 1.1, 0.9, 0.5, 0.8, 0.7, 1.2, 0.9, 1.0, 0.5, 1.1, 1.0, 0.9, 1.1, 0.6, 0.4, 0.8, 0.5, 1.1, 1.2, 0.6, 0.5, 0.7, 1.1, 0.5, 0.7, 1.0, 0.5, 1.1, 0.7, 0.8, 1.2, 0.5, 0.9, 1.0, 1.2, 0.5, 1.1, 0.7, 0.9, 0.6, 1.1, 0.5, 0.8, 0.7, 1.1, 0.6, 0.5, 0.9, 1.2, 0.7, 0.8, 1.1, 1.2, 0.7, 0.8, 0.5, 1.2, 0.6, 1.0, 1.1], \"y0\": \" \", \"yaxis\": \"y\"}],\n",
       "                        {\"legend\": {\"title\": {\"text\": \"class\"}, \"tracegroupgap\": 0}, \"margin\": {\"t\": 60}, \"template\": {\"data\": {\"bar\": [{\"error_x\": {\"color\": \"#2a3f5f\"}, \"error_y\": {\"color\": \"#2a3f5f\"}, \"marker\": {\"line\": {\"color\": \"#E5ECF6\", \"width\": 0.5}}, \"type\": \"bar\"}], \"barpolar\": [{\"marker\": {\"line\": {\"color\": \"#E5ECF6\", \"width\": 0.5}}, \"type\": \"barpolar\"}], \"carpet\": [{\"aaxis\": {\"endlinecolor\": \"#2a3f5f\", \"gridcolor\": \"white\", \"linecolor\": \"white\", \"minorgridcolor\": \"white\", \"startlinecolor\": \"#2a3f5f\"}, \"baxis\": {\"endlinecolor\": \"#2a3f5f\", \"gridcolor\": \"white\", \"linecolor\": \"white\", \"minorgridcolor\": \"white\", \"startlinecolor\": \"#2a3f5f\"}, \"type\": \"carpet\"}], \"choropleth\": [{\"colorbar\": {\"outlinewidth\": 0, \"ticks\": \"\"}, \"type\": \"choropleth\"}], \"contour\": [{\"colorbar\": {\"outlinewidth\": 0, \"ticks\": \"\"}, \"colorscale\": [[0.0, \"#0d0887\"], [0.1111111111111111, \"#46039f\"], [0.2222222222222222, \"#7201a8\"], [0.3333333333333333, \"#9c179e\"], [0.4444444444444444, \"#bd3786\"], [0.5555555555555556, \"#d8576b\"], [0.6666666666666666, \"#ed7953\"], [0.7777777777777778, \"#fb9f3a\"], [0.8888888888888888, \"#fdca26\"], [1.0, \"#f0f921\"]], \"type\": \"contour\"}], \"contourcarpet\": [{\"colorbar\": {\"outlinewidth\": 0, \"ticks\": \"\"}, \"type\": \"contourcarpet\"}], \"heatmap\": [{\"colorbar\": {\"outlinewidth\": 0, \"ticks\": \"\"}, \"colorscale\": [[0.0, \"#0d0887\"], [0.1111111111111111, \"#46039f\"], [0.2222222222222222, \"#7201a8\"], [0.3333333333333333, \"#9c179e\"], [0.4444444444444444, \"#bd3786\"], [0.5555555555555556, \"#d8576b\"], [0.6666666666666666, \"#ed7953\"], [0.7777777777777778, \"#fb9f3a\"], [0.8888888888888888, \"#fdca26\"], [1.0, \"#f0f921\"]], \"type\": \"heatmap\"}], \"heatmapgl\": [{\"colorbar\": {\"outlinewidth\": 0, \"ticks\": \"\"}, \"colorscale\": [[0.0, \"#0d0887\"], [0.1111111111111111, \"#46039f\"], [0.2222222222222222, \"#7201a8\"], [0.3333333333333333, \"#9c179e\"], [0.4444444444444444, \"#bd3786\"], [0.5555555555555556, \"#d8576b\"], [0.6666666666666666, \"#ed7953\"], [0.7777777777777778, \"#fb9f3a\"], [0.8888888888888888, \"#fdca26\"], [1.0, \"#f0f921\"]], \"type\": \"heatmapgl\"}], \"histogram\": [{\"marker\": {\"colorbar\": {\"outlinewidth\": 0, \"ticks\": \"\"}}, \"type\": \"histogram\"}], \"histogram2d\": [{\"colorbar\": {\"outlinewidth\": 0, \"ticks\": \"\"}, \"colorscale\": [[0.0, \"#0d0887\"], [0.1111111111111111, \"#46039f\"], [0.2222222222222222, \"#7201a8\"], [0.3333333333333333, \"#9c179e\"], [0.4444444444444444, \"#bd3786\"], [0.5555555555555556, \"#d8576b\"], [0.6666666666666666, \"#ed7953\"], [0.7777777777777778, \"#fb9f3a\"], [0.8888888888888888, \"#fdca26\"], [1.0, \"#f0f921\"]], \"type\": \"histogram2d\"}], \"histogram2dcontour\": [{\"colorbar\": {\"outlinewidth\": 0, \"ticks\": \"\"}, \"colorscale\": [[0.0, \"#0d0887\"], [0.1111111111111111, \"#46039f\"], [0.2222222222222222, \"#7201a8\"], [0.3333333333333333, \"#9c179e\"], [0.4444444444444444, \"#bd3786\"], [0.5555555555555556, \"#d8576b\"], [0.6666666666666666, \"#ed7953\"], [0.7777777777777778, \"#fb9f3a\"], [0.8888888888888888, \"#fdca26\"], [1.0, \"#f0f921\"]], \"type\": \"histogram2dcontour\"}], \"mesh3d\": [{\"colorbar\": {\"outlinewidth\": 0, \"ticks\": \"\"}, \"type\": \"mesh3d\"}], \"parcoords\": [{\"line\": {\"colorbar\": {\"outlinewidth\": 0, \"ticks\": \"\"}}, \"type\": \"parcoords\"}], \"pie\": [{\"automargin\": true, \"type\": \"pie\"}], \"scatter\": [{\"marker\": {\"colorbar\": {\"outlinewidth\": 0, \"ticks\": \"\"}}, \"type\": \"scatter\"}], \"scatter3d\": [{\"line\": {\"colorbar\": {\"outlinewidth\": 0, \"ticks\": \"\"}}, \"marker\": {\"colorbar\": {\"outlinewidth\": 0, \"ticks\": \"\"}}, \"type\": \"scatter3d\"}], \"scattercarpet\": [{\"marker\": {\"colorbar\": {\"outlinewidth\": 0, \"ticks\": \"\"}}, \"type\": \"scattercarpet\"}], \"scattergeo\": [{\"marker\": {\"colorbar\": {\"outlinewidth\": 0, \"ticks\": \"\"}}, \"type\": \"scattergeo\"}], \"scattergl\": [{\"marker\": {\"colorbar\": {\"outlinewidth\": 0, \"ticks\": \"\"}}, \"type\": \"scattergl\"}], \"scattermapbox\": [{\"marker\": {\"colorbar\": {\"outlinewidth\": 0, \"ticks\": \"\"}}, \"type\": \"scattermapbox\"}], \"scatterpolar\": [{\"marker\": {\"colorbar\": {\"outlinewidth\": 0, \"ticks\": \"\"}}, \"type\": \"scatterpolar\"}], \"scatterpolargl\": [{\"marker\": {\"colorbar\": {\"outlinewidth\": 0, \"ticks\": \"\"}}, \"type\": \"scatterpolargl\"}], \"scatterternary\": [{\"marker\": {\"colorbar\": {\"outlinewidth\": 0, \"ticks\": \"\"}}, \"type\": \"scatterternary\"}], \"surface\": [{\"colorbar\": {\"outlinewidth\": 0, \"ticks\": \"\"}, \"colorscale\": [[0.0, \"#0d0887\"], [0.1111111111111111, \"#46039f\"], [0.2222222222222222, \"#7201a8\"], [0.3333333333333333, \"#9c179e\"], [0.4444444444444444, \"#bd3786\"], [0.5555555555555556, \"#d8576b\"], [0.6666666666666666, \"#ed7953\"], [0.7777777777777778, \"#fb9f3a\"], [0.8888888888888888, \"#fdca26\"], [1.0, \"#f0f921\"]], \"type\": \"surface\"}], \"table\": [{\"cells\": {\"fill\": {\"color\": \"#EBF0F8\"}, \"line\": {\"color\": \"white\"}}, \"header\": {\"fill\": {\"color\": \"#C8D4E3\"}, \"line\": {\"color\": \"white\"}}, \"type\": \"table\"}]}, \"layout\": {\"annotationdefaults\": {\"arrowcolor\": \"#2a3f5f\", \"arrowhead\": 0, \"arrowwidth\": 1}, \"coloraxis\": {\"colorbar\": {\"outlinewidth\": 0, \"ticks\": \"\"}}, \"colorscale\": {\"diverging\": [[0, \"#8e0152\"], [0.1, \"#c51b7d\"], [0.2, \"#de77ae\"], [0.3, \"#f1b6da\"], [0.4, \"#fde0ef\"], [0.5, \"#f7f7f7\"], [0.6, \"#e6f5d0\"], [0.7, \"#b8e186\"], [0.8, \"#7fbc41\"], [0.9, \"#4d9221\"], [1, \"#276419\"]], \"sequential\": [[0.0, \"#0d0887\"], [0.1111111111111111, \"#46039f\"], [0.2222222222222222, \"#7201a8\"], [0.3333333333333333, \"#9c179e\"], [0.4444444444444444, \"#bd3786\"], [0.5555555555555556, \"#d8576b\"], [0.6666666666666666, \"#ed7953\"], [0.7777777777777778, \"#fb9f3a\"], [0.8888888888888888, \"#fdca26\"], [1.0, \"#f0f921\"]], \"sequentialminus\": [[0.0, \"#0d0887\"], [0.1111111111111111, \"#46039f\"], [0.2222222222222222, \"#7201a8\"], [0.3333333333333333, \"#9c179e\"], [0.4444444444444444, \"#bd3786\"], [0.5555555555555556, \"#d8576b\"], [0.6666666666666666, \"#ed7953\"], [0.7777777777777778, \"#fb9f3a\"], [0.8888888888888888, \"#fdca26\"], [1.0, \"#f0f921\"]]}, \"colorway\": [\"#636efa\", \"#EF553B\", \"#00cc96\", \"#ab63fa\", \"#FFA15A\", \"#19d3f3\", \"#FF6692\", \"#B6E880\", \"#FF97FF\", \"#FECB52\"], \"font\": {\"color\": \"#2a3f5f\"}, \"geo\": {\"bgcolor\": \"white\", \"lakecolor\": \"white\", \"landcolor\": \"#E5ECF6\", \"showlakes\": true, \"showland\": true, \"subunitcolor\": \"white\"}, \"hoverlabel\": {\"align\": \"left\"}, \"hovermode\": \"closest\", \"mapbox\": {\"style\": \"light\"}, \"paper_bgcolor\": \"white\", \"plot_bgcolor\": \"#E5ECF6\", \"polar\": {\"angularaxis\": {\"gridcolor\": \"white\", \"linecolor\": \"white\", \"ticks\": \"\"}, \"bgcolor\": \"#E5ECF6\", \"radialaxis\": {\"gridcolor\": \"white\", \"linecolor\": \"white\", \"ticks\": \"\"}}, \"scene\": {\"xaxis\": {\"backgroundcolor\": \"#E5ECF6\", \"gridcolor\": \"white\", \"gridwidth\": 2, \"linecolor\": \"white\", \"showbackground\": true, \"ticks\": \"\", \"zerolinecolor\": \"white\"}, \"yaxis\": {\"backgroundcolor\": \"#E5ECF6\", \"gridcolor\": \"white\", \"gridwidth\": 2, \"linecolor\": \"white\", \"showbackground\": true, \"ticks\": \"\", \"zerolinecolor\": \"white\"}, \"zaxis\": {\"backgroundcolor\": \"#E5ECF6\", \"gridcolor\": \"white\", \"gridwidth\": 2, \"linecolor\": \"white\", \"showbackground\": true, \"ticks\": \"\", \"zerolinecolor\": \"white\"}}, \"shapedefaults\": {\"line\": {\"color\": \"#2a3f5f\"}}, \"ternary\": {\"aaxis\": {\"gridcolor\": \"white\", \"linecolor\": \"white\", \"ticks\": \"\"}, \"baxis\": {\"gridcolor\": \"white\", \"linecolor\": \"white\", \"ticks\": \"\"}, \"bgcolor\": \"#E5ECF6\", \"caxis\": {\"gridcolor\": \"white\", \"linecolor\": \"white\", \"ticks\": \"\"}}, \"title\": {\"x\": 0.05}, \"xaxis\": {\"automargin\": true, \"gridcolor\": \"white\", \"linecolor\": \"white\", \"ticks\": \"\", \"title\": {\"standoff\": 15}, \"zerolinecolor\": \"white\", \"zerolinewidth\": 2}, \"yaxis\": {\"automargin\": true, \"gridcolor\": \"white\", \"linecolor\": \"white\", \"ticks\": \"\", \"title\": {\"standoff\": 15}, \"zerolinecolor\": \"white\", \"zerolinewidth\": 2}}}, \"violinmode\": \"group\", \"xaxis\": {\"anchor\": \"y\", \"categoryarray\": [\"ckd\", \"notckd\"], \"categoryorder\": \"array\", \"domain\": [0.0, 1.0], \"title\": {\"text\": \"class\"}}, \"yaxis\": {\"anchor\": \"x\", \"domain\": [0.0, 1.0], \"title\": {\"text\": \"sc\"}}},\n",
       "                        {\"responsive\": true}\n",
       "                    ).then(function(){\n",
       "                            \n",
       "var gd = document.getElementById('48cafd54-9abf-4deb-b662-51293b2481de');\n",
       "var x = new MutationObserver(function (mutations, observer) {{\n",
       "        var display = window.getComputedStyle(gd).display;\n",
       "        if (!display || display === 'none') {{\n",
       "            console.log([gd, 'removed!']);\n",
       "            Plotly.purge(gd);\n",
       "            observer.disconnect();\n",
       "        }}\n",
       "}});\n",
       "\n",
       "// Listen for the removal of the full notebook cells\n",
       "var notebookContainer = gd.closest('#notebook-container');\n",
       "if (notebookContainer) {{\n",
       "    x.observe(notebookContainer, {childList: true});\n",
       "}}\n",
       "\n",
       "// Listen for the clearing of the current output cell\n",
       "var outputEl = gd.closest('.output');\n",
       "if (outputEl) {{\n",
       "    x.observe(outputEl, {childList: true});\n",
       "}}\n",
       "\n",
       "                        })\n",
       "                };\n",
       "                });\n",
       "            </script>\n",
       "        </div>"
      ]
     },
     "metadata": {},
     "output_type": "display_data"
    }
   ],
   "source": [
    "fig = px.violin(ckd_copy, y='sc', x=\"class\", color=\"class\", box=True, template = None)\n",
    "fig.show()"
   ]
  },
  {
   "cell_type": "markdown",
   "metadata": {},
   "source": [
    "# Working on sod - sodium column "
   ]
  },
  {
   "cell_type": "code",
   "execution_count": 946,
   "metadata": {},
   "outputs": [
    {
     "data": {
      "text/plain": [
       "array(['?', '111', '142', '104', '114', '131', '138', '135', '130', '141',\n",
       "       '139', '4.5', '136', '129', '140', '132', '133', '134', '125',\n",
       "       '163', '137', '128', '143', '127', '146', '126', '122', '147',\n",
       "       '124', '115', '145', '113', '120', '150', '144'], dtype=object)"
      ]
     },
     "execution_count": 946,
     "metadata": {},
     "output_type": "execute_result"
    }
   ],
   "source": [
    "ckd_copy['sod'].unique()"
   ]
  },
  {
   "cell_type": "code",
   "execution_count": 656,
   "metadata": {},
   "outputs": [
    {
     "data": {
      "application/vnd.plotly.v1+json": {
       "config": {
        "plotlyServerURL": "https://plot.ly"
       },
       "data": [
        {
         "alignmentgroup": "True",
         "box": {
          "visible": true
         },
         "hoverlabel": {
          "namelength": 0
         },
         "hovertemplate": "class=%{x}<br>sod=%{y}",
         "legendgroup": "ckd",
         "marker": {
          "color": "#636efa"
         },
         "name": "ckd",
         "offsetgroup": "ckd",
         "orientation": "v",
         "scalegroup": "True",
         "showlegend": true,
         "type": "violin",
         "x": [
          "ckd",
          "ckd",
          "ckd",
          "ckd",
          "ckd",
          "ckd",
          "ckd",
          "ckd",
          "ckd",
          "ckd",
          "ckd",
          "ckd",
          "ckd",
          "ckd",
          "ckd",
          "ckd",
          "ckd",
          "ckd",
          "ckd",
          "ckd",
          "ckd",
          "ckd",
          "ckd",
          "ckd",
          "ckd",
          "ckd",
          "ckd",
          "ckd",
          "ckd",
          "ckd",
          "ckd",
          "ckd",
          "ckd",
          "ckd",
          "ckd",
          "ckd",
          "ckd",
          "ckd",
          "ckd",
          "ckd",
          "ckd",
          "ckd",
          "ckd",
          "ckd",
          "ckd",
          "ckd",
          "ckd",
          "ckd",
          "ckd",
          "ckd",
          "ckd",
          "ckd",
          "ckd",
          "ckd",
          "ckd",
          "ckd",
          "ckd",
          "ckd",
          "ckd",
          "ckd",
          "ckd",
          "ckd",
          "ckd",
          "ckd",
          "ckd",
          "ckd",
          "ckd",
          "ckd",
          "ckd",
          "ckd",
          "ckd",
          "ckd",
          "ckd",
          "ckd",
          "ckd",
          "ckd",
          "ckd",
          "ckd",
          "ckd",
          "ckd",
          "ckd",
          "ckd",
          "ckd",
          "ckd",
          "ckd",
          "ckd",
          "ckd",
          "ckd",
          "ckd",
          "ckd",
          "ckd",
          "ckd",
          "ckd",
          "ckd",
          "ckd",
          "ckd",
          "ckd",
          "ckd",
          "ckd",
          "ckd",
          "ckd",
          "ckd",
          "ckd",
          "ckd",
          "ckd",
          "ckd",
          "ckd",
          "ckd",
          "ckd",
          "ckd",
          "ckd",
          "ckd",
          "ckd",
          "ckd",
          "ckd",
          "ckd",
          "ckd",
          "ckd",
          "ckd",
          "ckd",
          "ckd",
          "ckd",
          "ckd",
          "ckd",
          "ckd",
          "ckd",
          "ckd",
          "ckd",
          "ckd",
          "ckd",
          "ckd",
          "ckd",
          "ckd",
          "ckd",
          "ckd",
          "ckd",
          "ckd",
          "ckd",
          "ckd",
          "ckd",
          "ckd",
          "ckd",
          "ckd",
          "ckd",
          "ckd",
          "ckd",
          "ckd",
          "ckd",
          "ckd",
          "ckd",
          "ckd",
          "ckd",
          "ckd",
          "ckd",
          "ckd",
          "ckd",
          "ckd",
          "ckd",
          "ckd",
          "ckd",
          "ckd",
          "ckd",
          "ckd",
          "ckd",
          "ckd",
          "ckd",
          "ckd",
          "ckd",
          "ckd",
          "ckd",
          "ckd",
          "ckd",
          "ckd",
          "ckd",
          "ckd",
          "ckd",
          "ckd",
          "ckd",
          "ckd",
          "ckd",
          "ckd",
          "ckd",
          "ckd",
          "ckd",
          "ckd",
          "ckd",
          "ckd",
          "ckd",
          "ckd",
          "ckd",
          "ckd",
          "ckd",
          "ckd",
          "ckd",
          "ckd",
          "ckd",
          "ckd",
          "ckd",
          "ckd",
          "ckd",
          "ckd",
          "ckd",
          "ckd",
          "ckd",
          "ckd",
          "ckd",
          "ckd",
          "ckd",
          "ckd",
          "ckd",
          "ckd",
          "ckd",
          "ckd",
          "ckd",
          "ckd",
          "ckd",
          "ckd",
          "ckd",
          "ckd",
          "ckd",
          "ckd",
          "ckd",
          "ckd",
          "ckd",
          "ckd",
          "ckd",
          "ckd",
          "ckd",
          "ckd",
          "ckd",
          "ckd",
          "ckd",
          "ckd",
          "ckd",
          "ckd",
          "ckd",
          "ckd",
          "ckd",
          "ckd",
          "ckd",
          "ckd",
          "ckd",
          "ckd",
          "ckd",
          "ckd",
          "ckd",
          "ckd",
          "ckd",
          "ckd",
          "ckd"
         ],
         "x0": " ",
         "xaxis": "x",
         "y": [
          "?",
          "?",
          "?",
          "111",
          "?",
          "142",
          "104",
          "?",
          "?",
          "114",
          "?",
          "131",
          "138",
          "135",
          "130",
          "141",
          "138",
          "139",
          "135",
          "?",
          "135",
          "4.5",
          "136",
          "?",
          "129",
          "141",
          "140",
          "130",
          "?",
          "?",
          "132",
          "141",
          "133",
          "?",
          "?",
          "?",
          "133",
          "141",
          "132",
          "136",
          "?",
          "?",
          "139",
          "134",
          "134",
          "130",
          "142",
          "?",
          "125",
          "?",
          "142",
          "136",
          "?",
          "?",
          "136",
          "?",
          "131",
          "132",
          "138",
          "?",
          "138",
          "163",
          "138",
          "131",
          "?",
          "?",
          "131",
          "?",
          "?",
          "?",
          "137",
          "141",
          "?",
          "132",
          "131",
          "138",
          "132",
          "137",
          "141",
          "?",
          "133",
          "128",
          "140",
          "134",
          "135",
          "?",
          "?",
          "?",
          "?",
          "139",
          "143",
          "136",
          "133",
          "140",
          "137",
          "131",
          "?",
          "132",
          "135",
          "139",
          "133",
          "139",
          "141",
          "?",
          "?",
          "139",
          "127",
          "139",
          "141",
          "?",
          "142",
          "128",
          "?",
          "?",
          "?",
          "?",
          "?",
          "139",
          "?",
          "?",
          "137",
          "137",
          "130",
          "?",
          "?",
          "131",
          "136",
          "136",
          "133",
          "135",
          "134",
          "?",
          "136",
          "136",
          "138",
          "140",
          "146",
          "134",
          "142",
          "132",
          "142",
          "137",
          "135",
          "135",
          "136",
          "126",
          "139",
          "130",
          "?",
          "?",
          "?",
          "141",
          "133",
          "132",
          "140",
          "?",
          "?",
          "136",
          "132",
          "122",
          "147",
          "?",
          "124",
          "140",
          "137",
          "?",
          "127",
          "?",
          "?",
          "?",
          "131",
          "115",
          "130",
          "145",
          "141",
          "113",
          "125",
          "?",
          "139",
          "?",
          "?",
          "136",
          "140",
          "135",
          "133",
          "138",
          "135",
          "?",
          "142",
          "137",
          "135",
          "134",
          "?",
          "113",
          "?",
          "138",
          "122",
          "124",
          "137",
          "140",
          "140",
          "137",
          "135",
          "142",
          "145",
          "?",
          "135",
          "?",
          "?",
          "?",
          "135",
          "?",
          "132",
          "137",
          "?",
          "?",
          "?",
          "141",
          "?",
          "?",
          "?",
          "138",
          "?",
          "136",
          "138",
          "131",
          "140",
          "?",
          "?",
          "114",
          "130",
          "138",
          "?",
          "146",
          "?",
          "?",
          "136",
          "?",
          "127",
          "137",
          "?",
          "140",
          "120",
          "138",
          "135",
          "135",
          "120",
          "140",
          "138",
          "124"
         ],
         "y0": " ",
         "yaxis": "y"
        },
        {
         "alignmentgroup": "True",
         "box": {
          "visible": true
         },
         "hoverlabel": {
          "namelength": 0
         },
         "hovertemplate": "class=%{x}<br>sod=%{y}",
         "legendgroup": "notckd",
         "marker": {
          "color": "#EF553B"
         },
         "name": "notckd",
         "offsetgroup": "notckd",
         "orientation": "v",
         "scalegroup": "True",
         "showlegend": true,
         "type": "violin",
         "x": [
          "notckd",
          "notckd",
          "notckd",
          "notckd",
          "notckd",
          "notckd",
          "notckd",
          "notckd",
          "notckd",
          "notckd",
          "notckd",
          "notckd",
          "notckd",
          "notckd",
          "notckd",
          "notckd",
          "notckd",
          "notckd",
          "notckd",
          "notckd",
          "notckd",
          "notckd",
          "notckd",
          "notckd",
          "notckd",
          "notckd",
          "notckd",
          "notckd",
          "notckd",
          "notckd",
          "notckd",
          "notckd",
          "notckd",
          "notckd",
          "notckd",
          "notckd",
          "notckd",
          "notckd",
          "notckd",
          "notckd",
          "notckd",
          "notckd",
          "notckd",
          "notckd",
          "notckd",
          "notckd",
          "notckd",
          "notckd",
          "notckd",
          "notckd",
          "notckd",
          "notckd",
          "notckd",
          "notckd",
          "notckd",
          "notckd",
          "notckd",
          "notckd",
          "notckd",
          "notckd",
          "notckd",
          "notckd",
          "notckd",
          "notckd",
          "notckd",
          "notckd",
          "notckd",
          "notckd",
          "notckd",
          "notckd",
          "notckd",
          "notckd",
          "notckd",
          "notckd",
          "notckd",
          "notckd",
          "notckd",
          "notckd",
          "notckd",
          "notckd",
          "notckd",
          "notckd",
          "notckd",
          "notckd",
          "notckd",
          "notckd",
          "notckd",
          "notckd",
          "notckd",
          "notckd",
          "notckd",
          "notckd",
          "notckd",
          "notckd",
          "notckd",
          "notckd",
          "notckd",
          "notckd",
          "notckd",
          "notckd",
          "notckd",
          "notckd",
          "notckd",
          "notckd",
          "notckd",
          "notckd",
          "notckd",
          "notckd",
          "notckd",
          "notckd",
          "notckd",
          "notckd",
          "notckd",
          "notckd",
          "notckd",
          "notckd",
          "notckd",
          "notckd",
          "notckd",
          "notckd",
          "notckd",
          "notckd",
          "notckd",
          "notckd",
          "notckd",
          "notckd",
          "notckd",
          "notckd",
          "notckd",
          "notckd",
          "notckd",
          "notckd",
          "notckd",
          "notckd",
          "notckd",
          "notckd",
          "notckd",
          "notckd",
          "notckd",
          "notckd",
          "notckd",
          "notckd",
          "notckd",
          "notckd",
          "notckd",
          "notckd",
          "notckd",
          "notckd",
          "notckd",
          "notckd"
         ],
         "x0": " ",
         "xaxis": "x",
         "y": [
          "135",
          "150",
          "147",
          "135",
          "135",
          "144",
          "146",
          "135",
          "140",
          "135",
          "147",
          "139",
          "135",
          "137",
          "140",
          "150",
          "135",
          "146",
          "140",
          "142",
          "145",
          "144",
          "135",
          "140",
          "141",
          "139",
          "137",
          "135",
          "142",
          "140",
          "144",
          "147",
          "135",
          "?",
          "142",
          "135",
          "145",
          "137",
          "135",
          "143",
          "146",
          "140",
          "139",
          "150",
          "135",
          "150",
          "140",
          "146",
          "135",
          "150",
          "141",
          "147",
          "145",
          "?",
          "135",
          "138",
          "140",
          "150",
          "135",
          "139",
          "142",
          "147",
          "135",
          "142",
          "145",
          "?",
          "135",
          "139",
          "137",
          "135",
          "150",
          "144",
          "140",
          "143",
          "150",
          "140",
          "141",
          "150",
          "145",
          "146",
          "135",
          "147",
          "150",
          "142",
          "136",
          "139",
          "?",
          "141",
          "147",
          "136",
          "142",
          "150",
          "138",
          "135",
          "150",
          "138",
          "141",
          "144",
          "147",
          "150",
          "142",
          "139",
          "141",
          "150",
          "147",
          "145",
          "144",
          "140",
          "138",
          "147",
          "135",
          "138",
          "144",
          "?",
          "137",
          "145",
          "141",
          "139",
          "146",
          "144",
          "139",
          "145",
          "150",
          "142",
          "146",
          "143",
          "147",
          "145",
          "140",
          "138",
          "139",
          "142",
          "137",
          "141",
          "150",
          "146",
          "142",
          "136",
          "144",
          "140",
          "135",
          "142",
          "147",
          "141",
          "139",
          "150",
          "141",
          "137",
          "135",
          "141"
         ],
         "y0": " ",
         "yaxis": "y"
        }
       ],
       "layout": {
        "legend": {
         "title": {
          "text": "class"
         },
         "tracegroupgap": 0
        },
        "margin": {
         "t": 60
        },
        "template": {
         "data": {
          "bar": [
           {
            "error_x": {
             "color": "#2a3f5f"
            },
            "error_y": {
             "color": "#2a3f5f"
            },
            "marker": {
             "line": {
              "color": "#E5ECF6",
              "width": 0.5
             }
            },
            "type": "bar"
           }
          ],
          "barpolar": [
           {
            "marker": {
             "line": {
              "color": "#E5ECF6",
              "width": 0.5
             }
            },
            "type": "barpolar"
           }
          ],
          "carpet": [
           {
            "aaxis": {
             "endlinecolor": "#2a3f5f",
             "gridcolor": "white",
             "linecolor": "white",
             "minorgridcolor": "white",
             "startlinecolor": "#2a3f5f"
            },
            "baxis": {
             "endlinecolor": "#2a3f5f",
             "gridcolor": "white",
             "linecolor": "white",
             "minorgridcolor": "white",
             "startlinecolor": "#2a3f5f"
            },
            "type": "carpet"
           }
          ],
          "choropleth": [
           {
            "colorbar": {
             "outlinewidth": 0,
             "ticks": ""
            },
            "type": "choropleth"
           }
          ],
          "contour": [
           {
            "colorbar": {
             "outlinewidth": 0,
             "ticks": ""
            },
            "colorscale": [
             [
              0,
              "#0d0887"
             ],
             [
              0.1111111111111111,
              "#46039f"
             ],
             [
              0.2222222222222222,
              "#7201a8"
             ],
             [
              0.3333333333333333,
              "#9c179e"
             ],
             [
              0.4444444444444444,
              "#bd3786"
             ],
             [
              0.5555555555555556,
              "#d8576b"
             ],
             [
              0.6666666666666666,
              "#ed7953"
             ],
             [
              0.7777777777777778,
              "#fb9f3a"
             ],
             [
              0.8888888888888888,
              "#fdca26"
             ],
             [
              1,
              "#f0f921"
             ]
            ],
            "type": "contour"
           }
          ],
          "contourcarpet": [
           {
            "colorbar": {
             "outlinewidth": 0,
             "ticks": ""
            },
            "type": "contourcarpet"
           }
          ],
          "heatmap": [
           {
            "colorbar": {
             "outlinewidth": 0,
             "ticks": ""
            },
            "colorscale": [
             [
              0,
              "#0d0887"
             ],
             [
              0.1111111111111111,
              "#46039f"
             ],
             [
              0.2222222222222222,
              "#7201a8"
             ],
             [
              0.3333333333333333,
              "#9c179e"
             ],
             [
              0.4444444444444444,
              "#bd3786"
             ],
             [
              0.5555555555555556,
              "#d8576b"
             ],
             [
              0.6666666666666666,
              "#ed7953"
             ],
             [
              0.7777777777777778,
              "#fb9f3a"
             ],
             [
              0.8888888888888888,
              "#fdca26"
             ],
             [
              1,
              "#f0f921"
             ]
            ],
            "type": "heatmap"
           }
          ],
          "heatmapgl": [
           {
            "colorbar": {
             "outlinewidth": 0,
             "ticks": ""
            },
            "colorscale": [
             [
              0,
              "#0d0887"
             ],
             [
              0.1111111111111111,
              "#46039f"
             ],
             [
              0.2222222222222222,
              "#7201a8"
             ],
             [
              0.3333333333333333,
              "#9c179e"
             ],
             [
              0.4444444444444444,
              "#bd3786"
             ],
             [
              0.5555555555555556,
              "#d8576b"
             ],
             [
              0.6666666666666666,
              "#ed7953"
             ],
             [
              0.7777777777777778,
              "#fb9f3a"
             ],
             [
              0.8888888888888888,
              "#fdca26"
             ],
             [
              1,
              "#f0f921"
             ]
            ],
            "type": "heatmapgl"
           }
          ],
          "histogram": [
           {
            "marker": {
             "colorbar": {
              "outlinewidth": 0,
              "ticks": ""
             }
            },
            "type": "histogram"
           }
          ],
          "histogram2d": [
           {
            "colorbar": {
             "outlinewidth": 0,
             "ticks": ""
            },
            "colorscale": [
             [
              0,
              "#0d0887"
             ],
             [
              0.1111111111111111,
              "#46039f"
             ],
             [
              0.2222222222222222,
              "#7201a8"
             ],
             [
              0.3333333333333333,
              "#9c179e"
             ],
             [
              0.4444444444444444,
              "#bd3786"
             ],
             [
              0.5555555555555556,
              "#d8576b"
             ],
             [
              0.6666666666666666,
              "#ed7953"
             ],
             [
              0.7777777777777778,
              "#fb9f3a"
             ],
             [
              0.8888888888888888,
              "#fdca26"
             ],
             [
              1,
              "#f0f921"
             ]
            ],
            "type": "histogram2d"
           }
          ],
          "histogram2dcontour": [
           {
            "colorbar": {
             "outlinewidth": 0,
             "ticks": ""
            },
            "colorscale": [
             [
              0,
              "#0d0887"
             ],
             [
              0.1111111111111111,
              "#46039f"
             ],
             [
              0.2222222222222222,
              "#7201a8"
             ],
             [
              0.3333333333333333,
              "#9c179e"
             ],
             [
              0.4444444444444444,
              "#bd3786"
             ],
             [
              0.5555555555555556,
              "#d8576b"
             ],
             [
              0.6666666666666666,
              "#ed7953"
             ],
             [
              0.7777777777777778,
              "#fb9f3a"
             ],
             [
              0.8888888888888888,
              "#fdca26"
             ],
             [
              1,
              "#f0f921"
             ]
            ],
            "type": "histogram2dcontour"
           }
          ],
          "mesh3d": [
           {
            "colorbar": {
             "outlinewidth": 0,
             "ticks": ""
            },
            "type": "mesh3d"
           }
          ],
          "parcoords": [
           {
            "line": {
             "colorbar": {
              "outlinewidth": 0,
              "ticks": ""
             }
            },
            "type": "parcoords"
           }
          ],
          "pie": [
           {
            "automargin": true,
            "type": "pie"
           }
          ],
          "scatter": [
           {
            "marker": {
             "colorbar": {
              "outlinewidth": 0,
              "ticks": ""
             }
            },
            "type": "scatter"
           }
          ],
          "scatter3d": [
           {
            "line": {
             "colorbar": {
              "outlinewidth": 0,
              "ticks": ""
             }
            },
            "marker": {
             "colorbar": {
              "outlinewidth": 0,
              "ticks": ""
             }
            },
            "type": "scatter3d"
           }
          ],
          "scattercarpet": [
           {
            "marker": {
             "colorbar": {
              "outlinewidth": 0,
              "ticks": ""
             }
            },
            "type": "scattercarpet"
           }
          ],
          "scattergeo": [
           {
            "marker": {
             "colorbar": {
              "outlinewidth": 0,
              "ticks": ""
             }
            },
            "type": "scattergeo"
           }
          ],
          "scattergl": [
           {
            "marker": {
             "colorbar": {
              "outlinewidth": 0,
              "ticks": ""
             }
            },
            "type": "scattergl"
           }
          ],
          "scattermapbox": [
           {
            "marker": {
             "colorbar": {
              "outlinewidth": 0,
              "ticks": ""
             }
            },
            "type": "scattermapbox"
           }
          ],
          "scatterpolar": [
           {
            "marker": {
             "colorbar": {
              "outlinewidth": 0,
              "ticks": ""
             }
            },
            "type": "scatterpolar"
           }
          ],
          "scatterpolargl": [
           {
            "marker": {
             "colorbar": {
              "outlinewidth": 0,
              "ticks": ""
             }
            },
            "type": "scatterpolargl"
           }
          ],
          "scatterternary": [
           {
            "marker": {
             "colorbar": {
              "outlinewidth": 0,
              "ticks": ""
             }
            },
            "type": "scatterternary"
           }
          ],
          "surface": [
           {
            "colorbar": {
             "outlinewidth": 0,
             "ticks": ""
            },
            "colorscale": [
             [
              0,
              "#0d0887"
             ],
             [
              0.1111111111111111,
              "#46039f"
             ],
             [
              0.2222222222222222,
              "#7201a8"
             ],
             [
              0.3333333333333333,
              "#9c179e"
             ],
             [
              0.4444444444444444,
              "#bd3786"
             ],
             [
              0.5555555555555556,
              "#d8576b"
             ],
             [
              0.6666666666666666,
              "#ed7953"
             ],
             [
              0.7777777777777778,
              "#fb9f3a"
             ],
             [
              0.8888888888888888,
              "#fdca26"
             ],
             [
              1,
              "#f0f921"
             ]
            ],
            "type": "surface"
           }
          ],
          "table": [
           {
            "cells": {
             "fill": {
              "color": "#EBF0F8"
             },
             "line": {
              "color": "white"
             }
            },
            "header": {
             "fill": {
              "color": "#C8D4E3"
             },
             "line": {
              "color": "white"
             }
            },
            "type": "table"
           }
          ]
         },
         "layout": {
          "annotationdefaults": {
           "arrowcolor": "#2a3f5f",
           "arrowhead": 0,
           "arrowwidth": 1
          },
          "coloraxis": {
           "colorbar": {
            "outlinewidth": 0,
            "ticks": ""
           }
          },
          "colorscale": {
           "diverging": [
            [
             0,
             "#8e0152"
            ],
            [
             0.1,
             "#c51b7d"
            ],
            [
             0.2,
             "#de77ae"
            ],
            [
             0.3,
             "#f1b6da"
            ],
            [
             0.4,
             "#fde0ef"
            ],
            [
             0.5,
             "#f7f7f7"
            ],
            [
             0.6,
             "#e6f5d0"
            ],
            [
             0.7,
             "#b8e186"
            ],
            [
             0.8,
             "#7fbc41"
            ],
            [
             0.9,
             "#4d9221"
            ],
            [
             1,
             "#276419"
            ]
           ],
           "sequential": [
            [
             0,
             "#0d0887"
            ],
            [
             0.1111111111111111,
             "#46039f"
            ],
            [
             0.2222222222222222,
             "#7201a8"
            ],
            [
             0.3333333333333333,
             "#9c179e"
            ],
            [
             0.4444444444444444,
             "#bd3786"
            ],
            [
             0.5555555555555556,
             "#d8576b"
            ],
            [
             0.6666666666666666,
             "#ed7953"
            ],
            [
             0.7777777777777778,
             "#fb9f3a"
            ],
            [
             0.8888888888888888,
             "#fdca26"
            ],
            [
             1,
             "#f0f921"
            ]
           ],
           "sequentialminus": [
            [
             0,
             "#0d0887"
            ],
            [
             0.1111111111111111,
             "#46039f"
            ],
            [
             0.2222222222222222,
             "#7201a8"
            ],
            [
             0.3333333333333333,
             "#9c179e"
            ],
            [
             0.4444444444444444,
             "#bd3786"
            ],
            [
             0.5555555555555556,
             "#d8576b"
            ],
            [
             0.6666666666666666,
             "#ed7953"
            ],
            [
             0.7777777777777778,
             "#fb9f3a"
            ],
            [
             0.8888888888888888,
             "#fdca26"
            ],
            [
             1,
             "#f0f921"
            ]
           ]
          },
          "colorway": [
           "#636efa",
           "#EF553B",
           "#00cc96",
           "#ab63fa",
           "#FFA15A",
           "#19d3f3",
           "#FF6692",
           "#B6E880",
           "#FF97FF",
           "#FECB52"
          ],
          "font": {
           "color": "#2a3f5f"
          },
          "geo": {
           "bgcolor": "white",
           "lakecolor": "white",
           "landcolor": "#E5ECF6",
           "showlakes": true,
           "showland": true,
           "subunitcolor": "white"
          },
          "hoverlabel": {
           "align": "left"
          },
          "hovermode": "closest",
          "mapbox": {
           "style": "light"
          },
          "paper_bgcolor": "white",
          "plot_bgcolor": "#E5ECF6",
          "polar": {
           "angularaxis": {
            "gridcolor": "white",
            "linecolor": "white",
            "ticks": ""
           },
           "bgcolor": "#E5ECF6",
           "radialaxis": {
            "gridcolor": "white",
            "linecolor": "white",
            "ticks": ""
           }
          },
          "scene": {
           "xaxis": {
            "backgroundcolor": "#E5ECF6",
            "gridcolor": "white",
            "gridwidth": 2,
            "linecolor": "white",
            "showbackground": true,
            "ticks": "",
            "zerolinecolor": "white"
           },
           "yaxis": {
            "backgroundcolor": "#E5ECF6",
            "gridcolor": "white",
            "gridwidth": 2,
            "linecolor": "white",
            "showbackground": true,
            "ticks": "",
            "zerolinecolor": "white"
           },
           "zaxis": {
            "backgroundcolor": "#E5ECF6",
            "gridcolor": "white",
            "gridwidth": 2,
            "linecolor": "white",
            "showbackground": true,
            "ticks": "",
            "zerolinecolor": "white"
           }
          },
          "shapedefaults": {
           "line": {
            "color": "#2a3f5f"
           }
          },
          "ternary": {
           "aaxis": {
            "gridcolor": "white",
            "linecolor": "white",
            "ticks": ""
           },
           "baxis": {
            "gridcolor": "white",
            "linecolor": "white",
            "ticks": ""
           },
           "bgcolor": "#E5ECF6",
           "caxis": {
            "gridcolor": "white",
            "linecolor": "white",
            "ticks": ""
           }
          },
          "title": {
           "x": 0.05
          },
          "xaxis": {
           "automargin": true,
           "gridcolor": "white",
           "linecolor": "white",
           "ticks": "",
           "title": {
            "standoff": 15
           },
           "zerolinecolor": "white",
           "zerolinewidth": 2
          },
          "yaxis": {
           "automargin": true,
           "gridcolor": "white",
           "linecolor": "white",
           "ticks": "",
           "title": {
            "standoff": 15
           },
           "zerolinecolor": "white",
           "zerolinewidth": 2
          }
         }
        },
        "violinmode": "group",
        "xaxis": {
         "anchor": "y",
         "categoryarray": [
          "ckd",
          "notckd"
         ],
         "categoryorder": "array",
         "domain": [
          0,
          1
         ],
         "title": {
          "text": "class"
         }
        },
        "yaxis": {
         "anchor": "x",
         "domain": [
          0,
          1
         ],
         "title": {
          "text": "sod"
         }
        }
       }
      },
      "text/html": [
       "<div>\n",
       "        \n",
       "        \n",
       "            <div id=\"ed4449df-9d3f-42c9-a20b-6abdce606c50\" class=\"plotly-graph-div\" style=\"height:525px; width:100%;\"></div>\n",
       "            <script type=\"text/javascript\">\n",
       "                require([\"plotly\"], function(Plotly) {\n",
       "                    window.PLOTLYENV=window.PLOTLYENV || {};\n",
       "                    \n",
       "                if (document.getElementById(\"ed4449df-9d3f-42c9-a20b-6abdce606c50\")) {\n",
       "                    Plotly.newPlot(\n",
       "                        'ed4449df-9d3f-42c9-a20b-6abdce606c50',\n",
       "                        [{\"alignmentgroup\": \"True\", \"box\": {\"visible\": true}, \"hoverlabel\": {\"namelength\": 0}, \"hovertemplate\": \"class=%{x}<br>sod=%{y}\", \"legendgroup\": \"ckd\", \"marker\": {\"color\": \"#636efa\"}, \"name\": \"ckd\", \"offsetgroup\": \"ckd\", \"orientation\": \"v\", \"scalegroup\": \"True\", \"showlegend\": true, \"type\": \"violin\", \"x\": [\"ckd\", \"ckd\", \"ckd\", \"ckd\", \"ckd\", \"ckd\", \"ckd\", \"ckd\", \"ckd\", \"ckd\", \"ckd\", \"ckd\", \"ckd\", \"ckd\", \"ckd\", \"ckd\", \"ckd\", \"ckd\", \"ckd\", \"ckd\", \"ckd\", \"ckd\", \"ckd\", \"ckd\", \"ckd\", \"ckd\", \"ckd\", \"ckd\", \"ckd\", \"ckd\", \"ckd\", \"ckd\", \"ckd\", \"ckd\", \"ckd\", \"ckd\", \"ckd\", \"ckd\", \"ckd\", \"ckd\", \"ckd\", \"ckd\", \"ckd\", \"ckd\", \"ckd\", \"ckd\", \"ckd\", \"ckd\", \"ckd\", \"ckd\", \"ckd\", \"ckd\", \"ckd\", \"ckd\", \"ckd\", \"ckd\", \"ckd\", \"ckd\", \"ckd\", \"ckd\", \"ckd\", \"ckd\", \"ckd\", \"ckd\", \"ckd\", \"ckd\", \"ckd\", \"ckd\", \"ckd\", \"ckd\", \"ckd\", \"ckd\", \"ckd\", \"ckd\", \"ckd\", \"ckd\", \"ckd\", \"ckd\", \"ckd\", \"ckd\", \"ckd\", \"ckd\", \"ckd\", \"ckd\", \"ckd\", \"ckd\", \"ckd\", \"ckd\", \"ckd\", \"ckd\", \"ckd\", \"ckd\", \"ckd\", \"ckd\", \"ckd\", \"ckd\", \"ckd\", \"ckd\", \"ckd\", \"ckd\", \"ckd\", \"ckd\", \"ckd\", \"ckd\", \"ckd\", \"ckd\", \"ckd\", \"ckd\", \"ckd\", \"ckd\", \"ckd\", \"ckd\", \"ckd\", \"ckd\", \"ckd\", \"ckd\", \"ckd\", \"ckd\", \"ckd\", \"ckd\", \"ckd\", \"ckd\", \"ckd\", \"ckd\", \"ckd\", \"ckd\", \"ckd\", \"ckd\", \"ckd\", \"ckd\", \"ckd\", \"ckd\", \"ckd\", \"ckd\", \"ckd\", \"ckd\", \"ckd\", \"ckd\", \"ckd\", \"ckd\", \"ckd\", \"ckd\", \"ckd\", \"ckd\", \"ckd\", \"ckd\", \"ckd\", \"ckd\", \"ckd\", \"ckd\", \"ckd\", \"ckd\", \"ckd\", \"ckd\", \"ckd\", \"ckd\", \"ckd\", \"ckd\", \"ckd\", \"ckd\", \"ckd\", \"ckd\", \"ckd\", \"ckd\", \"ckd\", \"ckd\", \"ckd\", \"ckd\", \"ckd\", \"ckd\", \"ckd\", \"ckd\", \"ckd\", \"ckd\", \"ckd\", \"ckd\", \"ckd\", \"ckd\", \"ckd\", \"ckd\", \"ckd\", \"ckd\", \"ckd\", \"ckd\", \"ckd\", \"ckd\", \"ckd\", \"ckd\", \"ckd\", \"ckd\", \"ckd\", \"ckd\", \"ckd\", \"ckd\", \"ckd\", \"ckd\", \"ckd\", \"ckd\", \"ckd\", \"ckd\", \"ckd\", \"ckd\", \"ckd\", \"ckd\", \"ckd\", \"ckd\", \"ckd\", \"ckd\", \"ckd\", \"ckd\", \"ckd\", \"ckd\", \"ckd\", \"ckd\", \"ckd\", \"ckd\", \"ckd\", \"ckd\", \"ckd\", \"ckd\", \"ckd\", \"ckd\", \"ckd\", \"ckd\", \"ckd\", \"ckd\", \"ckd\", \"ckd\", \"ckd\", \"ckd\", \"ckd\", \"ckd\", \"ckd\", \"ckd\", \"ckd\", \"ckd\", \"ckd\", \"ckd\", \"ckd\", \"ckd\", \"ckd\", \"ckd\", \"ckd\", \"ckd\", \"ckd\", \"ckd\", \"ckd\", \"ckd\", \"ckd\", \"ckd\"], \"x0\": \" \", \"xaxis\": \"x\", \"y\": [\"?\", \"?\", \"?\", \"111\", \"?\", \"142\", \"104\", \"?\", \"?\", \"114\", \"?\", \"131\", \"138\", \"135\", \"130\", \"141\", \"138\", \"139\", \"135\", \"?\", \"135\", \"4.5\", \"136\", \"?\", \"129\", \"141\", \"140\", \"130\", \"?\", \"?\", \"132\", \"141\", \"133\", \"?\", \"?\", \"?\", \"133\", \"141\", \"132\", \"136\", \"?\", \"?\", \"139\", \"134\", \"134\", \"130\", \"142\", \"?\", \"125\", \"?\", \"142\", \"136\", \"?\", \"?\", \"136\", \"?\", \"131\", \"132\", \"138\", \"?\", \"138\", \"163\", \"138\", \"131\", \"?\", \"?\", \"131\", \"?\", \"?\", \"?\", \"137\", \"141\", \"?\", \"132\", \"131\", \"138\", \"132\", \"137\", \"141\", \"?\", \"133\", \"128\", \"140\", \"134\", \"135\", \"?\", \"?\", \"?\", \"?\", \"139\", \"143\", \"136\", \"133\", \"140\", \"137\", \"131\", \"?\", \"132\", \"135\", \"139\", \"133\", \"139\", \"141\", \"?\", \"?\", \"139\", \"127\", \"139\", \"141\", \"?\", \"142\", \"128\", \"?\", \"?\", \"?\", \"?\", \"?\", \"139\", \"?\", \"?\", \"137\", \"137\", \"130\", \"?\", \"?\", \"131\", \"136\", \"136\", \"133\", \"135\", \"134\", \"?\", \"136\", \"136\", \"138\", \"140\", \"146\", \"134\", \"142\", \"132\", \"142\", \"137\", \"135\", \"135\", \"136\", \"126\", \"139\", \"130\", \"?\", \"?\", \"?\", \"141\", \"133\", \"132\", \"140\", \"?\", \"?\", \"136\", \"132\", \"122\", \"147\", \"?\", \"124\", \"140\", \"137\", \"?\", \"127\", \"?\", \"?\", \"?\", \"131\", \"115\", \"130\", \"145\", \"141\", \"113\", \"125\", \"?\", \"139\", \"?\", \"?\", \"136\", \"140\", \"135\", \"133\", \"138\", \"135\", \"?\", \"142\", \"137\", \"135\", \"134\", \"?\", \"113\", \"?\", \"138\", \"122\", \"124\", \"137\", \"140\", \"140\", \"137\", \"135\", \"142\", \"145\", \"?\", \"135\", \"?\", \"?\", \"?\", \"135\", \"?\", \"132\", \"137\", \"?\", \"?\", \"?\", \"141\", \"?\", \"?\", \"?\", \"138\", \"?\", \"136\", \"138\", \"131\", \"140\", \"?\", \"?\", \"114\", \"130\", \"138\", \"?\", \"146\", \"?\", \"?\", \"136\", \"?\", \"127\", \"137\", \"?\", \"140\", \"120\", \"138\", \"135\", \"135\", \"120\", \"140\", \"138\", \"124\"], \"y0\": \" \", \"yaxis\": \"y\"}, {\"alignmentgroup\": \"True\", \"box\": {\"visible\": true}, \"hoverlabel\": {\"namelength\": 0}, \"hovertemplate\": \"class=%{x}<br>sod=%{y}\", \"legendgroup\": \"notckd\", \"marker\": {\"color\": \"#EF553B\"}, \"name\": \"notckd\", \"offsetgroup\": \"notckd\", \"orientation\": \"v\", \"scalegroup\": \"True\", \"showlegend\": true, \"type\": \"violin\", \"x\": [\"notckd\", \"notckd\", \"notckd\", \"notckd\", \"notckd\", \"notckd\", \"notckd\", \"notckd\", \"notckd\", \"notckd\", \"notckd\", \"notckd\", \"notckd\", \"notckd\", \"notckd\", \"notckd\", \"notckd\", \"notckd\", \"notckd\", \"notckd\", \"notckd\", \"notckd\", \"notckd\", \"notckd\", \"notckd\", \"notckd\", \"notckd\", \"notckd\", \"notckd\", \"notckd\", \"notckd\", \"notckd\", \"notckd\", \"notckd\", \"notckd\", \"notckd\", \"notckd\", \"notckd\", \"notckd\", \"notckd\", \"notckd\", \"notckd\", \"notckd\", \"notckd\", \"notckd\", \"notckd\", \"notckd\", \"notckd\", \"notckd\", \"notckd\", \"notckd\", \"notckd\", \"notckd\", \"notckd\", \"notckd\", \"notckd\", \"notckd\", \"notckd\", \"notckd\", \"notckd\", \"notckd\", \"notckd\", \"notckd\", \"notckd\", \"notckd\", \"notckd\", \"notckd\", \"notckd\", \"notckd\", \"notckd\", \"notckd\", \"notckd\", \"notckd\", \"notckd\", \"notckd\", \"notckd\", \"notckd\", \"notckd\", \"notckd\", \"notckd\", \"notckd\", \"notckd\", \"notckd\", \"notckd\", \"notckd\", \"notckd\", \"notckd\", \"notckd\", \"notckd\", \"notckd\", \"notckd\", \"notckd\", \"notckd\", \"notckd\", \"notckd\", \"notckd\", \"notckd\", \"notckd\", \"notckd\", \"notckd\", \"notckd\", \"notckd\", \"notckd\", \"notckd\", \"notckd\", \"notckd\", \"notckd\", \"notckd\", \"notckd\", \"notckd\", \"notckd\", \"notckd\", \"notckd\", \"notckd\", \"notckd\", \"notckd\", \"notckd\", \"notckd\", \"notckd\", \"notckd\", \"notckd\", \"notckd\", \"notckd\", \"notckd\", \"notckd\", \"notckd\", \"notckd\", \"notckd\", \"notckd\", \"notckd\", \"notckd\", \"notckd\", \"notckd\", \"notckd\", \"notckd\", \"notckd\", \"notckd\", \"notckd\", \"notckd\", \"notckd\", \"notckd\", \"notckd\", \"notckd\", \"notckd\", \"notckd\", \"notckd\", \"notckd\", \"notckd\", \"notckd\", \"notckd\"], \"x0\": \" \", \"xaxis\": \"x\", \"y\": [\"135\", \"150\", \"147\", \"135\", \"135\", \"144\", \"146\", \"135\", \"140\", \"135\", \"147\", \"139\", \"135\", \"137\", \"140\", \"150\", \"135\", \"146\", \"140\", \"142\", \"145\", \"144\", \"135\", \"140\", \"141\", \"139\", \"137\", \"135\", \"142\", \"140\", \"144\", \"147\", \"135\", \"?\", \"142\", \"135\", \"145\", \"137\", \"135\", \"143\", \"146\", \"140\", \"139\", \"150\", \"135\", \"150\", \"140\", \"146\", \"135\", \"150\", \"141\", \"147\", \"145\", \"?\", \"135\", \"138\", \"140\", \"150\", \"135\", \"139\", \"142\", \"147\", \"135\", \"142\", \"145\", \"?\", \"135\", \"139\", \"137\", \"135\", \"150\", \"144\", \"140\", \"143\", \"150\", \"140\", \"141\", \"150\", \"145\", \"146\", \"135\", \"147\", \"150\", \"142\", \"136\", \"139\", \"?\", \"141\", \"147\", \"136\", \"142\", \"150\", \"138\", \"135\", \"150\", \"138\", \"141\", \"144\", \"147\", \"150\", \"142\", \"139\", \"141\", \"150\", \"147\", \"145\", \"144\", \"140\", \"138\", \"147\", \"135\", \"138\", \"144\", \"?\", \"137\", \"145\", \"141\", \"139\", \"146\", \"144\", \"139\", \"145\", \"150\", \"142\", \"146\", \"143\", \"147\", \"145\", \"140\", \"138\", \"139\", \"142\", \"137\", \"141\", \"150\", \"146\", \"142\", \"136\", \"144\", \"140\", \"135\", \"142\", \"147\", \"141\", \"139\", \"150\", \"141\", \"137\", \"135\", \"141\"], \"y0\": \" \", \"yaxis\": \"y\"}],\n",
       "                        {\"legend\": {\"title\": {\"text\": \"class\"}, \"tracegroupgap\": 0}, \"margin\": {\"t\": 60}, \"template\": {\"data\": {\"bar\": [{\"error_x\": {\"color\": \"#2a3f5f\"}, \"error_y\": {\"color\": \"#2a3f5f\"}, \"marker\": {\"line\": {\"color\": \"#E5ECF6\", \"width\": 0.5}}, \"type\": \"bar\"}], \"barpolar\": [{\"marker\": {\"line\": {\"color\": \"#E5ECF6\", \"width\": 0.5}}, \"type\": \"barpolar\"}], \"carpet\": [{\"aaxis\": {\"endlinecolor\": \"#2a3f5f\", \"gridcolor\": \"white\", \"linecolor\": \"white\", \"minorgridcolor\": \"white\", \"startlinecolor\": \"#2a3f5f\"}, \"baxis\": {\"endlinecolor\": \"#2a3f5f\", \"gridcolor\": \"white\", \"linecolor\": \"white\", \"minorgridcolor\": \"white\", \"startlinecolor\": \"#2a3f5f\"}, \"type\": \"carpet\"}], \"choropleth\": [{\"colorbar\": {\"outlinewidth\": 0, \"ticks\": \"\"}, \"type\": \"choropleth\"}], \"contour\": [{\"colorbar\": {\"outlinewidth\": 0, \"ticks\": \"\"}, \"colorscale\": [[0.0, \"#0d0887\"], [0.1111111111111111, \"#46039f\"], [0.2222222222222222, \"#7201a8\"], [0.3333333333333333, \"#9c179e\"], [0.4444444444444444, \"#bd3786\"], [0.5555555555555556, \"#d8576b\"], [0.6666666666666666, \"#ed7953\"], [0.7777777777777778, \"#fb9f3a\"], [0.8888888888888888, \"#fdca26\"], [1.0, \"#f0f921\"]], \"type\": \"contour\"}], \"contourcarpet\": [{\"colorbar\": {\"outlinewidth\": 0, \"ticks\": \"\"}, \"type\": \"contourcarpet\"}], \"heatmap\": [{\"colorbar\": {\"outlinewidth\": 0, \"ticks\": \"\"}, \"colorscale\": [[0.0, \"#0d0887\"], [0.1111111111111111, \"#46039f\"], [0.2222222222222222, \"#7201a8\"], [0.3333333333333333, \"#9c179e\"], [0.4444444444444444, \"#bd3786\"], [0.5555555555555556, \"#d8576b\"], [0.6666666666666666, \"#ed7953\"], [0.7777777777777778, \"#fb9f3a\"], [0.8888888888888888, \"#fdca26\"], [1.0, \"#f0f921\"]], \"type\": \"heatmap\"}], \"heatmapgl\": [{\"colorbar\": {\"outlinewidth\": 0, \"ticks\": \"\"}, \"colorscale\": [[0.0, \"#0d0887\"], [0.1111111111111111, \"#46039f\"], [0.2222222222222222, \"#7201a8\"], [0.3333333333333333, \"#9c179e\"], [0.4444444444444444, \"#bd3786\"], [0.5555555555555556, \"#d8576b\"], [0.6666666666666666, \"#ed7953\"], [0.7777777777777778, \"#fb9f3a\"], [0.8888888888888888, \"#fdca26\"], [1.0, \"#f0f921\"]], \"type\": \"heatmapgl\"}], \"histogram\": [{\"marker\": {\"colorbar\": {\"outlinewidth\": 0, \"ticks\": \"\"}}, \"type\": \"histogram\"}], \"histogram2d\": [{\"colorbar\": {\"outlinewidth\": 0, \"ticks\": \"\"}, \"colorscale\": [[0.0, \"#0d0887\"], [0.1111111111111111, \"#46039f\"], [0.2222222222222222, \"#7201a8\"], [0.3333333333333333, \"#9c179e\"], [0.4444444444444444, \"#bd3786\"], [0.5555555555555556, \"#d8576b\"], [0.6666666666666666, \"#ed7953\"], [0.7777777777777778, \"#fb9f3a\"], [0.8888888888888888, \"#fdca26\"], [1.0, \"#f0f921\"]], \"type\": \"histogram2d\"}], \"histogram2dcontour\": [{\"colorbar\": {\"outlinewidth\": 0, \"ticks\": \"\"}, \"colorscale\": [[0.0, \"#0d0887\"], [0.1111111111111111, \"#46039f\"], [0.2222222222222222, \"#7201a8\"], [0.3333333333333333, \"#9c179e\"], [0.4444444444444444, \"#bd3786\"], [0.5555555555555556, \"#d8576b\"], [0.6666666666666666, \"#ed7953\"], [0.7777777777777778, \"#fb9f3a\"], [0.8888888888888888, \"#fdca26\"], [1.0, \"#f0f921\"]], \"type\": \"histogram2dcontour\"}], \"mesh3d\": [{\"colorbar\": {\"outlinewidth\": 0, \"ticks\": \"\"}, \"type\": \"mesh3d\"}], \"parcoords\": [{\"line\": {\"colorbar\": {\"outlinewidth\": 0, \"ticks\": \"\"}}, \"type\": \"parcoords\"}], \"pie\": [{\"automargin\": true, \"type\": \"pie\"}], \"scatter\": [{\"marker\": {\"colorbar\": {\"outlinewidth\": 0, \"ticks\": \"\"}}, \"type\": \"scatter\"}], \"scatter3d\": [{\"line\": {\"colorbar\": {\"outlinewidth\": 0, \"ticks\": \"\"}}, \"marker\": {\"colorbar\": {\"outlinewidth\": 0, \"ticks\": \"\"}}, \"type\": \"scatter3d\"}], \"scattercarpet\": [{\"marker\": {\"colorbar\": {\"outlinewidth\": 0, \"ticks\": \"\"}}, \"type\": \"scattercarpet\"}], \"scattergeo\": [{\"marker\": {\"colorbar\": {\"outlinewidth\": 0, \"ticks\": \"\"}}, \"type\": \"scattergeo\"}], \"scattergl\": [{\"marker\": {\"colorbar\": {\"outlinewidth\": 0, \"ticks\": \"\"}}, \"type\": \"scattergl\"}], \"scattermapbox\": [{\"marker\": {\"colorbar\": {\"outlinewidth\": 0, \"ticks\": \"\"}}, \"type\": \"scattermapbox\"}], \"scatterpolar\": [{\"marker\": {\"colorbar\": {\"outlinewidth\": 0, \"ticks\": \"\"}}, \"type\": \"scatterpolar\"}], \"scatterpolargl\": [{\"marker\": {\"colorbar\": {\"outlinewidth\": 0, \"ticks\": \"\"}}, \"type\": \"scatterpolargl\"}], \"scatterternary\": [{\"marker\": {\"colorbar\": {\"outlinewidth\": 0, \"ticks\": \"\"}}, \"type\": \"scatterternary\"}], \"surface\": [{\"colorbar\": {\"outlinewidth\": 0, \"ticks\": \"\"}, \"colorscale\": [[0.0, \"#0d0887\"], [0.1111111111111111, \"#46039f\"], [0.2222222222222222, \"#7201a8\"], [0.3333333333333333, \"#9c179e\"], [0.4444444444444444, \"#bd3786\"], [0.5555555555555556, \"#d8576b\"], [0.6666666666666666, \"#ed7953\"], [0.7777777777777778, \"#fb9f3a\"], [0.8888888888888888, \"#fdca26\"], [1.0, \"#f0f921\"]], \"type\": \"surface\"}], \"table\": [{\"cells\": {\"fill\": {\"color\": \"#EBF0F8\"}, \"line\": {\"color\": \"white\"}}, \"header\": {\"fill\": {\"color\": \"#C8D4E3\"}, \"line\": {\"color\": \"white\"}}, \"type\": \"table\"}]}, \"layout\": {\"annotationdefaults\": {\"arrowcolor\": \"#2a3f5f\", \"arrowhead\": 0, \"arrowwidth\": 1}, \"coloraxis\": {\"colorbar\": {\"outlinewidth\": 0, \"ticks\": \"\"}}, \"colorscale\": {\"diverging\": [[0, \"#8e0152\"], [0.1, \"#c51b7d\"], [0.2, \"#de77ae\"], [0.3, \"#f1b6da\"], [0.4, \"#fde0ef\"], [0.5, \"#f7f7f7\"], [0.6, \"#e6f5d0\"], [0.7, \"#b8e186\"], [0.8, \"#7fbc41\"], [0.9, \"#4d9221\"], [1, \"#276419\"]], \"sequential\": [[0.0, \"#0d0887\"], [0.1111111111111111, \"#46039f\"], [0.2222222222222222, \"#7201a8\"], [0.3333333333333333, \"#9c179e\"], [0.4444444444444444, \"#bd3786\"], [0.5555555555555556, \"#d8576b\"], [0.6666666666666666, \"#ed7953\"], [0.7777777777777778, \"#fb9f3a\"], [0.8888888888888888, \"#fdca26\"], [1.0, \"#f0f921\"]], \"sequentialminus\": [[0.0, \"#0d0887\"], [0.1111111111111111, \"#46039f\"], [0.2222222222222222, \"#7201a8\"], [0.3333333333333333, \"#9c179e\"], [0.4444444444444444, \"#bd3786\"], [0.5555555555555556, \"#d8576b\"], [0.6666666666666666, \"#ed7953\"], [0.7777777777777778, \"#fb9f3a\"], [0.8888888888888888, \"#fdca26\"], [1.0, \"#f0f921\"]]}, \"colorway\": [\"#636efa\", \"#EF553B\", \"#00cc96\", \"#ab63fa\", \"#FFA15A\", \"#19d3f3\", \"#FF6692\", \"#B6E880\", \"#FF97FF\", \"#FECB52\"], \"font\": {\"color\": \"#2a3f5f\"}, \"geo\": {\"bgcolor\": \"white\", \"lakecolor\": \"white\", \"landcolor\": \"#E5ECF6\", \"showlakes\": true, \"showland\": true, \"subunitcolor\": \"white\"}, \"hoverlabel\": {\"align\": \"left\"}, \"hovermode\": \"closest\", \"mapbox\": {\"style\": \"light\"}, \"paper_bgcolor\": \"white\", \"plot_bgcolor\": \"#E5ECF6\", \"polar\": {\"angularaxis\": {\"gridcolor\": \"white\", \"linecolor\": \"white\", \"ticks\": \"\"}, \"bgcolor\": \"#E5ECF6\", \"radialaxis\": {\"gridcolor\": \"white\", \"linecolor\": \"white\", \"ticks\": \"\"}}, \"scene\": {\"xaxis\": {\"backgroundcolor\": \"#E5ECF6\", \"gridcolor\": \"white\", \"gridwidth\": 2, \"linecolor\": \"white\", \"showbackground\": true, \"ticks\": \"\", \"zerolinecolor\": \"white\"}, \"yaxis\": {\"backgroundcolor\": \"#E5ECF6\", \"gridcolor\": \"white\", \"gridwidth\": 2, \"linecolor\": \"white\", \"showbackground\": true, \"ticks\": \"\", \"zerolinecolor\": \"white\"}, \"zaxis\": {\"backgroundcolor\": \"#E5ECF6\", \"gridcolor\": \"white\", \"gridwidth\": 2, \"linecolor\": \"white\", \"showbackground\": true, \"ticks\": \"\", \"zerolinecolor\": \"white\"}}, \"shapedefaults\": {\"line\": {\"color\": \"#2a3f5f\"}}, \"ternary\": {\"aaxis\": {\"gridcolor\": \"white\", \"linecolor\": \"white\", \"ticks\": \"\"}, \"baxis\": {\"gridcolor\": \"white\", \"linecolor\": \"white\", \"ticks\": \"\"}, \"bgcolor\": \"#E5ECF6\", \"caxis\": {\"gridcolor\": \"white\", \"linecolor\": \"white\", \"ticks\": \"\"}}, \"title\": {\"x\": 0.05}, \"xaxis\": {\"automargin\": true, \"gridcolor\": \"white\", \"linecolor\": \"white\", \"ticks\": \"\", \"title\": {\"standoff\": 15}, \"zerolinecolor\": \"white\", \"zerolinewidth\": 2}, \"yaxis\": {\"automargin\": true, \"gridcolor\": \"white\", \"linecolor\": \"white\", \"ticks\": \"\", \"title\": {\"standoff\": 15}, \"zerolinecolor\": \"white\", \"zerolinewidth\": 2}}}, \"violinmode\": \"group\", \"xaxis\": {\"anchor\": \"y\", \"categoryarray\": [\"ckd\", \"notckd\"], \"categoryorder\": \"array\", \"domain\": [0.0, 1.0], \"title\": {\"text\": \"class\"}}, \"yaxis\": {\"anchor\": \"x\", \"domain\": [0.0, 1.0], \"title\": {\"text\": \"sod\"}}},\n",
       "                        {\"responsive\": true}\n",
       "                    ).then(function(){\n",
       "                            \n",
       "var gd = document.getElementById('ed4449df-9d3f-42c9-a20b-6abdce606c50');\n",
       "var x = new MutationObserver(function (mutations, observer) {{\n",
       "        var display = window.getComputedStyle(gd).display;\n",
       "        if (!display || display === 'none') {{\n",
       "            console.log([gd, 'removed!']);\n",
       "            Plotly.purge(gd);\n",
       "            observer.disconnect();\n",
       "        }}\n",
       "}});\n",
       "\n",
       "// Listen for the removal of the full notebook cells\n",
       "var notebookContainer = gd.closest('#notebook-container');\n",
       "if (notebookContainer) {{\n",
       "    x.observe(notebookContainer, {childList: true});\n",
       "}}\n",
       "\n",
       "// Listen for the clearing of the current output cell\n",
       "var outputEl = gd.closest('.output');\n",
       "if (outputEl) {{\n",
       "    x.observe(outputEl, {childList: true});\n",
       "}}\n",
       "\n",
       "                        })\n",
       "                };\n",
       "                });\n",
       "            </script>\n",
       "        </div>"
      ]
     },
     "metadata": {},
     "output_type": "display_data"
    }
   ],
   "source": [
    "fig = px.violin(ckd_copy, y='sod', x=\"class\", color=\"class\", box=True, template = None)\n",
    "fig.show()"
   ]
  },
  {
   "cell_type": "markdown",
   "metadata": {},
   "source": [
    " We clearly observe outlier in sod for ckd class. Applying outlier removal - Capping techniques"
   ]
  },
  {
   "cell_type": "code",
   "execution_count": 947,
   "metadata": {},
   "outputs": [],
   "source": [
    "lower_limit = ckd_copy[ckd_copy['sod']!='?']['sod'].astype(float).quantile(0.01)\n",
    "upper_limit = ckd_copy[ckd_copy['sod']!='?']['sod'].astype(float).quantile(0.99)"
   ]
  },
  {
   "cell_type": "code",
   "execution_count": 948,
   "metadata": {},
   "outputs": [],
   "source": [
    "mean_value = ckd_copy[ckd_copy['sod']!='?']['sod'].astype(float).mean()"
   ]
  },
  {
   "cell_type": "code",
   "execution_count": 949,
   "metadata": {},
   "outputs": [],
   "source": [
    "ckd_copy['sod'].replace('?',mean_value,inplace=True)"
   ]
  },
  {
   "cell_type": "code",
   "execution_count": 950,
   "metadata": {},
   "outputs": [],
   "source": [
    "ckd_copy['sod'] = ckd_copy['sod'].astype(float)\n"
   ]
  },
  {
   "cell_type": "code",
   "execution_count": 951,
   "metadata": {},
   "outputs": [],
   "source": [
    "ckd_copy['sod_new'] = np.where(ckd_copy['sod'] >= upper_limit,\n",
    "        upper_limit,\n",
    "        np.where(ckd_copy['sod'] <= lower_limit,\n",
    "        lower_limit,\n",
    "        ckd_copy['sod']))"
   ]
  },
  {
   "cell_type": "code",
   "execution_count": 952,
   "metadata": {},
   "outputs": [
    {
     "data": {
      "application/vnd.plotly.v1+json": {
       "config": {
        "plotlyServerURL": "https://plot.ly"
       },
       "data": [
        {
         "alignmentgroup": "True",
         "box": {
          "visible": true
         },
         "hoverlabel": {
          "namelength": 0
         },
         "hovertemplate": "class=%{x}<br>sod_new=%{y}",
         "legendgroup": "ckd",
         "marker": {
          "color": "#636efa"
         },
         "name": "ckd",
         "offsetgroup": "ckd",
         "orientation": "v",
         "scalegroup": "True",
         "showlegend": true,
         "type": "violin",
         "x": [
          "ckd",
          "ckd",
          "ckd",
          "ckd",
          "ckd",
          "ckd",
          "ckd",
          "ckd",
          "ckd",
          "ckd",
          "ckd",
          "ckd",
          "ckd",
          "ckd",
          "ckd",
          "ckd",
          "ckd",
          "ckd",
          "ckd",
          "ckd",
          "ckd",
          "ckd",
          "ckd",
          "ckd",
          "ckd",
          "ckd",
          "ckd",
          "ckd",
          "ckd",
          "ckd",
          "ckd",
          "ckd",
          "ckd",
          "ckd",
          "ckd",
          "ckd",
          "ckd",
          "ckd",
          "ckd",
          "ckd",
          "ckd",
          "ckd",
          "ckd",
          "ckd",
          "ckd",
          "ckd",
          "ckd",
          "ckd",
          "ckd",
          "ckd",
          "ckd",
          "ckd",
          "ckd",
          "ckd",
          "ckd",
          "ckd",
          "ckd",
          "ckd",
          "ckd",
          "ckd",
          "ckd",
          "ckd",
          "ckd",
          "ckd",
          "ckd",
          "ckd",
          "ckd",
          "ckd",
          "ckd",
          "ckd",
          "ckd",
          "ckd",
          "ckd",
          "ckd",
          "ckd",
          "ckd",
          "ckd",
          "ckd",
          "ckd",
          "ckd",
          "ckd",
          "ckd",
          "ckd",
          "ckd",
          "ckd",
          "ckd",
          "ckd",
          "ckd",
          "ckd",
          "ckd",
          "ckd",
          "ckd",
          "ckd",
          "ckd",
          "ckd",
          "ckd",
          "ckd",
          "ckd",
          "ckd",
          "ckd",
          "ckd",
          "ckd",
          "ckd",
          "ckd",
          "ckd",
          "ckd",
          "ckd",
          "ckd",
          "ckd",
          "ckd",
          "ckd",
          "ckd",
          "ckd",
          "ckd",
          "ckd",
          "ckd",
          "ckd",
          "ckd",
          "ckd",
          "ckd",
          "ckd",
          "ckd",
          "ckd",
          "ckd",
          "ckd",
          "ckd",
          "ckd",
          "ckd",
          "ckd",
          "ckd",
          "ckd",
          "ckd",
          "ckd",
          "ckd",
          "ckd",
          "ckd",
          "ckd",
          "ckd",
          "ckd",
          "ckd",
          "ckd",
          "ckd",
          "ckd",
          "ckd",
          "ckd",
          "ckd",
          "ckd",
          "ckd",
          "ckd",
          "ckd",
          "ckd",
          "ckd",
          "ckd",
          "ckd",
          "ckd",
          "ckd",
          "ckd",
          "ckd",
          "ckd",
          "ckd",
          "ckd",
          "ckd",
          "ckd",
          "ckd",
          "ckd",
          "ckd",
          "ckd",
          "ckd",
          "ckd",
          "ckd",
          "ckd",
          "ckd",
          "ckd",
          "ckd",
          "ckd",
          "ckd",
          "ckd",
          "ckd",
          "ckd",
          "ckd",
          "ckd",
          "ckd",
          "ckd",
          "ckd",
          "ckd",
          "ckd",
          "ckd",
          "ckd",
          "ckd",
          "ckd",
          "ckd",
          "ckd",
          "ckd",
          "ckd",
          "ckd",
          "ckd",
          "ckd",
          "ckd",
          "ckd",
          "ckd",
          "ckd",
          "ckd",
          "ckd",
          "ckd",
          "ckd",
          "ckd",
          "ckd",
          "ckd",
          "ckd",
          "ckd",
          "ckd",
          "ckd",
          "ckd",
          "ckd",
          "ckd",
          "ckd",
          "ckd",
          "ckd",
          "ckd",
          "ckd",
          "ckd",
          "ckd",
          "ckd",
          "ckd",
          "ckd",
          "ckd",
          "ckd",
          "ckd",
          "ckd",
          "ckd",
          "ckd",
          "ckd",
          "ckd",
          "ckd",
          "ckd",
          "ckd",
          "ckd",
          "ckd",
          "ckd",
          "ckd",
          "ckd",
          "ckd",
          "ckd",
          "ckd",
          "ckd",
          "ckd",
          "ckd",
          "ckd",
          "ckd",
          "ckd"
         ],
         "x0": " ",
         "xaxis": "x",
         "y": [
          137.52875399361022,
          137.52875399361022,
          137.52875399361022,
          113,
          137.52875399361022,
          142,
          113,
          137.52875399361022,
          137.52875399361022,
          114,
          137.52875399361022,
          131,
          138,
          135,
          130,
          141,
          138,
          139,
          135,
          137.52875399361022,
          135,
          113,
          136,
          137.52875399361022,
          129,
          141,
          140,
          130,
          137.52875399361022,
          137.52875399361022,
          132,
          141,
          133,
          137.52875399361022,
          137.52875399361022,
          137.52875399361022,
          133,
          141,
          132,
          136,
          137.52875399361022,
          137.52875399361022,
          139,
          134,
          134,
          130,
          142,
          137.52875399361022,
          125,
          137.52875399361022,
          142,
          136,
          137.52875399361022,
          137.52875399361022,
          136,
          137.52875399361022,
          131,
          132,
          138,
          137.52875399361022,
          138,
          150,
          138,
          131,
          137.52875399361022,
          137.52875399361022,
          131,
          137.52875399361022,
          137.52875399361022,
          137.52875399361022,
          137,
          141,
          137.52875399361022,
          132,
          131,
          138,
          132,
          137,
          141,
          137.52875399361022,
          133,
          128,
          140,
          134,
          135,
          137.52875399361022,
          137.52875399361022,
          137.52875399361022,
          137.52875399361022,
          139,
          143,
          136,
          133,
          140,
          137,
          131,
          137.52875399361022,
          132,
          135,
          139,
          133,
          139,
          141,
          137.52875399361022,
          137.52875399361022,
          139,
          127,
          139,
          141,
          137.52875399361022,
          142,
          128,
          137.52875399361022,
          137.52875399361022,
          137.52875399361022,
          137.52875399361022,
          137.52875399361022,
          139,
          137.52875399361022,
          137.52875399361022,
          137,
          137,
          130,
          137.52875399361022,
          137.52875399361022,
          131,
          136,
          136,
          133,
          135,
          134,
          137.52875399361022,
          136,
          136,
          138,
          140,
          146,
          134,
          142,
          132,
          142,
          137,
          135,
          135,
          136,
          126,
          139,
          130,
          137.52875399361022,
          137.52875399361022,
          137.52875399361022,
          141,
          133,
          132,
          140,
          137.52875399361022,
          137.52875399361022,
          136,
          132,
          122,
          147,
          137.52875399361022,
          124,
          140,
          137,
          137.52875399361022,
          127,
          137.52875399361022,
          137.52875399361022,
          137.52875399361022,
          131,
          115,
          130,
          145,
          141,
          113,
          125,
          137.52875399361022,
          139,
          137.52875399361022,
          137.52875399361022,
          136,
          140,
          135,
          133,
          138,
          135,
          137.52875399361022,
          142,
          137,
          135,
          134,
          137.52875399361022,
          113,
          137.52875399361022,
          138,
          122,
          124,
          137,
          140,
          140,
          137,
          135,
          142,
          145,
          137.52875399361022,
          135,
          137.52875399361022,
          137.52875399361022,
          137.52875399361022,
          135,
          137.52875399361022,
          132,
          137,
          137.52875399361022,
          137.52875399361022,
          137.52875399361022,
          141,
          137.52875399361022,
          137.52875399361022,
          137.52875399361022,
          138,
          137.52875399361022,
          136,
          138,
          131,
          140,
          137.52875399361022,
          137.52875399361022,
          114,
          130,
          138,
          137.52875399361022,
          146,
          137.52875399361022,
          137.52875399361022,
          136,
          137.52875399361022,
          127,
          137,
          137.52875399361022,
          140,
          120,
          138,
          135,
          135,
          120,
          140,
          138,
          124
         ],
         "y0": " ",
         "yaxis": "y"
        },
        {
         "alignmentgroup": "True",
         "box": {
          "visible": true
         },
         "hoverlabel": {
          "namelength": 0
         },
         "hovertemplate": "class=%{x}<br>sod_new=%{y}",
         "legendgroup": "notckd",
         "marker": {
          "color": "#EF553B"
         },
         "name": "notckd",
         "offsetgroup": "notckd",
         "orientation": "v",
         "scalegroup": "True",
         "showlegend": true,
         "type": "violin",
         "x": [
          "notckd",
          "notckd",
          "notckd",
          "notckd",
          "notckd",
          "notckd",
          "notckd",
          "notckd",
          "notckd",
          "notckd",
          "notckd",
          "notckd",
          "notckd",
          "notckd",
          "notckd",
          "notckd",
          "notckd",
          "notckd",
          "notckd",
          "notckd",
          "notckd",
          "notckd",
          "notckd",
          "notckd",
          "notckd",
          "notckd",
          "notckd",
          "notckd",
          "notckd",
          "notckd",
          "notckd",
          "notckd",
          "notckd",
          "notckd",
          "notckd",
          "notckd",
          "notckd",
          "notckd",
          "notckd",
          "notckd",
          "notckd",
          "notckd",
          "notckd",
          "notckd",
          "notckd",
          "notckd",
          "notckd",
          "notckd",
          "notckd",
          "notckd",
          "notckd",
          "notckd",
          "notckd",
          "notckd",
          "notckd",
          "notckd",
          "notckd",
          "notckd",
          "notckd",
          "notckd",
          "notckd",
          "notckd",
          "notckd",
          "notckd",
          "notckd",
          "notckd",
          "notckd",
          "notckd",
          "notckd",
          "notckd",
          "notckd",
          "notckd",
          "notckd",
          "notckd",
          "notckd",
          "notckd",
          "notckd",
          "notckd",
          "notckd",
          "notckd",
          "notckd",
          "notckd",
          "notckd",
          "notckd",
          "notckd",
          "notckd",
          "notckd",
          "notckd",
          "notckd",
          "notckd",
          "notckd",
          "notckd",
          "notckd",
          "notckd",
          "notckd",
          "notckd",
          "notckd",
          "notckd",
          "notckd",
          "notckd",
          "notckd",
          "notckd",
          "notckd",
          "notckd",
          "notckd",
          "notckd",
          "notckd",
          "notckd",
          "notckd",
          "notckd",
          "notckd",
          "notckd",
          "notckd",
          "notckd",
          "notckd",
          "notckd",
          "notckd",
          "notckd",
          "notckd",
          "notckd",
          "notckd",
          "notckd",
          "notckd",
          "notckd",
          "notckd",
          "notckd",
          "notckd",
          "notckd",
          "notckd",
          "notckd",
          "notckd",
          "notckd",
          "notckd",
          "notckd",
          "notckd",
          "notckd",
          "notckd",
          "notckd",
          "notckd",
          "notckd",
          "notckd",
          "notckd",
          "notckd",
          "notckd",
          "notckd",
          "notckd",
          "notckd",
          "notckd",
          "notckd",
          "notckd"
         ],
         "x0": " ",
         "xaxis": "x",
         "y": [
          135,
          150,
          147,
          135,
          135,
          144,
          146,
          135,
          140,
          135,
          147,
          139,
          135,
          137,
          140,
          150,
          135,
          146,
          140,
          142,
          145,
          144,
          135,
          140,
          141,
          139,
          137,
          135,
          142,
          140,
          144,
          147,
          135,
          137.52875399361022,
          142,
          135,
          145,
          137,
          135,
          143,
          146,
          140,
          139,
          150,
          135,
          150,
          140,
          146,
          135,
          150,
          141,
          147,
          145,
          137.52875399361022,
          135,
          138,
          140,
          150,
          135,
          139,
          142,
          147,
          135,
          142,
          145,
          137.52875399361022,
          135,
          139,
          137,
          135,
          150,
          144,
          140,
          143,
          150,
          140,
          141,
          150,
          145,
          146,
          135,
          147,
          150,
          142,
          136,
          139,
          137.52875399361022,
          141,
          147,
          136,
          142,
          150,
          138,
          135,
          150,
          138,
          141,
          144,
          147,
          150,
          142,
          139,
          141,
          150,
          147,
          145,
          144,
          140,
          138,
          147,
          135,
          138,
          144,
          137.52875399361022,
          137,
          145,
          141,
          139,
          146,
          144,
          139,
          145,
          150,
          142,
          146,
          143,
          147,
          145,
          140,
          138,
          139,
          142,
          137,
          141,
          150,
          146,
          142,
          136,
          144,
          140,
          135,
          142,
          147,
          141,
          139,
          150,
          141,
          137,
          135,
          141
         ],
         "y0": " ",
         "yaxis": "y"
        }
       ],
       "layout": {
        "legend": {
         "title": {
          "text": "class"
         },
         "tracegroupgap": 0
        },
        "margin": {
         "t": 60
        },
        "template": {
         "data": {
          "bar": [
           {
            "error_x": {
             "color": "#2a3f5f"
            },
            "error_y": {
             "color": "#2a3f5f"
            },
            "marker": {
             "line": {
              "color": "#E5ECF6",
              "width": 0.5
             }
            },
            "type": "bar"
           }
          ],
          "barpolar": [
           {
            "marker": {
             "line": {
              "color": "#E5ECF6",
              "width": 0.5
             }
            },
            "type": "barpolar"
           }
          ],
          "carpet": [
           {
            "aaxis": {
             "endlinecolor": "#2a3f5f",
             "gridcolor": "white",
             "linecolor": "white",
             "minorgridcolor": "white",
             "startlinecolor": "#2a3f5f"
            },
            "baxis": {
             "endlinecolor": "#2a3f5f",
             "gridcolor": "white",
             "linecolor": "white",
             "minorgridcolor": "white",
             "startlinecolor": "#2a3f5f"
            },
            "type": "carpet"
           }
          ],
          "choropleth": [
           {
            "colorbar": {
             "outlinewidth": 0,
             "ticks": ""
            },
            "type": "choropleth"
           }
          ],
          "contour": [
           {
            "colorbar": {
             "outlinewidth": 0,
             "ticks": ""
            },
            "colorscale": [
             [
              0,
              "#0d0887"
             ],
             [
              0.1111111111111111,
              "#46039f"
             ],
             [
              0.2222222222222222,
              "#7201a8"
             ],
             [
              0.3333333333333333,
              "#9c179e"
             ],
             [
              0.4444444444444444,
              "#bd3786"
             ],
             [
              0.5555555555555556,
              "#d8576b"
             ],
             [
              0.6666666666666666,
              "#ed7953"
             ],
             [
              0.7777777777777778,
              "#fb9f3a"
             ],
             [
              0.8888888888888888,
              "#fdca26"
             ],
             [
              1,
              "#f0f921"
             ]
            ],
            "type": "contour"
           }
          ],
          "contourcarpet": [
           {
            "colorbar": {
             "outlinewidth": 0,
             "ticks": ""
            },
            "type": "contourcarpet"
           }
          ],
          "heatmap": [
           {
            "colorbar": {
             "outlinewidth": 0,
             "ticks": ""
            },
            "colorscale": [
             [
              0,
              "#0d0887"
             ],
             [
              0.1111111111111111,
              "#46039f"
             ],
             [
              0.2222222222222222,
              "#7201a8"
             ],
             [
              0.3333333333333333,
              "#9c179e"
             ],
             [
              0.4444444444444444,
              "#bd3786"
             ],
             [
              0.5555555555555556,
              "#d8576b"
             ],
             [
              0.6666666666666666,
              "#ed7953"
             ],
             [
              0.7777777777777778,
              "#fb9f3a"
             ],
             [
              0.8888888888888888,
              "#fdca26"
             ],
             [
              1,
              "#f0f921"
             ]
            ],
            "type": "heatmap"
           }
          ],
          "heatmapgl": [
           {
            "colorbar": {
             "outlinewidth": 0,
             "ticks": ""
            },
            "colorscale": [
             [
              0,
              "#0d0887"
             ],
             [
              0.1111111111111111,
              "#46039f"
             ],
             [
              0.2222222222222222,
              "#7201a8"
             ],
             [
              0.3333333333333333,
              "#9c179e"
             ],
             [
              0.4444444444444444,
              "#bd3786"
             ],
             [
              0.5555555555555556,
              "#d8576b"
             ],
             [
              0.6666666666666666,
              "#ed7953"
             ],
             [
              0.7777777777777778,
              "#fb9f3a"
             ],
             [
              0.8888888888888888,
              "#fdca26"
             ],
             [
              1,
              "#f0f921"
             ]
            ],
            "type": "heatmapgl"
           }
          ],
          "histogram": [
           {
            "marker": {
             "colorbar": {
              "outlinewidth": 0,
              "ticks": ""
             }
            },
            "type": "histogram"
           }
          ],
          "histogram2d": [
           {
            "colorbar": {
             "outlinewidth": 0,
             "ticks": ""
            },
            "colorscale": [
             [
              0,
              "#0d0887"
             ],
             [
              0.1111111111111111,
              "#46039f"
             ],
             [
              0.2222222222222222,
              "#7201a8"
             ],
             [
              0.3333333333333333,
              "#9c179e"
             ],
             [
              0.4444444444444444,
              "#bd3786"
             ],
             [
              0.5555555555555556,
              "#d8576b"
             ],
             [
              0.6666666666666666,
              "#ed7953"
             ],
             [
              0.7777777777777778,
              "#fb9f3a"
             ],
             [
              0.8888888888888888,
              "#fdca26"
             ],
             [
              1,
              "#f0f921"
             ]
            ],
            "type": "histogram2d"
           }
          ],
          "histogram2dcontour": [
           {
            "colorbar": {
             "outlinewidth": 0,
             "ticks": ""
            },
            "colorscale": [
             [
              0,
              "#0d0887"
             ],
             [
              0.1111111111111111,
              "#46039f"
             ],
             [
              0.2222222222222222,
              "#7201a8"
             ],
             [
              0.3333333333333333,
              "#9c179e"
             ],
             [
              0.4444444444444444,
              "#bd3786"
             ],
             [
              0.5555555555555556,
              "#d8576b"
             ],
             [
              0.6666666666666666,
              "#ed7953"
             ],
             [
              0.7777777777777778,
              "#fb9f3a"
             ],
             [
              0.8888888888888888,
              "#fdca26"
             ],
             [
              1,
              "#f0f921"
             ]
            ],
            "type": "histogram2dcontour"
           }
          ],
          "mesh3d": [
           {
            "colorbar": {
             "outlinewidth": 0,
             "ticks": ""
            },
            "type": "mesh3d"
           }
          ],
          "parcoords": [
           {
            "line": {
             "colorbar": {
              "outlinewidth": 0,
              "ticks": ""
             }
            },
            "type": "parcoords"
           }
          ],
          "pie": [
           {
            "automargin": true,
            "type": "pie"
           }
          ],
          "scatter": [
           {
            "marker": {
             "colorbar": {
              "outlinewidth": 0,
              "ticks": ""
             }
            },
            "type": "scatter"
           }
          ],
          "scatter3d": [
           {
            "line": {
             "colorbar": {
              "outlinewidth": 0,
              "ticks": ""
             }
            },
            "marker": {
             "colorbar": {
              "outlinewidth": 0,
              "ticks": ""
             }
            },
            "type": "scatter3d"
           }
          ],
          "scattercarpet": [
           {
            "marker": {
             "colorbar": {
              "outlinewidth": 0,
              "ticks": ""
             }
            },
            "type": "scattercarpet"
           }
          ],
          "scattergeo": [
           {
            "marker": {
             "colorbar": {
              "outlinewidth": 0,
              "ticks": ""
             }
            },
            "type": "scattergeo"
           }
          ],
          "scattergl": [
           {
            "marker": {
             "colorbar": {
              "outlinewidth": 0,
              "ticks": ""
             }
            },
            "type": "scattergl"
           }
          ],
          "scattermapbox": [
           {
            "marker": {
             "colorbar": {
              "outlinewidth": 0,
              "ticks": ""
             }
            },
            "type": "scattermapbox"
           }
          ],
          "scatterpolar": [
           {
            "marker": {
             "colorbar": {
              "outlinewidth": 0,
              "ticks": ""
             }
            },
            "type": "scatterpolar"
           }
          ],
          "scatterpolargl": [
           {
            "marker": {
             "colorbar": {
              "outlinewidth": 0,
              "ticks": ""
             }
            },
            "type": "scatterpolargl"
           }
          ],
          "scatterternary": [
           {
            "marker": {
             "colorbar": {
              "outlinewidth": 0,
              "ticks": ""
             }
            },
            "type": "scatterternary"
           }
          ],
          "surface": [
           {
            "colorbar": {
             "outlinewidth": 0,
             "ticks": ""
            },
            "colorscale": [
             [
              0,
              "#0d0887"
             ],
             [
              0.1111111111111111,
              "#46039f"
             ],
             [
              0.2222222222222222,
              "#7201a8"
             ],
             [
              0.3333333333333333,
              "#9c179e"
             ],
             [
              0.4444444444444444,
              "#bd3786"
             ],
             [
              0.5555555555555556,
              "#d8576b"
             ],
             [
              0.6666666666666666,
              "#ed7953"
             ],
             [
              0.7777777777777778,
              "#fb9f3a"
             ],
             [
              0.8888888888888888,
              "#fdca26"
             ],
             [
              1,
              "#f0f921"
             ]
            ],
            "type": "surface"
           }
          ],
          "table": [
           {
            "cells": {
             "fill": {
              "color": "#EBF0F8"
             },
             "line": {
              "color": "white"
             }
            },
            "header": {
             "fill": {
              "color": "#C8D4E3"
             },
             "line": {
              "color": "white"
             }
            },
            "type": "table"
           }
          ]
         },
         "layout": {
          "annotationdefaults": {
           "arrowcolor": "#2a3f5f",
           "arrowhead": 0,
           "arrowwidth": 1
          },
          "coloraxis": {
           "colorbar": {
            "outlinewidth": 0,
            "ticks": ""
           }
          },
          "colorscale": {
           "diverging": [
            [
             0,
             "#8e0152"
            ],
            [
             0.1,
             "#c51b7d"
            ],
            [
             0.2,
             "#de77ae"
            ],
            [
             0.3,
             "#f1b6da"
            ],
            [
             0.4,
             "#fde0ef"
            ],
            [
             0.5,
             "#f7f7f7"
            ],
            [
             0.6,
             "#e6f5d0"
            ],
            [
             0.7,
             "#b8e186"
            ],
            [
             0.8,
             "#7fbc41"
            ],
            [
             0.9,
             "#4d9221"
            ],
            [
             1,
             "#276419"
            ]
           ],
           "sequential": [
            [
             0,
             "#0d0887"
            ],
            [
             0.1111111111111111,
             "#46039f"
            ],
            [
             0.2222222222222222,
             "#7201a8"
            ],
            [
             0.3333333333333333,
             "#9c179e"
            ],
            [
             0.4444444444444444,
             "#bd3786"
            ],
            [
             0.5555555555555556,
             "#d8576b"
            ],
            [
             0.6666666666666666,
             "#ed7953"
            ],
            [
             0.7777777777777778,
             "#fb9f3a"
            ],
            [
             0.8888888888888888,
             "#fdca26"
            ],
            [
             1,
             "#f0f921"
            ]
           ],
           "sequentialminus": [
            [
             0,
             "#0d0887"
            ],
            [
             0.1111111111111111,
             "#46039f"
            ],
            [
             0.2222222222222222,
             "#7201a8"
            ],
            [
             0.3333333333333333,
             "#9c179e"
            ],
            [
             0.4444444444444444,
             "#bd3786"
            ],
            [
             0.5555555555555556,
             "#d8576b"
            ],
            [
             0.6666666666666666,
             "#ed7953"
            ],
            [
             0.7777777777777778,
             "#fb9f3a"
            ],
            [
             0.8888888888888888,
             "#fdca26"
            ],
            [
             1,
             "#f0f921"
            ]
           ]
          },
          "colorway": [
           "#636efa",
           "#EF553B",
           "#00cc96",
           "#ab63fa",
           "#FFA15A",
           "#19d3f3",
           "#FF6692",
           "#B6E880",
           "#FF97FF",
           "#FECB52"
          ],
          "font": {
           "color": "#2a3f5f"
          },
          "geo": {
           "bgcolor": "white",
           "lakecolor": "white",
           "landcolor": "#E5ECF6",
           "showlakes": true,
           "showland": true,
           "subunitcolor": "white"
          },
          "hoverlabel": {
           "align": "left"
          },
          "hovermode": "closest",
          "mapbox": {
           "style": "light"
          },
          "paper_bgcolor": "white",
          "plot_bgcolor": "#E5ECF6",
          "polar": {
           "angularaxis": {
            "gridcolor": "white",
            "linecolor": "white",
            "ticks": ""
           },
           "bgcolor": "#E5ECF6",
           "radialaxis": {
            "gridcolor": "white",
            "linecolor": "white",
            "ticks": ""
           }
          },
          "scene": {
           "xaxis": {
            "backgroundcolor": "#E5ECF6",
            "gridcolor": "white",
            "gridwidth": 2,
            "linecolor": "white",
            "showbackground": true,
            "ticks": "",
            "zerolinecolor": "white"
           },
           "yaxis": {
            "backgroundcolor": "#E5ECF6",
            "gridcolor": "white",
            "gridwidth": 2,
            "linecolor": "white",
            "showbackground": true,
            "ticks": "",
            "zerolinecolor": "white"
           },
           "zaxis": {
            "backgroundcolor": "#E5ECF6",
            "gridcolor": "white",
            "gridwidth": 2,
            "linecolor": "white",
            "showbackground": true,
            "ticks": "",
            "zerolinecolor": "white"
           }
          },
          "shapedefaults": {
           "line": {
            "color": "#2a3f5f"
           }
          },
          "ternary": {
           "aaxis": {
            "gridcolor": "white",
            "linecolor": "white",
            "ticks": ""
           },
           "baxis": {
            "gridcolor": "white",
            "linecolor": "white",
            "ticks": ""
           },
           "bgcolor": "#E5ECF6",
           "caxis": {
            "gridcolor": "white",
            "linecolor": "white",
            "ticks": ""
           }
          },
          "title": {
           "x": 0.05
          },
          "xaxis": {
           "automargin": true,
           "gridcolor": "white",
           "linecolor": "white",
           "ticks": "",
           "title": {
            "standoff": 15
           },
           "zerolinecolor": "white",
           "zerolinewidth": 2
          },
          "yaxis": {
           "automargin": true,
           "gridcolor": "white",
           "linecolor": "white",
           "ticks": "",
           "title": {
            "standoff": 15
           },
           "zerolinecolor": "white",
           "zerolinewidth": 2
          }
         }
        },
        "violinmode": "group",
        "xaxis": {
         "anchor": "y",
         "categoryarray": [
          "ckd",
          "notckd"
         ],
         "categoryorder": "array",
         "domain": [
          0,
          1
         ],
         "title": {
          "text": "class"
         }
        },
        "yaxis": {
         "anchor": "x",
         "domain": [
          0,
          1
         ],
         "title": {
          "text": "sod_new"
         }
        }
       }
      },
      "text/html": [
       "<div>\n",
       "        \n",
       "        \n",
       "            <div id=\"b82c1a29-b563-40c9-a23c-fd695d76f793\" class=\"plotly-graph-div\" style=\"height:525px; width:100%;\"></div>\n",
       "            <script type=\"text/javascript\">\n",
       "                require([\"plotly\"], function(Plotly) {\n",
       "                    window.PLOTLYENV=window.PLOTLYENV || {};\n",
       "                    \n",
       "                if (document.getElementById(\"b82c1a29-b563-40c9-a23c-fd695d76f793\")) {\n",
       "                    Plotly.newPlot(\n",
       "                        'b82c1a29-b563-40c9-a23c-fd695d76f793',\n",
       "                        [{\"alignmentgroup\": \"True\", \"box\": {\"visible\": true}, \"hoverlabel\": {\"namelength\": 0}, \"hovertemplate\": \"class=%{x}<br>sod_new=%{y}\", \"legendgroup\": \"ckd\", \"marker\": {\"color\": \"#636efa\"}, \"name\": \"ckd\", \"offsetgroup\": \"ckd\", \"orientation\": \"v\", \"scalegroup\": \"True\", \"showlegend\": true, \"type\": \"violin\", \"x\": [\"ckd\", \"ckd\", \"ckd\", \"ckd\", \"ckd\", \"ckd\", \"ckd\", \"ckd\", \"ckd\", \"ckd\", \"ckd\", \"ckd\", \"ckd\", \"ckd\", \"ckd\", \"ckd\", \"ckd\", \"ckd\", \"ckd\", \"ckd\", \"ckd\", \"ckd\", \"ckd\", \"ckd\", \"ckd\", \"ckd\", \"ckd\", \"ckd\", \"ckd\", \"ckd\", \"ckd\", \"ckd\", \"ckd\", \"ckd\", \"ckd\", \"ckd\", \"ckd\", \"ckd\", \"ckd\", \"ckd\", \"ckd\", \"ckd\", \"ckd\", \"ckd\", \"ckd\", \"ckd\", \"ckd\", \"ckd\", \"ckd\", \"ckd\", \"ckd\", \"ckd\", \"ckd\", \"ckd\", \"ckd\", \"ckd\", \"ckd\", \"ckd\", \"ckd\", \"ckd\", \"ckd\", \"ckd\", \"ckd\", \"ckd\", \"ckd\", \"ckd\", \"ckd\", \"ckd\", \"ckd\", \"ckd\", \"ckd\", \"ckd\", \"ckd\", \"ckd\", \"ckd\", \"ckd\", \"ckd\", \"ckd\", \"ckd\", \"ckd\", \"ckd\", \"ckd\", \"ckd\", \"ckd\", \"ckd\", \"ckd\", \"ckd\", \"ckd\", \"ckd\", \"ckd\", \"ckd\", \"ckd\", \"ckd\", \"ckd\", \"ckd\", \"ckd\", \"ckd\", \"ckd\", \"ckd\", \"ckd\", \"ckd\", \"ckd\", \"ckd\", \"ckd\", \"ckd\", \"ckd\", \"ckd\", \"ckd\", \"ckd\", \"ckd\", \"ckd\", \"ckd\", \"ckd\", \"ckd\", \"ckd\", \"ckd\", \"ckd\", \"ckd\", \"ckd\", \"ckd\", \"ckd\", \"ckd\", \"ckd\", \"ckd\", \"ckd\", \"ckd\", \"ckd\", \"ckd\", \"ckd\", \"ckd\", \"ckd\", \"ckd\", \"ckd\", \"ckd\", \"ckd\", \"ckd\", \"ckd\", \"ckd\", \"ckd\", \"ckd\", \"ckd\", \"ckd\", \"ckd\", \"ckd\", \"ckd\", \"ckd\", \"ckd\", \"ckd\", \"ckd\", \"ckd\", \"ckd\", \"ckd\", \"ckd\", \"ckd\", \"ckd\", \"ckd\", \"ckd\", \"ckd\", \"ckd\", \"ckd\", \"ckd\", \"ckd\", \"ckd\", \"ckd\", \"ckd\", \"ckd\", \"ckd\", \"ckd\", \"ckd\", \"ckd\", \"ckd\", \"ckd\", \"ckd\", \"ckd\", \"ckd\", \"ckd\", \"ckd\", \"ckd\", \"ckd\", \"ckd\", \"ckd\", \"ckd\", \"ckd\", \"ckd\", \"ckd\", \"ckd\", \"ckd\", \"ckd\", \"ckd\", \"ckd\", \"ckd\", \"ckd\", \"ckd\", \"ckd\", \"ckd\", \"ckd\", \"ckd\", \"ckd\", \"ckd\", \"ckd\", \"ckd\", \"ckd\", \"ckd\", \"ckd\", \"ckd\", \"ckd\", \"ckd\", \"ckd\", \"ckd\", \"ckd\", \"ckd\", \"ckd\", \"ckd\", \"ckd\", \"ckd\", \"ckd\", \"ckd\", \"ckd\", \"ckd\", \"ckd\", \"ckd\", \"ckd\", \"ckd\", \"ckd\", \"ckd\", \"ckd\", \"ckd\", \"ckd\", \"ckd\", \"ckd\", \"ckd\", \"ckd\", \"ckd\", \"ckd\", \"ckd\", \"ckd\", \"ckd\", \"ckd\", \"ckd\", \"ckd\", \"ckd\", \"ckd\", \"ckd\", \"ckd\", \"ckd\", \"ckd\", \"ckd\", \"ckd\", \"ckd\", \"ckd\"], \"x0\": \" \", \"xaxis\": \"x\", \"y\": [137.52875399361022, 137.52875399361022, 137.52875399361022, 113.0, 137.52875399361022, 142.0, 113.0, 137.52875399361022, 137.52875399361022, 114.0, 137.52875399361022, 131.0, 138.0, 135.0, 130.0, 141.0, 138.0, 139.0, 135.0, 137.52875399361022, 135.0, 113.0, 136.0, 137.52875399361022, 129.0, 141.0, 140.0, 130.0, 137.52875399361022, 137.52875399361022, 132.0, 141.0, 133.0, 137.52875399361022, 137.52875399361022, 137.52875399361022, 133.0, 141.0, 132.0, 136.0, 137.52875399361022, 137.52875399361022, 139.0, 134.0, 134.0, 130.0, 142.0, 137.52875399361022, 125.0, 137.52875399361022, 142.0, 136.0, 137.52875399361022, 137.52875399361022, 136.0, 137.52875399361022, 131.0, 132.0, 138.0, 137.52875399361022, 138.0, 150.0, 138.0, 131.0, 137.52875399361022, 137.52875399361022, 131.0, 137.52875399361022, 137.52875399361022, 137.52875399361022, 137.0, 141.0, 137.52875399361022, 132.0, 131.0, 138.0, 132.0, 137.0, 141.0, 137.52875399361022, 133.0, 128.0, 140.0, 134.0, 135.0, 137.52875399361022, 137.52875399361022, 137.52875399361022, 137.52875399361022, 139.0, 143.0, 136.0, 133.0, 140.0, 137.0, 131.0, 137.52875399361022, 132.0, 135.0, 139.0, 133.0, 139.0, 141.0, 137.52875399361022, 137.52875399361022, 139.0, 127.0, 139.0, 141.0, 137.52875399361022, 142.0, 128.0, 137.52875399361022, 137.52875399361022, 137.52875399361022, 137.52875399361022, 137.52875399361022, 139.0, 137.52875399361022, 137.52875399361022, 137.0, 137.0, 130.0, 137.52875399361022, 137.52875399361022, 131.0, 136.0, 136.0, 133.0, 135.0, 134.0, 137.52875399361022, 136.0, 136.0, 138.0, 140.0, 146.0, 134.0, 142.0, 132.0, 142.0, 137.0, 135.0, 135.0, 136.0, 126.0, 139.0, 130.0, 137.52875399361022, 137.52875399361022, 137.52875399361022, 141.0, 133.0, 132.0, 140.0, 137.52875399361022, 137.52875399361022, 136.0, 132.0, 122.0, 147.0, 137.52875399361022, 124.0, 140.0, 137.0, 137.52875399361022, 127.0, 137.52875399361022, 137.52875399361022, 137.52875399361022, 131.0, 115.0, 130.0, 145.0, 141.0, 113.0, 125.0, 137.52875399361022, 139.0, 137.52875399361022, 137.52875399361022, 136.0, 140.0, 135.0, 133.0, 138.0, 135.0, 137.52875399361022, 142.0, 137.0, 135.0, 134.0, 137.52875399361022, 113.0, 137.52875399361022, 138.0, 122.0, 124.0, 137.0, 140.0, 140.0, 137.0, 135.0, 142.0, 145.0, 137.52875399361022, 135.0, 137.52875399361022, 137.52875399361022, 137.52875399361022, 135.0, 137.52875399361022, 132.0, 137.0, 137.52875399361022, 137.52875399361022, 137.52875399361022, 141.0, 137.52875399361022, 137.52875399361022, 137.52875399361022, 138.0, 137.52875399361022, 136.0, 138.0, 131.0, 140.0, 137.52875399361022, 137.52875399361022, 114.0, 130.0, 138.0, 137.52875399361022, 146.0, 137.52875399361022, 137.52875399361022, 136.0, 137.52875399361022, 127.0, 137.0, 137.52875399361022, 140.0, 120.0, 138.0, 135.0, 135.0, 120.0, 140.0, 138.0, 124.0], \"y0\": \" \", \"yaxis\": \"y\"}, {\"alignmentgroup\": \"True\", \"box\": {\"visible\": true}, \"hoverlabel\": {\"namelength\": 0}, \"hovertemplate\": \"class=%{x}<br>sod_new=%{y}\", \"legendgroup\": \"notckd\", \"marker\": {\"color\": \"#EF553B\"}, \"name\": \"notckd\", \"offsetgroup\": \"notckd\", \"orientation\": \"v\", \"scalegroup\": \"True\", \"showlegend\": true, \"type\": \"violin\", \"x\": [\"notckd\", \"notckd\", \"notckd\", \"notckd\", \"notckd\", \"notckd\", \"notckd\", \"notckd\", \"notckd\", \"notckd\", \"notckd\", \"notckd\", \"notckd\", \"notckd\", \"notckd\", \"notckd\", \"notckd\", \"notckd\", \"notckd\", \"notckd\", \"notckd\", \"notckd\", \"notckd\", \"notckd\", \"notckd\", \"notckd\", \"notckd\", \"notckd\", \"notckd\", \"notckd\", \"notckd\", \"notckd\", \"notckd\", \"notckd\", \"notckd\", \"notckd\", \"notckd\", \"notckd\", \"notckd\", \"notckd\", \"notckd\", \"notckd\", \"notckd\", \"notckd\", \"notckd\", \"notckd\", \"notckd\", \"notckd\", \"notckd\", \"notckd\", \"notckd\", \"notckd\", \"notckd\", \"notckd\", \"notckd\", \"notckd\", \"notckd\", \"notckd\", \"notckd\", \"notckd\", \"notckd\", \"notckd\", \"notckd\", \"notckd\", \"notckd\", \"notckd\", \"notckd\", \"notckd\", \"notckd\", \"notckd\", \"notckd\", \"notckd\", \"notckd\", \"notckd\", \"notckd\", \"notckd\", \"notckd\", \"notckd\", \"notckd\", \"notckd\", \"notckd\", \"notckd\", \"notckd\", \"notckd\", \"notckd\", \"notckd\", \"notckd\", \"notckd\", \"notckd\", \"notckd\", \"notckd\", \"notckd\", \"notckd\", \"notckd\", \"notckd\", \"notckd\", \"notckd\", \"notckd\", \"notckd\", \"notckd\", \"notckd\", \"notckd\", \"notckd\", \"notckd\", \"notckd\", \"notckd\", \"notckd\", \"notckd\", \"notckd\", \"notckd\", \"notckd\", \"notckd\", \"notckd\", \"notckd\", \"notckd\", \"notckd\", \"notckd\", \"notckd\", \"notckd\", \"notckd\", \"notckd\", \"notckd\", \"notckd\", \"notckd\", \"notckd\", \"notckd\", \"notckd\", \"notckd\", \"notckd\", \"notckd\", \"notckd\", \"notckd\", \"notckd\", \"notckd\", \"notckd\", \"notckd\", \"notckd\", \"notckd\", \"notckd\", \"notckd\", \"notckd\", \"notckd\", \"notckd\", \"notckd\", \"notckd\", \"notckd\", \"notckd\", \"notckd\", \"notckd\", \"notckd\"], \"x0\": \" \", \"xaxis\": \"x\", \"y\": [135.0, 150.0, 147.0, 135.0, 135.0, 144.0, 146.0, 135.0, 140.0, 135.0, 147.0, 139.0, 135.0, 137.0, 140.0, 150.0, 135.0, 146.0, 140.0, 142.0, 145.0, 144.0, 135.0, 140.0, 141.0, 139.0, 137.0, 135.0, 142.0, 140.0, 144.0, 147.0, 135.0, 137.52875399361022, 142.0, 135.0, 145.0, 137.0, 135.0, 143.0, 146.0, 140.0, 139.0, 150.0, 135.0, 150.0, 140.0, 146.0, 135.0, 150.0, 141.0, 147.0, 145.0, 137.52875399361022, 135.0, 138.0, 140.0, 150.0, 135.0, 139.0, 142.0, 147.0, 135.0, 142.0, 145.0, 137.52875399361022, 135.0, 139.0, 137.0, 135.0, 150.0, 144.0, 140.0, 143.0, 150.0, 140.0, 141.0, 150.0, 145.0, 146.0, 135.0, 147.0, 150.0, 142.0, 136.0, 139.0, 137.52875399361022, 141.0, 147.0, 136.0, 142.0, 150.0, 138.0, 135.0, 150.0, 138.0, 141.0, 144.0, 147.0, 150.0, 142.0, 139.0, 141.0, 150.0, 147.0, 145.0, 144.0, 140.0, 138.0, 147.0, 135.0, 138.0, 144.0, 137.52875399361022, 137.0, 145.0, 141.0, 139.0, 146.0, 144.0, 139.0, 145.0, 150.0, 142.0, 146.0, 143.0, 147.0, 145.0, 140.0, 138.0, 139.0, 142.0, 137.0, 141.0, 150.0, 146.0, 142.0, 136.0, 144.0, 140.0, 135.0, 142.0, 147.0, 141.0, 139.0, 150.0, 141.0, 137.0, 135.0, 141.0], \"y0\": \" \", \"yaxis\": \"y\"}],\n",
       "                        {\"legend\": {\"title\": {\"text\": \"class\"}, \"tracegroupgap\": 0}, \"margin\": {\"t\": 60}, \"template\": {\"data\": {\"bar\": [{\"error_x\": {\"color\": \"#2a3f5f\"}, \"error_y\": {\"color\": \"#2a3f5f\"}, \"marker\": {\"line\": {\"color\": \"#E5ECF6\", \"width\": 0.5}}, \"type\": \"bar\"}], \"barpolar\": [{\"marker\": {\"line\": {\"color\": \"#E5ECF6\", \"width\": 0.5}}, \"type\": \"barpolar\"}], \"carpet\": [{\"aaxis\": {\"endlinecolor\": \"#2a3f5f\", \"gridcolor\": \"white\", \"linecolor\": \"white\", \"minorgridcolor\": \"white\", \"startlinecolor\": \"#2a3f5f\"}, \"baxis\": {\"endlinecolor\": \"#2a3f5f\", \"gridcolor\": \"white\", \"linecolor\": \"white\", \"minorgridcolor\": \"white\", \"startlinecolor\": \"#2a3f5f\"}, \"type\": \"carpet\"}], \"choropleth\": [{\"colorbar\": {\"outlinewidth\": 0, \"ticks\": \"\"}, \"type\": \"choropleth\"}], \"contour\": [{\"colorbar\": {\"outlinewidth\": 0, \"ticks\": \"\"}, \"colorscale\": [[0.0, \"#0d0887\"], [0.1111111111111111, \"#46039f\"], [0.2222222222222222, \"#7201a8\"], [0.3333333333333333, \"#9c179e\"], [0.4444444444444444, \"#bd3786\"], [0.5555555555555556, \"#d8576b\"], [0.6666666666666666, \"#ed7953\"], [0.7777777777777778, \"#fb9f3a\"], [0.8888888888888888, \"#fdca26\"], [1.0, \"#f0f921\"]], \"type\": \"contour\"}], \"contourcarpet\": [{\"colorbar\": {\"outlinewidth\": 0, \"ticks\": \"\"}, \"type\": \"contourcarpet\"}], \"heatmap\": [{\"colorbar\": {\"outlinewidth\": 0, \"ticks\": \"\"}, \"colorscale\": [[0.0, \"#0d0887\"], [0.1111111111111111, \"#46039f\"], [0.2222222222222222, \"#7201a8\"], [0.3333333333333333, \"#9c179e\"], [0.4444444444444444, \"#bd3786\"], [0.5555555555555556, \"#d8576b\"], [0.6666666666666666, \"#ed7953\"], [0.7777777777777778, \"#fb9f3a\"], [0.8888888888888888, \"#fdca26\"], [1.0, \"#f0f921\"]], \"type\": \"heatmap\"}], \"heatmapgl\": [{\"colorbar\": {\"outlinewidth\": 0, \"ticks\": \"\"}, \"colorscale\": [[0.0, \"#0d0887\"], [0.1111111111111111, \"#46039f\"], [0.2222222222222222, \"#7201a8\"], [0.3333333333333333, \"#9c179e\"], [0.4444444444444444, \"#bd3786\"], [0.5555555555555556, \"#d8576b\"], [0.6666666666666666, \"#ed7953\"], [0.7777777777777778, \"#fb9f3a\"], [0.8888888888888888, \"#fdca26\"], [1.0, \"#f0f921\"]], \"type\": \"heatmapgl\"}], \"histogram\": [{\"marker\": {\"colorbar\": {\"outlinewidth\": 0, \"ticks\": \"\"}}, \"type\": \"histogram\"}], \"histogram2d\": [{\"colorbar\": {\"outlinewidth\": 0, \"ticks\": \"\"}, \"colorscale\": [[0.0, \"#0d0887\"], [0.1111111111111111, \"#46039f\"], [0.2222222222222222, \"#7201a8\"], [0.3333333333333333, \"#9c179e\"], [0.4444444444444444, \"#bd3786\"], [0.5555555555555556, \"#d8576b\"], [0.6666666666666666, \"#ed7953\"], [0.7777777777777778, \"#fb9f3a\"], [0.8888888888888888, \"#fdca26\"], [1.0, \"#f0f921\"]], \"type\": \"histogram2d\"}], \"histogram2dcontour\": [{\"colorbar\": {\"outlinewidth\": 0, \"ticks\": \"\"}, \"colorscale\": [[0.0, \"#0d0887\"], [0.1111111111111111, \"#46039f\"], [0.2222222222222222, \"#7201a8\"], [0.3333333333333333, \"#9c179e\"], [0.4444444444444444, \"#bd3786\"], [0.5555555555555556, \"#d8576b\"], [0.6666666666666666, \"#ed7953\"], [0.7777777777777778, \"#fb9f3a\"], [0.8888888888888888, \"#fdca26\"], [1.0, \"#f0f921\"]], \"type\": \"histogram2dcontour\"}], \"mesh3d\": [{\"colorbar\": {\"outlinewidth\": 0, \"ticks\": \"\"}, \"type\": \"mesh3d\"}], \"parcoords\": [{\"line\": {\"colorbar\": {\"outlinewidth\": 0, \"ticks\": \"\"}}, \"type\": \"parcoords\"}], \"pie\": [{\"automargin\": true, \"type\": \"pie\"}], \"scatter\": [{\"marker\": {\"colorbar\": {\"outlinewidth\": 0, \"ticks\": \"\"}}, \"type\": \"scatter\"}], \"scatter3d\": [{\"line\": {\"colorbar\": {\"outlinewidth\": 0, \"ticks\": \"\"}}, \"marker\": {\"colorbar\": {\"outlinewidth\": 0, \"ticks\": \"\"}}, \"type\": \"scatter3d\"}], \"scattercarpet\": [{\"marker\": {\"colorbar\": {\"outlinewidth\": 0, \"ticks\": \"\"}}, \"type\": \"scattercarpet\"}], \"scattergeo\": [{\"marker\": {\"colorbar\": {\"outlinewidth\": 0, \"ticks\": \"\"}}, \"type\": \"scattergeo\"}], \"scattergl\": [{\"marker\": {\"colorbar\": {\"outlinewidth\": 0, \"ticks\": \"\"}}, \"type\": \"scattergl\"}], \"scattermapbox\": [{\"marker\": {\"colorbar\": {\"outlinewidth\": 0, \"ticks\": \"\"}}, \"type\": \"scattermapbox\"}], \"scatterpolar\": [{\"marker\": {\"colorbar\": {\"outlinewidth\": 0, \"ticks\": \"\"}}, \"type\": \"scatterpolar\"}], \"scatterpolargl\": [{\"marker\": {\"colorbar\": {\"outlinewidth\": 0, \"ticks\": \"\"}}, \"type\": \"scatterpolargl\"}], \"scatterternary\": [{\"marker\": {\"colorbar\": {\"outlinewidth\": 0, \"ticks\": \"\"}}, \"type\": \"scatterternary\"}], \"surface\": [{\"colorbar\": {\"outlinewidth\": 0, \"ticks\": \"\"}, \"colorscale\": [[0.0, \"#0d0887\"], [0.1111111111111111, \"#46039f\"], [0.2222222222222222, \"#7201a8\"], [0.3333333333333333, \"#9c179e\"], [0.4444444444444444, \"#bd3786\"], [0.5555555555555556, \"#d8576b\"], [0.6666666666666666, \"#ed7953\"], [0.7777777777777778, \"#fb9f3a\"], [0.8888888888888888, \"#fdca26\"], [1.0, \"#f0f921\"]], \"type\": \"surface\"}], \"table\": [{\"cells\": {\"fill\": {\"color\": \"#EBF0F8\"}, \"line\": {\"color\": \"white\"}}, \"header\": {\"fill\": {\"color\": \"#C8D4E3\"}, \"line\": {\"color\": \"white\"}}, \"type\": \"table\"}]}, \"layout\": {\"annotationdefaults\": {\"arrowcolor\": \"#2a3f5f\", \"arrowhead\": 0, \"arrowwidth\": 1}, \"coloraxis\": {\"colorbar\": {\"outlinewidth\": 0, \"ticks\": \"\"}}, \"colorscale\": {\"diverging\": [[0, \"#8e0152\"], [0.1, \"#c51b7d\"], [0.2, \"#de77ae\"], [0.3, \"#f1b6da\"], [0.4, \"#fde0ef\"], [0.5, \"#f7f7f7\"], [0.6, \"#e6f5d0\"], [0.7, \"#b8e186\"], [0.8, \"#7fbc41\"], [0.9, \"#4d9221\"], [1, \"#276419\"]], \"sequential\": [[0.0, \"#0d0887\"], [0.1111111111111111, \"#46039f\"], [0.2222222222222222, \"#7201a8\"], [0.3333333333333333, \"#9c179e\"], [0.4444444444444444, \"#bd3786\"], [0.5555555555555556, \"#d8576b\"], [0.6666666666666666, \"#ed7953\"], [0.7777777777777778, \"#fb9f3a\"], [0.8888888888888888, \"#fdca26\"], [1.0, \"#f0f921\"]], \"sequentialminus\": [[0.0, \"#0d0887\"], [0.1111111111111111, \"#46039f\"], [0.2222222222222222, \"#7201a8\"], [0.3333333333333333, \"#9c179e\"], [0.4444444444444444, \"#bd3786\"], [0.5555555555555556, \"#d8576b\"], [0.6666666666666666, \"#ed7953\"], [0.7777777777777778, \"#fb9f3a\"], [0.8888888888888888, \"#fdca26\"], [1.0, \"#f0f921\"]]}, \"colorway\": [\"#636efa\", \"#EF553B\", \"#00cc96\", \"#ab63fa\", \"#FFA15A\", \"#19d3f3\", \"#FF6692\", \"#B6E880\", \"#FF97FF\", \"#FECB52\"], \"font\": {\"color\": \"#2a3f5f\"}, \"geo\": {\"bgcolor\": \"white\", \"lakecolor\": \"white\", \"landcolor\": \"#E5ECF6\", \"showlakes\": true, \"showland\": true, \"subunitcolor\": \"white\"}, \"hoverlabel\": {\"align\": \"left\"}, \"hovermode\": \"closest\", \"mapbox\": {\"style\": \"light\"}, \"paper_bgcolor\": \"white\", \"plot_bgcolor\": \"#E5ECF6\", \"polar\": {\"angularaxis\": {\"gridcolor\": \"white\", \"linecolor\": \"white\", \"ticks\": \"\"}, \"bgcolor\": \"#E5ECF6\", \"radialaxis\": {\"gridcolor\": \"white\", \"linecolor\": \"white\", \"ticks\": \"\"}}, \"scene\": {\"xaxis\": {\"backgroundcolor\": \"#E5ECF6\", \"gridcolor\": \"white\", \"gridwidth\": 2, \"linecolor\": \"white\", \"showbackground\": true, \"ticks\": \"\", \"zerolinecolor\": \"white\"}, \"yaxis\": {\"backgroundcolor\": \"#E5ECF6\", \"gridcolor\": \"white\", \"gridwidth\": 2, \"linecolor\": \"white\", \"showbackground\": true, \"ticks\": \"\", \"zerolinecolor\": \"white\"}, \"zaxis\": {\"backgroundcolor\": \"#E5ECF6\", \"gridcolor\": \"white\", \"gridwidth\": 2, \"linecolor\": \"white\", \"showbackground\": true, \"ticks\": \"\", \"zerolinecolor\": \"white\"}}, \"shapedefaults\": {\"line\": {\"color\": \"#2a3f5f\"}}, \"ternary\": {\"aaxis\": {\"gridcolor\": \"white\", \"linecolor\": \"white\", \"ticks\": \"\"}, \"baxis\": {\"gridcolor\": \"white\", \"linecolor\": \"white\", \"ticks\": \"\"}, \"bgcolor\": \"#E5ECF6\", \"caxis\": {\"gridcolor\": \"white\", \"linecolor\": \"white\", \"ticks\": \"\"}}, \"title\": {\"x\": 0.05}, \"xaxis\": {\"automargin\": true, \"gridcolor\": \"white\", \"linecolor\": \"white\", \"ticks\": \"\", \"title\": {\"standoff\": 15}, \"zerolinecolor\": \"white\", \"zerolinewidth\": 2}, \"yaxis\": {\"automargin\": true, \"gridcolor\": \"white\", \"linecolor\": \"white\", \"ticks\": \"\", \"title\": {\"standoff\": 15}, \"zerolinecolor\": \"white\", \"zerolinewidth\": 2}}}, \"violinmode\": \"group\", \"xaxis\": {\"anchor\": \"y\", \"categoryarray\": [\"ckd\", \"notckd\"], \"categoryorder\": \"array\", \"domain\": [0.0, 1.0], \"title\": {\"text\": \"class\"}}, \"yaxis\": {\"anchor\": \"x\", \"domain\": [0.0, 1.0], \"title\": {\"text\": \"sod_new\"}}},\n",
       "                        {\"responsive\": true}\n",
       "                    ).then(function(){\n",
       "                            \n",
       "var gd = document.getElementById('b82c1a29-b563-40c9-a23c-fd695d76f793');\n",
       "var x = new MutationObserver(function (mutations, observer) {{\n",
       "        var display = window.getComputedStyle(gd).display;\n",
       "        if (!display || display === 'none') {{\n",
       "            console.log([gd, 'removed!']);\n",
       "            Plotly.purge(gd);\n",
       "            observer.disconnect();\n",
       "        }}\n",
       "}});\n",
       "\n",
       "// Listen for the removal of the full notebook cells\n",
       "var notebookContainer = gd.closest('#notebook-container');\n",
       "if (notebookContainer) {{\n",
       "    x.observe(notebookContainer, {childList: true});\n",
       "}}\n",
       "\n",
       "// Listen for the clearing of the current output cell\n",
       "var outputEl = gd.closest('.output');\n",
       "if (outputEl) {{\n",
       "    x.observe(outputEl, {childList: true});\n",
       "}}\n",
       "\n",
       "                        })\n",
       "                };\n",
       "                });\n",
       "            </script>\n",
       "        </div>"
      ]
     },
     "metadata": {},
     "output_type": "display_data"
    }
   ],
   "source": [
    "fig = px.violin(ckd_copy, y='sod_new', x=\"class\", color=\"class\", box=True, template = None)\n",
    "fig.show()"
   ]
  },
  {
   "cell_type": "markdown",
   "metadata": {},
   "source": [
    "# Working on pot - potassium column "
   ]
  },
  {
   "cell_type": "code",
   "execution_count": 953,
   "metadata": {},
   "outputs": [
    {
     "data": {
      "text/plain": [
       "array(['?', '2.5', '3.2', '4', '3.7', '4.2', '5.8', '3.4', '6.4', '4.9',\n",
       "       '4.1', '4.3', '5.2', '3.8', '4.6', '3.9', '4.7', '5.9', '4.8',\n",
       "       '4.4', '6.6', '39', '5.5', '5', '3.5', '3.6', '7.6', '2.9', '4.5',\n",
       "       '5.7', '5.4', '5.3', '47', '6.3', '5.1', '5.6', '3', '2.8', '2.7',\n",
       "       '6.5', '3.3'], dtype=object)"
      ]
     },
     "execution_count": 953,
     "metadata": {},
     "output_type": "execute_result"
    }
   ],
   "source": [
    "ckd_copy['pot'].unique()"
   ]
  },
  {
   "cell_type": "code",
   "execution_count": 955,
   "metadata": {},
   "outputs": [],
   "source": [
    "mean_value = round(ckd_copy[ckd_copy['pot']!='?']['pot'].astype(float).mean(),1)"
   ]
  },
  {
   "cell_type": "code",
   "execution_count": 1032,
   "metadata": {},
   "outputs": [],
   "source": [
    "ckd_copy['pot'].replace('?',mean_value, inplace=True)\n",
    "ckd_copy['pot']=ckd_copy['pot'].astype(float)"
   ]
  },
  {
   "cell_type": "code",
   "execution_count": 957,
   "metadata": {},
   "outputs": [],
   "source": [
    "#I identified that some of the values are in double digit and assuming its errorious, correcting it to single digit.\n",
    "ckd_copy['pot']=np.where((ckd_copy['pot'].astype(float)>10),round(ckd_copy['pot'].astype(float)/10,1),ckd_copy['pot'])\n"
   ]
  },
  {
   "cell_type": "code",
   "execution_count": 958,
   "metadata": {},
   "outputs": [
    {
     "data": {
      "application/vnd.plotly.v1+json": {
       "config": {
        "plotlyServerURL": "https://plot.ly"
       },
       "data": [
        {
         "alignmentgroup": "True",
         "box": {
          "visible": true
         },
         "hoverlabel": {
          "namelength": 0
         },
         "hovertemplate": "class=%{x}<br>pot=%{y}",
         "legendgroup": "ckd",
         "marker": {
          "color": "#636efa"
         },
         "name": "ckd",
         "offsetgroup": "ckd",
         "orientation": "v",
         "scalegroup": "True",
         "showlegend": true,
         "type": "violin",
         "x": [
          "ckd",
          "ckd",
          "ckd",
          "ckd",
          "ckd",
          "ckd",
          "ckd",
          "ckd",
          "ckd",
          "ckd",
          "ckd",
          "ckd",
          "ckd",
          "ckd",
          "ckd",
          "ckd",
          "ckd",
          "ckd",
          "ckd",
          "ckd",
          "ckd",
          "ckd",
          "ckd",
          "ckd",
          "ckd",
          "ckd",
          "ckd",
          "ckd",
          "ckd",
          "ckd",
          "ckd",
          "ckd",
          "ckd",
          "ckd",
          "ckd",
          "ckd",
          "ckd",
          "ckd",
          "ckd",
          "ckd",
          "ckd",
          "ckd",
          "ckd",
          "ckd",
          "ckd",
          "ckd",
          "ckd",
          "ckd",
          "ckd",
          "ckd",
          "ckd",
          "ckd",
          "ckd",
          "ckd",
          "ckd",
          "ckd",
          "ckd",
          "ckd",
          "ckd",
          "ckd",
          "ckd",
          "ckd",
          "ckd",
          "ckd",
          "ckd",
          "ckd",
          "ckd",
          "ckd",
          "ckd",
          "ckd",
          "ckd",
          "ckd",
          "ckd",
          "ckd",
          "ckd",
          "ckd",
          "ckd",
          "ckd",
          "ckd",
          "ckd",
          "ckd",
          "ckd",
          "ckd",
          "ckd",
          "ckd",
          "ckd",
          "ckd",
          "ckd",
          "ckd",
          "ckd",
          "ckd",
          "ckd",
          "ckd",
          "ckd",
          "ckd",
          "ckd",
          "ckd",
          "ckd",
          "ckd",
          "ckd",
          "ckd",
          "ckd",
          "ckd",
          "ckd",
          "ckd",
          "ckd",
          "ckd",
          "ckd",
          "ckd",
          "ckd",
          "ckd",
          "ckd",
          "ckd",
          "ckd",
          "ckd",
          "ckd",
          "ckd",
          "ckd",
          "ckd",
          "ckd",
          "ckd",
          "ckd",
          "ckd",
          "ckd",
          "ckd",
          "ckd",
          "ckd",
          "ckd",
          "ckd",
          "ckd",
          "ckd",
          "ckd",
          "ckd",
          "ckd",
          "ckd",
          "ckd",
          "ckd",
          "ckd",
          "ckd",
          "ckd",
          "ckd",
          "ckd",
          "ckd",
          "ckd",
          "ckd",
          "ckd",
          "ckd",
          "ckd",
          "ckd",
          "ckd",
          "ckd",
          "ckd",
          "ckd",
          "ckd",
          "ckd",
          "ckd",
          "ckd",
          "ckd",
          "ckd",
          "ckd",
          "ckd",
          "ckd",
          "ckd",
          "ckd",
          "ckd",
          "ckd",
          "ckd",
          "ckd",
          "ckd",
          "ckd",
          "ckd",
          "ckd",
          "ckd",
          "ckd",
          "ckd",
          "ckd",
          "ckd",
          "ckd",
          "ckd",
          "ckd",
          "ckd",
          "ckd",
          "ckd",
          "ckd",
          "ckd",
          "ckd",
          "ckd",
          "ckd",
          "ckd",
          "ckd",
          "ckd",
          "ckd",
          "ckd",
          "ckd",
          "ckd",
          "ckd",
          "ckd",
          "ckd",
          "ckd",
          "ckd",
          "ckd",
          "ckd",
          "ckd",
          "ckd",
          "ckd",
          "ckd",
          "ckd",
          "ckd",
          "ckd",
          "ckd",
          "ckd",
          "ckd",
          "ckd",
          "ckd",
          "ckd",
          "ckd",
          "ckd",
          "ckd",
          "ckd",
          "ckd",
          "ckd",
          "ckd",
          "ckd",
          "ckd",
          "ckd",
          "ckd",
          "ckd",
          "ckd",
          "ckd",
          "ckd",
          "ckd",
          "ckd",
          "ckd",
          "ckd",
          "ckd",
          "ckd",
          "ckd",
          "ckd",
          "ckd",
          "ckd",
          "ckd",
          "ckd",
          "ckd",
          "ckd",
          "ckd",
          "ckd",
          "ckd",
          "ckd",
          "ckd",
          "ckd"
         ],
         "x0": " ",
         "xaxis": "x",
         "y": [
          4.6,
          4.6,
          4.6,
          "2.5",
          4.6,
          "3.2",
          "4",
          4.6,
          4.6,
          "3.7",
          4.6,
          "4.2",
          "5.8",
          "3.4",
          "6.4",
          "4.9",
          "4.1",
          "3.7",
          "4.3",
          4.6,
          "5.2",
          4.6,
          "3.8",
          4.6,
          "4",
          "5.2",
          "3.4",
          "4",
          4.6,
          4.6,
          "4.9",
          "4.6",
          "4.9",
          4.6,
          4.6,
          4.6,
          "3.9",
          "4.7",
          "5.9",
          "4.2",
          4.6,
          4.6,
          "4.2",
          "3.4",
          "4.8",
          "4.9",
          "4.2",
          4.6,
          "4",
          4.6,
          "4.3",
          "4.4",
          4.6,
          4.6,
          "4.2",
          4.6,
          "4.4",
          "4.9",
          "5.8",
          4.6,
          "6.6",
          3.9,
          "4",
          "3.7",
          4.6,
          4.6,
          "4.8",
          4.6,
          4.6,
          4.6,
          "4.4",
          "4",
          4.6,
          "4.4",
          "4.8",
          "3.2",
          "5.5",
          "5",
          "3.5",
          4.6,
          "5",
          "4.4",
          "3.9",
          "3.6",
          "7.6",
          4.6,
          4.6,
          4.6,
          4.6,
          "4.7",
          "3.5",
          "3.8",
          "4.4",
          "2.9",
          "4.5",
          "3.7",
          4.6,
          "3.8",
          "4.3",
          "3.9",
          "3.8",
          "5.7",
          "4.2",
          4.6,
          4.6,
          "4",
          "4.4",
          "4.5",
          "4.2",
          4.6,
          "3.8",
          "5.4",
          4.6,
          4.6,
          4.6,
          4.6,
          4.6,
          "3.7",
          4.6,
          4.6,
          "5.3",
          "3.4",
          "3.8",
          4.6,
          4.6,
          "4.3",
          "4.6",
          "4.9",
          4.7,
          "4.7",
          "4.8",
          4.6,
          "4.5",
          "4.9",
          "5.2",
          "4",
          "6.3",
          "5.1",
          "3.5",
          "4.1",
          "5.6",
          "4.9",
          "5.3",
          "4.7",
          "5.2",
          "4.8",
          "4",
          "3",
          4.6,
          4.6,
          4.6,
          "5.5",
          "3.5",
          "3.4",
          "4.2",
          4.6,
          4.6,
          "4.7",
          "4",
          "3.5",
          "4.2",
          4.6,
          "4.1",
          "4.1",
          "4.2",
          4.6,
          "4.3",
          4.6,
          4.6,
          4.6,
          "3.9",
          "5.7",
          "2.5",
          "2.8",
          "4.7",
          "3",
          "3.5",
          4.6,
          "4.3",
          4.6,
          4.6,
          "3.8",
          "4.1",
          "4.3",
          "4.5",
          "4.4",
          "3.8",
          4.6,
          "3.6",
          "5.4",
          "4.9",
          "2.7",
          4.6,
          "6.5",
          4.6,
          "3.9",
          "3.2",
          "5.3",
          "4.7",
          "5.2",
          "4.1",
          "4.3",
          "5.9",
          "5.5",
          "6.3",
          4.6,
          "4",
          4.6,
          4.6,
          4.6,
          "5.7",
          4.6,
          "5.6",
          "4.9",
          4.6,
          4.6,
          4.6,
          "4.4",
          4.6,
          4.6,
          4.6,
          "5.3",
          4.6,
          "4.1",
          "3.8",
          "3.8",
          "4.6",
          4.6,
          4.6,
          "2.9",
          "4.3",
          "3.7",
          4.6,
          "4.5",
          4.6,
          4.6,
          "5.4",
          4.6,
          "4.8",
          "4.1",
          4.6,
          "3.3",
          "3.9",
          "2.9",
          "4.1",
          "6.3",
          "5.7",
          "4.2",
          "4.5",
          "6.5"
         ],
         "y0": " ",
         "yaxis": "y"
        },
        {
         "alignmentgroup": "True",
         "box": {
          "visible": true
         },
         "hoverlabel": {
          "namelength": 0
         },
         "hovertemplate": "class=%{x}<br>pot=%{y}",
         "legendgroup": "notckd",
         "marker": {
          "color": "#EF553B"
         },
         "name": "notckd",
         "offsetgroup": "notckd",
         "orientation": "v",
         "scalegroup": "True",
         "showlegend": true,
         "type": "violin",
         "x": [
          "notckd",
          "notckd",
          "notckd",
          "notckd",
          "notckd",
          "notckd",
          "notckd",
          "notckd",
          "notckd",
          "notckd",
          "notckd",
          "notckd",
          "notckd",
          "notckd",
          "notckd",
          "notckd",
          "notckd",
          "notckd",
          "notckd",
          "notckd",
          "notckd",
          "notckd",
          "notckd",
          "notckd",
          "notckd",
          "notckd",
          "notckd",
          "notckd",
          "notckd",
          "notckd",
          "notckd",
          "notckd",
          "notckd",
          "notckd",
          "notckd",
          "notckd",
          "notckd",
          "notckd",
          "notckd",
          "notckd",
          "notckd",
          "notckd",
          "notckd",
          "notckd",
          "notckd",
          "notckd",
          "notckd",
          "notckd",
          "notckd",
          "notckd",
          "notckd",
          "notckd",
          "notckd",
          "notckd",
          "notckd",
          "notckd",
          "notckd",
          "notckd",
          "notckd",
          "notckd",
          "notckd",
          "notckd",
          "notckd",
          "notckd",
          "notckd",
          "notckd",
          "notckd",
          "notckd",
          "notckd",
          "notckd",
          "notckd",
          "notckd",
          "notckd",
          "notckd",
          "notckd",
          "notckd",
          "notckd",
          "notckd",
          "notckd",
          "notckd",
          "notckd",
          "notckd",
          "notckd",
          "notckd",
          "notckd",
          "notckd",
          "notckd",
          "notckd",
          "notckd",
          "notckd",
          "notckd",
          "notckd",
          "notckd",
          "notckd",
          "notckd",
          "notckd",
          "notckd",
          "notckd",
          "notckd",
          "notckd",
          "notckd",
          "notckd",
          "notckd",
          "notckd",
          "notckd",
          "notckd",
          "notckd",
          "notckd",
          "notckd",
          "notckd",
          "notckd",
          "notckd",
          "notckd",
          "notckd",
          "notckd",
          "notckd",
          "notckd",
          "notckd",
          "notckd",
          "notckd",
          "notckd",
          "notckd",
          "notckd",
          "notckd",
          "notckd",
          "notckd",
          "notckd",
          "notckd",
          "notckd",
          "notckd",
          "notckd",
          "notckd",
          "notckd",
          "notckd",
          "notckd",
          "notckd",
          "notckd",
          "notckd",
          "notckd",
          "notckd",
          "notckd",
          "notckd",
          "notckd",
          "notckd",
          "notckd",
          "notckd",
          "notckd",
          "notckd",
          "notckd",
          "notckd"
         ],
         "x0": " ",
         "xaxis": "x",
         "y": [
          "5",
          "4.6",
          "4.4",
          "4.7",
          "3.7",
          "3.9",
          "5",
          "3.7",
          "3.5",
          "5",
          "3.8",
          "3.9",
          "3.6",
          "5",
          "4.1",
          "4.5",
          "4.8",
          "3.9",
          "5",
          "4.9",
          "4",
          "4.8",
          "5",
          "4.1",
          "4.2",
          "4.6",
          "4.7",
          "5",
          "4.9",
          "4.7",
          "4.5",
          "5",
          "3.8",
          4.6,
          "4",
          "3.9",
          "5",
          "3.8",
          "4.9",
          "4.7",
          "3.5",
          "4.9",
          "5",
          "4.8",
          "5",
          "3.6",
          "5",
          "4.9",
          "4.5",
          "3.5",
          "4.2",
          "4.5",
          "5",
          4.6,
          "3.9",
          "5",
          "4.5",
          "3.5",
          "4.9",
          "5",
          "4.9",
          "4.7",
          "4.1",
          "4.8",
          "5",
          4.6,
          "4.9",
          "4.3",
          "3.5",
          "4.4",
          "4.7",
          "3.5",
          "4.6",
          "5",
          "4.9",
          "3.5",
          "4.7",
          "4.6",
          "4.9",
          "3.5",
          "3.9",
          "4.7",
          "5",
          "4",
          "3.5",
          "4.8",
          4.6,
          "4.9",
          "3.5",
          "3.5",
          "4.5",
          "5",
          "4.2",
          "4.1",
          "3.3",
          "4.3",
          "4.4",
          "5",
          "3.5",
          "3.5",
          "4.8",
          "3.3",
          "4.9",
          "5",
          "4.7",
          "5",
          "4.8",
          "3.6",
          "3.5",
          "3.7",
          "3.9",
          "3.5",
          "5",
          4.6,
          "3.5",
          "3.5",
          "3.6",
          "3.8",
          "5",
          "3.5",
          "3.7",
          "5",
          "4.9",
          "3.6",
          "3.6",
          "4.5",
          "3.5",
          "4.8",
          "4.8",
          "3.5",
          "3.5",
          "4.8",
          "5",
          "4.9",
          "4.7",
          "4.9",
          "3.5",
          "3.9",
          "3.7",
          "5",
          "3.7",
          "4.1",
          "4.3",
          "4.4",
          "5",
          "4.9",
          "3.5",
          "4.4",
          "4.9",
          "3.5"
         ],
         "y0": " ",
         "yaxis": "y"
        }
       ],
       "layout": {
        "legend": {
         "title": {
          "text": "class"
         },
         "tracegroupgap": 0
        },
        "margin": {
         "t": 60
        },
        "template": {
         "data": {
          "bar": [
           {
            "error_x": {
             "color": "#2a3f5f"
            },
            "error_y": {
             "color": "#2a3f5f"
            },
            "marker": {
             "line": {
              "color": "#E5ECF6",
              "width": 0.5
             }
            },
            "type": "bar"
           }
          ],
          "barpolar": [
           {
            "marker": {
             "line": {
              "color": "#E5ECF6",
              "width": 0.5
             }
            },
            "type": "barpolar"
           }
          ],
          "carpet": [
           {
            "aaxis": {
             "endlinecolor": "#2a3f5f",
             "gridcolor": "white",
             "linecolor": "white",
             "minorgridcolor": "white",
             "startlinecolor": "#2a3f5f"
            },
            "baxis": {
             "endlinecolor": "#2a3f5f",
             "gridcolor": "white",
             "linecolor": "white",
             "minorgridcolor": "white",
             "startlinecolor": "#2a3f5f"
            },
            "type": "carpet"
           }
          ],
          "choropleth": [
           {
            "colorbar": {
             "outlinewidth": 0,
             "ticks": ""
            },
            "type": "choropleth"
           }
          ],
          "contour": [
           {
            "colorbar": {
             "outlinewidth": 0,
             "ticks": ""
            },
            "colorscale": [
             [
              0,
              "#0d0887"
             ],
             [
              0.1111111111111111,
              "#46039f"
             ],
             [
              0.2222222222222222,
              "#7201a8"
             ],
             [
              0.3333333333333333,
              "#9c179e"
             ],
             [
              0.4444444444444444,
              "#bd3786"
             ],
             [
              0.5555555555555556,
              "#d8576b"
             ],
             [
              0.6666666666666666,
              "#ed7953"
             ],
             [
              0.7777777777777778,
              "#fb9f3a"
             ],
             [
              0.8888888888888888,
              "#fdca26"
             ],
             [
              1,
              "#f0f921"
             ]
            ],
            "type": "contour"
           }
          ],
          "contourcarpet": [
           {
            "colorbar": {
             "outlinewidth": 0,
             "ticks": ""
            },
            "type": "contourcarpet"
           }
          ],
          "heatmap": [
           {
            "colorbar": {
             "outlinewidth": 0,
             "ticks": ""
            },
            "colorscale": [
             [
              0,
              "#0d0887"
             ],
             [
              0.1111111111111111,
              "#46039f"
             ],
             [
              0.2222222222222222,
              "#7201a8"
             ],
             [
              0.3333333333333333,
              "#9c179e"
             ],
             [
              0.4444444444444444,
              "#bd3786"
             ],
             [
              0.5555555555555556,
              "#d8576b"
             ],
             [
              0.6666666666666666,
              "#ed7953"
             ],
             [
              0.7777777777777778,
              "#fb9f3a"
             ],
             [
              0.8888888888888888,
              "#fdca26"
             ],
             [
              1,
              "#f0f921"
             ]
            ],
            "type": "heatmap"
           }
          ],
          "heatmapgl": [
           {
            "colorbar": {
             "outlinewidth": 0,
             "ticks": ""
            },
            "colorscale": [
             [
              0,
              "#0d0887"
             ],
             [
              0.1111111111111111,
              "#46039f"
             ],
             [
              0.2222222222222222,
              "#7201a8"
             ],
             [
              0.3333333333333333,
              "#9c179e"
             ],
             [
              0.4444444444444444,
              "#bd3786"
             ],
             [
              0.5555555555555556,
              "#d8576b"
             ],
             [
              0.6666666666666666,
              "#ed7953"
             ],
             [
              0.7777777777777778,
              "#fb9f3a"
             ],
             [
              0.8888888888888888,
              "#fdca26"
             ],
             [
              1,
              "#f0f921"
             ]
            ],
            "type": "heatmapgl"
           }
          ],
          "histogram": [
           {
            "marker": {
             "colorbar": {
              "outlinewidth": 0,
              "ticks": ""
             }
            },
            "type": "histogram"
           }
          ],
          "histogram2d": [
           {
            "colorbar": {
             "outlinewidth": 0,
             "ticks": ""
            },
            "colorscale": [
             [
              0,
              "#0d0887"
             ],
             [
              0.1111111111111111,
              "#46039f"
             ],
             [
              0.2222222222222222,
              "#7201a8"
             ],
             [
              0.3333333333333333,
              "#9c179e"
             ],
             [
              0.4444444444444444,
              "#bd3786"
             ],
             [
              0.5555555555555556,
              "#d8576b"
             ],
             [
              0.6666666666666666,
              "#ed7953"
             ],
             [
              0.7777777777777778,
              "#fb9f3a"
             ],
             [
              0.8888888888888888,
              "#fdca26"
             ],
             [
              1,
              "#f0f921"
             ]
            ],
            "type": "histogram2d"
           }
          ],
          "histogram2dcontour": [
           {
            "colorbar": {
             "outlinewidth": 0,
             "ticks": ""
            },
            "colorscale": [
             [
              0,
              "#0d0887"
             ],
             [
              0.1111111111111111,
              "#46039f"
             ],
             [
              0.2222222222222222,
              "#7201a8"
             ],
             [
              0.3333333333333333,
              "#9c179e"
             ],
             [
              0.4444444444444444,
              "#bd3786"
             ],
             [
              0.5555555555555556,
              "#d8576b"
             ],
             [
              0.6666666666666666,
              "#ed7953"
             ],
             [
              0.7777777777777778,
              "#fb9f3a"
             ],
             [
              0.8888888888888888,
              "#fdca26"
             ],
             [
              1,
              "#f0f921"
             ]
            ],
            "type": "histogram2dcontour"
           }
          ],
          "mesh3d": [
           {
            "colorbar": {
             "outlinewidth": 0,
             "ticks": ""
            },
            "type": "mesh3d"
           }
          ],
          "parcoords": [
           {
            "line": {
             "colorbar": {
              "outlinewidth": 0,
              "ticks": ""
             }
            },
            "type": "parcoords"
           }
          ],
          "pie": [
           {
            "automargin": true,
            "type": "pie"
           }
          ],
          "scatter": [
           {
            "marker": {
             "colorbar": {
              "outlinewidth": 0,
              "ticks": ""
             }
            },
            "type": "scatter"
           }
          ],
          "scatter3d": [
           {
            "line": {
             "colorbar": {
              "outlinewidth": 0,
              "ticks": ""
             }
            },
            "marker": {
             "colorbar": {
              "outlinewidth": 0,
              "ticks": ""
             }
            },
            "type": "scatter3d"
           }
          ],
          "scattercarpet": [
           {
            "marker": {
             "colorbar": {
              "outlinewidth": 0,
              "ticks": ""
             }
            },
            "type": "scattercarpet"
           }
          ],
          "scattergeo": [
           {
            "marker": {
             "colorbar": {
              "outlinewidth": 0,
              "ticks": ""
             }
            },
            "type": "scattergeo"
           }
          ],
          "scattergl": [
           {
            "marker": {
             "colorbar": {
              "outlinewidth": 0,
              "ticks": ""
             }
            },
            "type": "scattergl"
           }
          ],
          "scattermapbox": [
           {
            "marker": {
             "colorbar": {
              "outlinewidth": 0,
              "ticks": ""
             }
            },
            "type": "scattermapbox"
           }
          ],
          "scatterpolar": [
           {
            "marker": {
             "colorbar": {
              "outlinewidth": 0,
              "ticks": ""
             }
            },
            "type": "scatterpolar"
           }
          ],
          "scatterpolargl": [
           {
            "marker": {
             "colorbar": {
              "outlinewidth": 0,
              "ticks": ""
             }
            },
            "type": "scatterpolargl"
           }
          ],
          "scatterternary": [
           {
            "marker": {
             "colorbar": {
              "outlinewidth": 0,
              "ticks": ""
             }
            },
            "type": "scatterternary"
           }
          ],
          "surface": [
           {
            "colorbar": {
             "outlinewidth": 0,
             "ticks": ""
            },
            "colorscale": [
             [
              0,
              "#0d0887"
             ],
             [
              0.1111111111111111,
              "#46039f"
             ],
             [
              0.2222222222222222,
              "#7201a8"
             ],
             [
              0.3333333333333333,
              "#9c179e"
             ],
             [
              0.4444444444444444,
              "#bd3786"
             ],
             [
              0.5555555555555556,
              "#d8576b"
             ],
             [
              0.6666666666666666,
              "#ed7953"
             ],
             [
              0.7777777777777778,
              "#fb9f3a"
             ],
             [
              0.8888888888888888,
              "#fdca26"
             ],
             [
              1,
              "#f0f921"
             ]
            ],
            "type": "surface"
           }
          ],
          "table": [
           {
            "cells": {
             "fill": {
              "color": "#EBF0F8"
             },
             "line": {
              "color": "white"
             }
            },
            "header": {
             "fill": {
              "color": "#C8D4E3"
             },
             "line": {
              "color": "white"
             }
            },
            "type": "table"
           }
          ]
         },
         "layout": {
          "annotationdefaults": {
           "arrowcolor": "#2a3f5f",
           "arrowhead": 0,
           "arrowwidth": 1
          },
          "coloraxis": {
           "colorbar": {
            "outlinewidth": 0,
            "ticks": ""
           }
          },
          "colorscale": {
           "diverging": [
            [
             0,
             "#8e0152"
            ],
            [
             0.1,
             "#c51b7d"
            ],
            [
             0.2,
             "#de77ae"
            ],
            [
             0.3,
             "#f1b6da"
            ],
            [
             0.4,
             "#fde0ef"
            ],
            [
             0.5,
             "#f7f7f7"
            ],
            [
             0.6,
             "#e6f5d0"
            ],
            [
             0.7,
             "#b8e186"
            ],
            [
             0.8,
             "#7fbc41"
            ],
            [
             0.9,
             "#4d9221"
            ],
            [
             1,
             "#276419"
            ]
           ],
           "sequential": [
            [
             0,
             "#0d0887"
            ],
            [
             0.1111111111111111,
             "#46039f"
            ],
            [
             0.2222222222222222,
             "#7201a8"
            ],
            [
             0.3333333333333333,
             "#9c179e"
            ],
            [
             0.4444444444444444,
             "#bd3786"
            ],
            [
             0.5555555555555556,
             "#d8576b"
            ],
            [
             0.6666666666666666,
             "#ed7953"
            ],
            [
             0.7777777777777778,
             "#fb9f3a"
            ],
            [
             0.8888888888888888,
             "#fdca26"
            ],
            [
             1,
             "#f0f921"
            ]
           ],
           "sequentialminus": [
            [
             0,
             "#0d0887"
            ],
            [
             0.1111111111111111,
             "#46039f"
            ],
            [
             0.2222222222222222,
             "#7201a8"
            ],
            [
             0.3333333333333333,
             "#9c179e"
            ],
            [
             0.4444444444444444,
             "#bd3786"
            ],
            [
             0.5555555555555556,
             "#d8576b"
            ],
            [
             0.6666666666666666,
             "#ed7953"
            ],
            [
             0.7777777777777778,
             "#fb9f3a"
            ],
            [
             0.8888888888888888,
             "#fdca26"
            ],
            [
             1,
             "#f0f921"
            ]
           ]
          },
          "colorway": [
           "#636efa",
           "#EF553B",
           "#00cc96",
           "#ab63fa",
           "#FFA15A",
           "#19d3f3",
           "#FF6692",
           "#B6E880",
           "#FF97FF",
           "#FECB52"
          ],
          "font": {
           "color": "#2a3f5f"
          },
          "geo": {
           "bgcolor": "white",
           "lakecolor": "white",
           "landcolor": "#E5ECF6",
           "showlakes": true,
           "showland": true,
           "subunitcolor": "white"
          },
          "hoverlabel": {
           "align": "left"
          },
          "hovermode": "closest",
          "mapbox": {
           "style": "light"
          },
          "paper_bgcolor": "white",
          "plot_bgcolor": "#E5ECF6",
          "polar": {
           "angularaxis": {
            "gridcolor": "white",
            "linecolor": "white",
            "ticks": ""
           },
           "bgcolor": "#E5ECF6",
           "radialaxis": {
            "gridcolor": "white",
            "linecolor": "white",
            "ticks": ""
           }
          },
          "scene": {
           "xaxis": {
            "backgroundcolor": "#E5ECF6",
            "gridcolor": "white",
            "gridwidth": 2,
            "linecolor": "white",
            "showbackground": true,
            "ticks": "",
            "zerolinecolor": "white"
           },
           "yaxis": {
            "backgroundcolor": "#E5ECF6",
            "gridcolor": "white",
            "gridwidth": 2,
            "linecolor": "white",
            "showbackground": true,
            "ticks": "",
            "zerolinecolor": "white"
           },
           "zaxis": {
            "backgroundcolor": "#E5ECF6",
            "gridcolor": "white",
            "gridwidth": 2,
            "linecolor": "white",
            "showbackground": true,
            "ticks": "",
            "zerolinecolor": "white"
           }
          },
          "shapedefaults": {
           "line": {
            "color": "#2a3f5f"
           }
          },
          "ternary": {
           "aaxis": {
            "gridcolor": "white",
            "linecolor": "white",
            "ticks": ""
           },
           "baxis": {
            "gridcolor": "white",
            "linecolor": "white",
            "ticks": ""
           },
           "bgcolor": "#E5ECF6",
           "caxis": {
            "gridcolor": "white",
            "linecolor": "white",
            "ticks": ""
           }
          },
          "title": {
           "x": 0.05
          },
          "xaxis": {
           "automargin": true,
           "gridcolor": "white",
           "linecolor": "white",
           "ticks": "",
           "title": {
            "standoff": 15
           },
           "zerolinecolor": "white",
           "zerolinewidth": 2
          },
          "yaxis": {
           "automargin": true,
           "gridcolor": "white",
           "linecolor": "white",
           "ticks": "",
           "title": {
            "standoff": 15
           },
           "zerolinecolor": "white",
           "zerolinewidth": 2
          }
         }
        },
        "violinmode": "group",
        "xaxis": {
         "anchor": "y",
         "categoryarray": [
          "ckd",
          "notckd"
         ],
         "categoryorder": "array",
         "domain": [
          0,
          1
         ],
         "title": {
          "text": "class"
         }
        },
        "yaxis": {
         "anchor": "x",
         "domain": [
          0,
          1
         ],
         "title": {
          "text": "pot"
         }
        }
       }
      },
      "text/html": [
       "<div>\n",
       "        \n",
       "        \n",
       "            <div id=\"17b16ded-9918-4ffb-ae88-c5a45bf06729\" class=\"plotly-graph-div\" style=\"height:525px; width:100%;\"></div>\n",
       "            <script type=\"text/javascript\">\n",
       "                require([\"plotly\"], function(Plotly) {\n",
       "                    window.PLOTLYENV=window.PLOTLYENV || {};\n",
       "                    \n",
       "                if (document.getElementById(\"17b16ded-9918-4ffb-ae88-c5a45bf06729\")) {\n",
       "                    Plotly.newPlot(\n",
       "                        '17b16ded-9918-4ffb-ae88-c5a45bf06729',\n",
       "                        [{\"alignmentgroup\": \"True\", \"box\": {\"visible\": true}, \"hoverlabel\": {\"namelength\": 0}, \"hovertemplate\": \"class=%{x}<br>pot=%{y}\", \"legendgroup\": \"ckd\", \"marker\": {\"color\": \"#636efa\"}, \"name\": \"ckd\", \"offsetgroup\": \"ckd\", \"orientation\": \"v\", \"scalegroup\": \"True\", \"showlegend\": true, \"type\": \"violin\", \"x\": [\"ckd\", \"ckd\", \"ckd\", \"ckd\", \"ckd\", \"ckd\", \"ckd\", \"ckd\", \"ckd\", \"ckd\", \"ckd\", \"ckd\", \"ckd\", \"ckd\", \"ckd\", \"ckd\", \"ckd\", \"ckd\", \"ckd\", \"ckd\", \"ckd\", \"ckd\", \"ckd\", \"ckd\", \"ckd\", \"ckd\", \"ckd\", \"ckd\", \"ckd\", \"ckd\", \"ckd\", \"ckd\", \"ckd\", \"ckd\", \"ckd\", \"ckd\", \"ckd\", \"ckd\", \"ckd\", \"ckd\", \"ckd\", \"ckd\", \"ckd\", \"ckd\", \"ckd\", \"ckd\", \"ckd\", \"ckd\", \"ckd\", \"ckd\", \"ckd\", \"ckd\", \"ckd\", \"ckd\", \"ckd\", \"ckd\", \"ckd\", \"ckd\", \"ckd\", \"ckd\", \"ckd\", \"ckd\", \"ckd\", \"ckd\", \"ckd\", \"ckd\", \"ckd\", \"ckd\", \"ckd\", \"ckd\", \"ckd\", \"ckd\", \"ckd\", \"ckd\", \"ckd\", \"ckd\", \"ckd\", \"ckd\", \"ckd\", \"ckd\", \"ckd\", \"ckd\", \"ckd\", \"ckd\", \"ckd\", \"ckd\", \"ckd\", \"ckd\", \"ckd\", \"ckd\", \"ckd\", \"ckd\", \"ckd\", \"ckd\", \"ckd\", \"ckd\", \"ckd\", \"ckd\", \"ckd\", \"ckd\", \"ckd\", \"ckd\", \"ckd\", \"ckd\", \"ckd\", \"ckd\", \"ckd\", \"ckd\", \"ckd\", \"ckd\", \"ckd\", \"ckd\", \"ckd\", \"ckd\", \"ckd\", \"ckd\", \"ckd\", \"ckd\", \"ckd\", \"ckd\", \"ckd\", \"ckd\", \"ckd\", \"ckd\", \"ckd\", \"ckd\", \"ckd\", \"ckd\", \"ckd\", \"ckd\", \"ckd\", \"ckd\", \"ckd\", \"ckd\", \"ckd\", \"ckd\", \"ckd\", \"ckd\", \"ckd\", \"ckd\", \"ckd\", \"ckd\", \"ckd\", \"ckd\", \"ckd\", \"ckd\", \"ckd\", \"ckd\", \"ckd\", \"ckd\", \"ckd\", \"ckd\", \"ckd\", \"ckd\", \"ckd\", \"ckd\", \"ckd\", \"ckd\", \"ckd\", \"ckd\", \"ckd\", \"ckd\", \"ckd\", \"ckd\", \"ckd\", \"ckd\", \"ckd\", \"ckd\", \"ckd\", \"ckd\", \"ckd\", \"ckd\", \"ckd\", \"ckd\", \"ckd\", \"ckd\", \"ckd\", \"ckd\", \"ckd\", \"ckd\", \"ckd\", \"ckd\", \"ckd\", \"ckd\", \"ckd\", \"ckd\", \"ckd\", \"ckd\", \"ckd\", \"ckd\", \"ckd\", \"ckd\", \"ckd\", \"ckd\", \"ckd\", \"ckd\", \"ckd\", \"ckd\", \"ckd\", \"ckd\", \"ckd\", \"ckd\", \"ckd\", \"ckd\", \"ckd\", \"ckd\", \"ckd\", \"ckd\", \"ckd\", \"ckd\", \"ckd\", \"ckd\", \"ckd\", \"ckd\", \"ckd\", \"ckd\", \"ckd\", \"ckd\", \"ckd\", \"ckd\", \"ckd\", \"ckd\", \"ckd\", \"ckd\", \"ckd\", \"ckd\", \"ckd\", \"ckd\", \"ckd\", \"ckd\", \"ckd\", \"ckd\", \"ckd\", \"ckd\", \"ckd\", \"ckd\", \"ckd\", \"ckd\", \"ckd\", \"ckd\", \"ckd\", \"ckd\", \"ckd\", \"ckd\", \"ckd\", \"ckd\", \"ckd\", \"ckd\", \"ckd\", \"ckd\"], \"x0\": \" \", \"xaxis\": \"x\", \"y\": [4.6, 4.6, 4.6, \"2.5\", 4.6, \"3.2\", \"4\", 4.6, 4.6, \"3.7\", 4.6, \"4.2\", \"5.8\", \"3.4\", \"6.4\", \"4.9\", \"4.1\", \"3.7\", \"4.3\", 4.6, \"5.2\", 4.6, \"3.8\", 4.6, \"4\", \"5.2\", \"3.4\", \"4\", 4.6, 4.6, \"4.9\", \"4.6\", \"4.9\", 4.6, 4.6, 4.6, \"3.9\", \"4.7\", \"5.9\", \"4.2\", 4.6, 4.6, \"4.2\", \"3.4\", \"4.8\", \"4.9\", \"4.2\", 4.6, \"4\", 4.6, \"4.3\", \"4.4\", 4.6, 4.6, \"4.2\", 4.6, \"4.4\", \"4.9\", \"5.8\", 4.6, \"6.6\", 3.9, \"4\", \"3.7\", 4.6, 4.6, \"4.8\", 4.6, 4.6, 4.6, \"4.4\", \"4\", 4.6, \"4.4\", \"4.8\", \"3.2\", \"5.5\", \"5\", \"3.5\", 4.6, \"5\", \"4.4\", \"3.9\", \"3.6\", \"7.6\", 4.6, 4.6, 4.6, 4.6, \"4.7\", \"3.5\", \"3.8\", \"4.4\", \"2.9\", \"4.5\", \"3.7\", 4.6, \"3.8\", \"4.3\", \"3.9\", \"3.8\", \"5.7\", \"4.2\", 4.6, 4.6, \"4\", \"4.4\", \"4.5\", \"4.2\", 4.6, \"3.8\", \"5.4\", 4.6, 4.6, 4.6, 4.6, 4.6, \"3.7\", 4.6, 4.6, \"5.3\", \"3.4\", \"3.8\", 4.6, 4.6, \"4.3\", \"4.6\", \"4.9\", 4.7, \"4.7\", \"4.8\", 4.6, \"4.5\", \"4.9\", \"5.2\", \"4\", \"6.3\", \"5.1\", \"3.5\", \"4.1\", \"5.6\", \"4.9\", \"5.3\", \"4.7\", \"5.2\", \"4.8\", \"4\", \"3\", 4.6, 4.6, 4.6, \"5.5\", \"3.5\", \"3.4\", \"4.2\", 4.6, 4.6, \"4.7\", \"4\", \"3.5\", \"4.2\", 4.6, \"4.1\", \"4.1\", \"4.2\", 4.6, \"4.3\", 4.6, 4.6, 4.6, \"3.9\", \"5.7\", \"2.5\", \"2.8\", \"4.7\", \"3\", \"3.5\", 4.6, \"4.3\", 4.6, 4.6, \"3.8\", \"4.1\", \"4.3\", \"4.5\", \"4.4\", \"3.8\", 4.6, \"3.6\", \"5.4\", \"4.9\", \"2.7\", 4.6, \"6.5\", 4.6, \"3.9\", \"3.2\", \"5.3\", \"4.7\", \"5.2\", \"4.1\", \"4.3\", \"5.9\", \"5.5\", \"6.3\", 4.6, \"4\", 4.6, 4.6, 4.6, \"5.7\", 4.6, \"5.6\", \"4.9\", 4.6, 4.6, 4.6, \"4.4\", 4.6, 4.6, 4.6, \"5.3\", 4.6, \"4.1\", \"3.8\", \"3.8\", \"4.6\", 4.6, 4.6, \"2.9\", \"4.3\", \"3.7\", 4.6, \"4.5\", 4.6, 4.6, \"5.4\", 4.6, \"4.8\", \"4.1\", 4.6, \"3.3\", \"3.9\", \"2.9\", \"4.1\", \"6.3\", \"5.7\", \"4.2\", \"4.5\", \"6.5\"], \"y0\": \" \", \"yaxis\": \"y\"}, {\"alignmentgroup\": \"True\", \"box\": {\"visible\": true}, \"hoverlabel\": {\"namelength\": 0}, \"hovertemplate\": \"class=%{x}<br>pot=%{y}\", \"legendgroup\": \"notckd\", \"marker\": {\"color\": \"#EF553B\"}, \"name\": \"notckd\", \"offsetgroup\": \"notckd\", \"orientation\": \"v\", \"scalegroup\": \"True\", \"showlegend\": true, \"type\": \"violin\", \"x\": [\"notckd\", \"notckd\", \"notckd\", \"notckd\", \"notckd\", \"notckd\", \"notckd\", \"notckd\", \"notckd\", \"notckd\", \"notckd\", \"notckd\", \"notckd\", \"notckd\", \"notckd\", \"notckd\", \"notckd\", \"notckd\", \"notckd\", \"notckd\", \"notckd\", \"notckd\", \"notckd\", \"notckd\", \"notckd\", \"notckd\", \"notckd\", \"notckd\", \"notckd\", \"notckd\", \"notckd\", \"notckd\", \"notckd\", \"notckd\", \"notckd\", \"notckd\", \"notckd\", \"notckd\", \"notckd\", \"notckd\", \"notckd\", \"notckd\", \"notckd\", \"notckd\", \"notckd\", \"notckd\", \"notckd\", \"notckd\", \"notckd\", \"notckd\", \"notckd\", \"notckd\", \"notckd\", \"notckd\", \"notckd\", \"notckd\", \"notckd\", \"notckd\", \"notckd\", \"notckd\", \"notckd\", \"notckd\", \"notckd\", \"notckd\", \"notckd\", \"notckd\", \"notckd\", \"notckd\", \"notckd\", \"notckd\", \"notckd\", \"notckd\", \"notckd\", \"notckd\", \"notckd\", \"notckd\", \"notckd\", \"notckd\", \"notckd\", \"notckd\", \"notckd\", \"notckd\", \"notckd\", \"notckd\", \"notckd\", \"notckd\", \"notckd\", \"notckd\", \"notckd\", \"notckd\", \"notckd\", \"notckd\", \"notckd\", \"notckd\", \"notckd\", \"notckd\", \"notckd\", \"notckd\", \"notckd\", \"notckd\", \"notckd\", \"notckd\", \"notckd\", \"notckd\", \"notckd\", \"notckd\", \"notckd\", \"notckd\", \"notckd\", \"notckd\", \"notckd\", \"notckd\", \"notckd\", \"notckd\", \"notckd\", \"notckd\", \"notckd\", \"notckd\", \"notckd\", \"notckd\", \"notckd\", \"notckd\", \"notckd\", \"notckd\", \"notckd\", \"notckd\", \"notckd\", \"notckd\", \"notckd\", \"notckd\", \"notckd\", \"notckd\", \"notckd\", \"notckd\", \"notckd\", \"notckd\", \"notckd\", \"notckd\", \"notckd\", \"notckd\", \"notckd\", \"notckd\", \"notckd\", \"notckd\", \"notckd\", \"notckd\", \"notckd\", \"notckd\", \"notckd\", \"notckd\"], \"x0\": \" \", \"xaxis\": \"x\", \"y\": [\"5\", \"4.6\", \"4.4\", \"4.7\", \"3.7\", \"3.9\", \"5\", \"3.7\", \"3.5\", \"5\", \"3.8\", \"3.9\", \"3.6\", \"5\", \"4.1\", \"4.5\", \"4.8\", \"3.9\", \"5\", \"4.9\", \"4\", \"4.8\", \"5\", \"4.1\", \"4.2\", \"4.6\", \"4.7\", \"5\", \"4.9\", \"4.7\", \"4.5\", \"5\", \"3.8\", 4.6, \"4\", \"3.9\", \"5\", \"3.8\", \"4.9\", \"4.7\", \"3.5\", \"4.9\", \"5\", \"4.8\", \"5\", \"3.6\", \"5\", \"4.9\", \"4.5\", \"3.5\", \"4.2\", \"4.5\", \"5\", 4.6, \"3.9\", \"5\", \"4.5\", \"3.5\", \"4.9\", \"5\", \"4.9\", \"4.7\", \"4.1\", \"4.8\", \"5\", 4.6, \"4.9\", \"4.3\", \"3.5\", \"4.4\", \"4.7\", \"3.5\", \"4.6\", \"5\", \"4.9\", \"3.5\", \"4.7\", \"4.6\", \"4.9\", \"3.5\", \"3.9\", \"4.7\", \"5\", \"4\", \"3.5\", \"4.8\", 4.6, \"4.9\", \"3.5\", \"3.5\", \"4.5\", \"5\", \"4.2\", \"4.1\", \"3.3\", \"4.3\", \"4.4\", \"5\", \"3.5\", \"3.5\", \"4.8\", \"3.3\", \"4.9\", \"5\", \"4.7\", \"5\", \"4.8\", \"3.6\", \"3.5\", \"3.7\", \"3.9\", \"3.5\", \"5\", 4.6, \"3.5\", \"3.5\", \"3.6\", \"3.8\", \"5\", \"3.5\", \"3.7\", \"5\", \"4.9\", \"3.6\", \"3.6\", \"4.5\", \"3.5\", \"4.8\", \"4.8\", \"3.5\", \"3.5\", \"4.8\", \"5\", \"4.9\", \"4.7\", \"4.9\", \"3.5\", \"3.9\", \"3.7\", \"5\", \"3.7\", \"4.1\", \"4.3\", \"4.4\", \"5\", \"4.9\", \"3.5\", \"4.4\", \"4.9\", \"3.5\"], \"y0\": \" \", \"yaxis\": \"y\"}],\n",
       "                        {\"legend\": {\"title\": {\"text\": \"class\"}, \"tracegroupgap\": 0}, \"margin\": {\"t\": 60}, \"template\": {\"data\": {\"bar\": [{\"error_x\": {\"color\": \"#2a3f5f\"}, \"error_y\": {\"color\": \"#2a3f5f\"}, \"marker\": {\"line\": {\"color\": \"#E5ECF6\", \"width\": 0.5}}, \"type\": \"bar\"}], \"barpolar\": [{\"marker\": {\"line\": {\"color\": \"#E5ECF6\", \"width\": 0.5}}, \"type\": \"barpolar\"}], \"carpet\": [{\"aaxis\": {\"endlinecolor\": \"#2a3f5f\", \"gridcolor\": \"white\", \"linecolor\": \"white\", \"minorgridcolor\": \"white\", \"startlinecolor\": \"#2a3f5f\"}, \"baxis\": {\"endlinecolor\": \"#2a3f5f\", \"gridcolor\": \"white\", \"linecolor\": \"white\", \"minorgridcolor\": \"white\", \"startlinecolor\": \"#2a3f5f\"}, \"type\": \"carpet\"}], \"choropleth\": [{\"colorbar\": {\"outlinewidth\": 0, \"ticks\": \"\"}, \"type\": \"choropleth\"}], \"contour\": [{\"colorbar\": {\"outlinewidth\": 0, \"ticks\": \"\"}, \"colorscale\": [[0.0, \"#0d0887\"], [0.1111111111111111, \"#46039f\"], [0.2222222222222222, \"#7201a8\"], [0.3333333333333333, \"#9c179e\"], [0.4444444444444444, \"#bd3786\"], [0.5555555555555556, \"#d8576b\"], [0.6666666666666666, \"#ed7953\"], [0.7777777777777778, \"#fb9f3a\"], [0.8888888888888888, \"#fdca26\"], [1.0, \"#f0f921\"]], \"type\": \"contour\"}], \"contourcarpet\": [{\"colorbar\": {\"outlinewidth\": 0, \"ticks\": \"\"}, \"type\": \"contourcarpet\"}], \"heatmap\": [{\"colorbar\": {\"outlinewidth\": 0, \"ticks\": \"\"}, \"colorscale\": [[0.0, \"#0d0887\"], [0.1111111111111111, \"#46039f\"], [0.2222222222222222, \"#7201a8\"], [0.3333333333333333, \"#9c179e\"], [0.4444444444444444, \"#bd3786\"], [0.5555555555555556, \"#d8576b\"], [0.6666666666666666, \"#ed7953\"], [0.7777777777777778, \"#fb9f3a\"], [0.8888888888888888, \"#fdca26\"], [1.0, \"#f0f921\"]], \"type\": \"heatmap\"}], \"heatmapgl\": [{\"colorbar\": {\"outlinewidth\": 0, \"ticks\": \"\"}, \"colorscale\": [[0.0, \"#0d0887\"], [0.1111111111111111, \"#46039f\"], [0.2222222222222222, \"#7201a8\"], [0.3333333333333333, \"#9c179e\"], [0.4444444444444444, \"#bd3786\"], [0.5555555555555556, \"#d8576b\"], [0.6666666666666666, \"#ed7953\"], [0.7777777777777778, \"#fb9f3a\"], [0.8888888888888888, \"#fdca26\"], [1.0, \"#f0f921\"]], \"type\": \"heatmapgl\"}], \"histogram\": [{\"marker\": {\"colorbar\": {\"outlinewidth\": 0, \"ticks\": \"\"}}, \"type\": \"histogram\"}], \"histogram2d\": [{\"colorbar\": {\"outlinewidth\": 0, \"ticks\": \"\"}, \"colorscale\": [[0.0, \"#0d0887\"], [0.1111111111111111, \"#46039f\"], [0.2222222222222222, \"#7201a8\"], [0.3333333333333333, \"#9c179e\"], [0.4444444444444444, \"#bd3786\"], [0.5555555555555556, \"#d8576b\"], [0.6666666666666666, \"#ed7953\"], [0.7777777777777778, \"#fb9f3a\"], [0.8888888888888888, \"#fdca26\"], [1.0, \"#f0f921\"]], \"type\": \"histogram2d\"}], \"histogram2dcontour\": [{\"colorbar\": {\"outlinewidth\": 0, \"ticks\": \"\"}, \"colorscale\": [[0.0, \"#0d0887\"], [0.1111111111111111, \"#46039f\"], [0.2222222222222222, \"#7201a8\"], [0.3333333333333333, \"#9c179e\"], [0.4444444444444444, \"#bd3786\"], [0.5555555555555556, \"#d8576b\"], [0.6666666666666666, \"#ed7953\"], [0.7777777777777778, \"#fb9f3a\"], [0.8888888888888888, \"#fdca26\"], [1.0, \"#f0f921\"]], \"type\": \"histogram2dcontour\"}], \"mesh3d\": [{\"colorbar\": {\"outlinewidth\": 0, \"ticks\": \"\"}, \"type\": \"mesh3d\"}], \"parcoords\": [{\"line\": {\"colorbar\": {\"outlinewidth\": 0, \"ticks\": \"\"}}, \"type\": \"parcoords\"}], \"pie\": [{\"automargin\": true, \"type\": \"pie\"}], \"scatter\": [{\"marker\": {\"colorbar\": {\"outlinewidth\": 0, \"ticks\": \"\"}}, \"type\": \"scatter\"}], \"scatter3d\": [{\"line\": {\"colorbar\": {\"outlinewidth\": 0, \"ticks\": \"\"}}, \"marker\": {\"colorbar\": {\"outlinewidth\": 0, \"ticks\": \"\"}}, \"type\": \"scatter3d\"}], \"scattercarpet\": [{\"marker\": {\"colorbar\": {\"outlinewidth\": 0, \"ticks\": \"\"}}, \"type\": \"scattercarpet\"}], \"scattergeo\": [{\"marker\": {\"colorbar\": {\"outlinewidth\": 0, \"ticks\": \"\"}}, \"type\": \"scattergeo\"}], \"scattergl\": [{\"marker\": {\"colorbar\": {\"outlinewidth\": 0, \"ticks\": \"\"}}, \"type\": \"scattergl\"}], \"scattermapbox\": [{\"marker\": {\"colorbar\": {\"outlinewidth\": 0, \"ticks\": \"\"}}, \"type\": \"scattermapbox\"}], \"scatterpolar\": [{\"marker\": {\"colorbar\": {\"outlinewidth\": 0, \"ticks\": \"\"}}, \"type\": \"scatterpolar\"}], \"scatterpolargl\": [{\"marker\": {\"colorbar\": {\"outlinewidth\": 0, \"ticks\": \"\"}}, \"type\": \"scatterpolargl\"}], \"scatterternary\": [{\"marker\": {\"colorbar\": {\"outlinewidth\": 0, \"ticks\": \"\"}}, \"type\": \"scatterternary\"}], \"surface\": [{\"colorbar\": {\"outlinewidth\": 0, \"ticks\": \"\"}, \"colorscale\": [[0.0, \"#0d0887\"], [0.1111111111111111, \"#46039f\"], [0.2222222222222222, \"#7201a8\"], [0.3333333333333333, \"#9c179e\"], [0.4444444444444444, \"#bd3786\"], [0.5555555555555556, \"#d8576b\"], [0.6666666666666666, \"#ed7953\"], [0.7777777777777778, \"#fb9f3a\"], [0.8888888888888888, \"#fdca26\"], [1.0, \"#f0f921\"]], \"type\": \"surface\"}], \"table\": [{\"cells\": {\"fill\": {\"color\": \"#EBF0F8\"}, \"line\": {\"color\": \"white\"}}, \"header\": {\"fill\": {\"color\": \"#C8D4E3\"}, \"line\": {\"color\": \"white\"}}, \"type\": \"table\"}]}, \"layout\": {\"annotationdefaults\": {\"arrowcolor\": \"#2a3f5f\", \"arrowhead\": 0, \"arrowwidth\": 1}, \"coloraxis\": {\"colorbar\": {\"outlinewidth\": 0, \"ticks\": \"\"}}, \"colorscale\": {\"diverging\": [[0, \"#8e0152\"], [0.1, \"#c51b7d\"], [0.2, \"#de77ae\"], [0.3, \"#f1b6da\"], [0.4, \"#fde0ef\"], [0.5, \"#f7f7f7\"], [0.6, \"#e6f5d0\"], [0.7, \"#b8e186\"], [0.8, \"#7fbc41\"], [0.9, \"#4d9221\"], [1, \"#276419\"]], \"sequential\": [[0.0, \"#0d0887\"], [0.1111111111111111, \"#46039f\"], [0.2222222222222222, \"#7201a8\"], [0.3333333333333333, \"#9c179e\"], [0.4444444444444444, \"#bd3786\"], [0.5555555555555556, \"#d8576b\"], [0.6666666666666666, \"#ed7953\"], [0.7777777777777778, \"#fb9f3a\"], [0.8888888888888888, \"#fdca26\"], [1.0, \"#f0f921\"]], \"sequentialminus\": [[0.0, \"#0d0887\"], [0.1111111111111111, \"#46039f\"], [0.2222222222222222, \"#7201a8\"], [0.3333333333333333, \"#9c179e\"], [0.4444444444444444, \"#bd3786\"], [0.5555555555555556, \"#d8576b\"], [0.6666666666666666, \"#ed7953\"], [0.7777777777777778, \"#fb9f3a\"], [0.8888888888888888, \"#fdca26\"], [1.0, \"#f0f921\"]]}, \"colorway\": [\"#636efa\", \"#EF553B\", \"#00cc96\", \"#ab63fa\", \"#FFA15A\", \"#19d3f3\", \"#FF6692\", \"#B6E880\", \"#FF97FF\", \"#FECB52\"], \"font\": {\"color\": \"#2a3f5f\"}, \"geo\": {\"bgcolor\": \"white\", \"lakecolor\": \"white\", \"landcolor\": \"#E5ECF6\", \"showlakes\": true, \"showland\": true, \"subunitcolor\": \"white\"}, \"hoverlabel\": {\"align\": \"left\"}, \"hovermode\": \"closest\", \"mapbox\": {\"style\": \"light\"}, \"paper_bgcolor\": \"white\", \"plot_bgcolor\": \"#E5ECF6\", \"polar\": {\"angularaxis\": {\"gridcolor\": \"white\", \"linecolor\": \"white\", \"ticks\": \"\"}, \"bgcolor\": \"#E5ECF6\", \"radialaxis\": {\"gridcolor\": \"white\", \"linecolor\": \"white\", \"ticks\": \"\"}}, \"scene\": {\"xaxis\": {\"backgroundcolor\": \"#E5ECF6\", \"gridcolor\": \"white\", \"gridwidth\": 2, \"linecolor\": \"white\", \"showbackground\": true, \"ticks\": \"\", \"zerolinecolor\": \"white\"}, \"yaxis\": {\"backgroundcolor\": \"#E5ECF6\", \"gridcolor\": \"white\", \"gridwidth\": 2, \"linecolor\": \"white\", \"showbackground\": true, \"ticks\": \"\", \"zerolinecolor\": \"white\"}, \"zaxis\": {\"backgroundcolor\": \"#E5ECF6\", \"gridcolor\": \"white\", \"gridwidth\": 2, \"linecolor\": \"white\", \"showbackground\": true, \"ticks\": \"\", \"zerolinecolor\": \"white\"}}, \"shapedefaults\": {\"line\": {\"color\": \"#2a3f5f\"}}, \"ternary\": {\"aaxis\": {\"gridcolor\": \"white\", \"linecolor\": \"white\", \"ticks\": \"\"}, \"baxis\": {\"gridcolor\": \"white\", \"linecolor\": \"white\", \"ticks\": \"\"}, \"bgcolor\": \"#E5ECF6\", \"caxis\": {\"gridcolor\": \"white\", \"linecolor\": \"white\", \"ticks\": \"\"}}, \"title\": {\"x\": 0.05}, \"xaxis\": {\"automargin\": true, \"gridcolor\": \"white\", \"linecolor\": \"white\", \"ticks\": \"\", \"title\": {\"standoff\": 15}, \"zerolinecolor\": \"white\", \"zerolinewidth\": 2}, \"yaxis\": {\"automargin\": true, \"gridcolor\": \"white\", \"linecolor\": \"white\", \"ticks\": \"\", \"title\": {\"standoff\": 15}, \"zerolinecolor\": \"white\", \"zerolinewidth\": 2}}}, \"violinmode\": \"group\", \"xaxis\": {\"anchor\": \"y\", \"categoryarray\": [\"ckd\", \"notckd\"], \"categoryorder\": \"array\", \"domain\": [0.0, 1.0], \"title\": {\"text\": \"class\"}}, \"yaxis\": {\"anchor\": \"x\", \"domain\": [0.0, 1.0], \"title\": {\"text\": \"pot\"}}},\n",
       "                        {\"responsive\": true}\n",
       "                    ).then(function(){\n",
       "                            \n",
       "var gd = document.getElementById('17b16ded-9918-4ffb-ae88-c5a45bf06729');\n",
       "var x = new MutationObserver(function (mutations, observer) {{\n",
       "        var display = window.getComputedStyle(gd).display;\n",
       "        if (!display || display === 'none') {{\n",
       "            console.log([gd, 'removed!']);\n",
       "            Plotly.purge(gd);\n",
       "            observer.disconnect();\n",
       "        }}\n",
       "}});\n",
       "\n",
       "// Listen for the removal of the full notebook cells\n",
       "var notebookContainer = gd.closest('#notebook-container');\n",
       "if (notebookContainer) {{\n",
       "    x.observe(notebookContainer, {childList: true});\n",
       "}}\n",
       "\n",
       "// Listen for the clearing of the current output cell\n",
       "var outputEl = gd.closest('.output');\n",
       "if (outputEl) {{\n",
       "    x.observe(outputEl, {childList: true});\n",
       "}}\n",
       "\n",
       "                        })\n",
       "                };\n",
       "                });\n",
       "            </script>\n",
       "        </div>"
      ]
     },
     "metadata": {},
     "output_type": "display_data"
    }
   ],
   "source": [
    "fig = px.violin(ckd_copy, y='pot', x=\"class\", color=\"class\", box=True, template = None)\n",
    "fig.show()"
   ]
  },
  {
   "cell_type": "markdown",
   "metadata": {},
   "source": [
    "# Working on hem - hemoglobin and ane - Anemia column"
   ]
  },
  {
   "cell_type": "code",
   "execution_count": 959,
   "metadata": {},
   "outputs": [
    {
     "data": {
      "text/plain": [
       "array(['15.4', '11.3', '9.6', '11.2', '11.6', '12.2', '12.4', '10.8',\n",
       "       '9.5', '9.4', '9.7', '9.8', '5.6', '7.6', '12.6', '12.1', '12.7',\n",
       "       '10.3', '7.7', '10.9', '?', '11.1', '9.9', '12.5', '12.9', '10.1',\n",
       "       '12', '13', '7.9', '9.3', '15', '10', '8.6', '13.6', '10.2',\n",
       "       '10.5', '6.6', '11', '7.5', '15.6', '15.2', '4.8', '9.1', '8.1',\n",
       "       '11.9', '13.5', '8.3', '7.1', '16.1', '10.4', '9.2', '6.2', '13.9',\n",
       "       '14.1', '6', '11.8', '11.7', '11.4', '14', '8.2', '13.2', '6.1',\n",
       "       '8', '12.3', '8.4', '14.3', '9', '8.7', '10.6', '13.1', '10.7',\n",
       "       '5.5', '5.8', '6.8', '8.8', '8.5', '13.8', '11.5', '7.3', '13.7',\n",
       "       '12.8', '13.4', '6.3', '3.1', '17', '15.9', '14.5', '15.5', '16.2',\n",
       "       '14.4', '14.2', '16.3', '14.8', '16.5', '15.7', '13.3', '14.6',\n",
       "       '16.4', '16.9', '16', '14.7', '16.6', '14.9', '16.7', '16.8',\n",
       "       '15.8', '15.1', '17.1', '17.2', '15.3', '17.3', '17.4', '17.7',\n",
       "       '17.8', '17.5', '17.6'], dtype=object)"
      ]
     },
     "execution_count": 959,
     "metadata": {},
     "output_type": "execute_result"
    }
   ],
   "source": [
    "ckd_copy['hemo'].unique()"
   ]
  },
  {
   "cell_type": "code",
   "execution_count": 960,
   "metadata": {},
   "outputs": [
    {
     "data": {
      "text/plain": [
       "array(['no', 'yes', '?'], dtype=object)"
      ]
     },
     "execution_count": 960,
     "metadata": {},
     "output_type": "execute_result"
    }
   ],
   "source": [
    "ckd_copy['ane'].unique()"
   ]
  },
  {
   "cell_type": "markdown",
   "metadata": {},
   "source": [
    " Normal hemoglobin level is  11.2 g/dl to 15.5 g/dl, anything below or higher of this range is abnormal"
   ]
  },
  {
   "cell_type": "code",
   "execution_count": 961,
   "metadata": {},
   "outputs": [],
   "source": [
    "mean_value = round(ckd_copy[ckd_copy['hemo']!='?']['hemo'].astype(float).mean(),1)\n",
    "ckd_copy['hemo'].replace('?',mean_value,inplace=True)"
   ]
  },
  {
   "cell_type": "code",
   "execution_count": 962,
   "metadata": {},
   "outputs": [
    {
     "data": {
      "text/plain": [
       "12.5"
      ]
     },
     "execution_count": 962,
     "metadata": {},
     "output_type": "execute_result"
    }
   ],
   "source": [
    "mean_value"
   ]
  },
  {
   "cell_type": "code",
   "execution_count": 963,
   "metadata": {},
   "outputs": [],
   "source": [
    "ckd_copy['hemo'] = ckd_copy['hemo'].astype(float)"
   ]
  },
  {
   "cell_type": "code",
   "execution_count": 964,
   "metadata": {},
   "outputs": [
    {
     "data": {
      "application/vnd.plotly.v1+json": {
       "config": {
        "plotlyServerURL": "https://plot.ly"
       },
       "data": [
        {
         "alignmentgroup": "True",
         "box": {
          "visible": true
         },
         "hoverlabel": {
          "namelength": 0
         },
         "hovertemplate": "class=%{x}<br>hemo=%{y}",
         "legendgroup": "ckd",
         "marker": {
          "color": "#636efa"
         },
         "name": "ckd",
         "offsetgroup": "ckd",
         "orientation": "v",
         "scalegroup": "True",
         "showlegend": true,
         "type": "violin",
         "x": [
          "ckd",
          "ckd",
          "ckd",
          "ckd",
          "ckd",
          "ckd",
          "ckd",
          "ckd",
          "ckd",
          "ckd",
          "ckd",
          "ckd",
          "ckd",
          "ckd",
          "ckd",
          "ckd",
          "ckd",
          "ckd",
          "ckd",
          "ckd",
          "ckd",
          "ckd",
          "ckd",
          "ckd",
          "ckd",
          "ckd",
          "ckd",
          "ckd",
          "ckd",
          "ckd",
          "ckd",
          "ckd",
          "ckd",
          "ckd",
          "ckd",
          "ckd",
          "ckd",
          "ckd",
          "ckd",
          "ckd",
          "ckd",
          "ckd",
          "ckd",
          "ckd",
          "ckd",
          "ckd",
          "ckd",
          "ckd",
          "ckd",
          "ckd",
          "ckd",
          "ckd",
          "ckd",
          "ckd",
          "ckd",
          "ckd",
          "ckd",
          "ckd",
          "ckd",
          "ckd",
          "ckd",
          "ckd",
          "ckd",
          "ckd",
          "ckd",
          "ckd",
          "ckd",
          "ckd",
          "ckd",
          "ckd",
          "ckd",
          "ckd",
          "ckd",
          "ckd",
          "ckd",
          "ckd",
          "ckd",
          "ckd",
          "ckd",
          "ckd",
          "ckd",
          "ckd",
          "ckd",
          "ckd",
          "ckd",
          "ckd",
          "ckd",
          "ckd",
          "ckd",
          "ckd",
          "ckd",
          "ckd",
          "ckd",
          "ckd",
          "ckd",
          "ckd",
          "ckd",
          "ckd",
          "ckd",
          "ckd",
          "ckd",
          "ckd",
          "ckd",
          "ckd",
          "ckd",
          "ckd",
          "ckd",
          "ckd",
          "ckd",
          "ckd",
          "ckd",
          "ckd",
          "ckd",
          "ckd",
          "ckd",
          "ckd",
          "ckd",
          "ckd",
          "ckd",
          "ckd",
          "ckd",
          "ckd",
          "ckd",
          "ckd",
          "ckd",
          "ckd",
          "ckd",
          "ckd",
          "ckd",
          "ckd",
          "ckd",
          "ckd",
          "ckd",
          "ckd",
          "ckd",
          "ckd",
          "ckd",
          "ckd",
          "ckd",
          "ckd",
          "ckd",
          "ckd",
          "ckd",
          "ckd",
          "ckd",
          "ckd",
          "ckd",
          "ckd",
          "ckd",
          "ckd",
          "ckd",
          "ckd",
          "ckd",
          "ckd",
          "ckd",
          "ckd",
          "ckd",
          "ckd",
          "ckd",
          "ckd",
          "ckd",
          "ckd",
          "ckd",
          "ckd",
          "ckd",
          "ckd",
          "ckd",
          "ckd",
          "ckd",
          "ckd",
          "ckd",
          "ckd",
          "ckd",
          "ckd",
          "ckd",
          "ckd",
          "ckd",
          "ckd",
          "ckd",
          "ckd",
          "ckd",
          "ckd",
          "ckd",
          "ckd",
          "ckd",
          "ckd",
          "ckd",
          "ckd",
          "ckd",
          "ckd",
          "ckd",
          "ckd",
          "ckd",
          "ckd",
          "ckd",
          "ckd",
          "ckd",
          "ckd",
          "ckd",
          "ckd",
          "ckd",
          "ckd",
          "ckd",
          "ckd",
          "ckd",
          "ckd",
          "ckd",
          "ckd",
          "ckd",
          "ckd",
          "ckd",
          "ckd",
          "ckd",
          "ckd",
          "ckd",
          "ckd",
          "ckd",
          "ckd",
          "ckd",
          "ckd",
          "ckd",
          "ckd",
          "ckd",
          "ckd",
          "ckd",
          "ckd",
          "ckd",
          "ckd",
          "ckd",
          "ckd",
          "ckd",
          "ckd",
          "ckd",
          "ckd",
          "ckd",
          "ckd",
          "ckd",
          "ckd",
          "ckd",
          "ckd",
          "ckd",
          "ckd",
          "ckd",
          "ckd",
          "ckd",
          "ckd",
          "ckd",
          "ckd",
          "ckd",
          "ckd"
         ],
         "x0": " ",
         "xaxis": "x",
         "y": [
          15.4,
          11.3,
          9.6,
          11.2,
          11.6,
          12.2,
          12.4,
          12.4,
          10.8,
          9.5,
          9.4,
          10.8,
          9.7,
          9.8,
          5.6,
          7.6,
          12.6,
          12.1,
          12.7,
          10.3,
          7.7,
          10.9,
          9.8,
          12.5,
          11.1,
          9.9,
          11.6,
          12.5,
          12.5,
          12.9,
          12.5,
          10.1,
          11.3,
          10.1,
          12.5,
          12,
          10.3,
          9.7,
          12.5,
          13,
          11.1,
          12.5,
          9.7,
          7.9,
          9.7,
          9.3,
          12.4,
          15,
          10,
          9.7,
          8.6,
          10.3,
          10.9,
          13.6,
          13,
          9.5,
          10.2,
          12.5,
          10.5,
          6.6,
          12.5,
          12.5,
          11,
          7.5,
          9.8,
          15,
          12.5,
          12.5,
          10.9,
          15.6,
          15.2,
          9.8,
          10.3,
          4.8,
          9.1,
          8.1,
          10.3,
          11.9,
          10.1,
          13.5,
          10.8,
          8.3,
          12.5,
          12.5,
          7.1,
          9.9,
          12.5,
          11.1,
          12.5,
          12.5,
          13,
          16.1,
          10.4,
          9.2,
          11.6,
          12.5,
          11.2,
          10,
          6.2,
          11.2,
          12.5,
          11.3,
          13.9,
          10.2,
          12.5,
          14.1,
          6,
          11.2,
          11.8,
          11.7,
          11.7,
          10,
          10.8,
          12.5,
          12.1,
          12.4,
          12.5,
          12.5,
          11.4,
          12.5,
          12.6,
          15,
          6,
          14,
          9.1,
          12.5,
          12,
          11.4,
          8.1,
          11.1,
          8.2,
          11.8,
          8.6,
          12,
          10.8,
          13.2,
          9.3,
          10,
          12.5,
          11.1,
          12.5,
          6.1,
          12.5,
          12.5,
          11.1,
          8,
          12.5,
          7.9,
          12.5,
          10.5,
          12.3,
          9.6,
          10.9,
          8.3,
          8.4,
          11.1,
          12.5,
          12.6,
          10.9,
          10.4,
          10.9,
          14.3,
          9.8,
          9,
          14.3,
          12.5,
          12.5,
          12.7,
          11,
          8.7,
          12.5,
          8.7,
          10.6,
          13.1,
          11,
          12.5,
          8.3,
          13.2,
          9.8,
          11.9,
          10.3,
          10,
          11.3,
          12.5,
          11.3,
          12,
          12.5,
          10.7,
          12.2,
          9.5,
          9.9,
          9.1,
          12.5,
          5.5,
          12.5,
          5.8,
          8.1,
          6.8,
          11.2,
          8.8,
          12,
          7.9,
          8,
          8.5,
          8.8,
          12.6,
          13.8,
          12,
          12.3,
          11.5,
          7.3,
          12.5,
          10.9,
          10.9,
          13.7,
          12.5,
          12.8,
          12.2,
          11.8,
          9.8,
          11.9,
          12.5,
          12.5,
          13,
          12.5,
          11.5,
          7.9,
          11.3,
          12.5,
          9.6,
          12.5,
          11.5,
          12.5,
          12.5,
          15,
          7.9,
          9.1,
          12.7,
          9.4,
          11.9,
          11.4,
          10.4,
          9.4,
          13.4,
          12.2,
          6.3,
          8.6,
          12.5,
          12.6,
          3.1
         ],
         "y0": " ",
         "yaxis": "y"
        },
        {
         "alignmentgroup": "True",
         "box": {
          "visible": true
         },
         "hoverlabel": {
          "namelength": 0
         },
         "hovertemplate": "class=%{x}<br>hemo=%{y}",
         "legendgroup": "notckd",
         "marker": {
          "color": "#EF553B"
         },
         "name": "notckd",
         "offsetgroup": "notckd",
         "orientation": "v",
         "scalegroup": "True",
         "showlegend": true,
         "type": "violin",
         "x": [
          "notckd",
          "notckd",
          "notckd",
          "notckd",
          "notckd",
          "notckd",
          "notckd",
          "notckd",
          "notckd",
          "notckd",
          "notckd",
          "notckd",
          "notckd",
          "notckd",
          "notckd",
          "notckd",
          "notckd",
          "notckd",
          "notckd",
          "notckd",
          "notckd",
          "notckd",
          "notckd",
          "notckd",
          "notckd",
          "notckd",
          "notckd",
          "notckd",
          "notckd",
          "notckd",
          "notckd",
          "notckd",
          "notckd",
          "notckd",
          "notckd",
          "notckd",
          "notckd",
          "notckd",
          "notckd",
          "notckd",
          "notckd",
          "notckd",
          "notckd",
          "notckd",
          "notckd",
          "notckd",
          "notckd",
          "notckd",
          "notckd",
          "notckd",
          "notckd",
          "notckd",
          "notckd",
          "notckd",
          "notckd",
          "notckd",
          "notckd",
          "notckd",
          "notckd",
          "notckd",
          "notckd",
          "notckd",
          "notckd",
          "notckd",
          "notckd",
          "notckd",
          "notckd",
          "notckd",
          "notckd",
          "notckd",
          "notckd",
          "notckd",
          "notckd",
          "notckd",
          "notckd",
          "notckd",
          "notckd",
          "notckd",
          "notckd",
          "notckd",
          "notckd",
          "notckd",
          "notckd",
          "notckd",
          "notckd",
          "notckd",
          "notckd",
          "notckd",
          "notckd",
          "notckd",
          "notckd",
          "notckd",
          "notckd",
          "notckd",
          "notckd",
          "notckd",
          "notckd",
          "notckd",
          "notckd",
          "notckd",
          "notckd",
          "notckd",
          "notckd",
          "notckd",
          "notckd",
          "notckd",
          "notckd",
          "notckd",
          "notckd",
          "notckd",
          "notckd",
          "notckd",
          "notckd",
          "notckd",
          "notckd",
          "notckd",
          "notckd",
          "notckd",
          "notckd",
          "notckd",
          "notckd",
          "notckd",
          "notckd",
          "notckd",
          "notckd",
          "notckd",
          "notckd",
          "notckd",
          "notckd",
          "notckd",
          "notckd",
          "notckd",
          "notckd",
          "notckd",
          "notckd",
          "notckd",
          "notckd",
          "notckd",
          "notckd",
          "notckd",
          "notckd",
          "notckd",
          "notckd",
          "notckd",
          "notckd",
          "notckd",
          "notckd",
          "notckd",
          "notckd",
          "notckd"
         ],
         "x0": " ",
         "xaxis": "x",
         "y": [
          15,
          17,
          15.9,
          15.4,
          13,
          13.6,
          14.5,
          14,
          13.9,
          16.1,
          14.1,
          17,
          15.5,
          16.2,
          14.4,
          14.2,
          13.2,
          13.9,
          16.3,
          15,
          14.3,
          13.8,
          14.8,
          12.5,
          14.4,
          16.5,
          14,
          15.7,
          14.5,
          16.3,
          13.3,
          15.5,
          14.6,
          16.4,
          16.9,
          16,
          14.7,
          13.4,
          15.9,
          16.6,
          14.8,
          14.9,
          16.7,
          14.9,
          14.3,
          15,
          16.8,
          15.8,
          13.5,
          15.1,
          15,
          16.9,
          14.8,
          17,
          13.1,
          17.1,
          15.2,
          13.6,
          13.9,
          17.2,
          13.2,
          13.7,
          15.3,
          17.3,
          15.6,
          13.8,
          15.4,
          15,
          17.4,
          12.5,
          15.7,
          13.9,
          16,
          15.9,
          12.5,
          14,
          15.8,
          13.4,
          12.5,
          14.1,
          12.5,
          13.5,
          15.3,
          17.7,
          15.4,
          14.2,
          15.2,
          14,
          17.8,
          13.3,
          14.3,
          13.4,
          15,
          16.2,
          14.4,
          13.5,
          15.5,
          17.8,
          13.6,
          14.5,
          16.1,
          17.5,
          15,
          13.6,
          14.6,
          15,
          17.1,
          13.6,
          13,
          17.2,
          14.7,
          13.7,
          15,
          17.8,
          14.8,
          12.5,
          15,
          17.4,
          14.9,
          13.6,
          16.2,
          17.6,
          15,
          13.7,
          16.3,
          15.1,
          16.4,
          13.8,
          15.2,
          16.1,
          15.3,
          16.6,
          16.8,
          13.9,
          15.4,
          16.5,
          16.4,
          16.7,
          15.5,
          17,
          15,
          15.6,
          14.8,
          13,
          14.1,
          15.7,
          16.5,
          15.8,
          14.2,
          15.8
         ],
         "y0": " ",
         "yaxis": "y"
        }
       ],
       "layout": {
        "legend": {
         "title": {
          "text": "class"
         },
         "tracegroupgap": 0
        },
        "margin": {
         "t": 60
        },
        "template": {
         "data": {
          "bar": [
           {
            "error_x": {
             "color": "#2a3f5f"
            },
            "error_y": {
             "color": "#2a3f5f"
            },
            "marker": {
             "line": {
              "color": "#E5ECF6",
              "width": 0.5
             }
            },
            "type": "bar"
           }
          ],
          "barpolar": [
           {
            "marker": {
             "line": {
              "color": "#E5ECF6",
              "width": 0.5
             }
            },
            "type": "barpolar"
           }
          ],
          "carpet": [
           {
            "aaxis": {
             "endlinecolor": "#2a3f5f",
             "gridcolor": "white",
             "linecolor": "white",
             "minorgridcolor": "white",
             "startlinecolor": "#2a3f5f"
            },
            "baxis": {
             "endlinecolor": "#2a3f5f",
             "gridcolor": "white",
             "linecolor": "white",
             "minorgridcolor": "white",
             "startlinecolor": "#2a3f5f"
            },
            "type": "carpet"
           }
          ],
          "choropleth": [
           {
            "colorbar": {
             "outlinewidth": 0,
             "ticks": ""
            },
            "type": "choropleth"
           }
          ],
          "contour": [
           {
            "colorbar": {
             "outlinewidth": 0,
             "ticks": ""
            },
            "colorscale": [
             [
              0,
              "#0d0887"
             ],
             [
              0.1111111111111111,
              "#46039f"
             ],
             [
              0.2222222222222222,
              "#7201a8"
             ],
             [
              0.3333333333333333,
              "#9c179e"
             ],
             [
              0.4444444444444444,
              "#bd3786"
             ],
             [
              0.5555555555555556,
              "#d8576b"
             ],
             [
              0.6666666666666666,
              "#ed7953"
             ],
             [
              0.7777777777777778,
              "#fb9f3a"
             ],
             [
              0.8888888888888888,
              "#fdca26"
             ],
             [
              1,
              "#f0f921"
             ]
            ],
            "type": "contour"
           }
          ],
          "contourcarpet": [
           {
            "colorbar": {
             "outlinewidth": 0,
             "ticks": ""
            },
            "type": "contourcarpet"
           }
          ],
          "heatmap": [
           {
            "colorbar": {
             "outlinewidth": 0,
             "ticks": ""
            },
            "colorscale": [
             [
              0,
              "#0d0887"
             ],
             [
              0.1111111111111111,
              "#46039f"
             ],
             [
              0.2222222222222222,
              "#7201a8"
             ],
             [
              0.3333333333333333,
              "#9c179e"
             ],
             [
              0.4444444444444444,
              "#bd3786"
             ],
             [
              0.5555555555555556,
              "#d8576b"
             ],
             [
              0.6666666666666666,
              "#ed7953"
             ],
             [
              0.7777777777777778,
              "#fb9f3a"
             ],
             [
              0.8888888888888888,
              "#fdca26"
             ],
             [
              1,
              "#f0f921"
             ]
            ],
            "type": "heatmap"
           }
          ],
          "heatmapgl": [
           {
            "colorbar": {
             "outlinewidth": 0,
             "ticks": ""
            },
            "colorscale": [
             [
              0,
              "#0d0887"
             ],
             [
              0.1111111111111111,
              "#46039f"
             ],
             [
              0.2222222222222222,
              "#7201a8"
             ],
             [
              0.3333333333333333,
              "#9c179e"
             ],
             [
              0.4444444444444444,
              "#bd3786"
             ],
             [
              0.5555555555555556,
              "#d8576b"
             ],
             [
              0.6666666666666666,
              "#ed7953"
             ],
             [
              0.7777777777777778,
              "#fb9f3a"
             ],
             [
              0.8888888888888888,
              "#fdca26"
             ],
             [
              1,
              "#f0f921"
             ]
            ],
            "type": "heatmapgl"
           }
          ],
          "histogram": [
           {
            "marker": {
             "colorbar": {
              "outlinewidth": 0,
              "ticks": ""
             }
            },
            "type": "histogram"
           }
          ],
          "histogram2d": [
           {
            "colorbar": {
             "outlinewidth": 0,
             "ticks": ""
            },
            "colorscale": [
             [
              0,
              "#0d0887"
             ],
             [
              0.1111111111111111,
              "#46039f"
             ],
             [
              0.2222222222222222,
              "#7201a8"
             ],
             [
              0.3333333333333333,
              "#9c179e"
             ],
             [
              0.4444444444444444,
              "#bd3786"
             ],
             [
              0.5555555555555556,
              "#d8576b"
             ],
             [
              0.6666666666666666,
              "#ed7953"
             ],
             [
              0.7777777777777778,
              "#fb9f3a"
             ],
             [
              0.8888888888888888,
              "#fdca26"
             ],
             [
              1,
              "#f0f921"
             ]
            ],
            "type": "histogram2d"
           }
          ],
          "histogram2dcontour": [
           {
            "colorbar": {
             "outlinewidth": 0,
             "ticks": ""
            },
            "colorscale": [
             [
              0,
              "#0d0887"
             ],
             [
              0.1111111111111111,
              "#46039f"
             ],
             [
              0.2222222222222222,
              "#7201a8"
             ],
             [
              0.3333333333333333,
              "#9c179e"
             ],
             [
              0.4444444444444444,
              "#bd3786"
             ],
             [
              0.5555555555555556,
              "#d8576b"
             ],
             [
              0.6666666666666666,
              "#ed7953"
             ],
             [
              0.7777777777777778,
              "#fb9f3a"
             ],
             [
              0.8888888888888888,
              "#fdca26"
             ],
             [
              1,
              "#f0f921"
             ]
            ],
            "type": "histogram2dcontour"
           }
          ],
          "mesh3d": [
           {
            "colorbar": {
             "outlinewidth": 0,
             "ticks": ""
            },
            "type": "mesh3d"
           }
          ],
          "parcoords": [
           {
            "line": {
             "colorbar": {
              "outlinewidth": 0,
              "ticks": ""
             }
            },
            "type": "parcoords"
           }
          ],
          "pie": [
           {
            "automargin": true,
            "type": "pie"
           }
          ],
          "scatter": [
           {
            "marker": {
             "colorbar": {
              "outlinewidth": 0,
              "ticks": ""
             }
            },
            "type": "scatter"
           }
          ],
          "scatter3d": [
           {
            "line": {
             "colorbar": {
              "outlinewidth": 0,
              "ticks": ""
             }
            },
            "marker": {
             "colorbar": {
              "outlinewidth": 0,
              "ticks": ""
             }
            },
            "type": "scatter3d"
           }
          ],
          "scattercarpet": [
           {
            "marker": {
             "colorbar": {
              "outlinewidth": 0,
              "ticks": ""
             }
            },
            "type": "scattercarpet"
           }
          ],
          "scattergeo": [
           {
            "marker": {
             "colorbar": {
              "outlinewidth": 0,
              "ticks": ""
             }
            },
            "type": "scattergeo"
           }
          ],
          "scattergl": [
           {
            "marker": {
             "colorbar": {
              "outlinewidth": 0,
              "ticks": ""
             }
            },
            "type": "scattergl"
           }
          ],
          "scattermapbox": [
           {
            "marker": {
             "colorbar": {
              "outlinewidth": 0,
              "ticks": ""
             }
            },
            "type": "scattermapbox"
           }
          ],
          "scatterpolar": [
           {
            "marker": {
             "colorbar": {
              "outlinewidth": 0,
              "ticks": ""
             }
            },
            "type": "scatterpolar"
           }
          ],
          "scatterpolargl": [
           {
            "marker": {
             "colorbar": {
              "outlinewidth": 0,
              "ticks": ""
             }
            },
            "type": "scatterpolargl"
           }
          ],
          "scatterternary": [
           {
            "marker": {
             "colorbar": {
              "outlinewidth": 0,
              "ticks": ""
             }
            },
            "type": "scatterternary"
           }
          ],
          "surface": [
           {
            "colorbar": {
             "outlinewidth": 0,
             "ticks": ""
            },
            "colorscale": [
             [
              0,
              "#0d0887"
             ],
             [
              0.1111111111111111,
              "#46039f"
             ],
             [
              0.2222222222222222,
              "#7201a8"
             ],
             [
              0.3333333333333333,
              "#9c179e"
             ],
             [
              0.4444444444444444,
              "#bd3786"
             ],
             [
              0.5555555555555556,
              "#d8576b"
             ],
             [
              0.6666666666666666,
              "#ed7953"
             ],
             [
              0.7777777777777778,
              "#fb9f3a"
             ],
             [
              0.8888888888888888,
              "#fdca26"
             ],
             [
              1,
              "#f0f921"
             ]
            ],
            "type": "surface"
           }
          ],
          "table": [
           {
            "cells": {
             "fill": {
              "color": "#EBF0F8"
             },
             "line": {
              "color": "white"
             }
            },
            "header": {
             "fill": {
              "color": "#C8D4E3"
             },
             "line": {
              "color": "white"
             }
            },
            "type": "table"
           }
          ]
         },
         "layout": {
          "annotationdefaults": {
           "arrowcolor": "#2a3f5f",
           "arrowhead": 0,
           "arrowwidth": 1
          },
          "coloraxis": {
           "colorbar": {
            "outlinewidth": 0,
            "ticks": ""
           }
          },
          "colorscale": {
           "diverging": [
            [
             0,
             "#8e0152"
            ],
            [
             0.1,
             "#c51b7d"
            ],
            [
             0.2,
             "#de77ae"
            ],
            [
             0.3,
             "#f1b6da"
            ],
            [
             0.4,
             "#fde0ef"
            ],
            [
             0.5,
             "#f7f7f7"
            ],
            [
             0.6,
             "#e6f5d0"
            ],
            [
             0.7,
             "#b8e186"
            ],
            [
             0.8,
             "#7fbc41"
            ],
            [
             0.9,
             "#4d9221"
            ],
            [
             1,
             "#276419"
            ]
           ],
           "sequential": [
            [
             0,
             "#0d0887"
            ],
            [
             0.1111111111111111,
             "#46039f"
            ],
            [
             0.2222222222222222,
             "#7201a8"
            ],
            [
             0.3333333333333333,
             "#9c179e"
            ],
            [
             0.4444444444444444,
             "#bd3786"
            ],
            [
             0.5555555555555556,
             "#d8576b"
            ],
            [
             0.6666666666666666,
             "#ed7953"
            ],
            [
             0.7777777777777778,
             "#fb9f3a"
            ],
            [
             0.8888888888888888,
             "#fdca26"
            ],
            [
             1,
             "#f0f921"
            ]
           ],
           "sequentialminus": [
            [
             0,
             "#0d0887"
            ],
            [
             0.1111111111111111,
             "#46039f"
            ],
            [
             0.2222222222222222,
             "#7201a8"
            ],
            [
             0.3333333333333333,
             "#9c179e"
            ],
            [
             0.4444444444444444,
             "#bd3786"
            ],
            [
             0.5555555555555556,
             "#d8576b"
            ],
            [
             0.6666666666666666,
             "#ed7953"
            ],
            [
             0.7777777777777778,
             "#fb9f3a"
            ],
            [
             0.8888888888888888,
             "#fdca26"
            ],
            [
             1,
             "#f0f921"
            ]
           ]
          },
          "colorway": [
           "#636efa",
           "#EF553B",
           "#00cc96",
           "#ab63fa",
           "#FFA15A",
           "#19d3f3",
           "#FF6692",
           "#B6E880",
           "#FF97FF",
           "#FECB52"
          ],
          "font": {
           "color": "#2a3f5f"
          },
          "geo": {
           "bgcolor": "white",
           "lakecolor": "white",
           "landcolor": "#E5ECF6",
           "showlakes": true,
           "showland": true,
           "subunitcolor": "white"
          },
          "hoverlabel": {
           "align": "left"
          },
          "hovermode": "closest",
          "mapbox": {
           "style": "light"
          },
          "paper_bgcolor": "white",
          "plot_bgcolor": "#E5ECF6",
          "polar": {
           "angularaxis": {
            "gridcolor": "white",
            "linecolor": "white",
            "ticks": ""
           },
           "bgcolor": "#E5ECF6",
           "radialaxis": {
            "gridcolor": "white",
            "linecolor": "white",
            "ticks": ""
           }
          },
          "scene": {
           "xaxis": {
            "backgroundcolor": "#E5ECF6",
            "gridcolor": "white",
            "gridwidth": 2,
            "linecolor": "white",
            "showbackground": true,
            "ticks": "",
            "zerolinecolor": "white"
           },
           "yaxis": {
            "backgroundcolor": "#E5ECF6",
            "gridcolor": "white",
            "gridwidth": 2,
            "linecolor": "white",
            "showbackground": true,
            "ticks": "",
            "zerolinecolor": "white"
           },
           "zaxis": {
            "backgroundcolor": "#E5ECF6",
            "gridcolor": "white",
            "gridwidth": 2,
            "linecolor": "white",
            "showbackground": true,
            "ticks": "",
            "zerolinecolor": "white"
           }
          },
          "shapedefaults": {
           "line": {
            "color": "#2a3f5f"
           }
          },
          "ternary": {
           "aaxis": {
            "gridcolor": "white",
            "linecolor": "white",
            "ticks": ""
           },
           "baxis": {
            "gridcolor": "white",
            "linecolor": "white",
            "ticks": ""
           },
           "bgcolor": "#E5ECF6",
           "caxis": {
            "gridcolor": "white",
            "linecolor": "white",
            "ticks": ""
           }
          },
          "title": {
           "x": 0.05
          },
          "xaxis": {
           "automargin": true,
           "gridcolor": "white",
           "linecolor": "white",
           "ticks": "",
           "title": {
            "standoff": 15
           },
           "zerolinecolor": "white",
           "zerolinewidth": 2
          },
          "yaxis": {
           "automargin": true,
           "gridcolor": "white",
           "linecolor": "white",
           "ticks": "",
           "title": {
            "standoff": 15
           },
           "zerolinecolor": "white",
           "zerolinewidth": 2
          }
         }
        },
        "violinmode": "group",
        "xaxis": {
         "anchor": "y",
         "categoryarray": [
          "ckd",
          "notckd"
         ],
         "categoryorder": "array",
         "domain": [
          0,
          1
         ],
         "title": {
          "text": "class"
         }
        },
        "yaxis": {
         "anchor": "x",
         "domain": [
          0,
          1
         ],
         "title": {
          "text": "hemo"
         }
        }
       }
      },
      "text/html": [
       "<div>\n",
       "        \n",
       "        \n",
       "            <div id=\"0535a6fc-6ab7-4edd-be55-80419d912ce1\" class=\"plotly-graph-div\" style=\"height:525px; width:100%;\"></div>\n",
       "            <script type=\"text/javascript\">\n",
       "                require([\"plotly\"], function(Plotly) {\n",
       "                    window.PLOTLYENV=window.PLOTLYENV || {};\n",
       "                    \n",
       "                if (document.getElementById(\"0535a6fc-6ab7-4edd-be55-80419d912ce1\")) {\n",
       "                    Plotly.newPlot(\n",
       "                        '0535a6fc-6ab7-4edd-be55-80419d912ce1',\n",
       "                        [{\"alignmentgroup\": \"True\", \"box\": {\"visible\": true}, \"hoverlabel\": {\"namelength\": 0}, \"hovertemplate\": \"class=%{x}<br>hemo=%{y}\", \"legendgroup\": \"ckd\", \"marker\": {\"color\": \"#636efa\"}, \"name\": \"ckd\", \"offsetgroup\": \"ckd\", \"orientation\": \"v\", \"scalegroup\": \"True\", \"showlegend\": true, \"type\": \"violin\", \"x\": [\"ckd\", \"ckd\", \"ckd\", \"ckd\", \"ckd\", \"ckd\", \"ckd\", \"ckd\", \"ckd\", \"ckd\", \"ckd\", \"ckd\", \"ckd\", \"ckd\", \"ckd\", \"ckd\", \"ckd\", \"ckd\", \"ckd\", \"ckd\", \"ckd\", \"ckd\", \"ckd\", \"ckd\", \"ckd\", \"ckd\", \"ckd\", \"ckd\", \"ckd\", \"ckd\", \"ckd\", \"ckd\", \"ckd\", \"ckd\", \"ckd\", \"ckd\", \"ckd\", \"ckd\", \"ckd\", \"ckd\", \"ckd\", \"ckd\", \"ckd\", \"ckd\", \"ckd\", \"ckd\", \"ckd\", \"ckd\", \"ckd\", \"ckd\", \"ckd\", \"ckd\", \"ckd\", \"ckd\", \"ckd\", \"ckd\", \"ckd\", \"ckd\", \"ckd\", \"ckd\", \"ckd\", \"ckd\", \"ckd\", \"ckd\", \"ckd\", \"ckd\", \"ckd\", \"ckd\", \"ckd\", \"ckd\", \"ckd\", \"ckd\", \"ckd\", \"ckd\", \"ckd\", \"ckd\", \"ckd\", \"ckd\", \"ckd\", \"ckd\", \"ckd\", \"ckd\", \"ckd\", \"ckd\", \"ckd\", \"ckd\", \"ckd\", \"ckd\", \"ckd\", \"ckd\", \"ckd\", \"ckd\", \"ckd\", \"ckd\", \"ckd\", \"ckd\", \"ckd\", \"ckd\", \"ckd\", \"ckd\", \"ckd\", \"ckd\", \"ckd\", \"ckd\", \"ckd\", \"ckd\", \"ckd\", \"ckd\", \"ckd\", \"ckd\", \"ckd\", \"ckd\", \"ckd\", \"ckd\", \"ckd\", \"ckd\", \"ckd\", \"ckd\", \"ckd\", \"ckd\", \"ckd\", \"ckd\", \"ckd\", \"ckd\", \"ckd\", \"ckd\", \"ckd\", \"ckd\", \"ckd\", \"ckd\", \"ckd\", \"ckd\", \"ckd\", \"ckd\", \"ckd\", \"ckd\", \"ckd\", \"ckd\", \"ckd\", \"ckd\", \"ckd\", \"ckd\", \"ckd\", \"ckd\", \"ckd\", \"ckd\", \"ckd\", \"ckd\", \"ckd\", \"ckd\", \"ckd\", \"ckd\", \"ckd\", \"ckd\", \"ckd\", \"ckd\", \"ckd\", \"ckd\", \"ckd\", \"ckd\", \"ckd\", \"ckd\", \"ckd\", \"ckd\", \"ckd\", \"ckd\", \"ckd\", \"ckd\", \"ckd\", \"ckd\", \"ckd\", \"ckd\", \"ckd\", \"ckd\", \"ckd\", \"ckd\", \"ckd\", \"ckd\", \"ckd\", \"ckd\", \"ckd\", \"ckd\", \"ckd\", \"ckd\", \"ckd\", \"ckd\", \"ckd\", \"ckd\", \"ckd\", \"ckd\", \"ckd\", \"ckd\", \"ckd\", \"ckd\", \"ckd\", \"ckd\", \"ckd\", \"ckd\", \"ckd\", \"ckd\", \"ckd\", \"ckd\", \"ckd\", \"ckd\", \"ckd\", \"ckd\", \"ckd\", \"ckd\", \"ckd\", \"ckd\", \"ckd\", \"ckd\", \"ckd\", \"ckd\", \"ckd\", \"ckd\", \"ckd\", \"ckd\", \"ckd\", \"ckd\", \"ckd\", \"ckd\", \"ckd\", \"ckd\", \"ckd\", \"ckd\", \"ckd\", \"ckd\", \"ckd\", \"ckd\", \"ckd\", \"ckd\", \"ckd\", \"ckd\", \"ckd\", \"ckd\", \"ckd\", \"ckd\", \"ckd\", \"ckd\", \"ckd\", \"ckd\", \"ckd\", \"ckd\", \"ckd\", \"ckd\", \"ckd\", \"ckd\", \"ckd\", \"ckd\"], \"x0\": \" \", \"xaxis\": \"x\", \"y\": [15.4, 11.3, 9.6, 11.2, 11.6, 12.2, 12.4, 12.4, 10.8, 9.5, 9.4, 10.8, 9.7, 9.8, 5.6, 7.6, 12.6, 12.1, 12.7, 10.3, 7.7, 10.9, 9.8, 12.5, 11.1, 9.9, 11.6, 12.5, 12.5, 12.9, 12.5, 10.1, 11.3, 10.1, 12.5, 12.0, 10.3, 9.7, 12.5, 13.0, 11.1, 12.5, 9.7, 7.9, 9.7, 9.3, 12.4, 15.0, 10.0, 9.7, 8.6, 10.3, 10.9, 13.6, 13.0, 9.5, 10.2, 12.5, 10.5, 6.6, 12.5, 12.5, 11.0, 7.5, 9.8, 15.0, 12.5, 12.5, 10.9, 15.6, 15.2, 9.8, 10.3, 4.8, 9.1, 8.1, 10.3, 11.9, 10.1, 13.5, 10.8, 8.3, 12.5, 12.5, 7.1, 9.9, 12.5, 11.1, 12.5, 12.5, 13.0, 16.1, 10.4, 9.2, 11.6, 12.5, 11.2, 10.0, 6.2, 11.2, 12.5, 11.3, 13.9, 10.2, 12.5, 14.1, 6.0, 11.2, 11.8, 11.7, 11.7, 10.0, 10.8, 12.5, 12.1, 12.4, 12.5, 12.5, 11.4, 12.5, 12.6, 15.0, 6.0, 14.0, 9.1, 12.5, 12.0, 11.4, 8.1, 11.1, 8.2, 11.8, 8.6, 12.0, 10.8, 13.2, 9.3, 10.0, 12.5, 11.1, 12.5, 6.1, 12.5, 12.5, 11.1, 8.0, 12.5, 7.9, 12.5, 10.5, 12.3, 9.6, 10.9, 8.3, 8.4, 11.1, 12.5, 12.6, 10.9, 10.4, 10.9, 14.3, 9.8, 9.0, 14.3, 12.5, 12.5, 12.7, 11.0, 8.7, 12.5, 8.7, 10.6, 13.1, 11.0, 12.5, 8.3, 13.2, 9.8, 11.9, 10.3, 10.0, 11.3, 12.5, 11.3, 12.0, 12.5, 10.7, 12.2, 9.5, 9.9, 9.1, 12.5, 5.5, 12.5, 5.8, 8.1, 6.8, 11.2, 8.8, 12.0, 7.9, 8.0, 8.5, 8.8, 12.6, 13.8, 12.0, 12.3, 11.5, 7.3, 12.5, 10.9, 10.9, 13.7, 12.5, 12.8, 12.2, 11.8, 9.8, 11.9, 12.5, 12.5, 13.0, 12.5, 11.5, 7.9, 11.3, 12.5, 9.6, 12.5, 11.5, 12.5, 12.5, 15.0, 7.9, 9.1, 12.7, 9.4, 11.9, 11.4, 10.4, 9.4, 13.4, 12.2, 6.3, 8.6, 12.5, 12.6, 3.1], \"y0\": \" \", \"yaxis\": \"y\"}, {\"alignmentgroup\": \"True\", \"box\": {\"visible\": true}, \"hoverlabel\": {\"namelength\": 0}, \"hovertemplate\": \"class=%{x}<br>hemo=%{y}\", \"legendgroup\": \"notckd\", \"marker\": {\"color\": \"#EF553B\"}, \"name\": \"notckd\", \"offsetgroup\": \"notckd\", \"orientation\": \"v\", \"scalegroup\": \"True\", \"showlegend\": true, \"type\": \"violin\", \"x\": [\"notckd\", \"notckd\", \"notckd\", \"notckd\", \"notckd\", \"notckd\", \"notckd\", \"notckd\", \"notckd\", \"notckd\", \"notckd\", \"notckd\", \"notckd\", \"notckd\", \"notckd\", \"notckd\", \"notckd\", \"notckd\", \"notckd\", \"notckd\", \"notckd\", \"notckd\", \"notckd\", \"notckd\", \"notckd\", \"notckd\", \"notckd\", \"notckd\", \"notckd\", \"notckd\", \"notckd\", \"notckd\", \"notckd\", \"notckd\", \"notckd\", \"notckd\", \"notckd\", \"notckd\", \"notckd\", \"notckd\", \"notckd\", \"notckd\", \"notckd\", \"notckd\", \"notckd\", \"notckd\", \"notckd\", \"notckd\", \"notckd\", \"notckd\", \"notckd\", \"notckd\", \"notckd\", \"notckd\", \"notckd\", \"notckd\", \"notckd\", \"notckd\", \"notckd\", \"notckd\", \"notckd\", \"notckd\", \"notckd\", \"notckd\", \"notckd\", \"notckd\", \"notckd\", \"notckd\", \"notckd\", \"notckd\", \"notckd\", \"notckd\", \"notckd\", \"notckd\", \"notckd\", \"notckd\", \"notckd\", \"notckd\", \"notckd\", \"notckd\", \"notckd\", \"notckd\", \"notckd\", \"notckd\", \"notckd\", \"notckd\", \"notckd\", \"notckd\", \"notckd\", \"notckd\", \"notckd\", \"notckd\", \"notckd\", \"notckd\", \"notckd\", \"notckd\", \"notckd\", \"notckd\", \"notckd\", \"notckd\", \"notckd\", \"notckd\", \"notckd\", \"notckd\", \"notckd\", \"notckd\", \"notckd\", \"notckd\", \"notckd\", \"notckd\", \"notckd\", \"notckd\", \"notckd\", \"notckd\", \"notckd\", \"notckd\", \"notckd\", \"notckd\", \"notckd\", \"notckd\", \"notckd\", \"notckd\", \"notckd\", \"notckd\", \"notckd\", \"notckd\", \"notckd\", \"notckd\", \"notckd\", \"notckd\", \"notckd\", \"notckd\", \"notckd\", \"notckd\", \"notckd\", \"notckd\", \"notckd\", \"notckd\", \"notckd\", \"notckd\", \"notckd\", \"notckd\", \"notckd\", \"notckd\", \"notckd\", \"notckd\", \"notckd\", \"notckd\", \"notckd\", \"notckd\"], \"x0\": \" \", \"xaxis\": \"x\", \"y\": [15.0, 17.0, 15.9, 15.4, 13.0, 13.6, 14.5, 14.0, 13.9, 16.1, 14.1, 17.0, 15.5, 16.2, 14.4, 14.2, 13.2, 13.9, 16.3, 15.0, 14.3, 13.8, 14.8, 12.5, 14.4, 16.5, 14.0, 15.7, 14.5, 16.3, 13.3, 15.5, 14.6, 16.4, 16.9, 16.0, 14.7, 13.4, 15.9, 16.6, 14.8, 14.9, 16.7, 14.9, 14.3, 15.0, 16.8, 15.8, 13.5, 15.1, 15.0, 16.9, 14.8, 17.0, 13.1, 17.1, 15.2, 13.6, 13.9, 17.2, 13.2, 13.7, 15.3, 17.3, 15.6, 13.8, 15.4, 15.0, 17.4, 12.5, 15.7, 13.9, 16.0, 15.9, 12.5, 14.0, 15.8, 13.4, 12.5, 14.1, 12.5, 13.5, 15.3, 17.7, 15.4, 14.2, 15.2, 14.0, 17.8, 13.3, 14.3, 13.4, 15.0, 16.2, 14.4, 13.5, 15.5, 17.8, 13.6, 14.5, 16.1, 17.5, 15.0, 13.6, 14.6, 15.0, 17.1, 13.6, 13.0, 17.2, 14.7, 13.7, 15.0, 17.8, 14.8, 12.5, 15.0, 17.4, 14.9, 13.6, 16.2, 17.6, 15.0, 13.7, 16.3, 15.1, 16.4, 13.8, 15.2, 16.1, 15.3, 16.6, 16.8, 13.9, 15.4, 16.5, 16.4, 16.7, 15.5, 17.0, 15.0, 15.6, 14.8, 13.0, 14.1, 15.7, 16.5, 15.8, 14.2, 15.8], \"y0\": \" \", \"yaxis\": \"y\"}],\n",
       "                        {\"legend\": {\"title\": {\"text\": \"class\"}, \"tracegroupgap\": 0}, \"margin\": {\"t\": 60}, \"template\": {\"data\": {\"bar\": [{\"error_x\": {\"color\": \"#2a3f5f\"}, \"error_y\": {\"color\": \"#2a3f5f\"}, \"marker\": {\"line\": {\"color\": \"#E5ECF6\", \"width\": 0.5}}, \"type\": \"bar\"}], \"barpolar\": [{\"marker\": {\"line\": {\"color\": \"#E5ECF6\", \"width\": 0.5}}, \"type\": \"barpolar\"}], \"carpet\": [{\"aaxis\": {\"endlinecolor\": \"#2a3f5f\", \"gridcolor\": \"white\", \"linecolor\": \"white\", \"minorgridcolor\": \"white\", \"startlinecolor\": \"#2a3f5f\"}, \"baxis\": {\"endlinecolor\": \"#2a3f5f\", \"gridcolor\": \"white\", \"linecolor\": \"white\", \"minorgridcolor\": \"white\", \"startlinecolor\": \"#2a3f5f\"}, \"type\": \"carpet\"}], \"choropleth\": [{\"colorbar\": {\"outlinewidth\": 0, \"ticks\": \"\"}, \"type\": \"choropleth\"}], \"contour\": [{\"colorbar\": {\"outlinewidth\": 0, \"ticks\": \"\"}, \"colorscale\": [[0.0, \"#0d0887\"], [0.1111111111111111, \"#46039f\"], [0.2222222222222222, \"#7201a8\"], [0.3333333333333333, \"#9c179e\"], [0.4444444444444444, \"#bd3786\"], [0.5555555555555556, \"#d8576b\"], [0.6666666666666666, \"#ed7953\"], [0.7777777777777778, \"#fb9f3a\"], [0.8888888888888888, \"#fdca26\"], [1.0, \"#f0f921\"]], \"type\": \"contour\"}], \"contourcarpet\": [{\"colorbar\": {\"outlinewidth\": 0, \"ticks\": \"\"}, \"type\": \"contourcarpet\"}], \"heatmap\": [{\"colorbar\": {\"outlinewidth\": 0, \"ticks\": \"\"}, \"colorscale\": [[0.0, \"#0d0887\"], [0.1111111111111111, \"#46039f\"], [0.2222222222222222, \"#7201a8\"], [0.3333333333333333, \"#9c179e\"], [0.4444444444444444, \"#bd3786\"], [0.5555555555555556, \"#d8576b\"], [0.6666666666666666, \"#ed7953\"], [0.7777777777777778, \"#fb9f3a\"], [0.8888888888888888, \"#fdca26\"], [1.0, \"#f0f921\"]], \"type\": \"heatmap\"}], \"heatmapgl\": [{\"colorbar\": {\"outlinewidth\": 0, \"ticks\": \"\"}, \"colorscale\": [[0.0, \"#0d0887\"], [0.1111111111111111, \"#46039f\"], [0.2222222222222222, \"#7201a8\"], [0.3333333333333333, \"#9c179e\"], [0.4444444444444444, \"#bd3786\"], [0.5555555555555556, \"#d8576b\"], [0.6666666666666666, \"#ed7953\"], [0.7777777777777778, \"#fb9f3a\"], [0.8888888888888888, \"#fdca26\"], [1.0, \"#f0f921\"]], \"type\": \"heatmapgl\"}], \"histogram\": [{\"marker\": {\"colorbar\": {\"outlinewidth\": 0, \"ticks\": \"\"}}, \"type\": \"histogram\"}], \"histogram2d\": [{\"colorbar\": {\"outlinewidth\": 0, \"ticks\": \"\"}, \"colorscale\": [[0.0, \"#0d0887\"], [0.1111111111111111, \"#46039f\"], [0.2222222222222222, \"#7201a8\"], [0.3333333333333333, \"#9c179e\"], [0.4444444444444444, \"#bd3786\"], [0.5555555555555556, \"#d8576b\"], [0.6666666666666666, \"#ed7953\"], [0.7777777777777778, \"#fb9f3a\"], [0.8888888888888888, \"#fdca26\"], [1.0, \"#f0f921\"]], \"type\": \"histogram2d\"}], \"histogram2dcontour\": [{\"colorbar\": {\"outlinewidth\": 0, \"ticks\": \"\"}, \"colorscale\": [[0.0, \"#0d0887\"], [0.1111111111111111, \"#46039f\"], [0.2222222222222222, \"#7201a8\"], [0.3333333333333333, \"#9c179e\"], [0.4444444444444444, \"#bd3786\"], [0.5555555555555556, \"#d8576b\"], [0.6666666666666666, \"#ed7953\"], [0.7777777777777778, \"#fb9f3a\"], [0.8888888888888888, \"#fdca26\"], [1.0, \"#f0f921\"]], \"type\": \"histogram2dcontour\"}], \"mesh3d\": [{\"colorbar\": {\"outlinewidth\": 0, \"ticks\": \"\"}, \"type\": \"mesh3d\"}], \"parcoords\": [{\"line\": {\"colorbar\": {\"outlinewidth\": 0, \"ticks\": \"\"}}, \"type\": \"parcoords\"}], \"pie\": [{\"automargin\": true, \"type\": \"pie\"}], \"scatter\": [{\"marker\": {\"colorbar\": {\"outlinewidth\": 0, \"ticks\": \"\"}}, \"type\": \"scatter\"}], \"scatter3d\": [{\"line\": {\"colorbar\": {\"outlinewidth\": 0, \"ticks\": \"\"}}, \"marker\": {\"colorbar\": {\"outlinewidth\": 0, \"ticks\": \"\"}}, \"type\": \"scatter3d\"}], \"scattercarpet\": [{\"marker\": {\"colorbar\": {\"outlinewidth\": 0, \"ticks\": \"\"}}, \"type\": \"scattercarpet\"}], \"scattergeo\": [{\"marker\": {\"colorbar\": {\"outlinewidth\": 0, \"ticks\": \"\"}}, \"type\": \"scattergeo\"}], \"scattergl\": [{\"marker\": {\"colorbar\": {\"outlinewidth\": 0, \"ticks\": \"\"}}, \"type\": \"scattergl\"}], \"scattermapbox\": [{\"marker\": {\"colorbar\": {\"outlinewidth\": 0, \"ticks\": \"\"}}, \"type\": \"scattermapbox\"}], \"scatterpolar\": [{\"marker\": {\"colorbar\": {\"outlinewidth\": 0, \"ticks\": \"\"}}, \"type\": \"scatterpolar\"}], \"scatterpolargl\": [{\"marker\": {\"colorbar\": {\"outlinewidth\": 0, \"ticks\": \"\"}}, \"type\": \"scatterpolargl\"}], \"scatterternary\": [{\"marker\": {\"colorbar\": {\"outlinewidth\": 0, \"ticks\": \"\"}}, \"type\": \"scatterternary\"}], \"surface\": [{\"colorbar\": {\"outlinewidth\": 0, \"ticks\": \"\"}, \"colorscale\": [[0.0, \"#0d0887\"], [0.1111111111111111, \"#46039f\"], [0.2222222222222222, \"#7201a8\"], [0.3333333333333333, \"#9c179e\"], [0.4444444444444444, \"#bd3786\"], [0.5555555555555556, \"#d8576b\"], [0.6666666666666666, \"#ed7953\"], [0.7777777777777778, \"#fb9f3a\"], [0.8888888888888888, \"#fdca26\"], [1.0, \"#f0f921\"]], \"type\": \"surface\"}], \"table\": [{\"cells\": {\"fill\": {\"color\": \"#EBF0F8\"}, \"line\": {\"color\": \"white\"}}, \"header\": {\"fill\": {\"color\": \"#C8D4E3\"}, \"line\": {\"color\": \"white\"}}, \"type\": \"table\"}]}, \"layout\": {\"annotationdefaults\": {\"arrowcolor\": \"#2a3f5f\", \"arrowhead\": 0, \"arrowwidth\": 1}, \"coloraxis\": {\"colorbar\": {\"outlinewidth\": 0, \"ticks\": \"\"}}, \"colorscale\": {\"diverging\": [[0, \"#8e0152\"], [0.1, \"#c51b7d\"], [0.2, \"#de77ae\"], [0.3, \"#f1b6da\"], [0.4, \"#fde0ef\"], [0.5, \"#f7f7f7\"], [0.6, \"#e6f5d0\"], [0.7, \"#b8e186\"], [0.8, \"#7fbc41\"], [0.9, \"#4d9221\"], [1, \"#276419\"]], \"sequential\": [[0.0, \"#0d0887\"], [0.1111111111111111, \"#46039f\"], [0.2222222222222222, \"#7201a8\"], [0.3333333333333333, \"#9c179e\"], [0.4444444444444444, \"#bd3786\"], [0.5555555555555556, \"#d8576b\"], [0.6666666666666666, \"#ed7953\"], [0.7777777777777778, \"#fb9f3a\"], [0.8888888888888888, \"#fdca26\"], [1.0, \"#f0f921\"]], \"sequentialminus\": [[0.0, \"#0d0887\"], [0.1111111111111111, \"#46039f\"], [0.2222222222222222, \"#7201a8\"], [0.3333333333333333, \"#9c179e\"], [0.4444444444444444, \"#bd3786\"], [0.5555555555555556, \"#d8576b\"], [0.6666666666666666, \"#ed7953\"], [0.7777777777777778, \"#fb9f3a\"], [0.8888888888888888, \"#fdca26\"], [1.0, \"#f0f921\"]]}, \"colorway\": [\"#636efa\", \"#EF553B\", \"#00cc96\", \"#ab63fa\", \"#FFA15A\", \"#19d3f3\", \"#FF6692\", \"#B6E880\", \"#FF97FF\", \"#FECB52\"], \"font\": {\"color\": \"#2a3f5f\"}, \"geo\": {\"bgcolor\": \"white\", \"lakecolor\": \"white\", \"landcolor\": \"#E5ECF6\", \"showlakes\": true, \"showland\": true, \"subunitcolor\": \"white\"}, \"hoverlabel\": {\"align\": \"left\"}, \"hovermode\": \"closest\", \"mapbox\": {\"style\": \"light\"}, \"paper_bgcolor\": \"white\", \"plot_bgcolor\": \"#E5ECF6\", \"polar\": {\"angularaxis\": {\"gridcolor\": \"white\", \"linecolor\": \"white\", \"ticks\": \"\"}, \"bgcolor\": \"#E5ECF6\", \"radialaxis\": {\"gridcolor\": \"white\", \"linecolor\": \"white\", \"ticks\": \"\"}}, \"scene\": {\"xaxis\": {\"backgroundcolor\": \"#E5ECF6\", \"gridcolor\": \"white\", \"gridwidth\": 2, \"linecolor\": \"white\", \"showbackground\": true, \"ticks\": \"\", \"zerolinecolor\": \"white\"}, \"yaxis\": {\"backgroundcolor\": \"#E5ECF6\", \"gridcolor\": \"white\", \"gridwidth\": 2, \"linecolor\": \"white\", \"showbackground\": true, \"ticks\": \"\", \"zerolinecolor\": \"white\"}, \"zaxis\": {\"backgroundcolor\": \"#E5ECF6\", \"gridcolor\": \"white\", \"gridwidth\": 2, \"linecolor\": \"white\", \"showbackground\": true, \"ticks\": \"\", \"zerolinecolor\": \"white\"}}, \"shapedefaults\": {\"line\": {\"color\": \"#2a3f5f\"}}, \"ternary\": {\"aaxis\": {\"gridcolor\": \"white\", \"linecolor\": \"white\", \"ticks\": \"\"}, \"baxis\": {\"gridcolor\": \"white\", \"linecolor\": \"white\", \"ticks\": \"\"}, \"bgcolor\": \"#E5ECF6\", \"caxis\": {\"gridcolor\": \"white\", \"linecolor\": \"white\", \"ticks\": \"\"}}, \"title\": {\"x\": 0.05}, \"xaxis\": {\"automargin\": true, \"gridcolor\": \"white\", \"linecolor\": \"white\", \"ticks\": \"\", \"title\": {\"standoff\": 15}, \"zerolinecolor\": \"white\", \"zerolinewidth\": 2}, \"yaxis\": {\"automargin\": true, \"gridcolor\": \"white\", \"linecolor\": \"white\", \"ticks\": \"\", \"title\": {\"standoff\": 15}, \"zerolinecolor\": \"white\", \"zerolinewidth\": 2}}}, \"violinmode\": \"group\", \"xaxis\": {\"anchor\": \"y\", \"categoryarray\": [\"ckd\", \"notckd\"], \"categoryorder\": \"array\", \"domain\": [0.0, 1.0], \"title\": {\"text\": \"class\"}}, \"yaxis\": {\"anchor\": \"x\", \"domain\": [0.0, 1.0], \"title\": {\"text\": \"hemo\"}}},\n",
       "                        {\"responsive\": true}\n",
       "                    ).then(function(){\n",
       "                            \n",
       "var gd = document.getElementById('0535a6fc-6ab7-4edd-be55-80419d912ce1');\n",
       "var x = new MutationObserver(function (mutations, observer) {{\n",
       "        var display = window.getComputedStyle(gd).display;\n",
       "        if (!display || display === 'none') {{\n",
       "            console.log([gd, 'removed!']);\n",
       "            Plotly.purge(gd);\n",
       "            observer.disconnect();\n",
       "        }}\n",
       "}});\n",
       "\n",
       "// Listen for the removal of the full notebook cells\n",
       "var notebookContainer = gd.closest('#notebook-container');\n",
       "if (notebookContainer) {{\n",
       "    x.observe(notebookContainer, {childList: true});\n",
       "}}\n",
       "\n",
       "// Listen for the clearing of the current output cell\n",
       "var outputEl = gd.closest('.output');\n",
       "if (outputEl) {{\n",
       "    x.observe(outputEl, {childList: true});\n",
       "}}\n",
       "\n",
       "                        })\n",
       "                };\n",
       "                });\n",
       "            </script>\n",
       "        </div>"
      ]
     },
     "metadata": {},
     "output_type": "display_data"
    }
   ],
   "source": [
    "fig = px.violin(ckd_copy, y='hemo', x=\"class\", color=\"class\", box=True, template = None)\n",
    "fig.show()"
   ]
  },
  {
   "cell_type": "code",
   "execution_count": 965,
   "metadata": {},
   "outputs": [],
   "source": [
    "ckd_copy['ane'].replace('?','no', inplace=True)"
   ]
  },
  {
   "cell_type": "code",
   "execution_count": 966,
   "metadata": {},
   "outputs": [
    {
     "data": {
      "text/plain": [
       "<matplotlib.axes._subplots.AxesSubplot at 0x1f5b080ae48>"
      ]
     },
     "execution_count": 966,
     "metadata": {},
     "output_type": "execute_result"
    },
    {
     "data": {
      "image/png": "[encoded data removed]",
      "text/plain": [
       "<Figure size 432x288 with 1 Axes>"
      ]
     },
     "metadata": {
      "needs_background": "light"
     },
     "output_type": "display_data"
    }
   ],
   "source": [
    "ane_class_grp=ckd_copy.groupby(['ane','class'])['SNo'].count().reset_index().rename({\"SNo\":\"Count\"},axis=1)\n",
    "\n",
    "sns.barplot(data=ane_class_grp, x='ane', y=\"Count\", hue='class')"
   ]
  },
  {
   "cell_type": "markdown",
   "metadata": {},
   "source": [
    "# Working on pvc - Packed Cell Volume column"
   ]
  },
  {
   "cell_type": "code",
   "execution_count": 1038,
   "metadata": {},
   "outputs": [],
   "source": [
    "ckd_copy['pcv'] = copy.deepcopy(ckd['pcv'])"
   ]
  },
  {
   "cell_type": "code",
   "execution_count": 1039,
   "metadata": {},
   "outputs": [
    {
     "data": {
      "text/plain": [
       "array(['44', '38', '31', '32', '35', '39', '36', '33', '29', '28', '?',\n",
       "       '16', '24', '37', '30', '34', '40', '45', '27', '48', '\\t?', '52',\n",
       "       '14', '22', '18', '42', '17', '46', '23', '19', '25', '41', '26',\n",
       "       '15', '21', '43', '20', '\\t43', '47', '9', '49', '50', '53', '51',\n",
       "       '54'], dtype=object)"
      ]
     },
     "execution_count": 1039,
     "metadata": {},
     "output_type": "execute_result"
    }
   ],
   "source": [
    "ckd_copy['pcv'].unique()"
   ]
  },
  {
   "cell_type": "code",
   "execution_count": 1040,
   "metadata": {},
   "outputs": [],
   "source": [
    "ckd_copy['pcv']=ckd_copy['pcv'].str.replace('\\t','')\n",
    "mean_value = round(ckd_copy[ckd_copy['pcv']!='?']['pcv'].astype(int).mean(),1)\n",
    "ckd_copy['pcv'].replace('?',mean_value,inplace=True)\n",
    "ckd_copy['pcv']=ckd_copy['pcv'].astype(int)"
   ]
  },
  {
   "cell_type": "code",
   "execution_count": 1041,
   "metadata": {},
   "outputs": [
    {
     "data": {
      "application/vnd.plotly.v1+json": {
       "config": {
        "plotlyServerURL": "https://plot.ly"
       },
       "data": [
        {
         "alignmentgroup": "True",
         "box": {
          "visible": true
         },
         "hoverlabel": {
          "namelength": 0
         },
         "hovertemplate": "class=%{x}<br>pcv=%{y}",
         "legendgroup": "ckd",
         "marker": {
          "color": "#636efa"
         },
         "name": "ckd",
         "offsetgroup": "ckd",
         "orientation": "v",
         "scalegroup": "True",
         "showlegend": true,
         "type": "violin",
         "x": [
          "ckd",
          "ckd",
          "ckd",
          "ckd",
          "ckd",
          "ckd",
          "ckd",
          "ckd",
          "ckd",
          "ckd",
          "ckd",
          "ckd",
          "ckd",
          "ckd",
          "ckd",
          "ckd",
          "ckd",
          "ckd",
          "ckd",
          "ckd",
          "ckd",
          "ckd",
          "ckd",
          "ckd",
          "ckd",
          "ckd",
          "ckd",
          "ckd",
          "ckd",
          "ckd",
          "ckd",
          "ckd",
          "ckd",
          "ckd",
          "ckd",
          "ckd",
          "ckd",
          "ckd",
          "ckd",
          "ckd",
          "ckd",
          "ckd",
          "ckd",
          "ckd",
          "ckd",
          "ckd",
          "ckd",
          "ckd",
          "ckd",
          "ckd",
          "ckd",
          "ckd",
          "ckd",
          "ckd",
          "ckd",
          "ckd",
          "ckd",
          "ckd",
          "ckd",
          "ckd",
          "ckd",
          "ckd",
          "ckd",
          "ckd",
          "ckd",
          "ckd",
          "ckd",
          "ckd",
          "ckd",
          "ckd",
          "ckd",
          "ckd",
          "ckd",
          "ckd",
          "ckd",
          "ckd",
          "ckd",
          "ckd",
          "ckd",
          "ckd",
          "ckd",
          "ckd",
          "ckd",
          "ckd",
          "ckd",
          "ckd",
          "ckd",
          "ckd",
          "ckd",
          "ckd",
          "ckd",
          "ckd",
          "ckd",
          "ckd",
          "ckd",
          "ckd",
          "ckd",
          "ckd",
          "ckd",
          "ckd",
          "ckd",
          "ckd",
          "ckd",
          "ckd",
          "ckd",
          "ckd",
          "ckd",
          "ckd",
          "ckd",
          "ckd",
          "ckd",
          "ckd",
          "ckd",
          "ckd",
          "ckd",
          "ckd",
          "ckd",
          "ckd",
          "ckd",
          "ckd",
          "ckd",
          "ckd",
          "ckd",
          "ckd",
          "ckd",
          "ckd",
          "ckd",
          "ckd",
          "ckd",
          "ckd",
          "ckd",
          "ckd",
          "ckd",
          "ckd",
          "ckd",
          "ckd",
          "ckd",
          "ckd",
          "ckd",
          "ckd",
          "ckd",
          "ckd",
          "ckd",
          "ckd",
          "ckd",
          "ckd",
          "ckd",
          "ckd",
          "ckd",
          "ckd",
          "ckd",
          "ckd",
          "ckd",
          "ckd",
          "ckd",
          "ckd",
          "ckd",
          "ckd",
          "ckd",
          "ckd",
          "ckd",
          "ckd",
          "ckd",
          "ckd",
          "ckd",
          "ckd",
          "ckd",
          "ckd",
          "ckd",
          "ckd",
          "ckd",
          "ckd",
          "ckd",
          "ckd",
          "ckd",
          "ckd",
          "ckd",
          "ckd",
          "ckd",
          "ckd",
          "ckd",
          "ckd",
          "ckd",
          "ckd",
          "ckd",
          "ckd",
          "ckd",
          "ckd",
          "ckd",
          "ckd",
          "ckd",
          "ckd",
          "ckd",
          "ckd",
          "ckd",
          "ckd",
          "ckd",
          "ckd",
          "ckd",
          "ckd",
          "ckd",
          "ckd",
          "ckd",
          "ckd",
          "ckd",
          "ckd",
          "ckd",
          "ckd",
          "ckd",
          "ckd",
          "ckd",
          "ckd",
          "ckd",
          "ckd",
          "ckd",
          "ckd",
          "ckd",
          "ckd",
          "ckd",
          "ckd",
          "ckd",
          "ckd",
          "ckd",
          "ckd",
          "ckd",
          "ckd",
          "ckd",
          "ckd",
          "ckd",
          "ckd",
          "ckd",
          "ckd",
          "ckd",
          "ckd",
          "ckd",
          "ckd",
          "ckd",
          "ckd",
          "ckd",
          "ckd",
          "ckd",
          "ckd",
          "ckd",
          "ckd",
          "ckd",
          "ckd",
          "ckd",
          "ckd",
          "ckd",
          "ckd"
         ],
         "x0": " ",
         "xaxis": "x",
         "y": [
          44,
          38,
          31,
          32,
          35,
          39,
          36,
          44,
          33,
          29,
          28,
          32,
          28,
          38,
          16,
          24,
          38,
          38,
          37,
          30,
          24,
          32,
          32,
          38,
          39,
          29,
          35,
          37,
          38,
          38,
          38,
          30,
          34,
          29,
          38,
          36,
          32,
          28,
          38,
          40,
          32,
          38,
          33,
          24,
          28,
          38,
          37,
          45,
          29,
          29,
          28,
          33,
          34,
          40,
          40,
          28,
          30,
          38,
          33,
          38,
          38,
          38,
          33,
          27,
          38,
          48,
          38,
          38,
          37,
          52,
          44,
          28,
          38,
          14,
          29,
          38,
          36,
          34,
          30,
          40,
          31,
          29,
          38,
          38,
          22,
          38,
          38,
          32,
          38,
          38,
          40,
          52,
          33,
          30,
          36,
          38,
          36,
          32,
          18,
          32,
          38,
          33,
          52,
          36,
          38,
          42,
          17,
          34,
          37,
          38,
          34,
          32,
          33,
          38,
          38,
          44,
          38,
          37,
          38,
          38,
          38,
          46,
          38,
          42,
          28,
          38,
          37,
          35,
          23,
          38,
          22,
          36,
          24,
          37,
          33,
          39,
          38,
          29,
          38,
          33,
          38,
          19,
          38,
          38,
          33,
          24,
          38,
          25,
          38,
          32,
          41,
          30,
          32,
          22,
          26,
          36,
          38,
          39,
          31,
          35,
          35,
          42,
          37,
          27,
          40,
          38,
          38,
          42,
          39,
          27,
          33,
          26,
          34,
          41,
          35,
          38,
          23,
          41,
          34,
          39,
          28,
          30,
          35,
          38,
          31,
          34,
          38,
          34,
          38,
          29,
          30,
          26,
          38,
          15,
          38,
          38,
          24,
          38,
          30,
          25,
          37,
          21,
          24,
          38,
          31,
          43,
          41,
          41,
          41,
          38,
          20,
          38,
          31,
          34,
          43,
          38,
          38,
          36,
          34,
          28,
          36,
          38,
          38,
          38,
          38,
          35,
          26,
          36,
          38,
          31,
          38,
          35,
          38,
          38,
          44,
          26,
          25,
          40,
          28,
          39,
          36,
          31,
          28,
          47,
          40,
          19,
          26,
          38,
          37,
          9
         ],
         "y0": " ",
         "yaxis": "y"
        },
        {
         "alignmentgroup": "True",
         "box": {
          "visible": true
         },
         "hoverlabel": {
          "namelength": 0
         },
         "hovertemplate": "class=%{x}<br>pcv=%{y}",
         "legendgroup": "notckd",
         "marker": {
          "color": "#EF553B"
         },
         "name": "notckd",
         "offsetgroup": "notckd",
         "orientation": "v",
         "scalegroup": "True",
         "showlegend": true,
         "type": "violin",
         "x": [
          "notckd",
          "notckd",
          "notckd",
          "notckd",
          "notckd",
          "notckd",
          "notckd",
          "notckd",
          "notckd",
          "notckd",
          "notckd",
          "notckd",
          "notckd",
          "notckd",
          "notckd",
          "notckd",
          "notckd",
          "notckd",
          "notckd",
          "notckd",
          "notckd",
          "notckd",
          "notckd",
          "notckd",
          "notckd",
          "notckd",
          "notckd",
          "notckd",
          "notckd",
          "notckd",
          "notckd",
          "notckd",
          "notckd",
          "notckd",
          "notckd",
          "notckd",
          "notckd",
          "notckd",
          "notckd",
          "notckd",
          "notckd",
          "notckd",
          "notckd",
          "notckd",
          "notckd",
          "notckd",
          "notckd",
          "notckd",
          "notckd",
          "notckd",
          "notckd",
          "notckd",
          "notckd",
          "notckd",
          "notckd",
          "notckd",
          "notckd",
          "notckd",
          "notckd",
          "notckd",
          "notckd",
          "notckd",
          "notckd",
          "notckd",
          "notckd",
          "notckd",
          "notckd",
          "notckd",
          "notckd",
          "notckd",
          "notckd",
          "notckd",
          "notckd",
          "notckd",
          "notckd",
          "notckd",
          "notckd",
          "notckd",
          "notckd",
          "notckd",
          "notckd",
          "notckd",
          "notckd",
          "notckd",
          "notckd",
          "notckd",
          "notckd",
          "notckd",
          "notckd",
          "notckd",
          "notckd",
          "notckd",
          "notckd",
          "notckd",
          "notckd",
          "notckd",
          "notckd",
          "notckd",
          "notckd",
          "notckd",
          "notckd",
          "notckd",
          "notckd",
          "notckd",
          "notckd",
          "notckd",
          "notckd",
          "notckd",
          "notckd",
          "notckd",
          "notckd",
          "notckd",
          "notckd",
          "notckd",
          "notckd",
          "notckd",
          "notckd",
          "notckd",
          "notckd",
          "notckd",
          "notckd",
          "notckd",
          "notckd",
          "notckd",
          "notckd",
          "notckd",
          "notckd",
          "notckd",
          "notckd",
          "notckd",
          "notckd",
          "notckd",
          "notckd",
          "notckd",
          "notckd",
          "notckd",
          "notckd",
          "notckd",
          "notckd",
          "notckd",
          "notckd",
          "notckd",
          "notckd",
          "notckd",
          "notckd",
          "notckd",
          "notckd",
          "notckd",
          "notckd",
          "notckd"
         ],
         "x0": " ",
         "xaxis": "x",
         "y": [
          48,
          52,
          46,
          42,
          49,
          52,
          41,
          46,
          44,
          45,
          45,
          41,
          43,
          45,
          50,
          48,
          41,
          48,
          53,
          48,
          41,
          42,
          42,
          38,
          44,
          43,
          41,
          50,
          44,
          48,
          52,
          41,
          44,
          43,
          52,
          41,
          44,
          43,
          50,
          43,
          52,
          41,
          52,
          48,
          40,
          50,
          41,
          45,
          48,
          52,
          43,
          41,
          48,
          50,
          45,
          41,
          52,
          44,
          48,
          40,
          44,
          45,
          48,
          52,
          41,
          48,
          48,
          40,
          52,
          38,
          44,
          48,
          43,
          45,
          38,
          50,
          41,
          44,
          45,
          48,
          42,
          46,
          44,
          46,
          43,
          48,
          40,
          52,
          44,
          48,
          43,
          41,
          50,
          50,
          42,
          42,
          52,
          43,
          44,
          52,
          43,
          40,
          48,
          51,
          41,
          52,
          47,
          42,
          45,
          53,
          43,
          54,
          40,
          44,
          45,
          38,
          46,
          50,
          45,
          46,
          50,
          51,
          52,
          47,
          40,
          48,
          53,
          49,
          42,
          50,
          54,
          40,
          51,
          49,
          42,
          52,
          43,
          50,
          46,
          52,
          52,
          44,
          46,
          54,
          45,
          47,
          54,
          49,
          51,
          53
         ],
         "y0": " ",
         "yaxis": "y"
        }
       ],
       "layout": {
        "legend": {
         "title": {
          "text": "class"
         },
         "tracegroupgap": 0
        },
        "margin": {
         "t": 60
        },
        "template": {
         "data": {
          "bar": [
           {
            "error_x": {
             "color": "#2a3f5f"
            },
            "error_y": {
             "color": "#2a3f5f"
            },
            "marker": {
             "line": {
              "color": "#E5ECF6",
              "width": 0.5
             }
            },
            "type": "bar"
           }
          ],
          "barpolar": [
           {
            "marker": {
             "line": {
              "color": "#E5ECF6",
              "width": 0.5
             }
            },
            "type": "barpolar"
           }
          ],
          "carpet": [
           {
            "aaxis": {
             "endlinecolor": "#2a3f5f",
             "gridcolor": "white",
             "linecolor": "white",
             "minorgridcolor": "white",
             "startlinecolor": "#2a3f5f"
            },
            "baxis": {
             "endlinecolor": "#2a3f5f",
             "gridcolor": "white",
             "linecolor": "white",
             "minorgridcolor": "white",
             "startlinecolor": "#2a3f5f"
            },
            "type": "carpet"
           }
          ],
          "choropleth": [
           {
            "colorbar": {
             "outlinewidth": 0,
             "ticks": ""
            },
            "type": "choropleth"
           }
          ],
          "contour": [
           {
            "colorbar": {
             "outlinewidth": 0,
             "ticks": ""
            },
            "colorscale": [
             [
              0,
              "#0d0887"
             ],
             [
              0.1111111111111111,
              "#46039f"
             ],
             [
              0.2222222222222222,
              "#7201a8"
             ],
             [
              0.3333333333333333,
              "#9c179e"
             ],
             [
              0.4444444444444444,
              "#bd3786"
             ],
             [
              0.5555555555555556,
              "#d8576b"
             ],
             [
              0.6666666666666666,
              "#ed7953"
             ],
             [
              0.7777777777777778,
              "#fb9f3a"
             ],
             [
              0.8888888888888888,
              "#fdca26"
             ],
             [
              1,
              "#f0f921"
             ]
            ],
            "type": "contour"
           }
          ],
          "contourcarpet": [
           {
            "colorbar": {
             "outlinewidth": 0,
             "ticks": ""
            },
            "type": "contourcarpet"
           }
          ],
          "heatmap": [
           {
            "colorbar": {
             "outlinewidth": 0,
             "ticks": ""
            },
            "colorscale": [
             [
              0,
              "#0d0887"
             ],
             [
              0.1111111111111111,
              "#46039f"
             ],
             [
              0.2222222222222222,
              "#7201a8"
             ],
             [
              0.3333333333333333,
              "#9c179e"
             ],
             [
              0.4444444444444444,
              "#bd3786"
             ],
             [
              0.5555555555555556,
              "#d8576b"
             ],
             [
              0.6666666666666666,
              "#ed7953"
             ],
             [
              0.7777777777777778,
              "#fb9f3a"
             ],
             [
              0.8888888888888888,
              "#fdca26"
             ],
             [
              1,
              "#f0f921"
             ]
            ],
            "type": "heatmap"
           }
          ],
          "heatmapgl": [
           {
            "colorbar": {
             "outlinewidth": 0,
             "ticks": ""
            },
            "colorscale": [
             [
              0,
              "#0d0887"
             ],
             [
              0.1111111111111111,
              "#46039f"
             ],
             [
              0.2222222222222222,
              "#7201a8"
             ],
             [
              0.3333333333333333,
              "#9c179e"
             ],
             [
              0.4444444444444444,
              "#bd3786"
             ],
             [
              0.5555555555555556,
              "#d8576b"
             ],
             [
              0.6666666666666666,
              "#ed7953"
             ],
             [
              0.7777777777777778,
              "#fb9f3a"
             ],
             [
              0.8888888888888888,
              "#fdca26"
             ],
             [
              1,
              "#f0f921"
             ]
            ],
            "type": "heatmapgl"
           }
          ],
          "histogram": [
           {
            "marker": {
             "colorbar": {
              "outlinewidth": 0,
              "ticks": ""
             }
            },
            "type": "histogram"
           }
          ],
          "histogram2d": [
           {
            "colorbar": {
             "outlinewidth": 0,
             "ticks": ""
            },
            "colorscale": [
             [
              0,
              "#0d0887"
             ],
             [
              0.1111111111111111,
              "#46039f"
             ],
             [
              0.2222222222222222,
              "#7201a8"
             ],
             [
              0.3333333333333333,
              "#9c179e"
             ],
             [
              0.4444444444444444,
              "#bd3786"
             ],
             [
              0.5555555555555556,
              "#d8576b"
             ],
             [
              0.6666666666666666,
              "#ed7953"
             ],
             [
              0.7777777777777778,
              "#fb9f3a"
             ],
             [
              0.8888888888888888,
              "#fdca26"
             ],
             [
              1,
              "#f0f921"
             ]
            ],
            "type": "histogram2d"
           }
          ],
          "histogram2dcontour": [
           {
            "colorbar": {
             "outlinewidth": 0,
             "ticks": ""
            },
            "colorscale": [
             [
              0,
              "#0d0887"
             ],
             [
              0.1111111111111111,
              "#46039f"
             ],
             [
              0.2222222222222222,
              "#7201a8"
             ],
             [
              0.3333333333333333,
              "#9c179e"
             ],
             [
              0.4444444444444444,
              "#bd3786"
             ],
             [
              0.5555555555555556,
              "#d8576b"
             ],
             [
              0.6666666666666666,
              "#ed7953"
             ],
             [
              0.7777777777777778,
              "#fb9f3a"
             ],
             [
              0.8888888888888888,
              "#fdca26"
             ],
             [
              1,
              "#f0f921"
             ]
            ],
            "type": "histogram2dcontour"
           }
          ],
          "mesh3d": [
           {
            "colorbar": {
             "outlinewidth": 0,
             "ticks": ""
            },
            "type": "mesh3d"
           }
          ],
          "parcoords": [
           {
            "line": {
             "colorbar": {
              "outlinewidth": 0,
              "ticks": ""
             }
            },
            "type": "parcoords"
           }
          ],
          "pie": [
           {
            "automargin": true,
            "type": "pie"
           }
          ],
          "scatter": [
           {
            "marker": {
             "colorbar": {
              "outlinewidth": 0,
              "ticks": ""
             }
            },
            "type": "scatter"
           }
          ],
          "scatter3d": [
           {
            "line": {
             "colorbar": {
              "outlinewidth": 0,
              "ticks": ""
             }
            },
            "marker": {
             "colorbar": {
              "outlinewidth": 0,
              "ticks": ""
             }
            },
            "type": "scatter3d"
           }
          ],
          "scattercarpet": [
           {
            "marker": {
             "colorbar": {
              "outlinewidth": 0,
              "ticks": ""
             }
            },
            "type": "scattercarpet"
           }
          ],
          "scattergeo": [
           {
            "marker": {
             "colorbar": {
              "outlinewidth": 0,
              "ticks": ""
             }
            },
            "type": "scattergeo"
           }
          ],
          "scattergl": [
           {
            "marker": {
             "colorbar": {
              "outlinewidth": 0,
              "ticks": ""
             }
            },
            "type": "scattergl"
           }
          ],
          "scattermapbox": [
           {
            "marker": {
             "colorbar": {
              "outlinewidth": 0,
              "ticks": ""
             }
            },
            "type": "scattermapbox"
           }
          ],
          "scatterpolar": [
           {
            "marker": {
             "colorbar": {
              "outlinewidth": 0,
              "ticks": ""
             }
            },
            "type": "scatterpolar"
           }
          ],
          "scatterpolargl": [
           {
            "marker": {
             "colorbar": {
              "outlinewidth": 0,
              "ticks": ""
             }
            },
            "type": "scatterpolargl"
           }
          ],
          "scatterternary": [
           {
            "marker": {
             "colorbar": {
              "outlinewidth": 0,
              "ticks": ""
             }
            },
            "type": "scatterternary"
           }
          ],
          "surface": [
           {
            "colorbar": {
             "outlinewidth": 0,
             "ticks": ""
            },
            "colorscale": [
             [
              0,
              "#0d0887"
             ],
             [
              0.1111111111111111,
              "#46039f"
             ],
             [
              0.2222222222222222,
              "#7201a8"
             ],
             [
              0.3333333333333333,
              "#9c179e"
             ],
             [
              0.4444444444444444,
              "#bd3786"
             ],
             [
              0.5555555555555556,
              "#d8576b"
             ],
             [
              0.6666666666666666,
              "#ed7953"
             ],
             [
              0.7777777777777778,
              "#fb9f3a"
             ],
             [
              0.8888888888888888,
              "#fdca26"
             ],
             [
              1,
              "#f0f921"
             ]
            ],
            "type": "surface"
           }
          ],
          "table": [
           {
            "cells": {
             "fill": {
              "color": "#EBF0F8"
             },
             "line": {
              "color": "white"
             }
            },
            "header": {
             "fill": {
              "color": "#C8D4E3"
             },
             "line": {
              "color": "white"
             }
            },
            "type": "table"
           }
          ]
         },
         "layout": {
          "annotationdefaults": {
           "arrowcolor": "#2a3f5f",
           "arrowhead": 0,
           "arrowwidth": 1
          },
          "coloraxis": {
           "colorbar": {
            "outlinewidth": 0,
            "ticks": ""
           }
          },
          "colorscale": {
           "diverging": [
            [
             0,
             "#8e0152"
            ],
            [
             0.1,
             "#c51b7d"
            ],
            [
             0.2,
             "#de77ae"
            ],
            [
             0.3,
             "#f1b6da"
            ],
            [
             0.4,
             "#fde0ef"
            ],
            [
             0.5,
             "#f7f7f7"
            ],
            [
             0.6,
             "#e6f5d0"
            ],
            [
             0.7,
             "#b8e186"
            ],
            [
             0.8,
             "#7fbc41"
            ],
            [
             0.9,
             "#4d9221"
            ],
            [
             1,
             "#276419"
            ]
           ],
           "sequential": [
            [
             0,
             "#0d0887"
            ],
            [
             0.1111111111111111,
             "#46039f"
            ],
            [
             0.2222222222222222,
             "#7201a8"
            ],
            [
             0.3333333333333333,
             "#9c179e"
            ],
            [
             0.4444444444444444,
             "#bd3786"
            ],
            [
             0.5555555555555556,
             "#d8576b"
            ],
            [
             0.6666666666666666,
             "#ed7953"
            ],
            [
             0.7777777777777778,
             "#fb9f3a"
            ],
            [
             0.8888888888888888,
             "#fdca26"
            ],
            [
             1,
             "#f0f921"
            ]
           ],
           "sequentialminus": [
            [
             0,
             "#0d0887"
            ],
            [
             0.1111111111111111,
             "#46039f"
            ],
            [
             0.2222222222222222,
             "#7201a8"
            ],
            [
             0.3333333333333333,
             "#9c179e"
            ],
            [
             0.4444444444444444,
             "#bd3786"
            ],
            [
             0.5555555555555556,
             "#d8576b"
            ],
            [
             0.6666666666666666,
             "#ed7953"
            ],
            [
             0.7777777777777778,
             "#fb9f3a"
            ],
            [
             0.8888888888888888,
             "#fdca26"
            ],
            [
             1,
             "#f0f921"
            ]
           ]
          },
          "colorway": [
           "#636efa",
           "#EF553B",
           "#00cc96",
           "#ab63fa",
           "#FFA15A",
           "#19d3f3",
           "#FF6692",
           "#B6E880",
           "#FF97FF",
           "#FECB52"
          ],
          "font": {
           "color": "#2a3f5f"
          },
          "geo": {
           "bgcolor": "white",
           "lakecolor": "white",
           "landcolor": "#E5ECF6",
           "showlakes": true,
           "showland": true,
           "subunitcolor": "white"
          },
          "hoverlabel": {
           "align": "left"
          },
          "hovermode": "closest",
          "mapbox": {
           "style": "light"
          },
          "paper_bgcolor": "white",
          "plot_bgcolor": "#E5ECF6",
          "polar": {
           "angularaxis": {
            "gridcolor": "white",
            "linecolor": "white",
            "ticks": ""
           },
           "bgcolor": "#E5ECF6",
           "radialaxis": {
            "gridcolor": "white",
            "linecolor": "white",
            "ticks": ""
           }
          },
          "scene": {
           "xaxis": {
            "backgroundcolor": "#E5ECF6",
            "gridcolor": "white",
            "gridwidth": 2,
            "linecolor": "white",
            "showbackground": true,
            "ticks": "",
            "zerolinecolor": "white"
           },
           "yaxis": {
            "backgroundcolor": "#E5ECF6",
            "gridcolor": "white",
            "gridwidth": 2,
            "linecolor": "white",
            "showbackground": true,
            "ticks": "",
            "zerolinecolor": "white"
           },
           "zaxis": {
            "backgroundcolor": "#E5ECF6",
            "gridcolor": "white",
            "gridwidth": 2,
            "linecolor": "white",
            "showbackground": true,
            "ticks": "",
            "zerolinecolor": "white"
           }
          },
          "shapedefaults": {
           "line": {
            "color": "#2a3f5f"
           }
          },
          "ternary": {
           "aaxis": {
            "gridcolor": "white",
            "linecolor": "white",
            "ticks": ""
           },
           "baxis": {
            "gridcolor": "white",
            "linecolor": "white",
            "ticks": ""
           },
           "bgcolor": "#E5ECF6",
           "caxis": {
            "gridcolor": "white",
            "linecolor": "white",
            "ticks": ""
           }
          },
          "title": {
           "x": 0.05
          },
          "xaxis": {
           "automargin": true,
           "gridcolor": "white",
           "linecolor": "white",
           "ticks": "",
           "title": {
            "standoff": 15
           },
           "zerolinecolor": "white",
           "zerolinewidth": 2
          },
          "yaxis": {
           "automargin": true,
           "gridcolor": "white",
           "linecolor": "white",
           "ticks": "",
           "title": {
            "standoff": 15
           },
           "zerolinecolor": "white",
           "zerolinewidth": 2
          }
         }
        },
        "violinmode": "group",
        "xaxis": {
         "anchor": "y",
         "categoryarray": [
          "ckd",
          "notckd"
         ],
         "categoryorder": "array",
         "domain": [
          0,
          1
         ],
         "title": {
          "text": "class"
         }
        },
        "yaxis": {
         "anchor": "x",
         "domain": [
          0,
          1
         ],
         "title": {
          "text": "pcv"
         }
        }
       }
      },
      "text/html": [
       "<div>\n",
       "        \n",
       "        \n",
       "            <div id=\"537e9d6c-a15f-4812-a8bf-a8d6634d8a87\" class=\"plotly-graph-div\" style=\"height:525px; width:100%;\"></div>\n",
       "            <script type=\"text/javascript\">\n",
       "                require([\"plotly\"], function(Plotly) {\n",
       "                    window.PLOTLYENV=window.PLOTLYENV || {};\n",
       "                    \n",
       "                if (document.getElementById(\"537e9d6c-a15f-4812-a8bf-a8d6634d8a87\")) {\n",
       "                    Plotly.newPlot(\n",
       "                        '537e9d6c-a15f-4812-a8bf-a8d6634d8a87',\n",
       "                        [{\"alignmentgroup\": \"True\", \"box\": {\"visible\": true}, \"hoverlabel\": {\"namelength\": 0}, \"hovertemplate\": \"class=%{x}<br>pcv=%{y}\", \"legendgroup\": \"ckd\", \"marker\": {\"color\": \"#636efa\"}, \"name\": \"ckd\", \"offsetgroup\": \"ckd\", \"orientation\": \"v\", \"scalegroup\": \"True\", \"showlegend\": true, \"type\": \"violin\", \"x\": [\"ckd\", \"ckd\", \"ckd\", \"ckd\", \"ckd\", \"ckd\", \"ckd\", \"ckd\", \"ckd\", \"ckd\", \"ckd\", \"ckd\", \"ckd\", \"ckd\", \"ckd\", \"ckd\", \"ckd\", \"ckd\", \"ckd\", \"ckd\", \"ckd\", \"ckd\", \"ckd\", \"ckd\", \"ckd\", \"ckd\", \"ckd\", \"ckd\", \"ckd\", \"ckd\", \"ckd\", \"ckd\", \"ckd\", \"ckd\", \"ckd\", \"ckd\", \"ckd\", \"ckd\", \"ckd\", \"ckd\", \"ckd\", \"ckd\", \"ckd\", \"ckd\", \"ckd\", \"ckd\", \"ckd\", \"ckd\", \"ckd\", \"ckd\", \"ckd\", \"ckd\", \"ckd\", \"ckd\", \"ckd\", \"ckd\", \"ckd\", \"ckd\", \"ckd\", \"ckd\", \"ckd\", \"ckd\", \"ckd\", \"ckd\", \"ckd\", \"ckd\", \"ckd\", \"ckd\", \"ckd\", \"ckd\", \"ckd\", \"ckd\", \"ckd\", \"ckd\", \"ckd\", \"ckd\", \"ckd\", \"ckd\", \"ckd\", \"ckd\", \"ckd\", \"ckd\", \"ckd\", \"ckd\", \"ckd\", \"ckd\", \"ckd\", \"ckd\", \"ckd\", \"ckd\", \"ckd\", \"ckd\", \"ckd\", \"ckd\", \"ckd\", \"ckd\", \"ckd\", \"ckd\", \"ckd\", \"ckd\", \"ckd\", \"ckd\", \"ckd\", \"ckd\", \"ckd\", \"ckd\", \"ckd\", \"ckd\", \"ckd\", \"ckd\", \"ckd\", \"ckd\", \"ckd\", \"ckd\", \"ckd\", \"ckd\", \"ckd\", \"ckd\", \"ckd\", \"ckd\", \"ckd\", \"ckd\", \"ckd\", \"ckd\", \"ckd\", \"ckd\", \"ckd\", \"ckd\", \"ckd\", \"ckd\", \"ckd\", \"ckd\", \"ckd\", \"ckd\", \"ckd\", \"ckd\", \"ckd\", \"ckd\", \"ckd\", \"ckd\", \"ckd\", \"ckd\", \"ckd\", \"ckd\", \"ckd\", \"ckd\", \"ckd\", \"ckd\", \"ckd\", \"ckd\", \"ckd\", \"ckd\", \"ckd\", \"ckd\", \"ckd\", \"ckd\", \"ckd\", \"ckd\", \"ckd\", \"ckd\", \"ckd\", \"ckd\", \"ckd\", \"ckd\", \"ckd\", \"ckd\", \"ckd\", \"ckd\", \"ckd\", \"ckd\", \"ckd\", \"ckd\", \"ckd\", \"ckd\", \"ckd\", \"ckd\", \"ckd\", \"ckd\", \"ckd\", \"ckd\", \"ckd\", \"ckd\", \"ckd\", \"ckd\", \"ckd\", \"ckd\", \"ckd\", \"ckd\", \"ckd\", \"ckd\", \"ckd\", \"ckd\", \"ckd\", \"ckd\", \"ckd\", \"ckd\", \"ckd\", \"ckd\", \"ckd\", \"ckd\", \"ckd\", \"ckd\", \"ckd\", \"ckd\", \"ckd\", \"ckd\", \"ckd\", \"ckd\", \"ckd\", \"ckd\", \"ckd\", \"ckd\", \"ckd\", \"ckd\", \"ckd\", \"ckd\", \"ckd\", \"ckd\", \"ckd\", \"ckd\", \"ckd\", \"ckd\", \"ckd\", \"ckd\", \"ckd\", \"ckd\", \"ckd\", \"ckd\", \"ckd\", \"ckd\", \"ckd\", \"ckd\", \"ckd\", \"ckd\", \"ckd\", \"ckd\", \"ckd\", \"ckd\", \"ckd\", \"ckd\", \"ckd\", \"ckd\", \"ckd\", \"ckd\", \"ckd\", \"ckd\", \"ckd\", \"ckd\", \"ckd\", \"ckd\"], \"x0\": \" \", \"xaxis\": \"x\", \"y\": [44, 38, 31, 32, 35, 39, 36, 44, 33, 29, 28, 32, 28, 38, 16, 24, 38, 38, 37, 30, 24, 32, 32, 38, 39, 29, 35, 37, 38, 38, 38, 30, 34, 29, 38, 36, 32, 28, 38, 40, 32, 38, 33, 24, 28, 38, 37, 45, 29, 29, 28, 33, 34, 40, 40, 28, 30, 38, 33, 38, 38, 38, 33, 27, 38, 48, 38, 38, 37, 52, 44, 28, 38, 14, 29, 38, 36, 34, 30, 40, 31, 29, 38, 38, 22, 38, 38, 32, 38, 38, 40, 52, 33, 30, 36, 38, 36, 32, 18, 32, 38, 33, 52, 36, 38, 42, 17, 34, 37, 38, 34, 32, 33, 38, 38, 44, 38, 37, 38, 38, 38, 46, 38, 42, 28, 38, 37, 35, 23, 38, 22, 36, 24, 37, 33, 39, 38, 29, 38, 33, 38, 19, 38, 38, 33, 24, 38, 25, 38, 32, 41, 30, 32, 22, 26, 36, 38, 39, 31, 35, 35, 42, 37, 27, 40, 38, 38, 42, 39, 27, 33, 26, 34, 41, 35, 38, 23, 41, 34, 39, 28, 30, 35, 38, 31, 34, 38, 34, 38, 29, 30, 26, 38, 15, 38, 38, 24, 38, 30, 25, 37, 21, 24, 38, 31, 43, 41, 41, 41, 38, 20, 38, 31, 34, 43, 38, 38, 36, 34, 28, 36, 38, 38, 38, 38, 35, 26, 36, 38, 31, 38, 35, 38, 38, 44, 26, 25, 40, 28, 39, 36, 31, 28, 47, 40, 19, 26, 38, 37, 9], \"y0\": \" \", \"yaxis\": \"y\"}, {\"alignmentgroup\": \"True\", \"box\": {\"visible\": true}, \"hoverlabel\": {\"namelength\": 0}, \"hovertemplate\": \"class=%{x}<br>pcv=%{y}\", \"legendgroup\": \"notckd\", \"marker\": {\"color\": \"#EF553B\"}, \"name\": \"notckd\", \"offsetgroup\": \"notckd\", \"orientation\": \"v\", \"scalegroup\": \"True\", \"showlegend\": true, \"type\": \"violin\", \"x\": [\"notckd\", \"notckd\", \"notckd\", \"notckd\", \"notckd\", \"notckd\", \"notckd\", \"notckd\", \"notckd\", \"notckd\", \"notckd\", \"notckd\", \"notckd\", \"notckd\", \"notckd\", \"notckd\", \"notckd\", \"notckd\", \"notckd\", \"notckd\", \"notckd\", \"notckd\", \"notckd\", \"notckd\", \"notckd\", \"notckd\", \"notckd\", \"notckd\", \"notckd\", \"notckd\", \"notckd\", \"notckd\", \"notckd\", \"notckd\", \"notckd\", \"notckd\", \"notckd\", \"notckd\", \"notckd\", \"notckd\", \"notckd\", \"notckd\", \"notckd\", \"notckd\", \"notckd\", \"notckd\", \"notckd\", \"notckd\", \"notckd\", \"notckd\", \"notckd\", \"notckd\", \"notckd\", \"notckd\", \"notckd\", \"notckd\", \"notckd\", \"notckd\", \"notckd\", \"notckd\", \"notckd\", \"notckd\", \"notckd\", \"notckd\", \"notckd\", \"notckd\", \"notckd\", \"notckd\", \"notckd\", \"notckd\", \"notckd\", \"notckd\", \"notckd\", \"notckd\", \"notckd\", \"notckd\", \"notckd\", \"notckd\", \"notckd\", \"notckd\", \"notckd\", \"notckd\", \"notckd\", \"notckd\", \"notckd\", \"notckd\", \"notckd\", \"notckd\", \"notckd\", \"notckd\", \"notckd\", \"notckd\", \"notckd\", \"notckd\", \"notckd\", \"notckd\", \"notckd\", \"notckd\", \"notckd\", \"notckd\", \"notckd\", \"notckd\", \"notckd\", \"notckd\", \"notckd\", \"notckd\", \"notckd\", \"notckd\", \"notckd\", \"notckd\", \"notckd\", \"notckd\", \"notckd\", \"notckd\", \"notckd\", \"notckd\", \"notckd\", \"notckd\", \"notckd\", \"notckd\", \"notckd\", \"notckd\", \"notckd\", \"notckd\", \"notckd\", \"notckd\", \"notckd\", \"notckd\", \"notckd\", \"notckd\", \"notckd\", \"notckd\", \"notckd\", \"notckd\", \"notckd\", \"notckd\", \"notckd\", \"notckd\", \"notckd\", \"notckd\", \"notckd\", \"notckd\", \"notckd\", \"notckd\", \"notckd\", \"notckd\", \"notckd\", \"notckd\", \"notckd\", \"notckd\"], \"x0\": \" \", \"xaxis\": \"x\", \"y\": [48, 52, 46, 42, 49, 52, 41, 46, 44, 45, 45, 41, 43, 45, 50, 48, 41, 48, 53, 48, 41, 42, 42, 38, 44, 43, 41, 50, 44, 48, 52, 41, 44, 43, 52, 41, 44, 43, 50, 43, 52, 41, 52, 48, 40, 50, 41, 45, 48, 52, 43, 41, 48, 50, 45, 41, 52, 44, 48, 40, 44, 45, 48, 52, 41, 48, 48, 40, 52, 38, 44, 48, 43, 45, 38, 50, 41, 44, 45, 48, 42, 46, 44, 46, 43, 48, 40, 52, 44, 48, 43, 41, 50, 50, 42, 42, 52, 43, 44, 52, 43, 40, 48, 51, 41, 52, 47, 42, 45, 53, 43, 54, 40, 44, 45, 38, 46, 50, 45, 46, 50, 51, 52, 47, 40, 48, 53, 49, 42, 50, 54, 40, 51, 49, 42, 52, 43, 50, 46, 52, 52, 44, 46, 54, 45, 47, 54, 49, 51, 53], \"y0\": \" \", \"yaxis\": \"y\"}],\n",
       "                        {\"legend\": {\"title\": {\"text\": \"class\"}, \"tracegroupgap\": 0}, \"margin\": {\"t\": 60}, \"template\": {\"data\": {\"bar\": [{\"error_x\": {\"color\": \"#2a3f5f\"}, \"error_y\": {\"color\": \"#2a3f5f\"}, \"marker\": {\"line\": {\"color\": \"#E5ECF6\", \"width\": 0.5}}, \"type\": \"bar\"}], \"barpolar\": [{\"marker\": {\"line\": {\"color\": \"#E5ECF6\", \"width\": 0.5}}, \"type\": \"barpolar\"}], \"carpet\": [{\"aaxis\": {\"endlinecolor\": \"#2a3f5f\", \"gridcolor\": \"white\", \"linecolor\": \"white\", \"minorgridcolor\": \"white\", \"startlinecolor\": \"#2a3f5f\"}, \"baxis\": {\"endlinecolor\": \"#2a3f5f\", \"gridcolor\": \"white\", \"linecolor\": \"white\", \"minorgridcolor\": \"white\", \"startlinecolor\": \"#2a3f5f\"}, \"type\": \"carpet\"}], \"choropleth\": [{\"colorbar\": {\"outlinewidth\": 0, \"ticks\": \"\"}, \"type\": \"choropleth\"}], \"contour\": [{\"colorbar\": {\"outlinewidth\": 0, \"ticks\": \"\"}, \"colorscale\": [[0.0, \"#0d0887\"], [0.1111111111111111, \"#46039f\"], [0.2222222222222222, \"#7201a8\"], [0.3333333333333333, \"#9c179e\"], [0.4444444444444444, \"#bd3786\"], [0.5555555555555556, \"#d8576b\"], [0.6666666666666666, \"#ed7953\"], [0.7777777777777778, \"#fb9f3a\"], [0.8888888888888888, \"#fdca26\"], [1.0, \"#f0f921\"]], \"type\": \"contour\"}], \"contourcarpet\": [{\"colorbar\": {\"outlinewidth\": 0, \"ticks\": \"\"}, \"type\": \"contourcarpet\"}], \"heatmap\": [{\"colorbar\": {\"outlinewidth\": 0, \"ticks\": \"\"}, \"colorscale\": [[0.0, \"#0d0887\"], [0.1111111111111111, \"#46039f\"], [0.2222222222222222, \"#7201a8\"], [0.3333333333333333, \"#9c179e\"], [0.4444444444444444, \"#bd3786\"], [0.5555555555555556, \"#d8576b\"], [0.6666666666666666, \"#ed7953\"], [0.7777777777777778, \"#fb9f3a\"], [0.8888888888888888, \"#fdca26\"], [1.0, \"#f0f921\"]], \"type\": \"heatmap\"}], \"heatmapgl\": [{\"colorbar\": {\"outlinewidth\": 0, \"ticks\": \"\"}, \"colorscale\": [[0.0, \"#0d0887\"], [0.1111111111111111, \"#46039f\"], [0.2222222222222222, \"#7201a8\"], [0.3333333333333333, \"#9c179e\"], [0.4444444444444444, \"#bd3786\"], [0.5555555555555556, \"#d8576b\"], [0.6666666666666666, \"#ed7953\"], [0.7777777777777778, \"#fb9f3a\"], [0.8888888888888888, \"#fdca26\"], [1.0, \"#f0f921\"]], \"type\": \"heatmapgl\"}], \"histogram\": [{\"marker\": {\"colorbar\": {\"outlinewidth\": 0, \"ticks\": \"\"}}, \"type\": \"histogram\"}], \"histogram2d\": [{\"colorbar\": {\"outlinewidth\": 0, \"ticks\": \"\"}, \"colorscale\": [[0.0, \"#0d0887\"], [0.1111111111111111, \"#46039f\"], [0.2222222222222222, \"#7201a8\"], [0.3333333333333333, \"#9c179e\"], [0.4444444444444444, \"#bd3786\"], [0.5555555555555556, \"#d8576b\"], [0.6666666666666666, \"#ed7953\"], [0.7777777777777778, \"#fb9f3a\"], [0.8888888888888888, \"#fdca26\"], [1.0, \"#f0f921\"]], \"type\": \"histogram2d\"}], \"histogram2dcontour\": [{\"colorbar\": {\"outlinewidth\": 0, \"ticks\": \"\"}, \"colorscale\": [[0.0, \"#0d0887\"], [0.1111111111111111, \"#46039f\"], [0.2222222222222222, \"#7201a8\"], [0.3333333333333333, \"#9c179e\"], [0.4444444444444444, \"#bd3786\"], [0.5555555555555556, \"#d8576b\"], [0.6666666666666666, \"#ed7953\"], [0.7777777777777778, \"#fb9f3a\"], [0.8888888888888888, \"#fdca26\"], [1.0, \"#f0f921\"]], \"type\": \"histogram2dcontour\"}], \"mesh3d\": [{\"colorbar\": {\"outlinewidth\": 0, \"ticks\": \"\"}, \"type\": \"mesh3d\"}], \"parcoords\": [{\"line\": {\"colorbar\": {\"outlinewidth\": 0, \"ticks\": \"\"}}, \"type\": \"parcoords\"}], \"pie\": [{\"automargin\": true, \"type\": \"pie\"}], \"scatter\": [{\"marker\": {\"colorbar\": {\"outlinewidth\": 0, \"ticks\": \"\"}}, \"type\": \"scatter\"}], \"scatter3d\": [{\"line\": {\"colorbar\": {\"outlinewidth\": 0, \"ticks\": \"\"}}, \"marker\": {\"colorbar\": {\"outlinewidth\": 0, \"ticks\": \"\"}}, \"type\": \"scatter3d\"}], \"scattercarpet\": [{\"marker\": {\"colorbar\": {\"outlinewidth\": 0, \"ticks\": \"\"}}, \"type\": \"scattercarpet\"}], \"scattergeo\": [{\"marker\": {\"colorbar\": {\"outlinewidth\": 0, \"ticks\": \"\"}}, \"type\": \"scattergeo\"}], \"scattergl\": [{\"marker\": {\"colorbar\": {\"outlinewidth\": 0, \"ticks\": \"\"}}, \"type\": \"scattergl\"}], \"scattermapbox\": [{\"marker\": {\"colorbar\": {\"outlinewidth\": 0, \"ticks\": \"\"}}, \"type\": \"scattermapbox\"}], \"scatterpolar\": [{\"marker\": {\"colorbar\": {\"outlinewidth\": 0, \"ticks\": \"\"}}, \"type\": \"scatterpolar\"}], \"scatterpolargl\": [{\"marker\": {\"colorbar\": {\"outlinewidth\": 0, \"ticks\": \"\"}}, \"type\": \"scatterpolargl\"}], \"scatterternary\": [{\"marker\": {\"colorbar\": {\"outlinewidth\": 0, \"ticks\": \"\"}}, \"type\": \"scatterternary\"}], \"surface\": [{\"colorbar\": {\"outlinewidth\": 0, \"ticks\": \"\"}, \"colorscale\": [[0.0, \"#0d0887\"], [0.1111111111111111, \"#46039f\"], [0.2222222222222222, \"#7201a8\"], [0.3333333333333333, \"#9c179e\"], [0.4444444444444444, \"#bd3786\"], [0.5555555555555556, \"#d8576b\"], [0.6666666666666666, \"#ed7953\"], [0.7777777777777778, \"#fb9f3a\"], [0.8888888888888888, \"#fdca26\"], [1.0, \"#f0f921\"]], \"type\": \"surface\"}], \"table\": [{\"cells\": {\"fill\": {\"color\": \"#EBF0F8\"}, \"line\": {\"color\": \"white\"}}, \"header\": {\"fill\": {\"color\": \"#C8D4E3\"}, \"line\": {\"color\": \"white\"}}, \"type\": \"table\"}]}, \"layout\": {\"annotationdefaults\": {\"arrowcolor\": \"#2a3f5f\", \"arrowhead\": 0, \"arrowwidth\": 1}, \"coloraxis\": {\"colorbar\": {\"outlinewidth\": 0, \"ticks\": \"\"}}, \"colorscale\": {\"diverging\": [[0, \"#8e0152\"], [0.1, \"#c51b7d\"], [0.2, \"#de77ae\"], [0.3, \"#f1b6da\"], [0.4, \"#fde0ef\"], [0.5, \"#f7f7f7\"], [0.6, \"#e6f5d0\"], [0.7, \"#b8e186\"], [0.8, \"#7fbc41\"], [0.9, \"#4d9221\"], [1, \"#276419\"]], \"sequential\": [[0.0, \"#0d0887\"], [0.1111111111111111, \"#46039f\"], [0.2222222222222222, \"#7201a8\"], [0.3333333333333333, \"#9c179e\"], [0.4444444444444444, \"#bd3786\"], [0.5555555555555556, \"#d8576b\"], [0.6666666666666666, \"#ed7953\"], [0.7777777777777778, \"#fb9f3a\"], [0.8888888888888888, \"#fdca26\"], [1.0, \"#f0f921\"]], \"sequentialminus\": [[0.0, \"#0d0887\"], [0.1111111111111111, \"#46039f\"], [0.2222222222222222, \"#7201a8\"], [0.3333333333333333, \"#9c179e\"], [0.4444444444444444, \"#bd3786\"], [0.5555555555555556, \"#d8576b\"], [0.6666666666666666, \"#ed7953\"], [0.7777777777777778, \"#fb9f3a\"], [0.8888888888888888, \"#fdca26\"], [1.0, \"#f0f921\"]]}, \"colorway\": [\"#636efa\", \"#EF553B\", \"#00cc96\", \"#ab63fa\", \"#FFA15A\", \"#19d3f3\", \"#FF6692\", \"#B6E880\", \"#FF97FF\", \"#FECB52\"], \"font\": {\"color\": \"#2a3f5f\"}, \"geo\": {\"bgcolor\": \"white\", \"lakecolor\": \"white\", \"landcolor\": \"#E5ECF6\", \"showlakes\": true, \"showland\": true, \"subunitcolor\": \"white\"}, \"hoverlabel\": {\"align\": \"left\"}, \"hovermode\": \"closest\", \"mapbox\": {\"style\": \"light\"}, \"paper_bgcolor\": \"white\", \"plot_bgcolor\": \"#E5ECF6\", \"polar\": {\"angularaxis\": {\"gridcolor\": \"white\", \"linecolor\": \"white\", \"ticks\": \"\"}, \"bgcolor\": \"#E5ECF6\", \"radialaxis\": {\"gridcolor\": \"white\", \"linecolor\": \"white\", \"ticks\": \"\"}}, \"scene\": {\"xaxis\": {\"backgroundcolor\": \"#E5ECF6\", \"gridcolor\": \"white\", \"gridwidth\": 2, \"linecolor\": \"white\", \"showbackground\": true, \"ticks\": \"\", \"zerolinecolor\": \"white\"}, \"yaxis\": {\"backgroundcolor\": \"#E5ECF6\", \"gridcolor\": \"white\", \"gridwidth\": 2, \"linecolor\": \"white\", \"showbackground\": true, \"ticks\": \"\", \"zerolinecolor\": \"white\"}, \"zaxis\": {\"backgroundcolor\": \"#E5ECF6\", \"gridcolor\": \"white\", \"gridwidth\": 2, \"linecolor\": \"white\", \"showbackground\": true, \"ticks\": \"\", \"zerolinecolor\": \"white\"}}, \"shapedefaults\": {\"line\": {\"color\": \"#2a3f5f\"}}, \"ternary\": {\"aaxis\": {\"gridcolor\": \"white\", \"linecolor\": \"white\", \"ticks\": \"\"}, \"baxis\": {\"gridcolor\": \"white\", \"linecolor\": \"white\", \"ticks\": \"\"}, \"bgcolor\": \"#E5ECF6\", \"caxis\": {\"gridcolor\": \"white\", \"linecolor\": \"white\", \"ticks\": \"\"}}, \"title\": {\"x\": 0.05}, \"xaxis\": {\"automargin\": true, \"gridcolor\": \"white\", \"linecolor\": \"white\", \"ticks\": \"\", \"title\": {\"standoff\": 15}, \"zerolinecolor\": \"white\", \"zerolinewidth\": 2}, \"yaxis\": {\"automargin\": true, \"gridcolor\": \"white\", \"linecolor\": \"white\", \"ticks\": \"\", \"title\": {\"standoff\": 15}, \"zerolinecolor\": \"white\", \"zerolinewidth\": 2}}}, \"violinmode\": \"group\", \"xaxis\": {\"anchor\": \"y\", \"categoryarray\": [\"ckd\", \"notckd\"], \"categoryorder\": \"array\", \"domain\": [0.0, 1.0], \"title\": {\"text\": \"class\"}}, \"yaxis\": {\"anchor\": \"x\", \"domain\": [0.0, 1.0], \"title\": {\"text\": \"pcv\"}}},\n",
       "                        {\"responsive\": true}\n",
       "                    ).then(function(){\n",
       "                            \n",
       "var gd = document.getElementById('537e9d6c-a15f-4812-a8bf-a8d6634d8a87');\n",
       "var x = new MutationObserver(function (mutations, observer) {{\n",
       "        var display = window.getComputedStyle(gd).display;\n",
       "        if (!display || display === 'none') {{\n",
       "            console.log([gd, 'removed!']);\n",
       "            Plotly.purge(gd);\n",
       "            observer.disconnect();\n",
       "        }}\n",
       "}});\n",
       "\n",
       "// Listen for the removal of the full notebook cells\n",
       "var notebookContainer = gd.closest('#notebook-container');\n",
       "if (notebookContainer) {{\n",
       "    x.observe(notebookContainer, {childList: true});\n",
       "}}\n",
       "\n",
       "// Listen for the clearing of the current output cell\n",
       "var outputEl = gd.closest('.output');\n",
       "if (outputEl) {{\n",
       "    x.observe(outputEl, {childList: true});\n",
       "}}\n",
       "\n",
       "                        })\n",
       "                };\n",
       "                });\n",
       "            </script>\n",
       "        </div>"
      ]
     },
     "metadata": {},
     "output_type": "display_data"
    }
   ],
   "source": [
    "fig = px.violin(ckd_copy, y='pcv', x=\"class\", color=\"class\", box=True, template = None)\n",
    "fig.show()"
   ]
  },
  {
   "cell_type": "markdown",
   "metadata": {},
   "source": [
    "# Working on htn - Hypertension column"
   ]
  },
  {
   "cell_type": "code",
   "execution_count": 970,
   "metadata": {},
   "outputs": [
    {
     "data": {
      "text/plain": [
       "no     251\n",
       "yes    147\n",
       "?        2\n",
       "Name: htn, dtype: int64"
      ]
     },
     "execution_count": 970,
     "metadata": {},
     "output_type": "execute_result"
    }
   ],
   "source": [
    "ckd_copy['htn'].value_counts()"
   ]
  },
  {
   "cell_type": "code",
   "execution_count": 971,
   "metadata": {},
   "outputs": [],
   "source": [
    "ckd_copy['htn']=np.where(((ckd_copy['htn']=='?')&(ckd_copy['bp'].astype(float)<90)),'no',ckd_copy['htn'])"
   ]
  },
  {
   "cell_type": "code",
   "execution_count": 972,
   "metadata": {},
   "outputs": [
    {
     "data": {
      "text/plain": [
       "no     253\n",
       "yes    147\n",
       "Name: htn, dtype: int64"
      ]
     },
     "execution_count": 972,
     "metadata": {},
     "output_type": "execute_result"
    }
   ],
   "source": [
    "ckd_copy['htn'].value_counts()"
   ]
  },
  {
   "cell_type": "markdown",
   "metadata": {},
   "source": [
    "# Working on Diabetes mellitus column"
   ]
  },
  {
   "cell_type": "code",
   "execution_count": 1042,
   "metadata": {},
   "outputs": [
    {
     "data": {
      "text/plain": [
       "no     263\n",
       "yes    137\n",
       "Name: dm, dtype: int64"
      ]
     },
     "execution_count": 1042,
     "metadata": {},
     "output_type": "execute_result"
    }
   ],
   "source": [
    "ckd_copy['dm'].value_counts()"
   ]
  },
  {
   "cell_type": "code",
   "execution_count": 1043,
   "metadata": {},
   "outputs": [],
   "source": [
    "ckd_copy['dm']=ckd_copy['dm'].str.replace('\\t','')\n",
    "ckd_copy['dm']=ckd_copy['dm'].str.replace(' ','')"
   ]
  },
  {
   "cell_type": "code",
   "execution_count": 1044,
   "metadata": {},
   "outputs": [
    {
     "data": {
      "text/plain": [
       "no     263\n",
       "yes    137\n",
       "Name: dm, dtype: int64"
      ]
     },
     "execution_count": 1044,
     "metadata": {},
     "output_type": "execute_result"
    }
   ],
   "source": [
    "ckd_copy['dm'].value_counts()"
   ]
  },
  {
   "cell_type": "code",
   "execution_count": 1047,
   "metadata": {},
   "outputs": [],
   "source": [
    "#IF bgr > 130 then dm = yes else no only for ? entries\n",
    "ckd_copy['dm']=np.where(((ckd_copy['dm']=='?')&(ckd_copy['bgr'].astype(float)<130)),'no',ckd_copy['dm'])"
   ]
  },
  {
   "cell_type": "code",
   "execution_count": 1049,
   "metadata": {},
   "outputs": [
    {
     "data": {
      "text/plain": [
       "<matplotlib.axes._subplots.AxesSubplot at 0x1f5b2325b00>"
      ]
     },
     "execution_count": 1049,
     "metadata": {},
     "output_type": "execute_result"
    },
    {
     "data": {
      "image/png": "[encoded data removed]",
      "text/plain": [
       "<Figure size 432x288 with 1 Axes>"
      ]
     },
     "metadata": {
      "needs_background": "light"
     },
     "output_type": "display_data"
    }
   ],
   "source": [
    "dm_class_grp=ckd_copy.groupby(['dm','class'])['SNo'].count().reset_index().rename({\"SNo\":\"Count\"},axis=1)\n",
    "\n",
    "sns.barplot(data=dm_class_grp, x='dm', y=\"Count\", hue='class')"
   ]
  },
  {
   "cell_type": "markdown",
   "metadata": {},
   "source": [
    "# Working on Coronary Artery Disease column \n"
   ]
  },
  {
   "cell_type": "code",
   "execution_count": 979,
   "metadata": {},
   "outputs": [
    {
     "data": {
      "text/plain": [
       "no      362\n",
       "yes      34\n",
       "?         2\n",
       "\\tno      2\n",
       "Name: cad, dtype: int64"
      ]
     },
     "execution_count": 979,
     "metadata": {},
     "output_type": "execute_result"
    }
   ],
   "source": [
    "ckd_copy['cad'].value_counts()"
   ]
  },
  {
   "cell_type": "code",
   "execution_count": 980,
   "metadata": {},
   "outputs": [],
   "source": [
    "ckd_copy['cad']=ckd_copy['cad'].str.replace('\\t','')\n",
    "ckd_copy['cad']=ckd_copy['cad'].str.replace(' ','')"
   ]
  },
  {
   "cell_type": "code",
   "execution_count": 981,
   "metadata": {},
   "outputs": [
    {
     "data": {
      "text/plain": [
       "no     364\n",
       "yes     34\n",
       "?        2\n",
       "Name: cad, dtype: int64"
      ]
     },
     "execution_count": 981,
     "metadata": {},
     "output_type": "execute_result"
    }
   ],
   "source": [
    "ckd_copy['cad'].value_counts()"
   ]
  },
  {
   "cell_type": "code",
   "execution_count": 982,
   "metadata": {},
   "outputs": [],
   "source": [
    "#Replace '?' with the mode values as we have no previous reference columns\n",
    "mode_value = ckd_copy['cad'].mode()[0]\n",
    "ckd_copy['cad'].replace('?',mode_value, inplace=True)"
   ]
  },
  {
   "cell_type": "code",
   "execution_count": 983,
   "metadata": {},
   "outputs": [
    {
     "data": {
      "text/plain": [
       "no     366\n",
       "yes     34\n",
       "Name: cad, dtype: int64"
      ]
     },
     "execution_count": 983,
     "metadata": {},
     "output_type": "execute_result"
    }
   ],
   "source": [
    "ckd_copy['cad'].value_counts()"
   ]
  },
  {
   "cell_type": "code",
   "execution_count": 984,
   "metadata": {},
   "outputs": [
    {
     "data": {
      "text/plain": [
       "<matplotlib.axes._subplots.AxesSubplot at 0x1f5b0876eb8>"
      ]
     },
     "execution_count": 984,
     "metadata": {},
     "output_type": "execute_result"
    },
    {
     "data": {
      "image/png": "[encoded data removed]",
      "text/plain": [
       "<Figure size 432x288 with 1 Axes>"
      ]
     },
     "metadata": {
      "needs_background": "light"
     },
     "output_type": "display_data"
    }
   ],
   "source": [
    "cad_class_grp=ckd_copy.groupby(['cad','class'])['SNo'].count().reset_index().rename({\"SNo\":\"Count\"},axis=1)\n",
    "\n",
    "sns.barplot(data=cad_class_grp, x='cad', y=\"Count\", hue='class')"
   ]
  },
  {
   "cell_type": "markdown",
   "metadata": {},
   "source": [
    "# Working on Apetite and Pedal Edema column"
   ]
  },
  {
   "cell_type": "code",
   "execution_count": 985,
   "metadata": {},
   "outputs": [
    {
     "data": {
      "text/plain": [
       "good    317\n",
       "poor     82\n",
       "?         1\n",
       "Name: appet, dtype: int64"
      ]
     },
     "execution_count": 985,
     "metadata": {},
     "output_type": "execute_result"
    }
   ],
   "source": [
    "ckd_copy['appet'].value_counts()"
   ]
  },
  {
   "cell_type": "code",
   "execution_count": 986,
   "metadata": {},
   "outputs": [
    {
     "data": {
      "text/plain": [
       "no     323\n",
       "yes     76\n",
       "?        1\n",
       "Name: pe, dtype: int64"
      ]
     },
     "execution_count": 986,
     "metadata": {},
     "output_type": "execute_result"
    }
   ],
   "source": [
    "ckd_copy['pe'].value_counts()"
   ]
  },
  {
   "cell_type": "code",
   "execution_count": 987,
   "metadata": {},
   "outputs": [],
   "source": [
    "#As we have very few null values, replace it with mode\n",
    "mode_value = ckd_copy['appet'].mode()[0]\n",
    "ckd_copy['appet'].replace('?',mode_value, inplace=True)\n",
    "mode_value = ckd_copy['pe'].mode()[0]\n",
    "ckd_copy['pe'].replace('?',mode_value, inplace=True)"
   ]
  },
  {
   "cell_type": "code",
   "execution_count": 988,
   "metadata": {},
   "outputs": [
    {
     "data": {
      "text/plain": [
       "<matplotlib.axes._subplots.AxesSubplot at 0x1f5b1601358>"
      ]
     },
     "execution_count": 988,
     "metadata": {},
     "output_type": "execute_result"
    },
    {
     "data": {
      "image/png": "[encoded data removed]",
      "text/plain": [
       "<Figure size 432x288 with 1 Axes>"
      ]
     },
     "metadata": {
      "needs_background": "light"
     },
     "output_type": "display_data"
    }
   ],
   "source": [
    "appetite_class_grp=ckd_copy.groupby(['appet','class'])['SNo'].count().reset_index().rename({\"SNo\":\"Count\"},axis=1)\n",
    "\n",
    "sns.barplot(data=appetite_class_grp, x='appet', y=\"Count\", hue='class')"
   ]
  },
  {
   "cell_type": "code",
   "execution_count": 989,
   "metadata": {},
   "outputs": [
    {
     "data": {
      "text/plain": [
       "<matplotlib.axes._subplots.AxesSubplot at 0x1f5b1678240>"
      ]
     },
     "execution_count": 989,
     "metadata": {},
     "output_type": "execute_result"
    },
    {
     "data": {
      "image/png": "[encoded data removed]",
      "text/plain": [
       "<Figure size 432x288 with 1 Axes>"
      ]
     },
     "metadata": {
      "needs_background": "light"
     },
     "output_type": "display_data"
    }
   ],
   "source": [
    "pe_class_grp=ckd_copy.groupby(['pe','class'])['SNo'].count().reset_index().rename({\"SNo\":\"Count\"},axis=1)\n",
    "\n",
    "sns.barplot(data=pe_class_grp, x='pe', y=\"Count\", hue='class')"
   ]
  },
  {
   "cell_type": "code",
   "execution_count": 991,
   "metadata": {},
   "outputs": [
    {
     "name": "stdout",
     "output_type": "stream",
     "text": [
      "Number of null values for age is 0\n",
      "Number of null values for bp is 0\n",
      "Number of null values for sg is 0\n",
      "Number of null values for al is 0\n",
      "Number of null values for su is 0\n",
      "Number of null values for rbc is 0\n",
      "Number of null values for pc is 0\n",
      "Number of null values for pcc is 0\n",
      "Number of null values for ba is 0\n",
      "Number of null values for bgr is 0\n",
      "Number of null values for bu is 0\n",
      "Number of null values for sc is 0\n",
      "Number of null values for sod is 0\n",
      "Number of null values for pot is 0\n",
      "Number of null values for hemo is 0\n",
      "Number of null values for pcv is 0\n",
      "Number of null values for wbcc is 0\n",
      "Number of null values for rbcc is 0\n",
      "Number of null values for htn is 0\n",
      "Number of null values for dm is 0\n",
      "Number of null values for cad is 0\n",
      "Number of null values for appet is 0\n",
      "Number of null values for pe is 0\n",
      "Number of null values for ane is 0\n",
      "Number of null values for class is 0\n",
      "Number of null values for SNo is 0\n",
      "Number of null values for age_group is 0\n",
      "Number of null values for sg_group is 0\n",
      "Number of null values for bp_group is 0\n",
      "Number of null values for rbc_class is 0\n",
      "Number of null values for wbc_class is 0\n",
      "Number of null values for sod_new is 0\n"
     ]
    },
    {
     "name": "stderr",
     "output_type": "stream",
     "text": [
      "C:\\Users\\reenanagrale\\Anaconda\\lib\\site-packages\\pandas\\core\\ops\\array_ops.py:253: FutureWarning:\n",
      "\n",
      "elementwise comparison failed; returning scalar instead, but in the future will perform elementwise comparison\n",
      "\n"
     ]
    }
   ],
   "source": [
    "for col in ckd_copy.columns:\n",
    "    nacount = len(ckd_copy[ckd_copy[col]=='?'])\n",
    "    print(\"Number of null values for {} is {}\".format(col,nacount))"
   ]
  },
  {
   "cell_type": "markdown",
   "metadata": {},
   "source": [
    "We have handled missing values and performed data cleaning for each column. \n",
    "    Lets find the correlation matrix for each features with target"
   ]
  },
  {
   "cell_type": "code",
   "execution_count": 783,
   "metadata": {},
   "outputs": [
    {
     "data": {
      "text/plain": [
       "Index(['age', 'bp', 'sg', 'al', 'su', 'rbc', 'pc', 'pcc', 'ba', 'bgr', 'bu',\n",
       "       'sc', 'sod', 'pot', 'hemo', 'pcv', 'wbcc', 'rbcc', 'htn', 'dm', 'cad',\n",
       "       'appet', 'pe', 'ane', 'class', 'age_group', 'sg_group', 'bp_group',\n",
       "       'SNo', 'rbc_class', 'wbc_class', 'sod_new'],\n",
       "      dtype='object')"
      ]
     },
     "execution_count": 783,
     "metadata": {},
     "output_type": "execute_result"
    }
   ],
   "source": [
    "ckd_copy.columns"
   ]
  },
  {
   "cell_type": "code",
   "execution_count": 1029,
   "metadata": {},
   "outputs": [],
   "source": [
    "ckd_copy.drop(columns=['SNo'], inplace=True)"
   ]
  },
  {
   "cell_type": "code",
   "execution_count": 1051,
   "metadata": {},
   "outputs": [],
   "source": [
    "''' Our target is nominal data type and few features are \n",
    "continuous and some are nominal so we divide our correlation analysis accordingly.'''\n",
    "\n",
    "numerical_cols = ['age','bp','bu','sc','sod','pot','hemo','wbcc','rbcc','bgr','pcv']\n",
    "categorical_cols = ['sg','al','su','rbc','pc','pcc','ba','htn','cad','appet','pe','ane']\n",
    "target_col = ['class'] "
   ]
  },
  {
   "cell_type": "markdown",
   "metadata": {},
   "source": [
    "# checking numerical features distribution"
   ]
  },
  {
   "cell_type": "code",
   "execution_count": 1052,
   "metadata": {},
   "outputs": [
    {
     "data": {
      "image/png": "[encoded data removed]",
      "text/plain": [
       "<Figure size 1440x1080 with 11 Axes>"
      ]
     },
     "metadata": {
      "needs_background": "light"
     },
     "output_type": "display_data"
    }
   ],
   "source": [
    "# checking numerical features distribution\n",
    "\n",
    "plt.figure(figsize = (20, 15))\n",
    "plotnumber = 1\n",
    "\n",
    "for column in numerical_cols:\n",
    "    if plotnumber <= 14:\n",
    "        ax = plt.subplot(3, 5, plotnumber)\n",
    "        sns.distplot(ckd_copy[column])\n",
    "        plt.xlabel(column)\n",
    "        \n",
    "    plotnumber += 1"
   ]
  },
  {
   "cell_type": "markdown",
   "metadata": {},
   "source": [
    "Understanding the relationship between between features with correlation mapping"
   ]
  },
  {
   "cell_type": "code",
   "execution_count": 1087,
   "metadata": {},
   "outputs": [
    {
     "data": {
      "image/png": "[encoded data removed]",
      "text/plain": [
       "<Figure size 864x720 with 2 Axes>"
      ]
     },
     "metadata": {
      "needs_background": "light"
     },
     "output_type": "display_data"
    }
   ],
   "source": [
    "#Correlation for numerical columns.\n",
    "corr = ckd_copy.corr()\n",
    "plt.figure(figsize=(12,10))\n",
    "ax = sns.heatmap(\n",
    "    corr, \n",
    "    vmin=-1, vmax=1, center=0,\n",
    "    cmap=sns.diverging_palette(22, 220, n=200),\n",
    "    square=True\n",
    ")\n",
    "ax.set_xticklabels(\n",
    "    ax.get_xticklabels(),\n",
    "    rotation=45,\n",
    "    horizontalalignment='right'\n",
    ");"
   ]
  },
  {
   "cell_type": "code",
   "execution_count": 999,
   "metadata": {},
   "outputs": [],
   "source": [
    "from sklearn.preprocessing import LabelEncoder\n",
    "le = LabelEncoder()\n",
    "ckd_copy['class_label'] = le.fit_transform(ckd_copy['class'])"
   ]
  },
  {
   "cell_type": "markdown",
   "metadata": {},
   "source": [
    "#We perform Point-Biserial correlation analysis for categorical columns\n"
   ]
  },
  {
   "cell_type": "code",
   "execution_count": 1080,
   "metadata": {
    "scrolled": true
   },
   "outputs": [
    {
     "name": "stdout",
     "output_type": "stream",
     "text": [
      "\n",
      " Column sg is Negatively Highly Correlation with target class.\n",
      "Correlation Coefficient: 0.6595042035486107\n",
      "\n",
      " Column al is Negatively Moderate Correlation with target class.\n",
      "Correlation Coefficient: -0.5315619808967564\n",
      "\n",
      " Column su is Negatively Low Correlation with target class.\n",
      "Correlation Coefficient: -0.2945554276779039\n",
      "\n",
      " Column rbc is Negatively Highly Correlation with target class.\n",
      "Correlation Coefficient: 0.6299775673681902\n",
      "\n",
      " Column pc is Negatively Highly Correlation with target class.\n",
      "Correlation Coefficient: 0.4035745635462236\n",
      "\n",
      " Column pcc is Negatively Neglible Correlation with target class.\n",
      "Correlation Coefficient: -0.2653131384845349\n",
      "\n",
      " Column ba is Negatively Neglible Correlation with target class.\n",
      "Correlation Coefficient: -0.18687063686046268\n",
      "\n",
      " Column htn is Negatively Moderate Correlation with target class.\n",
      "Correlation Coefficient: -0.59043763497131\n",
      "\n",
      " Column cad is Negatively Neglible Correlation with target class.\n",
      "Correlation Coefficient: -0.23608834134288115\n",
      "\n",
      " Column appet is Negatively Low Correlation with target class.\n",
      "Correlation Coefficient: -0.3933407951536116\n",
      "\n",
      " Column pe is Negatively Low Correlation with target class.\n",
      "Correlation Coefficient: -0.37515428924742505\n",
      "\n",
      " Column ane is Negatively Low Correlation with target class.\n",
      "Correlation Coefficient: -0.3253956867279843\n"
     ]
    }
   ],
   "source": [
    "for col in categorical_cols:\n",
    "    le = LabelEncoder()\n",
    "    ckd_copy[col] = le.fit_transform(ckd_copy[col])\n",
    "    pbc = pointbiserialr(ckd_copy[col],ckd_copy['class_label'])\n",
    "    \n",
    "    if  -0.29<=pbc[0]<=0.0:\n",
    "        relationship = \"Negatively Neglible Correlation\"\n",
    "    elif -0.49<=pbc[0]<=0.30:\n",
    "        relationship = \"Negatively Low Correlation\"\n",
    "    elif -0.69<=pbc[0]<=-0.50:\n",
    "        relationship = \"Negatively Moderate Correlation\"\n",
    "    elif -0.90<=pbc[0]<=-0.70:\n",
    "        relationship = \"Negatively High Correlation\"\n",
    "    elif -1.00<=pbc[0]<=0.90:\n",
    "        relationship = \"Negatively Highly Correlation\"\n",
    "    \n",
    "    elif 0.30<=pbc[0]<= 0.49:\n",
    "        relationship = \"Positively Low Correlation\"\n",
    "    elif 0.50<=pbc[0]<=.69:\n",
    "        relationship = \"Positively Moderate Correlation\"\n",
    "    elif 0.70<=pbc[0]<=.90:\n",
    "        relationship = \"Positively High Correlation\"\n",
    "    elif 0.90<=pbc[0]<=1.00:\n",
    "        relationship = \"Positively Highly Correlation\"\n",
    "    \n",
    "    print(\"\\n Column \"+col+\" is \"+relationship+\" with target class.\")\n",
    "    print(\"Correlation Coefficient: {}\".format(pbc[0]))\n",
    "    \n",
    "            "
   ]
  },
  {
   "cell_type": "code",
   "execution_count": 1088,
   "metadata": {},
   "outputs": [
    {
     "data": {
      "text/html": [
       "<div>\n",
       "<style scoped>\n",
       "    .dataframe tbody tr th:only-of-type {\n",
       "        vertical-align: middle;\n",
       "    }\n",
       "\n",
       "    .dataframe tbody tr th {\n",
       "        vertical-align: top;\n",
       "    }\n",
       "\n",
       "    .dataframe thead th {\n",
       "        text-align: right;\n",
       "    }\n",
       "</style>\n",
       "<table border=\"1\" class=\"dataframe\">\n",
       "  <thead>\n",
       "    <tr style=\"text-align: right;\">\n",
       "      <th></th>\n",
       "      <th>age</th>\n",
       "      <th>bp</th>\n",
       "      <th>sg</th>\n",
       "      <th>al</th>\n",
       "      <th>su</th>\n",
       "      <th>rbc</th>\n",
       "      <th>pc</th>\n",
       "      <th>pcc</th>\n",
       "      <th>ba</th>\n",
       "      <th>bgr</th>\n",
       "      <th>...</th>\n",
       "      <th>pe</th>\n",
       "      <th>ane</th>\n",
       "      <th>class</th>\n",
       "      <th>age_group</th>\n",
       "      <th>sg_group</th>\n",
       "      <th>bp_group</th>\n",
       "      <th>rbc_class</th>\n",
       "      <th>wbc_class</th>\n",
       "      <th>sod_new</th>\n",
       "      <th>class_label</th>\n",
       "    </tr>\n",
       "  </thead>\n",
       "  <tbody>\n",
       "    <tr>\n",
       "      <th>0</th>\n",
       "      <td>48</td>\n",
       "      <td>80</td>\n",
       "      <td>3</td>\n",
       "      <td>1</td>\n",
       "      <td>0</td>\n",
       "      <td>0</td>\n",
       "      <td>2</td>\n",
       "      <td>0</td>\n",
       "      <td>0</td>\n",
       "      <td>121</td>\n",
       "      <td>...</td>\n",
       "      <td>0</td>\n",
       "      <td>0</td>\n",
       "      <td>ckd</td>\n",
       "      <td>Middle_age</td>\n",
       "      <td>Minimal_dehydrated</td>\n",
       "      <td>HBP_1</td>\n",
       "      <td>normal</td>\n",
       "      <td>normal</td>\n",
       "      <td>137.528754</td>\n",
       "      <td>0</td>\n",
       "    </tr>\n",
       "    <tr>\n",
       "      <th>1</th>\n",
       "      <td>7</td>\n",
       "      <td>50</td>\n",
       "      <td>3</td>\n",
       "      <td>4</td>\n",
       "      <td>0</td>\n",
       "      <td>0</td>\n",
       "      <td>2</td>\n",
       "      <td>0</td>\n",
       "      <td>0</td>\n",
       "      <td>148</td>\n",
       "      <td>...</td>\n",
       "      <td>0</td>\n",
       "      <td>0</td>\n",
       "      <td>ckd</td>\n",
       "      <td>Children</td>\n",
       "      <td>Minimal_dehydrated</td>\n",
       "      <td>Normal</td>\n",
       "      <td>normal</td>\n",
       "      <td>normal</td>\n",
       "      <td>137.528754</td>\n",
       "      <td>0</td>\n",
       "    </tr>\n",
       "    <tr>\n",
       "      <th>2</th>\n",
       "      <td>62</td>\n",
       "      <td>80</td>\n",
       "      <td>1</td>\n",
       "      <td>2</td>\n",
       "      <td>3</td>\n",
       "      <td>2</td>\n",
       "      <td>2</td>\n",
       "      <td>0</td>\n",
       "      <td>0</td>\n",
       "      <td>423</td>\n",
       "      <td>...</td>\n",
       "      <td>0</td>\n",
       "      <td>1</td>\n",
       "      <td>ckd</td>\n",
       "      <td>Old</td>\n",
       "      <td>Well_hydrated</td>\n",
       "      <td>HBP_1</td>\n",
       "      <td>normal</td>\n",
       "      <td>normal</td>\n",
       "      <td>137.528754</td>\n",
       "      <td>0</td>\n",
       "    </tr>\n",
       "    <tr>\n",
       "      <th>3</th>\n",
       "      <td>48</td>\n",
       "      <td>70</td>\n",
       "      <td>0</td>\n",
       "      <td>4</td>\n",
       "      <td>0</td>\n",
       "      <td>2</td>\n",
       "      <td>1</td>\n",
       "      <td>1</td>\n",
       "      <td>0</td>\n",
       "      <td>117</td>\n",
       "      <td>...</td>\n",
       "      <td>1</td>\n",
       "      <td>1</td>\n",
       "      <td>ckd</td>\n",
       "      <td>Middle_age</td>\n",
       "      <td>Well_hydrated</td>\n",
       "      <td>Normal</td>\n",
       "      <td>abnormal</td>\n",
       "      <td>normal</td>\n",
       "      <td>113.000000</td>\n",
       "      <td>0</td>\n",
       "    </tr>\n",
       "    <tr>\n",
       "      <th>4</th>\n",
       "      <td>51</td>\n",
       "      <td>80</td>\n",
       "      <td>1</td>\n",
       "      <td>2</td>\n",
       "      <td>0</td>\n",
       "      <td>2</td>\n",
       "      <td>2</td>\n",
       "      <td>0</td>\n",
       "      <td>0</td>\n",
       "      <td>106</td>\n",
       "      <td>...</td>\n",
       "      <td>0</td>\n",
       "      <td>0</td>\n",
       "      <td>ckd</td>\n",
       "      <td>Old</td>\n",
       "      <td>Well_hydrated</td>\n",
       "      <td>HBP_1</td>\n",
       "      <td>normal</td>\n",
       "      <td>normal</td>\n",
       "      <td>137.528754</td>\n",
       "      <td>0</td>\n",
       "    </tr>\n",
       "  </tbody>\n",
       "</table>\n",
       "<p>5 rows × 32 columns</p>\n",
       "</div>"
      ],
      "text/plain": [
       "   age  bp  sg  al  su  rbc  pc  pcc  ba  bgr  ...  pe  ane  class  \\\n",
       "0   48  80   3   1   0    0   2    0   0  121  ...   0    0    ckd   \n",
       "1    7  50   3   4   0    0   2    0   0  148  ...   0    0    ckd   \n",
       "2   62  80   1   2   3    2   2    0   0  423  ...   0    1    ckd   \n",
       "3   48  70   0   4   0    2   1    1   0  117  ...   1    1    ckd   \n",
       "4   51  80   1   2   0    2   2    0   0  106  ...   0    0    ckd   \n",
       "\n",
       "    age_group            sg_group  bp_group  rbc_class  wbc_class     sod_new  \\\n",
       "0  Middle_age  Minimal_dehydrated     HBP_1     normal     normal  137.528754   \n",
       "1    Children  Minimal_dehydrated    Normal     normal     normal  137.528754   \n",
       "2         Old       Well_hydrated     HBP_1     normal     normal  137.528754   \n",
       "3  Middle_age       Well_hydrated    Normal   abnormal     normal  113.000000   \n",
       "4         Old       Well_hydrated     HBP_1     normal     normal  137.528754   \n",
       "\n",
       "  class_label  \n",
       "0           0  \n",
       "1           0  \n",
       "2           0  \n",
       "3           0  \n",
       "4           0  \n",
       "\n",
       "[5 rows x 32 columns]"
      ]
     },
     "execution_count": 1088,
     "metadata": {},
     "output_type": "execute_result"
    }
   ],
   "source": [
    "ckd_copy.head()"
   ]
  },
  {
   "cell_type": "markdown",
   "metadata": {},
   "source": [
    "# MODEL BUILDING"
   ]
  },
  {
   "cell_type": "code",
   "execution_count": 1096,
   "metadata": {},
   "outputs": [],
   "source": [
    "from sklearn.model_selection import train_test_split"
   ]
  },
  {
   "cell_type": "code",
   "execution_count": 1264,
   "metadata": {},
   "outputs": [],
   "source": [
    "#Consider only columns in original dataset i.e numerical and categorical columns\n",
    "column_list = numerical_cols + categorical_cols\n",
    "X_df = ckd_copy[column_list]\n",
    "Y_df = ckd_copy[target_col]"
   ]
  },
  {
   "cell_type": "code",
   "execution_count": 1265,
   "metadata": {},
   "outputs": [],
   "source": [
    "trainX, testX, trainY, testY = train_test_split(X_df,Y_df,test_size=0.30,random_state=1)"
   ]
  },
  {
   "cell_type": "code",
   "execution_count": 1266,
   "metadata": {},
   "outputs": [],
   "source": [
    "from sklearn.linear_model import LogisticRegression\n",
    "logisticR = LogisticRegression()"
   ]
  },
  {
   "cell_type": "code",
   "execution_count": 1267,
   "metadata": {},
   "outputs": [],
   "source": [
    "LR_model = logisticR.fit(trainX,trainY.values.ravel())"
   ]
  },
  {
   "cell_type": "code",
   "execution_count": 1268,
   "metadata": {},
   "outputs": [],
   "source": [
    "LR_predict = LR_model.predict(testX)"
   ]
  },
  {
   "cell_type": "code",
   "execution_count": 1270,
   "metadata": {},
   "outputs": [],
   "source": [
    "from sklearn.metrics import confusion_matrix, accuracy_score\n"
   ]
  },
  {
   "cell_type": "code",
   "execution_count": 1271,
   "metadata": {},
   "outputs": [
    {
     "data": {
      "text/plain": [
       "array([[69,  1],\n",
       "       [ 1, 49]], dtype=int64)"
      ]
     },
     "execution_count": 1271,
     "metadata": {},
     "output_type": "execute_result"
    }
   ],
   "source": [
    "confusion_matrix(testY, LR_predict)"
   ]
  },
  {
   "cell_type": "code",
   "execution_count": 1272,
   "metadata": {},
   "outputs": [
    {
     "data": {
      "text/plain": [
       "0.9833333333333333"
      ]
     },
     "execution_count": 1272,
     "metadata": {},
     "output_type": "execute_result"
    }
   ],
   "source": [
    "accuracy_score(testY, LR_predict)"
   ]
  },
  {
   "cell_type": "code",
   "execution_count": 1273,
   "metadata": {},
   "outputs": [
    {
     "data": {
      "text/plain": [
       "<matplotlib.axes._subplots.AxesSubplot at 0x1f5b11efba8>"
      ]
     },
     "execution_count": 1273,
     "metadata": {},
     "output_type": "execute_result"
    },
    {
     "data": {
      "image/png": "[encoded data removed]",
      "text/plain": [
       "<Figure size 432x288 with 1 Axes>"
      ]
     },
     "metadata": {
      "needs_background": "light"
     },
     "output_type": "display_data"
    }
   ],
   "source": [
    "feat_importances = pd.Series(LR_model.coef_[0], index=column_list)\n",
    "feat_importances.nlargest(25).plot(kind='barh', color='red')"
   ]
  },
  {
   "cell_type": "code",
   "execution_count": 1195,
   "metadata": {},
   "outputs": [],
   "source": [
    "from sklearn.neighbors import KNeighborsClassifier"
   ]
  },
  {
   "cell_type": "code",
   "execution_count": 1196,
   "metadata": {},
   "outputs": [],
   "source": [
    "KNN = KNeighborsClassifier()"
   ]
  },
  {
   "cell_type": "code",
   "execution_count": 1197,
   "metadata": {},
   "outputs": [],
   "source": [
    "KNN_model = KNN.fit(trainX,trainY.values.ravel())"
   ]
  },
  {
   "cell_type": "code",
   "execution_count": 1198,
   "metadata": {},
   "outputs": [],
   "source": [
    "knn_predict = KNN_model.predict(testX)"
   ]
  },
  {
   "cell_type": "code",
   "execution_count": 1220,
   "metadata": {},
   "outputs": [
    {
     "data": {
      "text/plain": [
       "array([[54, 16],\n",
       "       [10, 40]], dtype=int64)"
      ]
     },
     "execution_count": 1220,
     "metadata": {},
     "output_type": "execute_result"
    }
   ],
   "source": [
    "confusion_matrix(testY, knn_predict)"
   ]
  },
  {
   "cell_type": "code",
   "execution_count": 1221,
   "metadata": {},
   "outputs": [
    {
     "data": {
      "text/plain": [
       "0.7833333333333333"
      ]
     },
     "execution_count": 1221,
     "metadata": {},
     "output_type": "execute_result"
    }
   ],
   "source": [
    "accuracy_score(testY, knn_predict)"
   ]
  },
  {
   "cell_type": "code",
   "execution_count": 1201,
   "metadata": {},
   "outputs": [],
   "source": [
    "from sklearn.tree import DecisionTreeClassifier"
   ]
  },
  {
   "cell_type": "code",
   "execution_count": 1202,
   "metadata": {},
   "outputs": [],
   "source": [
    "DTree = DecisionTreeClassifier()"
   ]
  },
  {
   "cell_type": "code",
   "execution_count": 1203,
   "metadata": {},
   "outputs": [],
   "source": [
    "DTree_model = DTree.fit(trainX,trainY.values.ravel())"
   ]
  },
  {
   "cell_type": "code",
   "execution_count": 1204,
   "metadata": {},
   "outputs": [],
   "source": [
    "dtree_predict = DTree_model.predict(testX)"
   ]
  },
  {
   "cell_type": "code",
   "execution_count": 1205,
   "metadata": {},
   "outputs": [
    {
     "data": {
      "text/plain": [
       "array([[70,  0],\n",
       "       [ 1, 49]], dtype=int64)"
      ]
     },
     "execution_count": 1205,
     "metadata": {},
     "output_type": "execute_result"
    }
   ],
   "source": [
    "metrics.confusion_matrix(testY, dtree_predict)"
   ]
  },
  {
   "cell_type": "code",
   "execution_count": 1206,
   "metadata": {},
   "outputs": [
    {
     "data": {
      "text/plain": [
       "0.9916666666666667"
      ]
     },
     "execution_count": 1206,
     "metadata": {},
     "output_type": "execute_result"
    }
   ],
   "source": [
    "metrics.accuracy_score(testY, dtree_predict)"
   ]
  },
  {
   "cell_type": "code",
   "execution_count": 1132,
   "metadata": {},
   "outputs": [],
   "source": [
    "from sklearn.svm import SVC"
   ]
  },
  {
   "cell_type": "code",
   "execution_count": 1137,
   "metadata": {},
   "outputs": [],
   "source": [
    "svm = SVC()"
   ]
  },
  {
   "cell_type": "code",
   "execution_count": 1138,
   "metadata": {},
   "outputs": [],
   "source": [
    "svm_model = svm.fit(trainX,trainY.values.ravel())"
   ]
  },
  {
   "cell_type": "code",
   "execution_count": 1139,
   "metadata": {},
   "outputs": [],
   "source": [
    "svm_predict = svm_model.predict(testX)"
   ]
  },
  {
   "cell_type": "code",
   "execution_count": 1140,
   "metadata": {},
   "outputs": [
    {
     "data": {
      "text/plain": [
       "array([[72,  0],\n",
       "       [48,  0]], dtype=int64)"
      ]
     },
     "execution_count": 1140,
     "metadata": {},
     "output_type": "execute_result"
    }
   ],
   "source": [
    "metrics.confusion_matrix(testY, svm_predict)"
   ]
  },
  {
   "cell_type": "code",
   "execution_count": 1141,
   "metadata": {},
   "outputs": [
    {
     "data": {
      "text/plain": [
       "0.6"
      ]
     },
     "execution_count": 1141,
     "metadata": {},
     "output_type": "execute_result"
    }
   ],
   "source": [
    "metrics.accuracy_score(testY, svm_predict)"
   ]
  },
  {
   "cell_type": "markdown",
   "metadata": {},
   "source": [
    "# Working with maximum categorical columns obtained during preprocessing"
   ]
  },
  {
   "cell_type": "code",
   "execution_count": 1142,
   "metadata": {},
   "outputs": [
    {
     "data": {
      "text/plain": [
       "Index(['age', 'bp', 'sg', 'al', 'su', 'rbc', 'pc', 'pcc', 'ba', 'bgr', 'bu',\n",
       "       'sc', 'sod', 'pot', 'hemo', 'pcv', 'wbcc', 'rbcc', 'htn', 'dm', 'cad',\n",
       "       'appet', 'pe', 'ane', 'class', 'age_group', 'sg_group', 'bp_group',\n",
       "       'rbc_class', 'wbc_class', 'sod_new', 'class_label'],\n",
       "      dtype='object')"
      ]
     },
     "execution_count": 1142,
     "metadata": {},
     "output_type": "execute_result"
    }
   ],
   "source": [
    "ckd_copy.columns"
   ]
  },
  {
   "cell_type": "code",
   "execution_count": 1146,
   "metadata": {},
   "outputs": [
    {
     "data": {
      "text/plain": [
       "['age', 'bp', 'bu', 'sc', 'sod', 'pot', 'hemo', 'wbcc', 'rbcc', 'bgr', 'pcv']"
      ]
     },
     "execution_count": 1146,
     "metadata": {},
     "output_type": "execute_result"
    }
   ],
   "source": [
    "numerical_cols"
   ]
  },
  {
   "cell_type": "code",
   "execution_count": 1160,
   "metadata": {},
   "outputs": [],
   "source": [
    "categorical_cols_2 = ['age_group', 'sg_group', 'bp_group','rbc_class', 'wbc_class', 'sod_new','al','su','pc','pcc','ba','htn','cad','appet','pe','ane','dm']\n",
    "numerical_cols_2 = ['bu','sc','pot','hemo','bgr','pcv']"
   ]
  },
  {
   "cell_type": "code",
   "execution_count": 1170,
   "metadata": {},
   "outputs": [],
   "source": [
    "column_list2 = numerical_cols_2 + categorical_cols_2\n",
    "X_df2 = ckd_copy[column_list2]\n",
    "Y_df2 = ckd_copy[target_col]"
   ]
  },
  {
   "cell_type": "code",
   "execution_count": 1167,
   "metadata": {},
   "outputs": [],
   "source": [
    "for cols in categorical_cols_2:\n",
    "    le = LabelEncoder()\n",
    "    ckd_copy[cols] = le.fit_transform(ckd_copy[cols])"
   ]
  },
  {
   "cell_type": "code",
   "execution_count": 1171,
   "metadata": {},
   "outputs": [],
   "source": [
    "trainX_2, testX_2, trainY_2, testY_2 = train_test_split(X_df2,Y_df2,test_size=0.30,random_state=0)"
   ]
  },
  {
   "cell_type": "code",
   "execution_count": 1172,
   "metadata": {},
   "outputs": [
    {
     "data": {
      "text/html": [
       "<div>\n",
       "<style scoped>\n",
       "    .dataframe tbody tr th:only-of-type {\n",
       "        vertical-align: middle;\n",
       "    }\n",
       "\n",
       "    .dataframe tbody tr th {\n",
       "        vertical-align: top;\n",
       "    }\n",
       "\n",
       "    .dataframe thead th {\n",
       "        text-align: right;\n",
       "    }\n",
       "</style>\n",
       "<table border=\"1\" class=\"dataframe\">\n",
       "  <thead>\n",
       "    <tr style=\"text-align: right;\">\n",
       "      <th></th>\n",
       "      <th>bu</th>\n",
       "      <th>sc</th>\n",
       "      <th>pot</th>\n",
       "      <th>hemo</th>\n",
       "      <th>bgr</th>\n",
       "      <th>pcv</th>\n",
       "      <th>age_group</th>\n",
       "      <th>sg_group</th>\n",
       "      <th>bp_group</th>\n",
       "      <th>rbc_class</th>\n",
       "      <th>...</th>\n",
       "      <th>su</th>\n",
       "      <th>pc</th>\n",
       "      <th>pcc</th>\n",
       "      <th>ba</th>\n",
       "      <th>htn</th>\n",
       "      <th>cad</th>\n",
       "      <th>appet</th>\n",
       "      <th>pe</th>\n",
       "      <th>ane</th>\n",
       "      <th>dm</th>\n",
       "    </tr>\n",
       "  </thead>\n",
       "  <tbody>\n",
       "    <tr>\n",
       "      <th>92</th>\n",
       "      <td>82.0</td>\n",
       "      <td>3.6</td>\n",
       "      <td>4.4</td>\n",
       "      <td>10.4</td>\n",
       "      <td>219</td>\n",
       "      <td>33</td>\n",
       "      <td>2</td>\n",
       "      <td>1</td>\n",
       "      <td>3</td>\n",
       "      <td>0</td>\n",
       "      <td>...</td>\n",
       "      <td>0</td>\n",
       "      <td>1</td>\n",
       "      <td>1</td>\n",
       "      <td>1</td>\n",
       "      <td>1</td>\n",
       "      <td>1</td>\n",
       "      <td>0</td>\n",
       "      <td>0</td>\n",
       "      <td>0</td>\n",
       "      <td>1</td>\n",
       "    </tr>\n",
       "    <tr>\n",
       "      <th>223</th>\n",
       "      <td>30.0</td>\n",
       "      <td>1.3</td>\n",
       "      <td>4.1</td>\n",
       "      <td>13.0</td>\n",
       "      <td>303</td>\n",
       "      <td>38</td>\n",
       "      <td>2</td>\n",
       "      <td>1</td>\n",
       "      <td>1</td>\n",
       "      <td>1</td>\n",
       "      <td>...</td>\n",
       "      <td>3</td>\n",
       "      <td>2</td>\n",
       "      <td>0</td>\n",
       "      <td>0</td>\n",
       "      <td>1</td>\n",
       "      <td>0</td>\n",
       "      <td>0</td>\n",
       "      <td>0</td>\n",
       "      <td>0</td>\n",
       "      <td>1</td>\n",
       "    </tr>\n",
       "    <tr>\n",
       "      <th>234</th>\n",
       "      <td>19.0</td>\n",
       "      <td>1.3</td>\n",
       "      <td>4.6</td>\n",
       "      <td>15.0</td>\n",
       "      <td>148</td>\n",
       "      <td>44</td>\n",
       "      <td>1</td>\n",
       "      <td>1</td>\n",
       "      <td>1</td>\n",
       "      <td>1</td>\n",
       "      <td>...</td>\n",
       "      <td>0</td>\n",
       "      <td>2</td>\n",
       "      <td>0</td>\n",
       "      <td>0</td>\n",
       "      <td>1</td>\n",
       "      <td>0</td>\n",
       "      <td>0</td>\n",
       "      <td>0</td>\n",
       "      <td>0</td>\n",
       "      <td>0</td>\n",
       "    </tr>\n",
       "    <tr>\n",
       "      <th>232</th>\n",
       "      <td>57.4</td>\n",
       "      <td>1.8</td>\n",
       "      <td>4.6</td>\n",
       "      <td>12.5</td>\n",
       "      <td>148</td>\n",
       "      <td>38</td>\n",
       "      <td>1</td>\n",
       "      <td>0</td>\n",
       "      <td>1</td>\n",
       "      <td>1</td>\n",
       "      <td>...</td>\n",
       "      <td>0</td>\n",
       "      <td>1</td>\n",
       "      <td>0</td>\n",
       "      <td>0</td>\n",
       "      <td>0</td>\n",
       "      <td>0</td>\n",
       "      <td>0</td>\n",
       "      <td>1</td>\n",
       "      <td>0</td>\n",
       "      <td>0</td>\n",
       "    </tr>\n",
       "    <tr>\n",
       "      <th>377</th>\n",
       "      <td>27.0</td>\n",
       "      <td>0.7</td>\n",
       "      <td>4.8</td>\n",
       "      <td>13.8</td>\n",
       "      <td>97</td>\n",
       "      <td>49</td>\n",
       "      <td>2</td>\n",
       "      <td>0</td>\n",
       "      <td>3</td>\n",
       "      <td>1</td>\n",
       "      <td>...</td>\n",
       "      <td>0</td>\n",
       "      <td>2</td>\n",
       "      <td>0</td>\n",
       "      <td>0</td>\n",
       "      <td>0</td>\n",
       "      <td>0</td>\n",
       "      <td>0</td>\n",
       "      <td>0</td>\n",
       "      <td>0</td>\n",
       "      <td>0</td>\n",
       "    </tr>\n",
       "  </tbody>\n",
       "</table>\n",
       "<p>5 rows × 23 columns</p>\n",
       "</div>"
      ],
      "text/plain": [
       "       bu   sc  pot  hemo  bgr  pcv  age_group  sg_group  bp_group  rbc_class  \\\n",
       "92   82.0  3.6  4.4  10.4  219   33          2         1         3          0   \n",
       "223  30.0  1.3  4.1  13.0  303   38          2         1         1          1   \n",
       "234  19.0  1.3  4.6  15.0  148   44          1         1         1          1   \n",
       "232  57.4  1.8  4.6  12.5  148   38          1         0         1          1   \n",
       "377  27.0  0.7  4.8  13.8   97   49          2         0         3          1   \n",
       "\n",
       "     ...  su  pc  pcc  ba  htn  cad  appet  pe  ane  dm  \n",
       "92   ...   0   1    1   1    1    1      0   0    0   1  \n",
       "223  ...   3   2    0   0    1    0      0   0    0   1  \n",
       "234  ...   0   2    0   0    1    0      0   0    0   0  \n",
       "232  ...   0   1    0   0    0    0      0   1    0   0  \n",
       "377  ...   0   2    0   0    0    0      0   0    0   0  \n",
       "\n",
       "[5 rows x 23 columns]"
      ]
     },
     "execution_count": 1172,
     "metadata": {},
     "output_type": "execute_result"
    }
   ],
   "source": [
    "trainX_2.head()"
   ]
  },
  {
   "cell_type": "code",
   "execution_count": 1173,
   "metadata": {},
   "outputs": [],
   "source": [
    "LR_model_2 = logisticR.fit(trainX_2,trainY_2.values.ravel())"
   ]
  },
  {
   "cell_type": "code",
   "execution_count": 1175,
   "metadata": {},
   "outputs": [],
   "source": [
    "lr2_predict = LR_model_2.predict(testX_2)"
   ]
  },
  {
   "cell_type": "code",
   "execution_count": 1177,
   "metadata": {},
   "outputs": [
    {
     "data": {
      "text/plain": [
       "array([[68,  4],\n",
       "       [ 1, 47]], dtype=int64)"
      ]
     },
     "execution_count": 1177,
     "metadata": {},
     "output_type": "execute_result"
    }
   ],
   "source": [
    "metrics.confusion_matrix(testY_2,lr2_predict)"
   ]
  },
  {
   "cell_type": "code",
   "execution_count": 1176,
   "metadata": {},
   "outputs": [
    {
     "data": {
      "text/plain": [
       "0.9583333333333334"
      ]
     },
     "execution_count": 1176,
     "metadata": {},
     "output_type": "execute_result"
    }
   ],
   "source": [
    "metrics.accuracy_score(testY_2,lr2_predict)"
   ]
  },
  {
   "cell_type": "markdown",
   "metadata": {},
   "source": [
    "Accuracy of model decreases when we include maximum categorical values based on the range of the values. "
   ]
  },
  {
   "cell_type": "markdown",
   "metadata": {},
   "source": [
    "# Evaluating performance of models after removing less relavant features"
   ]
  },
  {
   "cell_type": "code",
   "execution_count": 1207,
   "metadata": {},
   "outputs": [],
   "source": [
    "categorical_cols_3 = ['age_group', 'sg', 'bp_group','rbc_class', 'wbc_class', 'sod_new','al','su','pc','htn','appet','pe','ane','dm']\n",
    "numerical_cols_3 = ['bu','sc','pot','hemo','bgr','pcv']"
   ]
  },
  {
   "cell_type": "code",
   "execution_count": 1208,
   "metadata": {},
   "outputs": [],
   "source": [
    "column_list3 = numerical_cols_3 + categorical_cols_3\n",
    "X_df3 = ckd_copy[column_list3]\n",
    "Y_df3 = ckd_copy[target_col]"
   ]
  },
  {
   "cell_type": "code",
   "execution_count": 1209,
   "metadata": {},
   "outputs": [],
   "source": [
    "trainX_3, testX_3, trainY_3, testY_3 = train_test_split(X_df3,Y_df3,test_size=0.30,random_state=1)"
   ]
  },
  {
   "cell_type": "code",
   "execution_count": 1210,
   "metadata": {},
   "outputs": [],
   "source": [
    "LR_model_3 = logisticR.fit(trainX_3,trainY_3.values.ravel())"
   ]
  },
  {
   "cell_type": "code",
   "execution_count": 1211,
   "metadata": {},
   "outputs": [],
   "source": [
    "lr3_predict = LR_model_3.predict(testX_3)"
   ]
  },
  {
   "cell_type": "code",
   "execution_count": 1222,
   "metadata": {},
   "outputs": [
    {
     "data": {
      "text/plain": [
       "array([[65,  5],\n",
       "       [ 1, 49]], dtype=int64)"
      ]
     },
     "execution_count": 1222,
     "metadata": {},
     "output_type": "execute_result"
    }
   ],
   "source": [
    "confusion_matrix(testY_3,lr3_predict)"
   ]
  },
  {
   "cell_type": "code",
   "execution_count": 1233,
   "metadata": {},
   "outputs": [
    {
     "data": {
      "text/plain": [
       "0.95"
      ]
     },
     "execution_count": 1233,
     "metadata": {},
     "output_type": "execute_result"
    }
   ],
   "source": [
    "accuracy_score(testY_3,lr3_predict)"
   ]
  },
  {
   "cell_type": "code",
   "execution_count": 1231,
   "metadata": {},
   "outputs": [
    {
     "data": {
      "text/plain": [
       "array(['ckd', 'notckd'], dtype=object)"
      ]
     },
     "execution_count": 1231,
     "metadata": {},
     "output_type": "execute_result"
    }
   ],
   "source": [
    "LR_model_3.classes_"
   ]
  },
  {
   "cell_type": "code",
   "execution_count": 1225,
   "metadata": {},
   "outputs": [],
   "source": [
    "from sklearn.metrics import roc_curve\n"
   ]
  },
  {
   "cell_type": "code",
   "execution_count": 1235,
   "metadata": {},
   "outputs": [],
   "source": [
    "y_score = LR_model_3.decision_function(testX_3)"
   ]
  },
  {
   "cell_type": "code",
   "execution_count": 1252,
   "metadata": {},
   "outputs": [],
   "source": [
    "fpr, tpr, _ = roc_curve(testY_3, y_score,LR_model_3.classes_[1])"
   ]
  },
  {
   "cell_type": "code",
   "execution_count": 1253,
   "metadata": {},
   "outputs": [
    {
     "data": {
      "text/plain": [
       "[<matplotlib.lines.Line2D at 0x1f5b0570f98>]"
      ]
     },
     "execution_count": 1253,
     "metadata": {},
     "output_type": "execute_result"
    },
    {
     "data": {
      "image/png": "[encoded data removed]",
      "text/plain": [
       "<Figure size 432x288 with 1 Axes>"
      ]
     },
     "metadata": {
      "needs_background": "light"
     },
     "output_type": "display_data"
    }
   ],
   "source": [
    "plt.plot(fpr, tpr)"
   ]
  },
  {
   "cell_type": "code",
   "execution_count": null,
   "metadata": {},
   "outputs": [],
   "source": []
  }
 ],
 "metadata": {
  "kernelspec": {
   "display_name": "Python 3",
   "language": "python",
   "name": "python3"
  },
  "language_info": {
   "codemirror_mode": {
    "name": "ipython",
    "version": 3
   },
   "file_extension": ".py",
   "mimetype": "text/x-python",
   "name": "python",
   "nbconvert_exporter": "python",
   "pygments_lexer": "ipython3",
   "version": "3.6.5"
  }
 },
 "nbformat": 4,
 "nbformat_minor": 4
}
