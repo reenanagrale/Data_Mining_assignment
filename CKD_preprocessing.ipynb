{
 "cells": [
  {
   "cell_type": "code",
   "execution_count": 149,
   "metadata": {},
   "outputs": [],
   "source": [
    "import pandas as pd\n",
    "import numpy as np\n",
    "import seaborn as sns\n",
    "import matplotlib.pyplot as plt"
   ]
  },
  {
   "cell_type": "code",
   "execution_count": 9,
   "metadata": {},
   "outputs": [],
   "source": [
    "ckd = pd.read_csv(r\"C:\\Users\\reenanagrale\\Desktop\\BITS-Pilani\\Courses\\Semister 1\\Data Mining\\Assignments\\1\\ckd\\ckd\\kidneyChronic.csv\")"
   ]
  },
  {
   "cell_type": "code",
   "execution_count": 11,
   "metadata": {},
   "outputs": [
    {
     "data": {
      "text/plain": [
       "Index(['age', 'bp', 'sg', 'al', 'su', 'rbc', 'pc', 'pcc', 'ba', 'bgr', 'bu',\n",
       "       'sc', 'sod', 'pot', 'hemo', 'pcv', 'wbcc', 'rbcc', 'htn', 'dm', 'cad',\n",
       "       'appet', 'pe', 'ane', 'class'],\n",
       "      dtype='object')"
      ]
     },
     "execution_count": 11,
     "metadata": {},
     "output_type": "execute_result"
    }
   ],
   "source": [
    "ckd.columns"
   ]
  },
  {
   "cell_type": "code",
   "execution_count": 252,
   "metadata": {},
   "outputs": [],
   "source": [
    "ckd['SNo'] = [i for i in range(len(ckd))]"
   ]
  },
  {
   "cell_type": "code",
   "execution_count": 253,
   "metadata": {},
   "outputs": [
    {
     "data": {
      "text/plain": [
       "age          0\n",
       "bp           0\n",
       "sg           0\n",
       "al           0\n",
       "su           0\n",
       "rbc          0\n",
       "pc           0\n",
       "pcc          0\n",
       "ba           0\n",
       "bgr          0\n",
       "bu           0\n",
       "sc           0\n",
       "sod          0\n",
       "pot          0\n",
       "hemo         0\n",
       "pcv          0\n",
       "wbcc         0\n",
       "rbcc         0\n",
       "htn          0\n",
       "dm           0\n",
       "cad          0\n",
       "appet        0\n",
       "pe           0\n",
       "ane          0\n",
       "class        0\n",
       "age_group    0\n",
       "sg_group     0\n",
       "bp_group     0\n",
       "SNo          0\n",
       "dtype: int64"
      ]
     },
     "execution_count": 253,
     "metadata": {},
     "output_type": "execute_result"
    }
   ],
   "source": [
    "ckd.isnull().sum()"
   ]
  },
  {
   "cell_type": "code",
   "execution_count": 16,
   "metadata": {},
   "outputs": [
    {
     "data": {
      "text/plain": [
       "age       77\n",
       "bp        11\n",
       "sg         6\n",
       "al         7\n",
       "su         7\n",
       "rbc        3\n",
       "pc         3\n",
       "pcc        3\n",
       "ba         3\n",
       "bgr      147\n",
       "bu       119\n",
       "sc        85\n",
       "sod       35\n",
       "pot       41\n",
       "hemo     116\n",
       "pcv       45\n",
       "wbcc      93\n",
       "rbcc      47\n",
       "htn        3\n",
       "dm         6\n",
       "cad        4\n",
       "appet      3\n",
       "pe         3\n",
       "ane        3\n",
       "class      2\n",
       "dtype: int64"
      ]
     },
     "execution_count": 16,
     "metadata": {},
     "output_type": "execute_result"
    }
   ],
   "source": [
    "ckd.nunique()"
   ]
  },
  {
   "cell_type": "code",
   "execution_count": 254,
   "metadata": {},
   "outputs": [],
   "source": [
    "ckd_copy = ckd"
   ]
  },
  {
   "cell_type": "code",
   "execution_count": 17,
   "metadata": {},
   "outputs": [],
   "source": [
    "#age convert to nominal and check for pattern"
   ]
  },
  {
   "cell_type": "code",
   "execution_count": 18,
   "metadata": {},
   "outputs": [],
   "source": [
    "#check for correlation between features"
   ]
  },
  {
   "cell_type": "code",
   "execution_count": 20,
   "metadata": {},
   "outputs": [],
   "source": [
    "#nominal dp = age, sg, al,su,rbc, pc, pcc, ba, htn, dm, cad, appet, pe, ane\n",
    "#numerical = bp, bgr, bu, sc, sod, pot, hemo, pcv, wc"
   ]
  },
  {
   "cell_type": "code",
   "execution_count": 255,
   "metadata": {},
   "outputs": [
    {
     "name": "stdout",
     "output_type": "stream",
     "text": [
      "Number of null values for age is 0\n",
      "Number of null values for bp is 0\n",
      "Number of null values for sg is 0\n",
      "Number of null values for al is 46\n",
      "Number of null values for su is 49\n",
      "Number of null values for rbc is 152\n",
      "Number of null values for pc is 65\n",
      "Number of null values for pcc is 4\n",
      "Number of null values for ba is 4\n",
      "Number of null values for bgr is 44\n",
      "Number of null values for bu is 19\n",
      "Number of null values for sc is 17\n",
      "Number of null values for sod is 87\n",
      "Number of null values for pot is 88\n",
      "Number of null values for hemo is 52\n",
      "Number of null values for pcv is 70\n",
      "Number of null values for wbcc is 105\n",
      "Number of null values for rbcc is 130\n",
      "Number of null values for htn is 2\n",
      "Number of null values for dm is 2\n",
      "Number of null values for cad is 2\n",
      "Number of null values for appet is 1\n",
      "Number of null values for pe is 1\n",
      "Number of null values for ane is 1\n",
      "Number of null values for class is 0\n",
      "Number of null values for age_group is 0\n",
      "Number of null values for sg_group is 0\n",
      "Number of null values for bp_group is 0\n",
      "Number of null values for SNo is 0\n"
     ]
    },
    {
     "name": "stderr",
     "output_type": "stream",
     "text": [
      "C:\\Users\\reenanagrale\\Anaconda\\lib\\site-packages\\pandas\\core\\ops\\array_ops.py:253: FutureWarning: elementwise comparison failed; returning scalar instead, but in the future will perform elementwise comparison\n",
      "  res_values = method(rvalues)\n"
     ]
    }
   ],
   "source": [
    "#check for null values (?) for each feature\n",
    "for col in ckd.columns:\n",
    "    nacount = len(ckd[ckd[col]=='?'])\n",
    "    print(\"Number of null values for {} is {}\".format(col,nacount))"
   ]
  },
  {
   "cell_type": "markdown",
   "metadata": {},
   "source": [
    "# working on Age column"
   ]
  },
  {
   "cell_type": "code",
   "execution_count": 28,
   "metadata": {},
   "outputs": [
    {
     "data": {
      "text/plain": [
       "array(['48', '7', '62', '51', '60', '68', '24', '52', '53', '50', '63',\n",
       "       '40', '47', '61', '21', '42', '75', '69', '?', '73', '70', '65',\n",
       "       '76', '72', '82', '46', '45', '35', '54', '11', '59', '67', '15',\n",
       "       '55', '44', '26', '64', '56', '5', '74', '38', '58', '71', '34',\n",
       "       '17', '12', '43', '41', '57', '8', '39', '66', '81', '14', '27',\n",
       "       '83', '30', '4', '3', '6', '32', '80', '49', '90', '78', '19', '2',\n",
       "       '33', '36', '37', '23', '25', '20', '29', '28', '22', '79'],\n",
       "      dtype=object)"
      ]
     },
     "execution_count": 28,
     "metadata": {},
     "output_type": "execute_result"
    }
   ],
   "source": [
    "ckd['age'].unique()"
   ]
  },
  {
   "cell_type": "code",
   "execution_count": 62,
   "metadata": {},
   "outputs": [],
   "source": [
    "age_group=ckd.groupby('class')['age'].count().reset_index().sort_values(by='class',ascending=False)"
   ]
  },
  {
   "cell_type": "code",
   "execution_count": 80,
   "metadata": {},
   "outputs": [],
   "source": [
    "age_list = [int(x) for x in ckd['age'] if x!='?']"
   ]
  },
  {
   "cell_type": "code",
   "execution_count": 83,
   "metadata": {},
   "outputs": [
    {
     "data": {
      "text/plain": [
       "51.48337595907928"
      ]
     },
     "execution_count": 83,
     "metadata": {},
     "output_type": "execute_result"
    }
   ],
   "source": [
    "np.mean(age_list)"
   ]
  },
  {
   "cell_type": "code",
   "execution_count": 256,
   "metadata": {},
   "outputs": [],
   "source": [
    "#replace age with ? value with mean i.e 51\n",
    "ckd_copy['age'].replace('?','51',inplace=True)"
   ]
  },
  {
   "cell_type": "code",
   "execution_count": 257,
   "metadata": {},
   "outputs": [
    {
     "data": {
      "text/html": [
       "<div>\n",
       "<style scoped>\n",
       "    .dataframe tbody tr th:only-of-type {\n",
       "        vertical-align: middle;\n",
       "    }\n",
       "\n",
       "    .dataframe tbody tr th {\n",
       "        vertical-align: top;\n",
       "    }\n",
       "\n",
       "    .dataframe thead th {\n",
       "        text-align: right;\n",
       "    }\n",
       "</style>\n",
       "<table border=\"1\" class=\"dataframe\">\n",
       "  <thead>\n",
       "    <tr style=\"text-align: right;\">\n",
       "      <th></th>\n",
       "      <th>age</th>\n",
       "      <th>bp</th>\n",
       "      <th>sg</th>\n",
       "      <th>al</th>\n",
       "      <th>su</th>\n",
       "      <th>rbc</th>\n",
       "      <th>pc</th>\n",
       "      <th>pcc</th>\n",
       "      <th>ba</th>\n",
       "      <th>bgr</th>\n",
       "      <th>...</th>\n",
       "      <th>dm</th>\n",
       "      <th>cad</th>\n",
       "      <th>appet</th>\n",
       "      <th>pe</th>\n",
       "      <th>ane</th>\n",
       "      <th>class</th>\n",
       "      <th>age_group</th>\n",
       "      <th>sg_group</th>\n",
       "      <th>bp_group</th>\n",
       "      <th>SNo</th>\n",
       "    </tr>\n",
       "  </thead>\n",
       "  <tbody>\n",
       "  </tbody>\n",
       "</table>\n",
       "<p>0 rows × 29 columns</p>\n",
       "</div>"
      ],
      "text/plain": [
       "Empty DataFrame\n",
       "Columns: [age, bp, sg, al, su, rbc, pc, pcc, ba, bgr, bu, sc, sod, pot, hemo, pcv, wbcc, rbcc, htn, dm, cad, appet, pe, ane, class, age_group, sg_group, bp_group, SNo]\n",
       "Index: []\n",
       "\n",
       "[0 rows x 29 columns]"
      ]
     },
     "execution_count": 257,
     "metadata": {},
     "output_type": "execute_result"
    }
   ],
   "source": [
    "#checking if any ? in age field\n",
    "ckd_copy[ckd_copy['age']=='?']"
   ]
  },
  {
   "cell_type": "code",
   "execution_count": 258,
   "metadata": {},
   "outputs": [],
   "source": [
    "#convert str to int for age, so we convert to age_group\n",
    "ckd_copy['age'] = [int(i) for i in ckd_copy['age']]"
   ]
  },
  {
   "cell_type": "code",
   "execution_count": 89,
   "metadata": {},
   "outputs": [],
   "source": [
    "#convert age into age group by binning"
   ]
  },
  {
   "cell_type": "code",
   "execution_count": 259,
   "metadata": {},
   "outputs": [],
   "source": [
    "#create age group\n",
    "#Children :1 - 12\n",
    "#teen :13 - 19\n",
    "#young:20 - 35\n",
    "#middle age - 36 - 50\n",
    "#old - 50 and above\n",
    "age_bins = [1,12,19,35,50,100]\n",
    "labels_bin = ['Children','Teen','Young','Middle_age','Old']\n",
    "ckd_copy['age_group'] = pd.cut(ckd_copy.age,age_bins,labels=labels_bin,include_lowest=True)"
   ]
  },
  {
   "cell_type": "code",
   "execution_count": 260,
   "metadata": {},
   "outputs": [
    {
     "data": {
      "text/plain": [
       "[Middle_age, Children, Old, Young, Teen]\n",
       "Categories (5, object): [Children < Teen < Young < Middle_age < Old]"
      ]
     },
     "execution_count": 260,
     "metadata": {},
     "output_type": "execute_result"
    }
   ],
   "source": [
    "ckd_copy['age_group'].unique()"
   ]
  },
  {
   "cell_type": "code",
   "execution_count": 272,
   "metadata": {},
   "outputs": [],
   "source": [
    "age_class_grp = ckd_copy.groupby(['class','age_group']).count()['SNo'].reset_index().sort_values(by='SNo',ascending=False).rename({'SNo':'Count'},axis=1)"
   ]
  },
  {
   "cell_type": "code",
   "execution_count": 270,
   "metadata": {},
   "outputs": [],
   "source": [
    "age_class_grp.set_index('age_group',inplace=True)"
   ]
  },
  {
   "cell_type": "code",
   "execution_count": 271,
   "metadata": {},
   "outputs": [
    {
     "data": {
      "text/html": [
       "<div>\n",
       "<style scoped>\n",
       "    .dataframe tbody tr th:only-of-type {\n",
       "        vertical-align: middle;\n",
       "    }\n",
       "\n",
       "    .dataframe tbody tr th {\n",
       "        vertical-align: top;\n",
       "    }\n",
       "\n",
       "    .dataframe thead th {\n",
       "        text-align: right;\n",
       "    }\n",
       "</style>\n",
       "<table border=\"1\" class=\"dataframe\">\n",
       "  <thead>\n",
       "    <tr style=\"text-align: right;\">\n",
       "      <th></th>\n",
       "      <th>class</th>\n",
       "      <th>Count</th>\n",
       "    </tr>\n",
       "    <tr>\n",
       "      <th>age_group</th>\n",
       "      <th></th>\n",
       "      <th></th>\n",
       "    </tr>\n",
       "  </thead>\n",
       "  <tbody>\n",
       "    <tr>\n",
       "      <th>Old</th>\n",
       "      <td>ckd</td>\n",
       "      <td>169</td>\n",
       "    </tr>\n",
       "    <tr>\n",
       "      <th>Old</th>\n",
       "      <td>notckd</td>\n",
       "      <td>61</td>\n",
       "    </tr>\n",
       "    <tr>\n",
       "      <th>Middle_age</th>\n",
       "      <td>ckd</td>\n",
       "      <td>49</td>\n",
       "    </tr>\n",
       "    <tr>\n",
       "      <th>Middle_age</th>\n",
       "      <td>notckd</td>\n",
       "      <td>46</td>\n",
       "    </tr>\n",
       "    <tr>\n",
       "      <th>Young</th>\n",
       "      <td>notckd</td>\n",
       "      <td>39</td>\n",
       "    </tr>\n",
       "    <tr>\n",
       "      <th>Young</th>\n",
       "      <td>ckd</td>\n",
       "      <td>15</td>\n",
       "    </tr>\n",
       "    <tr>\n",
       "      <th>Children</th>\n",
       "      <td>ckd</td>\n",
       "      <td>12</td>\n",
       "    </tr>\n",
       "    <tr>\n",
       "      <th>Teen</th>\n",
       "      <td>ckd</td>\n",
       "      <td>5</td>\n",
       "    </tr>\n",
       "    <tr>\n",
       "      <th>Teen</th>\n",
       "      <td>notckd</td>\n",
       "      <td>3</td>\n",
       "    </tr>\n",
       "    <tr>\n",
       "      <th>Children</th>\n",
       "      <td>notckd</td>\n",
       "      <td>1</td>\n",
       "    </tr>\n",
       "  </tbody>\n",
       "</table>\n",
       "</div>"
      ],
      "text/plain": [
       "             class  Count\n",
       "age_group                \n",
       "Old            ckd    169\n",
       "Old         notckd     61\n",
       "Middle_age     ckd     49\n",
       "Middle_age  notckd     46\n",
       "Young       notckd     39\n",
       "Young          ckd     15\n",
       "Children       ckd     12\n",
       "Teen           ckd      5\n",
       "Teen        notckd      3\n",
       "Children    notckd      1"
      ]
     },
     "execution_count": 271,
     "metadata": {},
     "output_type": "execute_result"
    }
   ],
   "source": [
    "age_class_grp"
   ]
  },
  {
   "cell_type": "code",
   "execution_count": 273,
   "metadata": {},
   "outputs": [
    {
     "data": {
      "text/plain": [
       "<matplotlib.axes._subplots.AxesSubplot at 0x1f5a52107f0>"
      ]
     },
     "execution_count": 273,
     "metadata": {},
     "output_type": "execute_result"
    },
    {
     "data": {
      "image/png": "[encoded data removed]",
      "text/plain": [
       "<Figure size 432x288 with 1 Axes>"
      ]
     },
     "metadata": {
      "needs_background": "light"
     },
     "output_type": "display_data"
    }
   ],
   "source": [
    "sns.barplot(y=age_class_grp['age_group'],x=age_class_grp['Count'],hue=age_class_grp['class'])"
   ]
  },
  {
   "cell_type": "markdown",
   "metadata": {},
   "source": [
    "It is observed that major Chronic Kidney desease is observed for OLD Age people ie 50 and years above. \n",
    "\n",
    "Middle age people have 50% changes of impacting with Chronic Kidney Desease. We focus to understand what causes more impact of Middle age and Old age people with Kidney deseases.\n"
   ]
  },
  {
   "cell_type": "markdown",
   "metadata": {},
   "source": [
    "# Working on sg column"
   ]
  },
  {
   "cell_type": "code",
   "execution_count": 180,
   "metadata": {},
   "outputs": [
    {
     "data": {
      "text/plain": [
       "array(['1.02', '1.01', '1.005', '1.015', '0', '1.025'], dtype=object)"
      ]
     },
     "execution_count": 180,
     "metadata": {},
     "output_type": "execute_result"
    }
   ],
   "source": [
    "#unique values of urine specific gravity for the given dataset\n",
    "\n",
    "#sg is nominal data feature, \n",
    "'''well hydrated < 1.010\n",
    "    Minimal dehydrated 1.010 - 1.020\n",
    "    significant dehydrated 1.021 - 1.030\n",
    "    Seriuos dehydration > 1.030\n",
    "'''\n",
    "ckd_copy['sg'].unique()"
   ]
  },
  {
   "cell_type": "code",
   "execution_count": 207,
   "metadata": {},
   "outputs": [],
   "source": [
    "# handling null ie ''?'' in the data\n",
    "# total 47 records have null sg field, we give new category as no data\n",
    "ckd_copy['sg'].replace('?',0.0,inplace=True)\n",
    "ckd_copy['sg_group'] = [float(i) for i in ckd_copy['sg']]\n",
    "sg_bins = [-1,0,1.010,1.020,1.030,1.031]\n",
    "#ckd_copy['sg_group'] = [float(i) for i in ckd_copy['sg']]\n",
    "sg_labels = ['No_data','Well_hydrated','Minimal_dehydrated','significant_dehydrated','Seriuos_dehydration']\n",
    "ckd_copy['sg_group'] = pd.cut(ckd_copy.sg_group,sg_bins,labels=sg_labels,include_lowest=True)"
   ]
  },
  {
   "cell_type": "code",
   "execution_count": 208,
   "metadata": {},
   "outputs": [
    {
     "data": {
      "text/plain": [
       "[Minimal_dehydrated, Well_hydrated, No_data, significant_dehydrated]\n",
       "Categories (4, object): [No_data < Well_hydrated < Minimal_dehydrated < significant_dehydrated]"
      ]
     },
     "execution_count": 208,
     "metadata": {},
     "output_type": "execute_result"
    }
   ],
   "source": [
    "ckd_copy['sg_group'].unique()"
   ]
  },
  {
   "cell_type": "code",
   "execution_count": 210,
   "metadata": {},
   "outputs": [],
   "source": [
    "#Understand the distribution of specific gravity with class\n",
    "sg_class_grp = ckd_copy.groupby(['class','sg_group']).count()['sg'].reset_index().sort_values(by='sg',ascending=False).rename({'sg':'Count'},axis=1)"
   ]
  },
  {
   "cell_type": "code",
   "execution_count": 211,
   "metadata": {},
   "outputs": [
    {
     "data": {
      "text/plain": [
       "<matplotlib.axes._subplots.AxesSubplot at 0x1f5a5460198>"
      ]
     },
     "execution_count": 211,
     "metadata": {},
     "output_type": "execute_result"
    },
    {
     "data": {
      "image/png": "[encoded data removed]",
      "text/plain": [
       "<Figure size 432x288 with 1 Axes>"
      ]
     },
     "metadata": {
      "needs_background": "light"
     },
     "output_type": "display_data"
    }
   ],
   "source": [
    "sns.barplot(y=sg_class_grp['sg_group'],x=sg_class_grp['Count'],hue=sg_class_grp['class'])"
   ]
  },
  {
   "cell_type": "markdown",
   "metadata": {},
   "source": [
    "Observations:\n",
    "Based on the given dataset, its not convincing that dehydration is the cause of Chronic Kidney desease. We observe that Well hydrated people have also suffered with Chronic Kidney desease. And significantly dehydrated person are not diagonised with CKD."
   ]
  },
  {
   "cell_type": "markdown",
   "metadata": {},
   "source": [
    "# Working on bp column"
   ]
  },
  {
   "cell_type": "code",
   "execution_count": 274,
   "metadata": {},
   "outputs": [
    {
     "data": {
      "text/plain": [
       "array(['80', '50', '70', '90', '0', '100', '60', '110', '140', '180',\n",
       "       '120'], dtype=object)"
      ]
     },
     "execution_count": 274,
     "metadata": {},
     "output_type": "execute_result"
    }
   ],
   "source": [
    "ckd_copy['bp'].unique()"
   ]
  },
  {
   "cell_type": "code",
   "execution_count": 275,
   "metadata": {},
   "outputs": [],
   "source": [
    "ckd_copy['bp'].replace('?',\"0\",inplace=True)\n",
    "\n",
    "ckd_copy['bp_group'] = [float(i) for i in ckd_copy['bp']]\n",
    "#Considering diastolic info in the dataset\n",
    "#Normal <80\n",
    "\n",
    "#HBP_1 = 80 - 89\n",
    "#HBP_2 = 90 - 120\n",
    "#HBP_3 = 120 and above\n",
    "bp_bins = [0,50,79,89,119,200]\n",
    "bp_labels = ['No_Data','Normal','HBP_1','HBP_2','HBP_3']\n",
    "ckd_copy['bp_group'] = pd.cut(ckd_copy.bp_group,bp_bins,labels=bp_labels,include_lowest=True)"
   ]
  },
  {
   "cell_type": "code",
   "execution_count": 276,
   "metadata": {},
   "outputs": [
    {
     "data": {
      "text/plain": [
       "[HBP_1, No_Data, Normal, HBP_2, HBP_3]\n",
       "Categories (5, object): [No_Data < Normal < HBP_1 < HBP_2 < HBP_3]"
      ]
     },
     "execution_count": 276,
     "metadata": {},
     "output_type": "execute_result"
    }
   ],
   "source": [
    "ckd_copy['bp_group'].unique()"
   ]
  },
  {
   "cell_type": "code",
   "execution_count": 277,
   "metadata": {},
   "outputs": [],
   "source": [
    "bp_class_grp = ckd_copy.groupby(['class','bp_group']).count()['SNo'].reset_index().sort_values(by='SNo',ascending=False).rename({'SNo':'Count'},axis=1)"
   ]
  },
  {
   "cell_type": "code",
   "execution_count": 278,
   "metadata": {},
   "outputs": [
    {
     "data": {
      "text/plain": [
       "<matplotlib.axes._subplots.AxesSubplot at 0x1f5a528d208>"
      ]
     },
     "execution_count": 278,
     "metadata": {},
     "output_type": "execute_result"
    },
    {
     "data": {
      "image/png": "[encoded data removed]",
      "text/plain": [
       "<Figure size 432x288 with 1 Axes>"
      ]
     },
     "metadata": {
      "needs_background": "light"
     },
     "output_type": "display_data"
    }
   ],
   "source": [
    "sns.barplot(y=bp_class_grp['bp_group'],x=bp_class_grp['Count'],hue=bp_class_grp['class'])"
   ]
  },
  {
   "cell_type": "markdown",
   "metadata": {},
   "source": [
    "Observations: \n",
    "\n",
    "It is observed that person having BP level from 90 and above surely suffer from CKD. \n",
    "\n",
    "Whereas, 45% of people with Normal BP have changes of suffering with CKD. We need to find what other factors of health condition trigger CKD in people with Normal BP.   "
   ]
  },
  {
   "cell_type": "code",
   "execution_count": 279,
   "metadata": {},
   "outputs": [
    {
     "data": {
      "text/html": [
       "<div>\n",
       "<style scoped>\n",
       "    .dataframe tbody tr th:only-of-type {\n",
       "        vertical-align: middle;\n",
       "    }\n",
       "\n",
       "    .dataframe tbody tr th {\n",
       "        vertical-align: top;\n",
       "    }\n",
       "\n",
       "    .dataframe thead th {\n",
       "        text-align: right;\n",
       "    }\n",
       "</style>\n",
       "<table border=\"1\" class=\"dataframe\">\n",
       "  <thead>\n",
       "    <tr style=\"text-align: right;\">\n",
       "      <th></th>\n",
       "      <th>class</th>\n",
       "      <th>bp_group</th>\n",
       "      <th>Count</th>\n",
       "    </tr>\n",
       "  </thead>\n",
       "  <tbody>\n",
       "    <tr>\n",
       "      <th>1</th>\n",
       "      <td>ckd</td>\n",
       "      <td>Normal</td>\n",
       "      <td>100.0</td>\n",
       "    </tr>\n",
       "    <tr>\n",
       "      <th>6</th>\n",
       "      <td>notckd</td>\n",
       "      <td>Normal</td>\n",
       "      <td>83.0</td>\n",
       "    </tr>\n",
       "    <tr>\n",
       "      <th>3</th>\n",
       "      <td>ckd</td>\n",
       "      <td>HBP_2</td>\n",
       "      <td>81.0</td>\n",
       "    </tr>\n",
       "    <tr>\n",
       "      <th>7</th>\n",
       "      <td>notckd</td>\n",
       "      <td>HBP_1</td>\n",
       "      <td>65.0</td>\n",
       "    </tr>\n",
       "    <tr>\n",
       "      <th>2</th>\n",
       "      <td>ckd</td>\n",
       "      <td>HBP_1</td>\n",
       "      <td>51.0</td>\n",
       "    </tr>\n",
       "    <tr>\n",
       "      <th>0</th>\n",
       "      <td>ckd</td>\n",
       "      <td>No_Data</td>\n",
       "      <td>15.0</td>\n",
       "    </tr>\n",
       "    <tr>\n",
       "      <th>4</th>\n",
       "      <td>ckd</td>\n",
       "      <td>HBP_3</td>\n",
       "      <td>3.0</td>\n",
       "    </tr>\n",
       "    <tr>\n",
       "      <th>5</th>\n",
       "      <td>notckd</td>\n",
       "      <td>No_Data</td>\n",
       "      <td>2.0</td>\n",
       "    </tr>\n",
       "    <tr>\n",
       "      <th>8</th>\n",
       "      <td>notckd</td>\n",
       "      <td>HBP_2</td>\n",
       "      <td>NaN</td>\n",
       "    </tr>\n",
       "    <tr>\n",
       "      <th>9</th>\n",
       "      <td>notckd</td>\n",
       "      <td>HBP_3</td>\n",
       "      <td>NaN</td>\n",
       "    </tr>\n",
       "  </tbody>\n",
       "</table>\n",
       "</div>"
      ],
      "text/plain": [
       "    class bp_group  Count\n",
       "1     ckd   Normal  100.0\n",
       "6  notckd   Normal   83.0\n",
       "3     ckd    HBP_2   81.0\n",
       "7  notckd    HBP_1   65.0\n",
       "2     ckd    HBP_1   51.0\n",
       "0     ckd  No_Data   15.0\n",
       "4     ckd    HBP_3    3.0\n",
       "5  notckd  No_Data    2.0\n",
       "8  notckd    HBP_2    NaN\n",
       "9  notckd    HBP_3    NaN"
      ]
     },
     "execution_count": 279,
     "metadata": {},
     "output_type": "execute_result"
    }
   ],
   "source": [
    "bp_class_grp"
   ]
  },
  {
   "cell_type": "markdown",
   "metadata": {},
   "source": [
    "# Working on al column"
   ]
  },
  {
   "cell_type": "markdown",
   "metadata": {},
   "source": [
    "Albuminuria is a sign of kidney disease and means that you have too much albumin in your urine. \n",
    "A healthy kidney doesn’t let albumin pass into the urine. A damaged kidney lets some albumin pass into the urine.\n",
    " 0 - Normal, 1-Mild, 2-High,3-Very High, 4-Servere 5-Extreme"
   ]
  },
  {
   "cell_type": "code",
   "execution_count": 280,
   "metadata": {},
   "outputs": [],
   "source": [
    "ckd_copy['al'].replace('?',\"No_Data\",inplace=True)"
   ]
  },
  {
   "cell_type": "code",
   "execution_count": 281,
   "metadata": {},
   "outputs": [],
   "source": [
    "al_class_grp = ckd_copy.groupby(['class','al']).count()['SNo'].reset_index().sort_values(by='SNo',ascending=False).rename({'SNo':'Count'},axis=1)"
   ]
  },
  {
   "cell_type": "code",
   "execution_count": 287,
   "metadata": {},
   "outputs": [
    {
     "data": {
      "text/plain": [
       "<matplotlib.axes._subplots.AxesSubplot at 0x1f5a530f470>"
      ]
     },
     "execution_count": 287,
     "metadata": {},
     "output_type": "execute_result"
    },
    {
     "data": {
      "image/png": "[encoded data removed]",
      "text/plain": [
       "<Figure size 432x288 with 1 Axes>"
      ]
     },
     "metadata": {
      "needs_background": "light"
     },
     "output_type": "display_data"
    }
   ],
   "source": [
    "sns.barplot(y=al_class_grp['al'],x=al_class_grp['Count'],hue=al_class_grp['class'])"
   ]
  },
  {
   "cell_type": "markdown",
   "metadata": {},
   "source": [
    "# Working on su column - sugar level"
   ]
  },
  {
   "cell_type": "code",
   "execution_count": 283,
   "metadata": {},
   "outputs": [],
   "source": [
    "ckd_copy['su'].replace('?',\"No_Data\",inplace=True)"
   ]
  },
  {
   "cell_type": "code",
   "execution_count": 284,
   "metadata": {},
   "outputs": [],
   "source": [
    "su_class_grp = ckd_copy.groupby(['class','su']).count()['SNo'].reset_index().sort_values(by='SNo',ascending=False).rename({'SNo':'Count'},axis=1)"
   ]
  },
  {
   "cell_type": "code",
   "execution_count": 288,
   "metadata": {},
   "outputs": [
    {
     "data": {
      "text/plain": [
       "<matplotlib.axes._subplots.AxesSubplot at 0x1f5a5900e48>"
      ]
     },
     "execution_count": 288,
     "metadata": {},
     "output_type": "execute_result"
    },
    {
     "data": {
      "image/png": "[encoded data removed]",
      "text/plain": [
       "<Figure size 432x288 with 1 Axes>"
      ]
     },
     "metadata": {
      "needs_background": "light"
     },
     "output_type": "display_data"
    }
   ],
   "source": [
    "sns.barplot(y=su_class_grp['su'],x=su_class_grp['Count'],hue=su_class_grp['class'])"
   ]
  },
  {
   "cell_type": "markdown",
   "metadata": {},
   "source": [
    "Observation:\n",
    "    \n",
    "    Its observed that people reporting CKD have positive Sugar level and it suggests poeple with Moderate to high sugar level have tendency to be affected with CKD.\n",
    "    We see an equal distribution for people (with CKD and without CKD) with no sugar level."
   ]
  },
  {
   "cell_type": "markdown",
   "metadata": {},
   "source": [
    "# Working with rbc column "
   ]
  },
  {
   "cell_type": "code",
   "execution_count": 289,
   "metadata": {},
   "outputs": [
    {
     "data": {
      "text/plain": [
       "array(['?', 'normal', 'abnormal'], dtype=object)"
      ]
     },
     "execution_count": 289,
     "metadata": {},
     "output_type": "execute_result"
    }
   ],
   "source": [
    "ckd_copy['rbc'].unique()"
   ]
  },
  {
   "cell_type": "code",
   "execution_count": 290,
   "metadata": {},
   "outputs": [],
   "source": [
    "ckd_copy['rbc'].replace('?','No_data', inplace=True)"
   ]
  },
  {
   "cell_type": "code",
   "execution_count": 291,
   "metadata": {},
   "outputs": [],
   "source": [
    "rbc_class_grp = ckd_copy.groupby(['class','rbc']).count()['SNo'].reset_index().sort_values(by='SNo',ascending=False).rename({'SNo':'Count'},axis=1)"
   ]
  },
  {
   "cell_type": "code",
   "execution_count": 295,
   "metadata": {},
   "outputs": [
    {
     "data": {
      "text/plain": [
       "<matplotlib.axes._subplots.AxesSubplot at 0x1f5a5a41400>"
      ]
     },
     "execution_count": 295,
     "metadata": {},
     "output_type": "execute_result"
    },
    {
     "data": {
      "image/png": "[encoded data removed]",
      "text/plain": [
       "<Figure size 432x288 with 1 Axes>"
      ]
     },
     "metadata": {
      "needs_background": "light"
     },
     "output_type": "display_data"
    }
   ],
   "source": [
    "sns.barplot(y=rbc_class_grp['rbc'],x=rbc_class_grp['Count'],hue=rbc_class_grp['class'])"
   ]
  },
  {
   "cell_type": "markdown",
   "metadata": {},
   "source": [
    "Observations:\n",
    "\n",
    "    We have 152 records where the RBC values are not given, out of these 142 records show impacted with CKD. We need to analyse No_Data records to understand the appropriate values of these records.\n",
    "    \n",
    "    Its observed that 30% of people with normal RBC value have also reported positive for CKD and with all people reprtoing Abnormal RBC range have diagnosed with RBC. "
   ]
  },
  {
   "cell_type": "code",
   "execution_count": 297,
   "metadata": {},
   "outputs": [],
   "source": [
    "# RBC column can be obtained from RBCC values, so lets understand RBCC column"
   ]
  },
  {
   "cell_type": "code",
   "execution_count": 327,
   "metadata": {},
   "outputs": [
    {
     "data": {
      "text/plain": [
       "array([ 5.2, -1. ,  3.9,  4.6,  4.4,  5. ,  4. ,  3.7,  3.8,  3.4,  2.6,\n",
       "        2.8,  4.3,  3.2,  3.6,  4.1,  4.9,  2.5,  4.2,  4.5,  3.1,  4.7,\n",
       "        3.5,  6. ,  2.1,  5.6,  2.3,  2.9,  2.7,  8. ,  3.3,  3. ,  2.4,\n",
       "        4.8,  5.4,  6.1,  6.2,  6.3,  5.1,  5.8,  5.5,  5.3,  6.4,  5.7,\n",
       "        5.9,  6.5])"
      ]
     },
     "execution_count": 327,
     "metadata": {},
     "output_type": "execute_result"
    }
   ],
   "source": [
    "ckd_copy['rbcc'].unique()"
   ]
  },
  {
   "cell_type": "code",
   "execution_count": 299,
   "metadata": {},
   "outputs": [],
   "source": [
    "#Normal - 4 to 6.1\n",
    "#We can replace null values with mean of RBCC"
   ]
  },
  {
   "cell_type": "code",
   "execution_count": 304,
   "metadata": {},
   "outputs": [],
   "source": [
    "ckd_copy['rbcc'].replace('?',\"0\",inplace=True)\n",
    "ckd_copy['rbcc'].replace('\\t?',\"0\",inplace=True)\n",
    "\n",
    "ckd_copy['rbcc'] = [float(i) for i in ckd_copy['rbcc']]"
   ]
  },
  {
   "cell_type": "code",
   "execution_count": 329,
   "metadata": {},
   "outputs": [
    {
     "data": {
      "text/plain": [
       "3.165749999999999"
      ]
     },
     "execution_count": 329,
     "metadata": {},
     "output_type": "execute_result"
    }
   ],
   "source": [
    "ckd_copy['rbcc'].mean() "
   ]
  },
  {
   "cell_type": "code",
   "execution_count": 335,
   "metadata": {},
   "outputs": [],
   "source": [
    "ckd_copy['rbcc'].replace(0,ckd_copy['rbcc'].mean(),inplace=True) "
   ]
  },
  {
   "cell_type": "code",
   "execution_count": 504,
   "metadata": {},
   "outputs": [],
   "source": [
    "#Forming new rbc_class based on rbcc values.\n",
    "#If rbcc value between 4 - 6.1 then RBC is Normal, else abnormal\n",
    "\n",
    "ckd_copy['rbc_class'] = 'Null'\n",
    "ckd_copy['rbc_class'] = np.where(((ckd_copy['rbcc']>=4)&(ckd_copy['rbcc']<=6.1)),'normal','abnormal')\n",
    "        "
   ]
  },
  {
   "cell_type": "code",
   "execution_count": 505,
   "metadata": {},
   "outputs": [
    {
     "data": {
      "text/plain": [
       "array(['normal', 'abnormal'], dtype=object)"
      ]
     },
     "execution_count": 505,
     "metadata": {},
     "output_type": "execute_result"
    }
   ],
   "source": [
    "ckd_copy['rbc_class'].unique()"
   ]
  },
  {
   "cell_type": "code",
   "execution_count": 506,
   "metadata": {},
   "outputs": [],
   "source": [
    "rbc_class_grp = ckd_copy.groupby(['class','rbc_class']).count()['SNo'].reset_index().sort_values(by='SNo',ascending=False).rename({'SNo':'Count'},axis=1)"
   ]
  },
  {
   "cell_type": "code",
   "execution_count": 507,
   "metadata": {},
   "outputs": [
    {
     "data": {
      "text/plain": [
       "<matplotlib.axes._subplots.AxesSubplot at 0x1f5a6ee6198>"
      ]
     },
     "execution_count": 507,
     "metadata": {},
     "output_type": "execute_result"
    },
    {
     "data": {
      "image/png": "[encoded data removed]",
      "text/plain": [
       "<Figure size 432x288 with 1 Axes>"
      ]
     },
     "metadata": {
      "needs_background": "light"
     },
     "output_type": "display_data"
    }
   ],
   "source": [
    "sns.barplot(y=rbc_class_grp['rbc_class'],x=rbc_class_grp['Count'],hue=rbc_class_grp['class'])"
   ]
  },
  {
   "cell_type": "markdown",
   "metadata": {},
   "source": [
    "Observations:\n",
    "    \n",
    "    We get the view that people with rbcc count in the range 4 to 6.1 have reported less with ckd. Its also observed that people reported with CKD have rbcc count out of the mentioned Normal range. "
   ]
  },
  {
   "cell_type": "code",
   "execution_count": null,
   "metadata": {},
   "outputs": [],
   "source": []
  }
 ],
 "metadata": {
  "kernelspec": {
   "display_name": "Python 3",
   "language": "python",
   "name": "python3"
  },
  "language_info": {
   "codemirror_mode": {
    "name": "ipython",
    "version": 3
   },
   "file_extension": ".py",
   "mimetype": "text/x-python",
   "name": "python",
   "nbconvert_exporter": "python",
   "pygments_lexer": "ipython3",
   "version": "3.6.5"
  }
 },
 "nbformat": 4,
 "nbformat_minor": 4
}
